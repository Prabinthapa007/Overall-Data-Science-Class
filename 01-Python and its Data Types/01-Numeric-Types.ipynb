{
 "cells": [
  {
   "cell_type": "markdown",
   "id": "fbbaa741-7f13-4ee2-8c3a-1edee55a43e9",
   "metadata": {},
   "source": [
    "# Python Data Types\n",
    "- Numeric Types: int, float, complex\n",
    "- Text Type: str\n",
    "- Sequence Types: list, tuple, range\n",
    "- Set Type: set, frozenset\n",
    "- Mapping Type: dict\n",
    "- Boolean Type: bool\n",
    "- Binary Types: memoryview, bytearray, bytes"
   ]
  },
  {
   "cell_type": "markdown",
   "id": "1c8bd48c-b262-43be-b55b-81a2dbf3eea6",
   "metadata": {},
   "source": [
    "## Python Numeric Types\n",
    "In Python, there are three main types of numbers: integers, floating-point numbers and complex numbers. Here's a brief overview of each types:"
   ]
  },
  {
   "cell_type": "markdown",
   "id": "dec05288-ebf3-45f5-b0c5-69d2eed75493",
   "metadata": {},
   "source": [
    "#### 1. Integers: \n",
    "`Intergers` are whole numbers, either positive or negative. In Python, integers have no size limit, so you can use them to represent very large or very small numbers. Some examples:"
   ]
  },
  {
   "cell_type": "code",
   "execution_count": 8,
   "id": "b1701112-2c41-4f6e-87a4-b539b9791b51",
   "metadata": {},
   "outputs": [],
   "source": [
    "x = 1000000\n",
    "y = -33\n",
    "z= 11111111"
   ]
  },
  {
   "cell_type": "code",
   "execution_count": 9,
   "id": "a601e27e-3ca8-4855-b9fa-9cd22b3b17a4",
   "metadata": {},
   "outputs": [
    {
     "name": "stdout",
     "output_type": "stream",
     "text": [
      "20000\n"
     ]
    }
   ],
   "source": [
    "value = 20000\n",
    "print(value)"
   ]
  },
  {
   "cell_type": "code",
   "execution_count": 10,
   "id": "384e8dba-99f1-4601-950f-9f09522218d6",
   "metadata": {},
   "outputs": [
    {
     "data": {
      "text/plain": [
       "int"
      ]
     },
     "execution_count": 10,
     "metadata": {},
     "output_type": "execute_result"
    }
   ],
   "source": [
    "type(value)"
   ]
  },
  {
   "cell_type": "markdown",
   "id": "901920e5-2f1a-40d3-8e6b-c2e255d53501",
   "metadata": {},
   "source": [
    "<br>"
   ]
  },
  {
   "cell_type": "markdown",
   "id": "9249cd84-a2b1-4ce5-8187-eb49bbc87874",
   "metadata": {},
   "source": [
    "#### 2. Floating-point Numbers:\n",
    "`Floating-point numbers` are decimal numbers, either positive or negative. In Python, floating-point numbers are represented using the float types. Here are some examples:"
   ]
  },
  {
   "cell_type": "code",
   "execution_count": 11,
   "id": "edafcd01-086f-4eba-8f39-d1ac39f37f64",
   "metadata": {},
   "outputs": [],
   "source": [
    "x =3.444\n",
    "y = 9.999\n"
   ]
  },
  {
   "cell_type": "code",
   "execution_count": 12,
   "id": "fe44f5c2-9032-40b1-b406-48544405d810",
   "metadata": {},
   "outputs": [
    {
     "name": "stdout",
     "output_type": "stream",
     "text": [
      "3.444\n"
     ]
    }
   ],
   "source": [
    "print(x)"
   ]
  },
  {
   "cell_type": "code",
   "execution_count": 13,
   "id": "3ee3f638-f683-4a33-bb31-c574a19c3e5c",
   "metadata": {},
   "outputs": [
    {
     "data": {
      "text/plain": [
       "float"
      ]
     },
     "execution_count": 13,
     "metadata": {},
     "output_type": "execute_result"
    }
   ],
   "source": [
    "type(y)"
   ]
  },
  {
   "cell_type": "markdown",
   "id": "a74ef09e-5691-44cd-af17-649430de0555",
   "metadata": {},
   "source": [
    "<br>"
   ]
  },
  {
   "cell_type": "markdown",
   "id": "9895d5b4-06ec-4e0a-a595-1e817327345e",
   "metadata": {},
   "source": [
    "#### 3. Complex numbers:\n",
    "`Complex numbers` are numbers with a real part and an imaginary part. In Python, complex numbers are represented using the complex type. Here are some examples of complex numbers:"
   ]
  },
  {
   "cell_type": "code",
   "execution_count": 14,
   "id": "89685368-70c1-4e60-9d47-6ad628707e47",
   "metadata": {},
   "outputs": [],
   "source": [
    "x = 3 + 4j\n",
    "z = complex(2, -3)"
   ]
  },
  {
   "cell_type": "code",
   "execution_count": 15,
   "id": "a1c9da56-44b3-416c-aa97-98b3ded54fc4",
   "metadata": {},
   "outputs": [
    {
     "name": "stdout",
     "output_type": "stream",
     "text": [
      "(2-3j)\n"
     ]
    }
   ],
   "source": [
    "print(z)"
   ]
  },
  {
   "cell_type": "code",
   "execution_count": 16,
   "id": "9ca32c69-b119-466c-a517-4171ae433e38",
   "metadata": {},
   "outputs": [
    {
     "data": {
      "text/plain": [
       "complex"
      ]
     },
     "execution_count": 16,
     "metadata": {},
     "output_type": "execute_result"
    }
   ],
   "source": [
    "type(z)"
   ]
  },
  {
   "cell_type": "markdown",
   "id": "c03de394-59bd-4921-a3c1-b4cc8f8d93fe",
   "metadata": {},
   "source": [
    "<br><br>"
   ]
  },
  {
   "cell_type": "markdown",
   "id": "3e04cc26-1730-4ea4-a372-438f15dc8fbc",
   "metadata": {},
   "source": [
    "## Arithmetic Operations"
   ]
  },
  {
   "cell_type": "markdown",
   "id": "4d020d1b-cb09-4901-80cc-b5b53eb11a3c",
   "metadata": {},
   "source": [
    "You can perform arithmetic operations on numbers in Python, including addition, subtraction, multiplication, division, and exponentiation.\n",
    "- `+` **Addition**: Adds two operands.\n",
    "- `-` **Subtraction**: Subtracts the right operand from the left operand.\n",
    "- `*` **Multiplication**: Multiplies two operands.\n",
    "- `/` **Division**: Divides the left operand by the right operand.\n",
    "- `%` **Modules**: Returns the remainder of dividing the left operand by the right operand\n",
    "- `**` **Exponentiation**: Raise the left operand to the power of the right operand.\n",
    "- `//` **Floor Division**: Divides the left operand by the right operand and returns the largest integer less than or equal to the result."
   ]
  },
  {
   "cell_type": "code",
   "execution_count": 17,
   "id": "63d8d7c2-3252-4957-b98f-3a7af069dadf",
   "metadata": {},
   "outputs": [],
   "source": [
    "x = 10\n",
    "y =3"
   ]
  },
  {
   "cell_type": "code",
   "execution_count": 20,
   "id": "40b1cdcc-5628-444e-8af0-8e9538733f04",
   "metadata": {},
   "outputs": [
    {
     "name": "stdout",
     "output_type": "stream",
     "text": [
      "30\n",
      "-10\n",
      "200\n",
      "0.5\n",
      "10\n",
      "100000000000000000000\n",
      "0\n"
     ]
    }
   ],
   "source": [
    "print(x+y) # Addition\n",
    "print(x-y) # Subtraction\n",
    "print(x*y) # Multiplication\n",
    "print(x/y) # Division\n",
    "print(x%y) # Modules\n",
    "print(x**y) # Exponentiation\n",
    "print(x//y) # Floor Division"
   ]
  },
  {
   "cell_type": "markdown",
   "id": "f09ef7a4-98be-4f1a-a04c-b00dbe000eaf",
   "metadata": {},
   "source": [
    "<br>"
   ]
  },
  {
   "cell_type": "markdown",
   "id": "4fb046ca-d129-4d4b-a98c-de02c6e4c29a",
   "metadata": {},
   "source": [
    "## Type Conversion"
   ]
  },
  {
   "cell_type": "markdown",
   "id": "f376cb12-585f-47e2-a872-b2860d3585f0",
   "metadata": {},
   "source": [
    "You can covert numbers from one type to another in Python, using `functions` like `int()`, `float()` and `complex()`. Here are some examples:"
   ]
  },
  {
   "cell_type": "code",
   "execution_count": 24,
   "id": "cf952582-bad2-4222-89c1-6fd0b33315f3",
   "metadata": {},
   "outputs": [],
   "source": [
    "x=10\n",
    "y =8.8\n",
    "\n",
    "x = float(x) # Convert int x to float\n",
    "y = int(y) # Coverting float y into int\n",
    "z = complex(x+y)"
   ]
  },
  {
   "cell_type": "code",
   "execution_count": 25,
   "id": "2ea11fc8-4d10-4911-8072-3b931f4a1da2",
   "metadata": {},
   "outputs": [
    {
     "name": "stdout",
     "output_type": "stream",
     "text": [
      "10.0\n",
      "8\n",
      "(18+0j)\n"
     ]
    }
   ],
   "source": [
    "print(x)\n",
    "print(y)\n",
    "print(z)"
   ]
  },
  {
   "cell_type": "markdown",
   "id": "7d39b6fe-437d-4358-bc33-45526887764d",
   "metadata": {},
   "source": [
    "<br>"
   ]
  },
  {
   "cell_type": "markdown",
   "id": "9e3cbe92-3d88-4dc9-a905-e243350a8904",
   "metadata": {},
   "source": [
    "## Comparision Operators"
   ]
  },
  {
   "cell_type": "markdown",
   "id": "176e9505-aa24-4968-bef6-ac3226c3a7f8",
   "metadata": {},
   "source": [
    "You can compare numbers in Python using comparison operators like `<`, `>`, `<=`, `>=`, `==`, and `!=`.\n",
    "- `<` **Greater than**: True if the left operand is greater than the right operand.\n",
    "- `>` **Less Than**: True if the left operand is less than the right operand.\n",
    "- `==` **Equal to**: True if both operands are equal.\n",
    "- `!=` **Not equal to**: True if operands are not equal.\n",
    "- `<=` **Less than or equal to**: True if the left operand is less than or equal to the right operand.\n",
    "- `>=` **Greater than or equal to**: True if the left operand is greater than or equal to the right operand."
   ]
  },
  {
   "cell_type": "code",
   "execution_count": 27,
   "id": "b731b59e-676c-4a2c-982d-3c9b361a4f5e",
   "metadata": {},
   "outputs": [
    {
     "name": "stdout",
     "output_type": "stream",
     "text": [
      "True\n",
      "False\n",
      "True\n",
      "True\n"
     ]
    }
   ],
   "source": [
    "x = 10\n",
    "y = 5\n",
    "print(x>y)\n",
    "print(x==y)\n",
    "print(x>=y)\n",
    "print(x!=y)"
   ]
  },
  {
   "cell_type": "markdown",
   "id": "ad274c77-a08e-4ee0-9246-0bf0dd5d0d2b",
   "metadata": {},
   "source": [
    "<br>"
   ]
  },
  {
   "cell_type": "markdown",
   "id": "0ae102dd-5722-47c3-bcc4-dacb2f624d3d",
   "metadata": {
    "jp-MarkdownHeadingCollapsed": true
   },
   "source": [
    "## Maths Functions"
   ]
  },
  {
   "cell_type": "markdown",
   "id": "c2e01172-a2ba-4d70-9ea3-0cbd8f09bc63",
   "metadata": {},
   "source": [
    "Python also provides a variety of `math functions` that you can use to perform more complex operations on numbers. Some of these functions include `abs()`, `round()`, `min()`, `max()`, `pow()`, `sqrt()`, and `log()`. Here are some examples:"
   ]
  },
  {
   "cell_type": "code",
   "execution_count": 33,
   "id": "dc230b97-05ef-4a4c-b9fc-5e8347ce89e2",
   "metadata": {},
   "outputs": [
    {
     "name": "stdout",
     "output_type": "stream",
     "text": [
      "5.3\n"
     ]
    }
   ],
   "source": [
    "import math\n",
    "from math import sqrt\n",
    "x = -5.3\n",
    "\n",
    "print(abs(x))"
   ]
  },
  {
   "cell_type": "code",
   "execution_count": 34,
   "id": "ed9f90f3-a015-462c-97b7-8e13e3e9fa2f",
   "metadata": {},
   "outputs": [
    {
     "name": "stdout",
     "output_type": "stream",
     "text": [
      "4\n"
     ]
    }
   ],
   "source": [
    "x = (1, 2, 3, 4)\n",
    "print(max(x))"
   ]
  },
  {
   "cell_type": "code",
   "execution_count": 35,
   "id": "758fb2d8-1df5-48bb-aac2-11360257afd8",
   "metadata": {},
   "outputs": [
    {
     "name": "stdout",
     "output_type": "stream",
     "text": [
      "8\n"
     ]
    }
   ],
   "source": [
    "\n",
    "print(pow(2, 3))"
   ]
  },
  {
   "cell_type": "code",
   "execution_count": 36,
   "id": "e71b52cf-3e4c-4d08-9ece-a653a2d65420",
   "metadata": {},
   "outputs": [
    {
     "name": "stdout",
     "output_type": "stream",
     "text": [
      "4.0\n"
     ]
    }
   ],
   "source": [
    "print(sqrt(16))"
   ]
  },
  {
   "cell_type": "code",
   "execution_count": 38,
   "id": "2a488a67-ae31-4f3c-a757-eebe6c3c978c",
   "metadata": {},
   "outputs": [
    {
     "name": "stdout",
     "output_type": "stream",
     "text": [
      "3.0\n"
     ]
    }
   ],
   "source": [
    "from math import cbrt\n",
    "print(cbrt(27))"
   ]
  },
  {
   "cell_type": "code",
   "execution_count": 43,
   "id": "72de6274-17cc-4893-8a47-a0148adbcd36",
   "metadata": {},
   "outputs": [
    {
     "name": "stdout",
     "output_type": "stream",
     "text": [
      "2.302585092994046\n"
     ]
    }
   ],
   "source": [
    "from math import log\n",
    "x = log(10)\n",
    "print(x)"
   ]
  },
  {
   "cell_type": "code",
   "execution_count": null,
   "id": "bb7696a5-3c52-4f3b-b8cf-ac04b6446573",
   "metadata": {},
   "outputs": [],
   "source": []
  }
 ],
 "metadata": {
  "kernelspec": {
   "display_name": "Python 3 (ipykernel)",
   "language": "python",
   "name": "python3"
  },
  "language_info": {
   "codemirror_mode": {
    "name": "ipython",
    "version": 3
   },
   "file_extension": ".py",
   "mimetype": "text/x-python",
   "name": "python",
   "nbconvert_exporter": "python",
   "pygments_lexer": "ipython3",
   "version": "3.12.2"
  }
 },
 "nbformat": 4,
 "nbformat_minor": 5
}
