{
 "cells": [
  {
   "cell_type": "markdown",
   "id": "12bc6f17-d7db-4366-aadf-0d7c5b59d606",
   "metadata": {},
   "source": [
    "# Python Text Type"
   ]
  },
  {
   "cell_type": "markdown",
   "id": "442a5d8f-8106-439f-acf3-101f525699e2",
   "metadata": {},
   "source": [
    "In Python, strings (`str`) are used to represent text data. Here's a breif overview of the Python `string` operations."
   ]
  },
  {
   "cell_type": "markdown",
   "id": "57d3f215-69a2-41a6-adb4-5bb7313acde2",
   "metadata": {},
   "source": [
    "## Defining strings"
   ]
  },
  {
   "cell_type": "markdown",
   "id": "e1d50a9e-8827-49e5-8cba-ebfda6bc15dc",
   "metadata": {},
   "source": [
    "You can define a `string` in Python by enclosing the text in either `single` or `double` quotes."
   ]
  },
  {
   "cell_type": "code",
   "execution_count": 1,
   "id": "b43a0a16-6264-4d5f-b522-2c06151796ac",
   "metadata": {},
   "outputs": [
    {
     "name": "stdout",
     "output_type": "stream",
     "text": [
      "Hello World!\n"
     ]
    }
   ],
   "source": [
    "greetings = \"Hello World!\"\n",
    "print(greetings)"
   ]
  },
  {
   "cell_type": "code",
   "execution_count": 2,
   "id": "78f832d1-d302-4af5-bbd1-03e3c74a9f68",
   "metadata": {},
   "outputs": [
    {
     "name": "stdout",
     "output_type": "stream",
     "text": [
      "Hello, I am Prabin. I am Rolf's friend.\n"
     ]
    }
   ],
   "source": [
    "greet_with_name = \"Hello, I am Prabin. I am Rolf's friend.\"\n",
    "print(greet_with_name)"
   ]
  },
  {
   "cell_type": "code",
   "execution_count": 4,
   "id": "c5cd1f28-55cb-46f1-8e82-03ebfe3c57f3",
   "metadata": {},
   "outputs": [
    {
     "data": {
      "text/plain": [
       "str"
      ]
     },
     "execution_count": 4,
     "metadata": {},
     "output_type": "execute_result"
    }
   ],
   "source": [
    "type(greetings)"
   ]
  },
  {
   "cell_type": "code",
   "execution_count": 12,
   "id": "977fafba-f5d7-4ec4-acf9-7678ee9b65c0",
   "metadata": {},
   "outputs": [
    {
     "name": "stdout",
     "output_type": "stream",
     "text": [
      "\n",
      "I am going to Nepal.\n",
      "\n"
     ]
    }
   ],
   "source": [
    "new_sentence =\"\\nI am going to Nepal.\\n\"\n",
    "print(new_sentence)  #It will print 1 line space."
   ]
  },
  {
   "cell_type": "markdown",
   "id": "a3f5e34f-5eca-4423-a55c-aec877115ab8",
   "metadata": {},
   "source": [
    "<br>"
   ]
  },
  {
   "cell_type": "markdown",
   "id": "fb912cec-97f7-4757-b116-000793d68782",
   "metadata": {},
   "source": [
    "## Methods in String"
   ]
  },
  {
   "cell_type": "markdown",
   "id": "17703248-7b06-4aa9-aeb1-52e7c859d741",
   "metadata": {},
   "source": [
    "Python provides a variety of built-in string methods that you can use to perform operations on strings. Some common string methods include `lower()`. `upper()`, `strip()`, `replace()`, and `split()` "
   ]
  },
  {
   "cell_type": "code",
   "execution_count": 81,
   "id": "13ca630d-1425-49f8-aaec-371e7c7476ea",
   "metadata": {},
   "outputs": [
    {
     "name": "stdout",
     "output_type": "stream",
     "text": [
      " mr. prabin thapa\n"
     ]
    }
   ],
   "source": [
    "x = \" Mr. Prabin Thapa\"\n",
    "print(x.lower())"
   ]
  },
  {
   "cell_type": "code",
   "execution_count": 82,
   "id": "465fe733-e8ef-486e-85c4-a0f8936e8d32",
   "metadata": {},
   "outputs": [
    {
     "name": "stdout",
     "output_type": "stream",
     "text": [
      " MR. PRABIN THAPA\n"
     ]
    }
   ],
   "source": [
    "print(x.upper())"
   ]
  },
  {
   "cell_type": "code",
   "execution_count": 83,
   "id": "2b58afd5-9122-479d-96ca-72d503adbb00",
   "metadata": {},
   "outputs": [
    {
     "name": "stdout",
     "output_type": "stream",
     "text": [
      " mR. pRABIN tHAPA\n"
     ]
    }
   ],
   "source": [
    "print(x.swapcase())"
   ]
  },
  {
   "cell_type": "code",
   "execution_count": 84,
   "id": "7a00697d-c743-4b61-8d67-bd5916cb688f",
   "metadata": {},
   "outputs": [
    {
     "name": "stdout",
     "output_type": "stream",
     "text": [
      "17\n"
     ]
    }
   ],
   "source": [
    "print(len(x))"
   ]
  },
  {
   "cell_type": "code",
   "execution_count": 85,
   "id": "113fea18-f9b8-4eac-b335-8b7ef903295f",
   "metadata": {},
   "outputs": [
    {
     "name": "stdout",
     "output_type": "stream",
     "text": [
      " Mr. Sabin Thapa\n"
     ]
    }
   ],
   "source": [
    "print(x.replace('Pr', 'S'))"
   ]
  },
  {
   "cell_type": "code",
   "execution_count": 86,
   "id": "152fcde9-e6ac-49dc-9848-cfb689bf855b",
   "metadata": {},
   "outputs": [
    {
     "name": "stdout",
     "output_type": "stream",
     "text": [
      " Mr\n"
     ]
    }
   ],
   "source": [
    "name= x.split('.')[0]\n",
    "print(name)"
   ]
  },
  {
   "cell_type": "code",
   "execution_count": 87,
   "id": "6849b6b4-6f32-4d03-8593-4ff26bb67b69",
   "metadata": {},
   "outputs": [
    {
     "name": "stdout",
     "output_type": "stream",
     "text": [
      "Mr\n"
     ]
    }
   ],
   "source": [
    "initials = name.strip()\n",
    "print(initials)"
   ]
  },
  {
   "cell_type": "code",
   "execution_count": 88,
   "id": "d59a9ec1-ac6f-4489-ac7d-e607a2987e64",
   "metadata": {},
   "outputs": [
    {
     "data": {
      "text/plain": [
       "True"
      ]
     },
     "execution_count": 88,
     "metadata": {},
     "output_type": "execute_result"
    }
   ],
   "source": [
    "name = \"Prabin Thapa\"\n",
    "name.startswith(\"Pra\")"
   ]
  },
  {
   "cell_type": "code",
   "execution_count": 89,
   "id": "3ada70a4-d5c4-4f5e-af87-5432cdfceccb",
   "metadata": {},
   "outputs": [
    {
     "data": {
      "text/plain": [
       "True"
      ]
     },
     "execution_count": 89,
     "metadata": {},
     "output_type": "execute_result"
    }
   ],
   "source": [
    "email = \"prabinthapa@gmail.com\"\n",
    "email.endswith(\"@hotmail.com\") or email.endswith(\"@gmail.com\")"
   ]
  },
  {
   "cell_type": "code",
   "execution_count": 93,
   "id": "3211bb14-085f-468d-9899-078e3594e90f",
   "metadata": {},
   "outputs": [
    {
     "data": {
      "text/plain": [
       "'Sushma waiba'"
      ]
     },
     "execution_count": 93,
     "metadata": {},
     "output_type": "execute_result"
    }
   ],
   "source": [
    "x = \"sushma waiba\"\n",
    "x.capitalize()"
   ]
  },
  {
   "cell_type": "markdown",
   "id": "084f7333-f212-4352-a031-14692ece0326",
   "metadata": {},
   "source": [
    "<br>"
   ]
  },
  {
   "cell_type": "markdown",
   "id": "f66f8bb4-f8b3-4c4c-b81a-59de58a7dd88",
   "metadata": {},
   "source": [
    "## String Indexing"
   ]
  },
  {
   "cell_type": "markdown",
   "id": "c2963783-cf5e-4891-acdf-426f71199830",
   "metadata": {},
   "source": [
    "- The term **indexing** refers to an element of an iterable based on its position inside the iterable.\n",
    "- You can `access` individual characters in a string using `indexing`. In Python, indexing starts at 0. Some Example codes are:"
   ]
  },
  {
   "cell_type": "code",
   "execution_count": 135,
   "id": "6dc4811a-5893-4f68-a040-c6fd62820bf1",
   "metadata": {},
   "outputs": [
    {
     "data": {
      "text/plain": [
       "33"
      ]
     },
     "execution_count": 135,
     "metadata": {},
     "output_type": "execute_result"
    }
   ],
   "source": [
    "x = \"Hello, People. What are you doing\"\n",
    "len(x)"
   ]
  },
  {
   "cell_type": "markdown",
   "id": "b7d37386-0dbd-41f8-a108-784d70d223e8",
   "metadata": {},
   "source": [
    "#### Accessing String characters using positive indexing"
   ]
  },
  {
   "cell_type": "code",
   "execution_count": 136,
   "id": "cc5a5aea-f2f5-410e-be0f-aaede3a6439d",
   "metadata": {},
   "outputs": [
    {
     "data": {
      "text/plain": [
       "'H'"
      ]
     },
     "execution_count": 136,
     "metadata": {},
     "output_type": "execute_result"
    }
   ],
   "source": [
    "x[0] # Returns H"
   ]
  },
  {
   "cell_type": "code",
   "execution_count": 137,
   "id": "64ed5077-fabc-4161-8ceb-f635de718d80",
   "metadata": {},
   "outputs": [
    {
     "data": {
      "text/plain": [
       "' '"
      ]
     },
     "execution_count": 137,
     "metadata": {},
     "output_type": "execute_result"
    }
   ],
   "source": [
    "x[6] # Return space"
   ]
  },
  {
   "cell_type": "code",
   "execution_count": 138,
   "id": "c89a0c34-6fe4-4580-bc17-26b8ffca7211",
   "metadata": {},
   "outputs": [
    {
     "data": {
      "text/plain": [
       "'W'"
      ]
     },
     "execution_count": 138,
     "metadata": {},
     "output_type": "execute_result"
    }
   ],
   "source": [
    "x[15]"
   ]
  },
  {
   "cell_type": "code",
   "execution_count": 139,
   "id": "4ed4a051-7c92-418d-b4e3-6ed9f6e704c6",
   "metadata": {},
   "outputs": [
    {
     "data": {
      "text/plain": [
       "'W'"
      ]
     },
     "execution_count": 139,
     "metadata": {},
     "output_type": "execute_result"
    }
   ],
   "source": [
    "x[15]"
   ]
  },
  {
   "cell_type": "markdown",
   "id": "500804c5-e340-43d5-bb6d-7040d029dddf",
   "metadata": {},
   "source": [
    "#### Accessing string characters using negative indexing"
   ]
  },
  {
   "cell_type": "code",
   "execution_count": 140,
   "id": "c2e29edb-05f3-4816-b983-91c44139d09a",
   "metadata": {},
   "outputs": [
    {
     "data": {
      "text/plain": [
       "'d'"
      ]
     },
     "execution_count": 140,
     "metadata": {},
     "output_type": "execute_result"
    }
   ],
   "source": [
    "x[-5]"
   ]
  },
  {
   "cell_type": "code",
   "execution_count": 143,
   "id": "3decceda-f65a-40cc-bdc0-79a27c49956b",
   "metadata": {},
   "outputs": [
    {
     "data": {
      "text/plain": [
       "'g'"
      ]
     },
     "execution_count": 143,
     "metadata": {},
     "output_type": "execute_result"
    }
   ],
   "source": [
    "x[-1] # Return last character of iterable."
   ]
  },
  {
   "cell_type": "code",
   "execution_count": 144,
   "id": "cd46fa47-1731-46e1-a5ab-4e2221d22a63",
   "metadata": {},
   "outputs": [
    {
     "data": {
      "text/plain": [
       "'.'"
      ]
     },
     "execution_count": 144,
     "metadata": {},
     "output_type": "execute_result"
    }
   ],
   "source": [
    "x[-20]"
   ]
  },
  {
   "cell_type": "markdown",
   "id": "2407655d-dafc-44c3-93ab-080dfb86ed5e",
   "metadata": {},
   "source": [
    "<br>"
   ]
  },
  {
   "cell_type": "markdown",
   "id": "2a1af3e1-60f5-4db0-bc42-a92fca197b73",
   "metadata": {},
   "source": [
    "## String Slicing"
   ]
  },
  {
   "cell_type": "markdown",
   "id": "f0b09a30-0fff-4037-ab81-5761eb7bfc60",
   "metadata": {},
   "source": [
    "- The term \"**slicing**\" refers to obtaining a subset of elements from an iterable based on their indices.\n",
    "Basic Syntax:\n",
    "```python\n",
    "string[start:end:step]\n",
    "```\n",
    "    - start = index from where to start\n",
    "    - end = ending index\n",
    "    - step = numbers of jumps/increment to take between i.e. stepsize"
   ]
  },
  {
   "cell_type": "code",
   "execution_count": 4,
   "id": "b1da4ffe-cd23-4c83-b208-61407eb585c6",
   "metadata": {},
   "outputs": [
    {
     "name": "stdout",
     "output_type": "stream",
     "text": [
      "Hello, how are you?\n",
      "how are you?\n",
      "19\n"
     ]
    }
   ],
   "source": [
    "x = \"Hello, how are you?\"\n",
    "print(x[0:])\n",
    "print(x[7:20])\n",
    "print(len(x))"
   ]
  },
  {
   "cell_type": "code",
   "execution_count": 9,
   "id": "88bef2d4-493d-4c82-87fb-2982f93bd3e3",
   "metadata": {},
   "outputs": [
    {
     "name": "stdout",
     "output_type": "stream",
     "text": [
      "Hello, how are you\n"
     ]
    }
   ],
   "source": [
    "print(x[-19:-1])"
   ]
  },
  {
   "cell_type": "code",
   "execution_count": 10,
   "id": "83e8f148-0eb6-4c9a-8afe-237071b64bf1",
   "metadata": {},
   "outputs": [
    {
     "name": "stdout",
     "output_type": "stream",
     "text": [
      "Hlo o r o?\n"
     ]
    }
   ],
   "source": [
    "print(x[::2])"
   ]
  },
  {
   "cell_type": "code",
   "execution_count": 11,
   "id": "6f29ed01-ca22-43da-8fe4-99d853ecef2d",
   "metadata": {},
   "outputs": [
    {
     "name": "stdout",
     "output_type": "stream",
     "text": [
      "Hello\n"
     ]
    }
   ],
   "source": [
    "print(x.split(',')[0])"
   ]
  },
  {
   "cell_type": "code",
   "execution_count": 18,
   "id": "d53cbd68-77ba-4b37-b518-c6475c5ac48b",
   "metadata": {},
   "outputs": [
    {
     "name": "stdout",
     "output_type": "stream",
     "text": [
      "?uoy era woh ,olleH\n"
     ]
    }
   ],
   "source": [
    "print(x[::-1]) # Reverse String"
   ]
  },
  {
   "cell_type": "code",
   "execution_count": 19,
   "id": "fa75c320-ae6c-4388-8925-e34b7076f077",
   "metadata": {},
   "outputs": [
    {
     "name": "stdout",
     "output_type": "stream",
     "text": [
      "?o r o ol\n"
     ]
    }
   ],
   "source": [
    "print(x[-1:-19:-2])"
   ]
  },
  {
   "cell_type": "markdown",
   "id": "377c555f-b792-4c23-9f51-1970af9710ce",
   "metadata": {},
   "source": [
    "#### Using islice()\n",
    "The `islice()` is a built-in function defined in itertools module. It is used to get an iterator which is an index-based slicing of any iterable. It workd like a standard slice but returns an iterator.\n",
    "\n",
    "Syntax:\n",
    "```python\n",
    "itertools.islice(iterable, start, stop[,step])"
   ]
  },
  {
   "cell_type": "code",
   "execution_count": 24,
   "id": "0a351c4c-aaa6-4adc-b1e4-8a48f7fc69a6",
   "metadata": {},
   "outputs": [
    {
     "name": "stdout",
     "output_type": "stream",
     "text": [
      "GeneralKno\n"
     ]
    }
   ],
   "source": [
    "import itertools\n",
    "string1 = \"GeneralKnowledge\"\n",
    "\n",
    "# prints characters from 2 to 7 skipping one character.\n",
    "print(''.join(itertools.islice(string1, 0, 10)))"
   ]
  },
  {
   "cell_type": "markdown",
   "id": "626495f6-2e90-48e4-b82a-5fdb03d5be4e",
   "metadata": {},
   "source": [
    "<br>"
   ]
  },
  {
   "cell_type": "markdown",
   "id": "5886554c-2e92-481d-824a-f0bd4a4f8b4a",
   "metadata": {
    "jp-MarkdownHeadingCollapsed": true
   },
   "source": [
    "## String Formatting\n",
    "- `String formatting` allows to create dynamic strings by combining variable and values."
   ]
  },
  {
   "cell_type": "markdown",
   "id": "cad8ac6c-fd17-4a7b-8327-89f9078153b5",
   "metadata": {},
   "source": [
    "### How to Format Strings in Python\n",
    "There are five different ways to perform string formatting in `Python`.\n",
    "- Formatting with `%` operator.\n",
    "- Formatting with `format()` string method.\n",
    "- Formatting with string literals, called `f-strings`.\n",
    "- Formatting with String Template Class.\n",
    "- Formatting with `center()` string method."
   ]
  },
  {
   "cell_type": "markdown",
   "id": "576eb2f8-3f12-4885-82e7-792133d8702b",
   "metadata": {},
   "source": [
    "#### Formatting Strings with `%` operator.`"
   ]
  },
  {
   "cell_type": "code",
   "execution_count": 28,
   "id": "397bfe9c-6abe-4eb1-bcac-4c195ed0230c",
   "metadata": {},
   "outputs": [
    {
     "name": "stdout",
     "output_type": "stream",
     "text": [
      "The heroic performance is listed down in history. I think it will be remembered for multiple of decades.\n"
     ]
    }
   ],
   "source": [
    "# Simple one:\n",
    "print(\"The heroic %s is listed down in history.\" %'performance' + \n",
    "      \" I think it will be remembered for multiple of decades.\")"
   ]
  },
  {
   "cell_type": "code",
   "execution_count": 25,
   "id": "b7487b3e-4306-4e50-bf8b-c0fea5078977",
   "metadata": {},
   "outputs": [
    {
     "name": "stdout",
     "output_type": "stream",
     "text": [
      "My name is John and I am 25 years old.\n"
     ]
    }
   ],
   "source": [
    "# Inserting multiple strings with % operator.\n",
    "x = \"John\"\n",
    "y =25\n",
    "\n",
    "print(\"My name is %s and I am %d years old.\" %(x,y))"
   ]
  },
  {
   "cell_type": "code",
   "execution_count": 31,
   "id": "3595c7a4-0113-4a43-875c-5610436e159e",
   "metadata": {},
   "outputs": [
    {
     "name": "stdout",
     "output_type": "stream",
     "text": [
      "My name is John. I am from New York and I am 25 years old.\n"
     ]
    }
   ],
   "source": [
    "x= \"John\"\n",
    "y = 25\n",
    "z = \"New York\"\n",
    "print(\"My name is %s. I am from %s and I am %d years old.\" % (x,z,y))"
   ]
  },
  {
   "cell_type": "raw",
   "id": "c3ed440a-e475-476a-8c20-f1c87928563d",
   "metadata": {},
   "source": [
    "The type can be used with format codes:\n",
    "\n",
    "‘d’ for integers\n",
    "‘f’ for floating-point numbers\n",
    "‘b’ for binary numbers\n",
    "‘o’ for octal numbers\n",
    "‘x’ for octal hexadecimal numbers\n",
    "‘s’ for string\n",
    "‘e’ for floating-point in an exponent format"
   ]
  },
  {
   "cell_type": "markdown",
   "id": "004ea681-ca89-449b-9b2a-9bc80dfa445a",
   "metadata": {},
   "source": [
    "#### Formatting with `format()` string method."
   ]
  },
  {
   "cell_type": "code",
   "execution_count": 38,
   "id": "f1a7ec1b-b182-4f75-884e-a00d32c094ae",
   "metadata": {},
   "outputs": [
    {
     "name": "stdout",
     "output_type": "stream",
     "text": [
      "We all are equal.\n"
     ]
    }
   ],
   "source": [
    "# Simple code. \n",
    "print(\"We all are {}.\".format('equal'))"
   ]
  },
  {
   "cell_type": "code",
   "execution_count": 39,
   "id": "f5d49983-fca6-48b8-81d5-1893622604be",
   "metadata": {},
   "outputs": [
    {
     "name": "stdout",
     "output_type": "stream",
     "text": [
      "My name is John. I am 25 years old.\n"
     ]
    }
   ],
   "source": [
    "x = \"John\"\n",
    "y =25\n",
    "print(\"My name is {}. I am {} years old.\".format(x,y))"
   ]
  },
  {
   "cell_type": "code",
   "execution_count": 40,
   "id": "ba6ff26d-3835-4b41-a59f-d61f1131739d",
   "metadata": {},
   "outputs": [
    {
     "name": "stdout",
     "output_type": "stream",
     "text": [
      "My name is John. I am from New York and I am 25 years old.\n"
     ]
    }
   ],
   "source": [
    "x= \"John\"\n",
    "y = 25\n",
    "z = \"New York\"\n",
    "print(\"My name is {}. I am from {} and I am {} years old.\".format(x,z,y))"
   ]
  },
  {
   "cell_type": "code",
   "execution_count": 41,
   "id": "e2373a64-4992-46ec-905b-fd100e9a4730",
   "metadata": {},
   "outputs": [
    {
     "name": "stdout",
     "output_type": "stream",
     "text": [
      "My name is John. I am from New York and I am 25 years old.\n"
     ]
    }
   ],
   "source": [
    "# Index based Insertion\n",
    "\n",
    "x= \"John\"\n",
    "y = 25\n",
    "z = \"New York\"\n",
    "print(\"My name is {0}. I am from {2} and I am {1} years old.\".format(x,y,z))"
   ]
  },
  {
   "cell_type": "markdown",
   "id": "ccb9a12a-8e03-43cd-9136-c2ca0bcfd4e2",
   "metadata": {},
   "source": [
    "#### Formatting string using `f-strings` method."
   ]
  },
  {
   "cell_type": "code",
   "execution_count": 42,
   "id": "ba490a82-d7c3-4a2d-9152-b904343fac57",
   "metadata": {},
   "outputs": [
    {
     "name": "stdout",
     "output_type": "stream",
     "text": [
      "My name is John. I am from New York and I am 25 years old.\n"
     ]
    }
   ],
   "source": [
    "x= \"John\"\n",
    "y = 25\n",
    "z = \"New York\"\n",
    "print(f\"My name is {x}. I am from {z} and I am {y} years old.\")"
   ]
  },
  {
   "cell_type": "markdown",
   "id": "44486120-58a0-4301-bfcf-d3e5493e0a4e",
   "metadata": {},
   "source": [
    "<br>"
   ]
  },
  {
   "cell_type": "markdown",
   "id": "b3804dc1-304d-40b7-a9b4-a823fab6d563",
   "metadata": {
    "jp-MarkdownHeadingCollapsed": true
   },
   "source": [
    "## String Concatenation\n",
    "- You can `concatenate` two or more strings using the `+` operator or nuilt-in function like `str.join()`.\n",
    "- String are `immutable` therefore, we don't modify the string instead we concatenate them together and assign them a new variable."
   ]
  },
  {
   "cell_type": "markdown",
   "id": "7f20a5db-bfab-4f91-b41e-011551cc6fcf",
   "metadata": {},
   "source": [
    "#### String Concatenation using `+` Operator."
   ]
  },
  {
   "cell_type": "code",
   "execution_count": 49,
   "id": "69760bd9-90bd-4c80-bb3d-ffa50573c0aa",
   "metadata": {},
   "outputs": [
    {
     "name": "stdout",
     "output_type": "stream",
     "text": [
      "Hello!, Good Morning.\n"
     ]
    }
   ],
   "source": [
    "var1 = \"Hello\"\n",
    "var2 = \"Good Morning.\"\n",
    "var3 = var1 + \"!, \" + var2\n",
    "print(var3)"
   ]
  },
  {
   "cell_type": "code",
   "execution_count": 50,
   "id": "87fc8d8d-e38e-48f2-aac2-4461f0b3e613",
   "metadata": {},
   "outputs": [
    {
     "name": "stdout",
     "output_type": "stream",
     "text": [
      "Prabin Thapa\n"
     ]
    }
   ],
   "source": [
    "firstname = \"Prabin\"\n",
    "lastname = \"Thapa\"\n",
    "fullname = firstname + \" \" + lastname\n",
    "print(fullname)"
   ]
  },
  {
   "cell_type": "markdown",
   "id": "914c92a1-a3f2-406b-adc5-6562bcf1a54d",
   "metadata": {},
   "source": [
    "#### String Concatenation using `.join()` method"
   ]
  },
  {
   "cell_type": "code",
   "execution_count": 54,
   "id": "cbbc9a5f-9305-4d46-832f-faa1743621a5",
   "metadata": {},
   "outputs": [
    {
     "name": "stdout",
     "output_type": "stream",
     "text": [
      "Hello!, Good Morning.\n"
     ]
    }
   ],
   "source": [
    "var1 = \"Hello\"\n",
    "var2 = \"Good Morning.\"\n",
    "var3 = \"!, \".join([var1, var2])\n",
    "print(var3)"
   ]
  },
  {
   "cell_type": "code",
   "execution_count": 55,
   "id": "25437f69-0ce5-47a1-bdd6-0c038ffc07c7",
   "metadata": {},
   "outputs": [
    {
     "name": "stdout",
     "output_type": "stream",
     "text": [
      "Prabin Thapa\n"
     ]
    }
   ],
   "source": [
    "firstname = \"Prabin\"\n",
    "lastname = \"Thapa\"\n",
    "fullname = \" \".join([firstname, lastname])\n",
    "print(fullname)"
   ]
  },
  {
   "cell_type": "markdown",
   "id": "20675cf3-c984-48ab-a416-206ec629e919",
   "metadata": {},
   "source": [
    "#### Example question:\n",
    "Write a Python function called `full_name` that takes two string, `first_name` and `last_name`, and returns the full name as a single string, with a space between the first and last names."
   ]
  },
  {
   "cell_type": "code",
   "execution_count": 57,
   "id": "7875f811-0500-4d51-9e24-91bb036b0729",
   "metadata": {},
   "outputs": [
    {
     "data": {
      "text/plain": [
       "'Prabin Thapa'"
      ]
     },
     "execution_count": 57,
     "metadata": {},
     "output_type": "execute_result"
    }
   ],
   "source": [
    "def full_name(first_name, last_name):\n",
    "    result = \" \".join([first_name, last_name])\n",
    "    return result\n",
    "\n",
    "full_name(\"Prabin\", \"Thapa\")"
   ]
  },
  {
   "cell_type": "markdown",
   "id": "72ea45bf-3e00-4a46-94b0-7ef3215738e5",
   "metadata": {},
   "source": [
    "<br>"
   ]
  },
  {
   "cell_type": "markdown",
   "id": "6ee240fb-d967-483a-b038-408a00b20cd4",
   "metadata": {
    "jp-MarkdownHeadingCollapsed": true
   },
   "source": [
    "## Advanced String Formatting with `.format()`"
   ]
  },
  {
   "cell_type": "markdown",
   "id": "0af5d100-57db-49dd-9135-5ca7fde86304",
   "metadata": {},
   "source": [
    "In Python, you can use the `.format()` method to format strings. The `.format()` method provides a powerful way to control the `alignment`, `padding`, and `precision` of values that are included in the formatted string."
   ]
  },
  {
   "cell_type": "markdown",
   "id": "6652c09a-ab69-4ecd-be6a-889f083957d0",
   "metadata": {},
   "source": [
    "### Alignment\n",
    "You can use the `{:}` syntax to specify the width of the field and the alignment. The `>` character specifies `right alignment`, the `<` character specifies `left alignment`, and the `^` character specifies `center alignment`."
   ]
  },
  {
   "cell_type": "code",
   "execution_count": 63,
   "id": "b4707c0a-b376-4d72-9544-1748bc3ce6cc",
   "metadata": {},
   "outputs": [
    {
     "name": "stdout",
     "output_type": "stream",
     "text": [
      "       Hello, World!\n",
      "Hello, World!       \n",
      "   Hello, World!    \n"
     ]
    }
   ],
   "source": [
    "x = \"Hello, World!\"\n",
    "\n",
    "print(\"{:>20}\".format(x)) # Right align the string in a field with a width of 20 characters\n",
    "print(\"{:<20}\".format(x)) # Left align the string in a field with a width of 20 characters\n",
    "print(\"{:^20}\".format(x)) # Center align the string in a field with a width of 20 characters"
   ]
  },
  {
   "cell_type": "markdown",
   "id": "b8ee5be7-22aa-4e13-b1d1-8183c42bd10a",
   "metadata": {},
   "source": [
    "#### Padding\n",
    "You can use the `{:}` syntax to specify the width of the field and the `padding` character. The padding character is specified after the alignment character (`>`, `<`, or `^`)."
   ]
  },
  {
   "cell_type": "code",
   "execution_count": 66,
   "id": "0e08a415-f282-4a5e-a9dc-4e41fb8d27f5",
   "metadata": {},
   "outputs": [
    {
     "name": "stdout",
     "output_type": "stream",
     "text": [
      "_______Hello, World!\n",
      "Hello, World!.......\n",
      "---Hello, World!----\n"
     ]
    }
   ],
   "source": [
    "x = \"Hello, World!\"\n",
    "\n",
    "print(\"{:_>20}\".format(x))  # Right align the string of 20 characters, padded with underscore\n",
    "print(\"{:.<20}\".format(x))  # Left align the string of 20 characters, padded with dot\n",
    "print(\"{:-^20}\".format(x))  # Center align the string of 20 characters, padded with dashes"
   ]
  },
  {
   "cell_type": "markdown",
   "id": "0d3afd45-e729-427b-9e79-6620a6b4c598",
   "metadata": {},
   "source": [
    "#### Precision\n",
    "You can use the `{:.}` syntax to specify the precision of a floating-point number."
   ]
  },
  {
   "cell_type": "code",
   "execution_count": 68,
   "id": "dc0b52e0-0f31-4bda-b132-a762c908f6fe",
   "metadata": {},
   "outputs": [
    {
     "name": "stdout",
     "output_type": "stream",
     "text": [
      "3.14\n"
     ]
    }
   ],
   "source": [
    "pi = 3.14159265\n",
    "\n",
    "print(\"{:.2f}\".format(pi))"
   ]
  },
  {
   "cell_type": "code",
   "execution_count": null,
   "id": "7d27e8ea-ebac-45a8-8a61-6e20920aff6f",
   "metadata": {},
   "outputs": [],
   "source": []
  }
 ],
 "metadata": {
  "kernelspec": {
   "display_name": "Python 3 (ipykernel)",
   "language": "python",
   "name": "python3"
  },
  "language_info": {
   "codemirror_mode": {
    "name": "ipython",
    "version": 3
   },
   "file_extension": ".py",
   "mimetype": "text/x-python",
   "name": "python",
   "nbconvert_exporter": "python",
   "pygments_lexer": "ipython3",
   "version": "3.12.2"
  }
 },
 "nbformat": 4,
 "nbformat_minor": 5
}
