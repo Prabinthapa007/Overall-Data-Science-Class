{
 "cells": [
  {
   "cell_type": "markdown",
   "id": "c01508fd-3332-4ec0-a8c2-dc693e913ce3",
   "metadata": {},
   "source": [
    "# Sequences in Python with Types and Examples:"
   ]
  },
  {
   "cell_type": "markdown",
   "id": "2b2775ed-3674-4dbc-ab8f-38728b81faa4",
   "metadata": {},
   "source": [
    "- `Sequences` are containers with items stored in a deterministic ordering. Each sequence data type comes with its unique capabilities.\n",
    "- Python classifies `sequences` types as **mutuable** and **immutable**. The **mutuable sequences types** are lists and bytearrays, while the **immutable sequences types** are strings, tuples, range, and bytes.\n",
    "- **Mutable** refers to an object whose state or value can be changed after it is cteated. **Immutable** refers to an object whose state or value cannot be changed after it is created."
   ]
  },
  {
   "cell_type": "markdown",
   "id": "fee14025-6b9f-451d-b7a0-c9abc572ee1b",
   "metadata": {},
   "source": [
    "## Types of Sequences in Python"
   ]
  },
  {
   "cell_type": "markdown",
   "id": "2c01ec55-2c66-4eac-aa50-f1c224aff614",
   "metadata": {},
   "source": [
    "There are six type of python sequences. They are:Strings\n",
    "1. **Strings**\n",
    "2. **Lists**\n",
    "3. **Tuples**\n",
    "4. **Bytes Sequences**\n",
    "5. **Bytes Arrays**\n",
    "6. **range() objects**\n"
   ]
  },
  {
   "cell_type": "markdown",
   "id": "03049886-1e35-4555-9b73-3027d810d389",
   "metadata": {
    "jp-MarkdownHeadingCollapsed": true
   },
   "source": [
    "### 1. Strings :\n",
    "Already Done on previous lesson.\n"
   ]
  },
  {
   "cell_type": "markdown",
   "id": "c8a58f74-d85a-41ac-a5d8-46468c490122",
   "metadata": {},
   "source": [
    "### 2. Lists\n",
    "- In Python, `lists` are used to store collection of items, which can be of any data types. It is `mutable sequence type`.\n",
    "- A list can hold strings, numbers, lists, tuples, dictionaries, etc"
   ]
  },
  {
   "cell_type": "markdown",
   "id": "d72eb798-3fc8-4980-bdc7-8955834e4be7",
   "metadata": {},
   "source": [
    "#### Defining Lists:\n",
    "- To declare a `list`, either use `list()` or square brackets `[]`, containing comma-separated values."
   ]
  },
  {
   "cell_type": "code",
   "execution_count": 2,
   "id": "cace234e-0ef2-4b57-a4c2-fc50474fcb32",
   "metadata": {},
   "outputs": [
    {
     "name": "stdout",
     "output_type": "stream",
     "text": [
      "[22, 23, 24, 25]\n"
     ]
    }
   ],
   "source": [
    "x = list((22, 23, 24, 25))\n",
    "print(x)"
   ]
  },
  {
   "cell_type": "code",
   "execution_count": 3,
   "id": "da63738c-29b0-43bb-96c7-dbfe9be3d352",
   "metadata": {},
   "outputs": [
    {
     "name": "stdout",
     "output_type": "stream",
     "text": [
      "[22, 23, 24, 25]\n"
     ]
    }
   ],
   "source": [
    "y= [22, 23, 24, 25]\n",
    "print(y)"
   ]
  },
  {
   "cell_type": "code",
   "execution_count": 5,
   "id": "2b0a305d-2116-464f-bd1e-b0bf0bc919e1",
   "metadata": {},
   "outputs": [
    {
     "name": "stdout",
     "output_type": "stream",
     "text": [
      "['apple', 1, 'ball', 2.66, 'car', (2+4j)]\n"
     ]
    }
   ],
   "source": [
    "z = [\"apple\", 1, \"ball\", 2.66, \"car\", 2+4j]\n",
    "print(z)"
   ]
  },
  {
   "cell_type": "markdown",
   "id": "fb6ed043-bb3b-4c7e-80a2-b451009dc95b",
   "metadata": {},
   "source": [
    "#### Accessing List items\n",
    "You can access individual items in a list using indexing method and access subsets using slicing method. In Python, indexing starts at 0. Here are some examples:"
   ]
  },
  {
   "cell_type": "markdown",
   "id": "f0ed7c62-d63e-4744-b13b-7cd6288153bd",
   "metadata": {},
   "source": [
    "##### list Indexing:\n",
    "The term `indexing` refers to an element of an iterable based on its position inside the iterable."
   ]
  },
  {
   "cell_type": "code",
   "execution_count": 7,
   "id": "24edd525-bcef-4300-9d8d-6b5cb3ca6e4c",
   "metadata": {},
   "outputs": [
    {
     "name": "stdout",
     "output_type": "stream",
     "text": [
      "5\n",
      "3\n"
     ]
    }
   ],
   "source": [
    "# Acessing Individual items -> Indexing\n",
    "x = [1, 2, 3, 4, 5, 6]\n",
    "print(x[4])\n",
    "print(x[2])\n"
   ]
  },
  {
   "cell_type": "code",
   "execution_count": 13,
   "id": "ad06f787-c862-4fc6-b33b-922451906f21",
   "metadata": {},
   "outputs": [
    {
     "name": "stdout",
     "output_type": "stream",
     "text": [
      "28\n"
     ]
    }
   ],
   "source": [
    "print(x[-1])"
   ]
  },
  {
   "cell_type": "code",
   "execution_count": 14,
   "id": "9ccb4565-f161-4a20-84d7-ab93d0e4f27a",
   "metadata": {},
   "outputs": [
    {
     "name": "stdout",
     "output_type": "stream",
     "text": [
      "2\n"
     ]
    }
   ],
   "source": [
    "print(x[-6])"
   ]
  },
  {
   "cell_type": "markdown",
   "id": "6c03c413-92ec-4611-86ed-f49c49203a51",
   "metadata": {},
   "source": [
    "##### list Slicing\n",
    "- The term \"**slicing**\" refers to obtaining a subset of elements from an iterable based on their indices.\n",
    "Basic Syntax:\n",
    "```python\n",
    "list[start:end:step]\n",
    "```\n",
    "    - start = index from where to start\n",
    "    - end = ending index\n",
    "    - step = numbers of jumps/increment to take between i.e. stepsize"
   ]
  },
  {
   "cell_type": "code",
   "execution_count": 9,
   "id": "228dda6b-dfa5-42aa-a25c-cf8ad58627d8",
   "metadata": {},
   "outputs": [
    {
     "name": "stdout",
     "output_type": "stream",
     "text": [
      "[22, 23, 24, 25, 28]\n"
     ]
    }
   ],
   "source": [
    "# Accessing subsets of list -> Slicing\n",
    "x = [2, 22, 23, 24, 25, 28]\n",
    "subset = x[1:6]\n",
    "print(subset)"
   ]
  },
  {
   "cell_type": "code",
   "execution_count": 11,
   "id": "d5c1c64a-7451-4449-a4ab-78db9fa4397b",
   "metadata": {},
   "outputs": [
    {
     "data": {
      "text/plain": [
       "[22, 24, 28]"
      ]
     },
     "execution_count": 11,
     "metadata": {},
     "output_type": "execute_result"
    }
   ],
   "source": [
    "x[1:6:2]"
   ]
  },
  {
   "cell_type": "code",
   "execution_count": 12,
   "id": "a166a7d4-e5e7-4525-acc6-ec10c7efbabd",
   "metadata": {},
   "outputs": [
    {
     "data": {
      "text/plain": [
       "[28, 24, 22]"
      ]
     },
     "execution_count": 12,
     "metadata": {},
     "output_type": "execute_result"
    }
   ],
   "source": [
    "x[-1:-7:-2]"
   ]
  },
  {
   "cell_type": "code",
   "execution_count": 15,
   "id": "8e5a5d76-4839-4c2c-b11a-301386ecc36f",
   "metadata": {},
   "outputs": [
    {
     "data": {
      "text/plain": [
       "[28, 25, 24, 23, 22, 2]"
      ]
     },
     "execution_count": 15,
     "metadata": {},
     "output_type": "execute_result"
    }
   ],
   "source": [
    "x[::-1]"
   ]
  },
  {
   "cell_type": "markdown",
   "id": "beac2a47-60bb-40c0-8d6c-bb4f09cd1d1c",
   "metadata": {},
   "source": [
    "##### Accessing elements from a multi-dimensions list"
   ]
  },
  {
   "cell_type": "code",
   "execution_count": 40,
   "id": "313dc2df-e476-4f04-bb1c-96adbb93523d",
   "metadata": {},
   "outputs": [
    {
     "name": "stdout",
     "output_type": "stream",
     "text": [
      "For\n",
      "Greeks\n"
     ]
    }
   ],
   "source": [
    "lst = [['Greeks', 'For'], ['Greeks']]\n",
    "print(lst[0][1])\n",
    "print(lst[1][0])"
   ]
  },
  {
   "cell_type": "markdown",
   "id": "a0abdbdc-14aa-4979-b931-6aff64d5d4f3",
   "metadata": {},
   "source": [
    "#### Modifying Lists\n",
    "You can modify individual items in a list by assigning a new value to the index. You can also add or remove items from a list using built-in list methods. Here are some examples:"
   ]
  },
  {
   "cell_type": "code",
   "execution_count": 24,
   "id": "6cddacb4-66f4-46f9-9310-d11c1e988656",
   "metadata": {},
   "outputs": [
    {
     "name": "stdout",
     "output_type": "stream",
     "text": [
      "[2, 12, 4, 5, 6, 7, 8]\n"
     ]
    }
   ],
   "source": [
    "x = [2, 3, 4, 5, 6, 7, 8]\n",
    "x[1] = 12\n",
    "print(x)"
   ]
  },
  {
   "cell_type": "code",
   "execution_count": 25,
   "id": "a2b65f16-1ff2-487e-82a8-8b4d2a64f1f1",
   "metadata": {},
   "outputs": [
    {
     "name": "stdout",
     "output_type": "stream",
     "text": [
      "[1, 2, 3, 4, 5, 6]\n"
     ]
    }
   ],
   "source": [
    "x = [2, 3, 4, 5, 6, 7, 8]\n",
    "x[0:7] = range(1,7)\n",
    "print(x)"
   ]
  },
  {
   "cell_type": "code",
   "execution_count": 27,
   "id": "da076ced-65ec-4ace-9181-865b5265da7f",
   "metadata": {},
   "outputs": [
    {
     "name": "stdout",
     "output_type": "stream",
     "text": [
      "[1, 2, 3, 4, 5, 6, 7, 8]\n"
     ]
    }
   ],
   "source": [
    "x = [1, 2, 3, 4, 5, 6, 7]\n",
    "x.append(8) # Adds an item to the end of the list\n",
    "print(x)"
   ]
  },
  {
   "cell_type": "code",
   "execution_count": 33,
   "id": "f485a3c9-de04-4212-bdb8-59816b0ca30c",
   "metadata": {},
   "outputs": [
    {
     "name": "stdout",
     "output_type": "stream",
     "text": [
      "[1, 2, 'Jam', 3, 4, 5, 6, 7, 8]\n"
     ]
    }
   ],
   "source": [
    "x.insert(2, \"Jam\") # Adds an item at a specific index in the list\n",
    "print(x)"
   ]
  },
  {
   "cell_type": "code",
   "execution_count": 34,
   "id": "a9563b41-6a65-4fad-8750-7e7e0c873bd2",
   "metadata": {},
   "outputs": [
    {
     "name": "stdout",
     "output_type": "stream",
     "text": [
      "[1, 2, 3, 4, 5, 6, 7, 8]\n"
     ]
    }
   ],
   "source": [
    "x.remove(\"Jam\") # Removes the first occurrence of the specified item from the list\n",
    "print(x)"
   ]
  },
  {
   "cell_type": "code",
   "execution_count": 35,
   "id": "6969621c-fd95-4f0d-8f46-20ac4ae64882",
   "metadata": {},
   "outputs": [
    {
     "name": "stdout",
     "output_type": "stream",
     "text": [
      "[1, 3, 4, 5, 6, 7, 8]\n"
     ]
    }
   ],
   "source": [
    "x.pop(1) # Removes and returns the item at the specified index\n",
    "print(x)  # If no index is specified, it removes and returns the last item in the list"
   ]
  },
  {
   "cell_type": "code",
   "execution_count": 37,
   "id": "f8b31740-b463-48cd-9397-2d95ab5b6487",
   "metadata": {},
   "outputs": [
    {
     "name": "stdout",
     "output_type": "stream",
     "text": [
      "[]\n"
     ]
    }
   ],
   "source": [
    "x.clear() # Removes all items from the list\n",
    "print(x)"
   ]
  },
  {
   "cell_type": "markdown",
   "id": "4fed9d27-501b-48ac-bbb9-637cbbc7d93a",
   "metadata": {},
   "source": [
    "#### List Method"
   ]
  },
  {
   "cell_type": "markdown",
   "id": "aecfcbbd-43e4-4306-8aaa-2fe2b0e61b5b",
   "metadata": {},
   "source": [
    "Python provides a variety of built-in list methods that you can use to perform operations on lists. Some common list methods include `sort()`, `reverse()`, `count()`, `index()`, `reduce()`, `zip()`, `filter()`, `enumerate()`. Here are some examples:"
   ]
  },
  {
   "cell_type": "code",
   "execution_count": 54,
   "id": "e402ac82-1f74-48b6-8bd6-a7d1f7a6e2f1",
   "metadata": {},
   "outputs": [
    {
     "name": "stdout",
     "output_type": "stream",
     "text": [
      "[1, 3, 4, 5, 6]\n"
     ]
    }
   ],
   "source": [
    "# sort()\n",
    "x = [1, 3, 4, 5, 6]\n",
    "x.sort()\n",
    "print(x)  # Provide list in ascending order."
   ]
  },
  {
   "cell_type": "code",
   "execution_count": 55,
   "id": "04ff0c73-642e-487d-bd26-af93e171f598",
   "metadata": {},
   "outputs": [
    {
     "name": "stdout",
     "output_type": "stream",
     "text": [
      "[5, 4, 3, 2, 1]\n"
     ]
    }
   ],
   "source": [
    "lst = [1, 3, 2, 4, 5]\n",
    "(lst.sort(reverse=True))\n",
    "print(lst) # Provide list in descending order."
   ]
  },
  {
   "cell_type": "code",
   "execution_count": 57,
   "id": "6617cc5c-d4d6-4ef1-9391-9b9d890ef411",
   "metadata": {},
   "outputs": [
    {
     "name": "stdout",
     "output_type": "stream",
     "text": [
      "[5, 4, 3, 2, 1]\n"
     ]
    }
   ],
   "source": [
    "# reverse()\n",
    "lst.reverse()   # Reverses the order of the items in the list\n",
    "print(lst)"
   ]
  },
  {
   "cell_type": "code",
   "execution_count": 66,
   "id": "43cb22ef-888c-4360-972e-ec70d47e1ed7",
   "metadata": {},
   "outputs": [
    {
     "name": "stdout",
     "output_type": "stream",
     "text": [
      "0\n"
     ]
    }
   ],
   "source": [
    "# index()\n",
    "x = [1, 2, 3, 1, 3, 1, 4, 5, 6, 5, 5, 6]\n",
    "indix = x.index(1) # Returns the index of the first occurrence of the specified item in the list\n",
    "print(indix)"
   ]
  },
  {
   "cell_type": "code",
   "execution_count": 70,
   "id": "13b2f841-0bbf-4c0b-9ca3-155596a1857f",
   "metadata": {},
   "outputs": [
    {
     "name": "stdout",
     "output_type": "stream",
     "text": [
      "3\n"
     ]
    }
   ],
   "source": [
    "# count()\n",
    "x = [1, 2, 3, 1, 3, 1, 4, 5, 6, 5, 5, 6]\n",
    "count = x.count(5)\n",
    "print(count)"
   ]
  },
  {
   "cell_type": "code",
   "execution_count": 73,
   "id": "18458bfb-ca68-4f83-9861-70387bc35d16",
   "metadata": {},
   "outputs": [
    {
     "name": "stdout",
     "output_type": "stream",
     "text": [
      "The sum of the list elements is : 42\n",
      "The maximum element of the list is : 6\n"
     ]
    }
   ],
   "source": [
    "# reduce()\n",
    "import functools\n",
    "x = [1, 2, 3, 1, 3, 1, 4, 5, 6, 5, 5, 6]\n",
    "print(\"The sum of the list elements is : \", end=\"\") \n",
    "print(functools.reduce(lambda a, b: a+b, x))\n",
    "print(\"The maximum element of the list is : \", end=\"\") \n",
    "print(functools.reduce(lambda a, b: a if a>b else b, x))\n"
   ]
  },
  {
   "cell_type": "code",
   "execution_count": 80,
   "id": "08184ead-854b-4005-9227-cccc554ed054",
   "metadata": {},
   "outputs": [
    {
     "name": "stdout",
     "output_type": "stream",
     "text": [
      "(1, 7)\n",
      "(2, 3)\n",
      "(3, 2)\n",
      "(4, 4)\n",
      "(5, 5)\n"
     ]
    }
   ],
   "source": [
    "# zip()\n",
    "x = [1, 2, 3, 4, 5]\n",
    "y = [7,3,2,4, 5]\n",
    "for i in zip(x,y):\n",
    "    print(i)"
   ]
  },
  {
   "cell_type": "code",
   "execution_count": 79,
   "id": "717b4710-ed40-4804-baac-c2c7ca8d1fe3",
   "metadata": {},
   "outputs": [
    {
     "name": "stdout",
     "output_type": "stream",
     "text": [
      "(1, 1)\n",
      "(2, 2)\n",
      "(3, 3)\n",
      "(4, 4)\n",
      "(5, 5)\n"
     ]
    }
   ],
   "source": [
    "# enumerate()\n",
    "x = [1, 2, 3, 4, 5]\n",
    "\n",
    "for i in enumerate(x, start=1):\n",
    "    print(i)"
   ]
  },
  {
   "cell_type": "code",
   "execution_count": 82,
   "id": "cffaa8db-5283-4686-a4db-fac583c46ce9",
   "metadata": {},
   "outputs": [
    {
     "name": "stdout",
     "output_type": "stream",
     "text": [
      "[0, 2, 8]\n"
     ]
    }
   ],
   "source": [
    "# filter()\n",
    "seq = [0, 1, 2, 3, 5, 8, 13]\n",
    "result = filter(lambda x: x%2==0, seq)\n",
    "print(list(result))"
   ]
  },
  {
   "cell_type": "markdown",
   "id": "c58e4adf-6aa3-4f38-8271-5a094afa9fc9",
   "metadata": {},
   "source": [
    "<br>"
   ]
  },
  {
   "cell_type": "markdown",
   "id": "0d629b9f-3571-4414-8823-b403b6ac7ebb",
   "metadata": {},
   "source": [
    "### 3. Tuple"
   ]
  },
  {
   "cell_type": "markdown",
   "id": "badde487-9574-458d-893b-caefa287a1ac",
   "metadata": {},
   "source": [
    "In Python, a `tuple` is a collection of ordered, `immutable squence types`. Once created, you cannot modify the contents of a tuple. Here is a tutorial on using tuples in Python:"
   ]
  },
  {
   "cell_type": "markdown",
   "id": "0fffbb7a-9c40-499e-bf8f-6ab6176c6462",
   "metadata": {},
   "source": [
    "#### Creating a Tuple\n",
    "You can create a `tuple` by enclosing a sequence of objects in `parentheses`, separated by commas:"
   ]
  },
  {
   "cell_type": "code",
   "execution_count": 83,
   "id": "254d6328-54bf-493a-ba25-13c201adcada",
   "metadata": {},
   "outputs": [
    {
     "name": "stdout",
     "output_type": "stream",
     "text": [
      "(1, 2, 3)\n"
     ]
    }
   ],
   "source": [
    "my_tuple = (1, 2, 3)\n",
    "print(my_tuple)"
   ]
  },
  {
   "cell_type": "markdown",
   "id": "a37fa23b-86c4-4e4b-84e8-41330f05507e",
   "metadata": {},
   "source": [
    "#### Acessing Tuple Elements\n",
    "You can access elements of a tuple using indexing and slicing method"
   ]
  },
  {
   "cell_type": "code",
   "execution_count": 84,
   "id": "6d71736d-6b62-4922-a356-78d9bfd433e9",
   "metadata": {},
   "outputs": [
    {
     "name": "stdout",
     "output_type": "stream",
     "text": [
      "3\n"
     ]
    }
   ],
   "source": [
    "# Tuple Indexing\n",
    "my_tuple = (1, 2, 3)\n",
    "print(my_tuple[2])"
   ]
  },
  {
   "cell_type": "code",
   "execution_count": 89,
   "id": "99ff7113-5a5c-498d-b416-ab3cdcea5f03",
   "metadata": {},
   "outputs": [
    {
     "name": "stdout",
     "output_type": "stream",
     "text": [
      "(1, 2, 3)\n"
     ]
    }
   ],
   "source": [
    "# Tupple slicing\n",
    "print(my_tuple[0:3])"
   ]
  },
  {
   "cell_type": "markdown",
   "id": "b1b2e0e0-61cd-4d8f-bfd4-6f7ecbf9b843",
   "metadata": {},
   "source": [
    "#### Tuples are Immutable\n",
    "Once created, you cannot modify the contents of a tuple. This means that you cannot add, remove, or change elements of a tuple. It raises `TypeError`."
   ]
  },
  {
   "cell_type": "code",
   "execution_count": 90,
   "id": "deeb8b91-8669-4084-844f-20ad91b0034b",
   "metadata": {},
   "outputs": [
    {
     "ename": "TypeError",
     "evalue": "'tuple' object does not support item assignment",
     "output_type": "error",
     "traceback": [
      "\u001b[1;31m---------------------------------------------------------------------------\u001b[0m",
      "\u001b[1;31mTypeError\u001b[0m                                 Traceback (most recent call last)",
      "Cell \u001b[1;32mIn[90], line 2\u001b[0m\n\u001b[0;32m      1\u001b[0m my_tuple \u001b[38;5;241m=\u001b[39m (\u001b[38;5;241m1\u001b[39m, \u001b[38;5;241m2\u001b[39m, \u001b[38;5;241m3\u001b[39m)\n\u001b[1;32m----> 2\u001b[0m \u001b[43mmy_tuple\u001b[49m\u001b[43m[\u001b[49m\u001b[38;5;241;43m0\u001b[39;49m\u001b[43m]\u001b[49m\u001b[38;5;241m=\u001b[39m\u001b[38;5;241m2\u001b[39m\n",
      "\u001b[1;31mTypeError\u001b[0m: 'tuple' object does not support item assignment"
     ]
    }
   ],
   "source": [
    "my_tuple = (1, 2, 3)\n",
    "my_tuple[0]=2\n"
   ]
  },
  {
   "cell_type": "markdown",
   "id": "a89890fd-a276-48a8-a0a5-9844766a34ed",
   "metadata": {},
   "source": [
    "#### Tuple Methods\n",
    "Tuples are immutable in Python, which means that they cannot be modified once created. As a result, they have fewer methods compared to lists. However, there are a few built-in methods that can be used with tuples in Python. Some of the commonly used methods for tuples are `count()`, `index()`."
   ]
  },
  {
   "cell_type": "code",
   "execution_count": 95,
   "id": "d76079b1-3afa-496e-9e05-33090816ceef",
   "metadata": {},
   "outputs": [
    {
     "name": "stdout",
     "output_type": "stream",
     "text": [
      "2\n",
      "2\n"
     ]
    }
   ],
   "source": [
    "my_tuple = (1, 2, 3, 4, 5, 2, 7)\n",
    "print(my_tuple.count(2)) # Returns how many of elements are there\n",
    "print(my_tuple.index(3)) # Return index number for matched number"
   ]
  },
  {
   "cell_type": "markdown",
   "id": "4a693413-dfb9-410a-8590-f3f462cfa1b2",
   "metadata": {},
   "source": [
    "<br>"
   ]
  },
  {
   "cell_type": "markdown",
   "id": "39d8ab5e-3610-4180-b1f1-e866342411ef",
   "metadata": {},
   "source": [
    "## Python Binary Types"
   ]
  },
  {
   "cell_type": "markdown",
   "id": "d3b3dbd6-8983-451f-97c7-cdcdb1414fa7",
   "metadata": {},
   "source": [
    "### 4 and 5. bytes and bytesarray:\n",
    "- In Python, binary data is represented using the `bytes` and `bytearray` types.\n",
    "- A `bytes` object is an **immutable sequence** of bytes, while a `bytearray` object is a **mutable sequence** of bytes.\n",
    "- You can create `bytes` and `bytearray` objects using the built-in `bytes()` and `bytearray()` functions, passing them either a string of binary data or a list of integers representing the binary data.\n"
   ]
  },
  {
   "cell_type": "code",
   "execution_count": 97,
   "id": "28d355ac-f74f-489c-ab3d-afd82a772ecd",
   "metadata": {},
   "outputs": [],
   "source": [
    "# Create a bytes object from a string of binary data\n",
    "b = b'\\x00\\x01\\x02\\x03\\x04\\x05'\n",
    "\n",
    "# Create a bytes object from a list of integers representing the binary data.\n",
    "#b = bytes([0, 1, 2, 3, 4, 5])\n",
    "\n",
    "# Create a bytearray object from a string of binary data\n",
    "ba = bytearray(b'\\x00\\x01\\x02\\x03\\x04\\x05')\n",
    "\n",
    "# Create a bytearray object from a list of integers representing the binary data\n",
    "ba = bytearray([0, 1, 2, 3, 4, 5])"
   ]
  },
  {
   "cell_type": "markdown",
   "id": "e5ce03de-8e0e-4753-86f3-b4975f3a883a",
   "metadata": {},
   "source": [
    "Once you have a `bytes` or `bytearray` object, you can access individual bytes using the `indexing operator`, just like with lists and strings."
   ]
  },
  {
   "cell_type": "code",
   "execution_count": 101,
   "id": "ebb611a1-12b0-46a3-ad4e-caa2a9ad4469",
   "metadata": {},
   "outputs": [
    {
     "name": "stdout",
     "output_type": "stream",
     "text": [
      "0\n",
      "1\n",
      "2\n",
      "2\n"
     ]
    }
   ],
   "source": [
    "b = b'\\x00\\x01\\x02\\x03\\x04\\x05'\n",
    "ba = bytearray(b'\\x00\\x01\\x02\\x03\\x04\\x05')\n",
    "print(b[0])\n",
    "print(b[1])\n",
    "print(b[2])\n",
    "print(ba[2])"
   ]
  },
  {
   "cell_type": "markdown",
   "id": "401f5d59-7154-40c8-9ef1-9c241457cf2c",
   "metadata": {},
   "source": [
    "Both bytes and bytearray objects have a `hex()` method that returns a hexadecimal representation of the binary data:"
   ]
  },
  {
   "cell_type": "code",
   "execution_count": 104,
   "id": "4075609b-06e0-49e6-8a3f-e5d675fd387e",
   "metadata": {},
   "outputs": [
    {
     "name": "stdout",
     "output_type": "stream",
     "text": [
      "000102030405\n"
     ]
    }
   ],
   "source": [
    "b = b\"\\x00\\x01\\x02\\x03\\x04\\x05\"\n",
    "print(b.hex())"
   ]
  },
  {
   "cell_type": "markdown",
   "id": "56ab464c-69dd-4c1f-a901-2482d9714d37",
   "metadata": {},
   "source": [
    "Note that in Python 3, the `bytes` type is not the same as the `str` type. The `bytes` type is used for binary data, while the `str` type is used for text data. If you need to convert between `bytes` and `str` objects, you can use the `encode()` and `decode()` methods."
   ]
  },
  {
   "cell_type": "code",
   "execution_count": 106,
   "id": "55b8e592-af42-4a5f-92be-bbae3acb6e7e",
   "metadata": {},
   "outputs": [
    {
     "name": "stdout",
     "output_type": "stream",
     "text": [
      "b'Hello, World!'\n",
      "Hello, World!\n"
     ]
    }
   ],
   "source": [
    "s = \"Hello, World!\"\n",
    "b = s.encode()\n",
    "print(b)\n",
    "\n",
    "t= b.decode()\n",
    "print(t)"
   ]
  },
  {
   "cell_type": "code",
   "execution_count": null,
   "id": "a39e887d-ba68-412f-a3c5-be8fa905518e",
   "metadata": {},
   "outputs": [],
   "source": []
  }
 ],
 "metadata": {
  "kernelspec": {
   "display_name": "Python 3 (ipykernel)",
   "language": "python",
   "name": "python3"
  },
  "language_info": {
   "codemirror_mode": {
    "name": "ipython",
    "version": 3
   },
   "file_extension": ".py",
   "mimetype": "text/x-python",
   "name": "python",
   "nbconvert_exporter": "python",
   "pygments_lexer": "ipython3",
   "version": "3.12.2"
  }
 },
 "nbformat": 4,
 "nbformat_minor": 5
}
