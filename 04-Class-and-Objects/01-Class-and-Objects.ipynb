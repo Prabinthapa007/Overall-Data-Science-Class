{
 "cells": [
  {
   "cell_type": "markdown",
   "id": "65ceb233-1249-4e5f-be24-41a2bed72ada",
   "metadata": {},
   "source": [
    "# Object Oriented Programming\n",
    "Object-oriented programming is a programming paradigm that is centered around objects, which are instances of classes that encapsulate data and behavior. In Python, everything is an object, including integers, strings, lists, and functions. Python's support for OOP is a key feature of the language that makes it powerful and flexible."
   ]
  },
  {
   "cell_type": "markdown",
   "id": "3a5a3d24-ecd4-4ec5-b174-de48412f04f6",
   "metadata": {},
   "source": [
    "## Class and Objects\n",
    "A class is a blueprint or a template for creating objects, which are instances of the class. Classes encapsulate data and the behavior that operates on that data. A class defines a set of attributes and methods that can be used to create objects. In Python, you can define a class using the class keyword. Attributes and methods are the two key components of a python class. Attributes are the characteristics or properties of an object, while methods are the functions that are associated with the object.\n",
    "\n",
    "Here's an example of a simple class definition:"
   ]
  },
  {
   "cell_type": "code",
   "execution_count": 1,
   "id": "1cf1db04-321f-4fc2-96b5-45db72b3f69f",
   "metadata": {},
   "outputs": [
    {
     "data": {
      "text/plain": [
       "12"
      ]
     },
     "execution_count": 1,
     "metadata": {},
     "output_type": "execute_result"
    }
   ],
   "source": [
    "class Calculator:\n",
    "    def __init__(self, num1, num2):\n",
    "        self.num1 = num1\n",
    "        self.num2 = num2\n",
    "\n",
    "    def add(self):\n",
    "        sum = self.num1 + self.num2\n",
    "        return sum\n",
    "\n",
    "    def multiply(self):\n",
    "        multiply = self.num1 * self.num2\n",
    "        return multiply\n",
    "\n",
    "vrit_cal = Calculator(2, 6)\n",
    "vrit_cal.multiply()"
   ]
  },
  {
   "cell_type": "code",
   "execution_count": 6,
   "id": "3b08c819-1aeb-410e-83b2-b7557279f3cf",
   "metadata": {},
   "outputs": [],
   "source": [
    "class Dog:\n",
    "    def __init__(self, name, age):\n",
    "        self.name = name\n",
    "        self.age = age\n",
    "\n",
    "    def sound(self):\n",
    "        return f\"{self.name} is {self.age} years old and barking!\""
   ]
  },
  {
   "cell_type": "code",
   "execution_count": 9,
   "id": "c6580bbb-687b-4f62-9a53-3771ba708746",
   "metadata": {},
   "outputs": [
    {
     "name": "stdout",
     "output_type": "stream",
     "text": [
      "<class '__main__.Dog'>\n",
      "Helo is 8 years old and barking!\n",
      "Helo\n",
      "8\n"
     ]
    }
   ],
   "source": [
    "my_dog = Dog(\"Helo\", 8)\n",
    "print(type(my_dog))\n",
    "\n",
    "print(my_dog.sound())\n",
    "\n",
    "print(my_dog.name)\n",
    "print(my_dog.age)"
   ]
  },
  {
   "cell_type": "code",
   "execution_count": 10,
   "id": "46188083-3bc3-4499-9251-0790edce87c2",
   "metadata": {},
   "outputs": [
    {
     "name": "stdout",
     "output_type": "stream",
     "text": [
      "The Hulk, which is of Sci-Fi genre, relaesed in 2009 is reviewed nice by public\n",
      "None\n"
     ]
    }
   ],
   "source": [
    "class Movie:\n",
    "    def __init__(self, name, year, genre):\n",
    "        self.name = name\n",
    "        self.year = year\n",
    "        self.genre = genre\n",
    "\n",
    "    def public_review(self):\n",
    "        print(f\"{self.name}, which is of {self.genre} genre, relaesed in {self.year} is reviewed nice by public\")\n",
    "\n",
    "movie1 = Movie(\"The Hulk\", 2009, \"Sci-Fi\")\n",
    "print(movie1.public_review())\n",
    "        "
   ]
  },
  {
   "cell_type": "markdown",
   "id": "87e8a8ec-7d8b-4540-9e10-192e7dd3b129",
   "metadata": {},
   "source": [
    "**Types of Attributes**\n",
    "1. `Instance Attributes`:\n",
    "These are the attributes that belong to instances of a class. They are defined within the constructor method `__init__` and can be accessed using the self keyword like self.name and self.age in the above `Dog class`. They are initialized when a new instance of the class is created.\n",
    "\n",
    "2. `Class attributes`:\n",
    "Class attributes are attributes that belong to the class itself. They are defined outside the constructor method `__init__` and can be accessed using the class name. Class attributes are shared by all instances of the class like count attribute in the Person class below."
   ]
  },
  {
   "cell_type": "markdown",
   "id": "a103d4bc-0a84-4424-8f8d-4a1771fdf35b",
   "metadata": {},
   "source": [
    "**Types of Methods**\n",
    "1. `Instance methods`:\n",
    "The most common type of method in Python. These are the methods that operate on an instance of a class and have access to the instance's attributes. Instance methods are defined within the class and are called on instances of the class like bark method of the Dog class above.\n",
    "\n",
    "2. `Class methods`:\n",
    "Class methods are methods that operate on the class itself rather than on instances of the class. They are defined using the `@classmethod decorator` and take the class itself as the first argument like get_count method of Person class below.\n",
    "\n",
    "3. `Static methods`:\n",
    "Static methods are methods that do not operate on the instance or the class, but are related to the class in some way. They are defined using the `@staticmethod decorator` and do not take the instance or the class as arguments like get_full_name in Person class below."
   ]
  },
  {
   "cell_type": "code",
   "execution_count": 63,
   "id": "3250beda-75a7-426a-b267-99a83084c88f",
   "metadata": {},
   "outputs": [],
   "source": [
    "class Person:\n",
    "    count = 0  #class attributes\n",
    "    def __init__(self, name):\n",
    "        self.name = name  #Instance attributes\n",
    "        Person.count += 1\n",
    "\n",
    "    def update_name(self, new_name):  # Instance method\n",
    "        self.name = str(new_name)\n",
    "        \n",
    "    @classmethod  #class method\n",
    "    def get_count(cls):\n",
    "        return cls.count\n",
    "\n",
    "    @staticmethod #static method\n",
    "    def get_full_name(firstname, secondname):\n",
    "        return f\"{firstname} {secondname}\""
   ]
  },
  {
   "cell_type": "raw",
   "id": "1d151915-bdba-4af2-9ae7-03e9cc8811c4",
   "metadata": {},
   "source": [
    "This class, called Person, has one class-level attribute (count) and one class-level method (get_count). The __init__ method increments the count attribute each time a new instance of the class is created. The classmethod decorator is used to define get_count method as class-level. The get_count method returns the current value of the count attribute.\n",
    "\n",
    "To call the class-level method, you can use the class itself as the object:"
   ]
  },
  {
   "cell_type": "code",
   "execution_count": 22,
   "id": "cd408367-9835-402b-8f6f-03ca31d557b0",
   "metadata": {},
   "outputs": [
    {
     "name": "stdout",
     "output_type": "stream",
     "text": [
      "0\n"
     ]
    }
   ],
   "source": [
    "print(Person.get_count())"
   ]
  },
  {
   "cell_type": "code",
   "execution_count": 23,
   "id": "4cc4af9d-40ad-4384-b1e4-5549940bbc96",
   "metadata": {},
   "outputs": [
    {
     "name": "stdout",
     "output_type": "stream",
     "text": [
      "Punk Pistol\n"
     ]
    }
   ],
   "source": [
    "full_name_1 = Person.get_full_name(\"Punk\", \"Pistol\")\n",
    "print(full_name_1)"
   ]
  },
  {
   "cell_type": "code",
   "execution_count": 24,
   "id": "e1e48028-9260-416d-a707-f867c9d95cdb",
   "metadata": {},
   "outputs": [
    {
     "name": "stdout",
     "output_type": "stream",
     "text": [
      "Shyam\n",
      "1\n"
     ]
    }
   ],
   "source": [
    "person1 = Person(\"Shyam\")\n",
    "print(person1.name)\n",
    "print(Person.get_count())"
   ]
  },
  {
   "cell_type": "raw",
   "id": "26c804fb-1b48-4c69-b11c-0a1707d9a708",
   "metadata": {},
   "source": [
    "In this example, we call the get_count method on the Person class to get the initial value of the count attribute (which is 0). We then create two instances of the Person class (person1 and person2), which increment the count attribute each time. Finally, we call the get_count method again to get the current value of the count attribute (which is 2)."
   ]
  },
  {
   "cell_type": "markdown",
   "id": "e2eac6f6-6431-48a5-aff0-9f1fb8cc5ced",
   "metadata": {},
   "source": [
    "1. Create class Library \n",
    "2. constructor , student name and dept\n",
    "3. Class attribute , total student count\n",
    "4. book lend, input book name , if he/she can lend it or not"
   ]
  },
  {
   "cell_type": "code",
   "execution_count": 1,
   "id": "78f5004a-a470-43eb-ad67-c4ef29dbd370",
   "metadata": {},
   "outputs": [],
   "source": [
    "books = [ \n",
    "    (\"The Alchemist\", 25),\n",
    "    (\"The Da Vinci Code\", 30),\n",
    "    (\"A Brief History of Time\", 15),\n",
    "    (\"Angels & Demons\", 0),\n",
    "    (\"The Grand Design\", 0),\n",
    "    (\"1984\", 19)\n",
    "]"
   ]
  },
  {
   "cell_type": "code",
   "execution_count": 2,
   "id": "d4a895cd-468c-454d-af0c-a5da6ac46405",
   "metadata": {},
   "outputs": [],
   "source": [
    "class Library:\n",
    "    st_count = 0\n",
    "    def __init__(self, name, dept=\"Management\"):\n",
    "        self.books = [ \n",
    "        (\"The Alchemist\", 25),\n",
    "        (\"The Da Vinci Code\", 30),\n",
    "        (\"A Brief History of Time\", 15),\n",
    "        (\"Angels & Demons\", 0),\n",
    "        (\"The Grand Design\", 0),\n",
    "        (\"1984\", 19)\n",
    "        ]\n",
    "        self.name = name\n",
    "        self.dept = dept\n",
    "        Library.st_count += 1\n",
    "\n",
    "    def burrow_book(self, book_name):\n",
    "        status = [book for name, quantity in self.books if (name == book_name) & (quantity > 0)]\n",
    "        if status:\n",
    "            print(\"Yes\")\n",
    "        else:\n",
    "            print(\"No\")\n",
    "\n",
    "    @classmethod\n",
    "    def stu_count(self):\n",
    "        return self.st_count\n",
    "\n",
    "\n",
    "        \n",
    "        "
   ]
  },
  {
   "cell_type": "code",
   "execution_count": 3,
   "id": "cdf20ff7-d8d4-42c5-8556-c393fef6b692",
   "metadata": {},
   "outputs": [],
   "source": [
    "std1 = Library(\"Vrit\")"
   ]
  },
  {
   "cell_type": "code",
   "execution_count": 4,
   "id": "663246aa-05cc-419b-ad75-1c5e1fea1161",
   "metadata": {},
   "outputs": [
    {
     "data": {
      "text/plain": [
       "1"
      ]
     },
     "execution_count": 4,
     "metadata": {},
     "output_type": "execute_result"
    }
   ],
   "source": [
    "std1.stu_count()"
   ]
  },
  {
   "cell_type": "code",
   "execution_count": 5,
   "id": "5349e2c9-edfc-4482-84c5-3a5cb7967526",
   "metadata": {},
   "outputs": [
    {
     "name": "stdout",
     "output_type": "stream",
     "text": [
      "No\n"
     ]
    }
   ],
   "source": [
    "std1.burrow_book(\"Angels $ Demons\")"
   ]
  },
  {
   "cell_type": "markdown",
   "id": "9c3f51ca-df59-4232-acb6-e6cce6d21e9a",
   "metadata": {},
   "source": [
    "## Method Overloading in Python"
   ]
  },
  {
   "cell_type": "markdown",
   "id": "2e37d613-249f-4a15-bcd7-ac805b46839f",
   "metadata": {},
   "source": [
    "`Method overloading` is a concept in object-oriented programming where a class can have multiple methods with the same name, but with different parameters or argument types. In Python, `method overloading` is not supported in the same way as it is in other object-oriented programming languages such as Java or C++. However, there are some ways to achieve similar functionality in Python.\n",
    "\n",
    "One approach is to use default arguments in the method definition. For example, consider the following code:"
   ]
  },
  {
   "cell_type": "code",
   "execution_count": 32,
   "id": "6fb74dd1-bf9e-46d9-9ba5-947dfaa899b6",
   "metadata": {},
   "outputs": [],
   "source": [
    "class Example:\n",
    "    def add(self, a, b=None, c=None):\n",
    "        if b is not None and c is not None:\n",
    "            return a + b + c\n",
    "        elif b is not None:\n",
    "            return a + b\n",
    "        else:\n",
    "            return a"
   ]
  },
  {
   "cell_type": "markdown",
   "id": "7e8377e8-5037-4aea-baca-110b294ccc94",
   "metadata": {},
   "source": [
    "Here, the `add` method can take one, two, or three arguments. If only one argument is passed, it `returns` the value of that argument. If two arguments are passed, it `returns` the sum of those two arguments. And if three arguments are passed, it `returns` the sum of all three arguments.\n",
    "\n",
    "Another approach is to use variable-length arguments, which allow a method to take an arbitrary number of arguments. This can be achieved using the *args and **kwargs syntax. For example:"
   ]
  },
  {
   "cell_type": "code",
   "execution_count": 8,
   "id": "83a74719-81cc-466c-8876-e4d8e839af7d",
   "metadata": {},
   "outputs": [],
   "source": [
    "class Example:\n",
    "    def add(self, *args):\n",
    "        if len(args) == 1:\n",
    "            return args[0]\n",
    "        elif len(args) == 2:\n",
    "            return args[0] + args[1]\n",
    "        elif len(args) == 3:\n",
    "            return args[0] + args[1] + args[2]"
   ]
  },
  {
   "cell_type": "markdown",
   "id": "7daef3a2-a8bd-4aa4-a3f2-3070cdc54974",
   "metadata": {},
   "source": [
    "In this example, the `add` method takes any number of `arguments`, and the behavior is determined by the `length` of the arguments tuple.\n",
    "\n",
    "While these approaches can achieve similar functionality to method overloading, it is important to note that they are not exactly the same, and may not be suitable in all situations. It is generally recommended to use descriptive method names that reflect the intended behavior, rather than relying on overloading."
   ]
  },
  {
   "cell_type": "code",
   "execution_count": 9,
   "id": "4c80f863-1cff-46f1-aae0-192734875156",
   "metadata": {},
   "outputs": [
    {
     "name": "stdout",
     "output_type": "stream",
     "text": [
      "12\n"
     ]
    }
   ],
   "source": [
    "example1 = Example()\n",
    "result1 = example1.add(3,4,5)\n",
    "print(result1)"
   ]
  },
  {
   "cell_type": "markdown",
   "id": "35f15bd3-c101-4562-9c0f-5e78cec8f3ec",
   "metadata": {},
   "source": [
    "## Inheritance in Python"
   ]
  },
  {
   "cell_type": "markdown",
   "id": "1cb5292d-0291-4c91-909f-ab48abc7b56a",
   "metadata": {},
   "source": [
    "- `Inheritance` is one of the key features of object-oriented programming. It allows a new class to be based on an existing class, inheriting all of the attributes and methods of the parent class. This enables code reuse, making it easier to write and maintain complex programs. The parent class is also called the base class, while the new class is called the derived class.\n",
    "\n",
    "- `Inheritance` is a powerful tool that can greatly simplify code development and maintenance. By reusing existing code and building on top of it, we can avoid duplicating effort and create more complex and powerful programs.\n",
    "\n",
    "- There are several types of inheritance, including single inheritance, multiple inheritance, multi-level inheritance, hierarchical inheritance, and hybrid inheritance. Let's discuss each of them independently."
   ]
  },
  {
   "cell_type": "markdown",
   "id": "5872aebf-d9f6-4737-85f6-e291a9cc1644",
   "metadata": {},
   "source": [
    "### 1. Single Inheritance"
   ]
  },
  {
   "cell_type": "raw",
   "id": "d3880a71-6b6a-48f9-b1b2-59446097fbc8",
   "metadata": {},
   "source": [
    "Single inheritance is a mechanism in object-oriented programming where a class (child or derived class) inherits properties and methods from another class (parent or base class). The derived class inherits all the attributes of the base class, and it can also add its own attributes and methods.\n",
    "\n",
    "To create a single inheritance relationship in Python, you define the derived class and the base class, and then use the syntax class DerivedClassName(BaseClassName): to declare the derived class, with the base class specified in the parentheses."
   ]
  },
  {
   "cell_type": "markdown",
   "id": "45e55ff4-5dd2-43e0-9034-ea55a74953f1",
   "metadata": {},
   "source": [
    "<br><br><br><br>"
   ]
  },
  {
   "cell_type": "markdown",
   "id": "6ac62ab9-0612-4c46-9c0e-1c064496b816",
   "metadata": {},
   "source": [
    "## Some questions for object oriented Programming "
   ]
  },
  {
   "cell_type": "markdown",
   "id": "e730b336-a9bf-4f26-b49d-545c2fb3d65f",
   "metadata": {},
   "source": [
    "#### Q1: Create a class with instance attributes\n",
    "\n",
    "Write a Python Program to create a `Vehicle` class with `max_speed` and `mileage` instance attributes."
   ]
  },
  {
   "cell_type": "code",
   "execution_count": 2,
   "id": "25faa500-e578-413c-bb32-ef6a67139d6e",
   "metadata": {},
   "outputs": [
    {
     "name": "stdout",
     "output_type": "stream",
     "text": [
      "240 18\n"
     ]
    }
   ],
   "source": [
    "class Vechicle:\n",
    "    def __init__(self, max_speed, mileage):\n",
    "        self.max_speed = max_speed\n",
    "        self.mileage = mileage\n",
    "\n",
    "model1 = Vechicle(240, 18)\n",
    "print(model1.max_speed, model1.mileage)"
   ]
  },
  {
   "cell_type": "markdown",
   "id": "56e7f285-c51b-4ea8-b24b-2750a9db028c",
   "metadata": {},
   "source": [
    "#### Q2: Create a vehicle class without any varaibales and methods"
   ]
  },
  {
   "cell_type": "code",
   "execution_count": 4,
   "id": "99acf840-5ff2-4d49-bccf-f7a7ed31fb26",
   "metadata": {},
   "outputs": [],
   "source": [
    "class Vehicle:\n",
    "    pass"
   ]
  },
  {
   "cell_type": "markdown",
   "id": "5529a076-160a-40bc-a40b-dd1532134c86",
   "metadata": {},
   "source": [
    "#### Q3: Create a child class Bus that will inherit all of the variables and methods of vehicle class"
   ]
  },
  {
   "cell_type": "code",
   "execution_count": 7,
   "id": "fb6531e0-d5a3-4166-b676-2d1648da3156",
   "metadata": {},
   "outputs": [
    {
     "name": "stdout",
     "output_type": "stream",
     "text": [
      "Vehicle Name: Volvo Speed: 100 mileage: 23\n"
     ]
    }
   ],
   "source": [
    "class Vehicle:\n",
    "    def __init__(self, name, speed):\n",
    "        self.name = name\n",
    "        self.speed = speed\n",
    "\n",
    "class Bus(Vehicle):\n",
    "    def __init__(self, name, speed, mileage):\n",
    "        super().__init__(name, speed)\n",
    "        self.mileage = mileage\n",
    "\n",
    "bus = Bus(\"Volvo\", 100, 23)\n",
    "print(\"Vehicle Name:\", bus.name, \"Speed:\", bus.speed, \"mileage:\", bus.mileage)\n",
    "\n",
    "\n"
   ]
  },
  {
   "cell_type": "markdown",
   "id": "12812bf8-2154-44d2-a63d-f675885c38ba",
   "metadata": {},
   "source": [
    "#### Q4: Class Inheritance:\n",
    "Create a `Bus` class that inherits from the `Vehicle` class. Given the capacity argument of `Bus.seating_capacity()` a **default** value of 50."
   ]
  },
  {
   "cell_type": "code",
   "execution_count": 10,
   "id": "5970bdcd-4ea6-4a42-b541-5612647e8051",
   "metadata": {},
   "outputs": [
    {
     "name": "stdout",
     "output_type": "stream",
     "text": [
      "The seating capacity of a Volvo is 50 passengers.\n"
     ]
    }
   ],
   "source": [
    "class Vehicle:\n",
    "    def __init__(self, name, mileage, speed):\n",
    "        self.name = name\n",
    "        self.mileage= mileage\n",
    "        self.speed = speed\n",
    "\n",
    "    def seating_capacity(self, capacity):\n",
    "        return f\"The seating capacity of a {self.name} is {capacity} passengers.\"\n",
    "\n",
    "class Bus(Vehicle):\n",
    "    def seating_capacity(self, capacity=50):\n",
    "        '''\n",
    "        Calling the seating_capacity method of parent class using below code\n",
    "        '''\n",
    "        return super().seating_capacity(capacity)  \n",
    "\n",
    "bus = Bus(\"Volvo\", 18, 130)\n",
    "print(bus.seating_capacity())"
   ]
  },
  {
   "cell_type": "code",
   "execution_count": 17,
   "id": "ab7b0a3a-797e-4e3c-9384-05fe7b072649",
   "metadata": {},
   "outputs": [
    {
     "name": "stdout",
     "output_type": "stream",
     "text": [
      "The seating capacity of a Volvo is 50 passengers.\n"
     ]
    }
   ],
   "source": [
    "#Alternative way\n",
    "class Vehicle:\n",
    "    def __init__(self, name, mileage, speed):\n",
    "        self.name = name\n",
    "        self.mileage= mileage\n",
    "        self.speed = speed\n",
    "\n",
    "    def seating_capacity(self, capacity):\n",
    "        return f\"The seating capacity of a {self.name} is {capacity} passengers.\"\n",
    "\n",
    "class Bus(Vehicle):\n",
    "    def __init__(self, name, mileage, speed, capacity=50):\n",
    "        super().__init__(name, mileage, speed)\n",
    "        self.capacity = capacity\n",
    "    \n",
    "    def seating_capacity(self):\n",
    "        return f\"The seating capacity of a {self.name} is {self.capacity} passengers.\"\n",
    "\n",
    "bus = Bus(\"Volvo\", 18, 130)\n",
    "print(bus.seating_capacity())"
   ]
  },
  {
   "cell_type": "markdown",
   "id": "99927329-b186-4496-80a3-82426570d5bb",
   "metadata": {},
   "source": [
    "#### Q5: Defint a property that must have the same value for every class instance(object):\n",
    "\n",
    "Define a **class** attribute `color` with a default value **white**. I.E., Every Vehicle should be white."
   ]
  },
  {
   "cell_type": "code",
   "execution_count": 22,
   "id": "8d20de53-3f73-4e8a-a9c1-1b5d7fc57f6f",
   "metadata": {},
   "outputs": [
    {
     "name": "stdout",
     "output_type": "stream",
     "text": [
      "White Toyota, gives mileage of 22kms in the speed of 150km/hr\n",
      "White Creta, gives mileage of 18kms in the speed of 180km/hr\n"
     ]
    }
   ],
   "source": [
    "class Vehicle:\n",
    "    color = \"White\" #Class Attribute\n",
    "\n",
    "    def __init__(self, name, mileage, speed):\n",
    "        self.name = name\n",
    "        self.mileage = mileage\n",
    "        self. speed = speed\n",
    "\n",
    "class Bus(Vehicle):\n",
    "    pass\n",
    "\n",
    "class Car(Vehicle):\n",
    "    pass\n",
    "\n",
    "bus = Bus(\"Toyota\", 22, 150)\n",
    "print(f\"{bus.color} {bus.name}, gives mileage of {bus.mileage}kms in the speed of {bus.speed}km/hr\")\n",
    "\n",
    "car = Car(\"Creta\", 18, 180)\n",
    "print(f\"{car.color} {car.name}, gives mileage of {car.mileage}kms in the speed of {car.speed}km/hr\")"
   ]
  },
  {
   "cell_type": "markdown",
   "id": "1b95e792-f9a2-4e66-8a5f-c4521848f31f",
   "metadata": {},
   "source": [
    "#### Q6: Class Inheritence\n",
    "\n",
    "Create a `Bus` child class that inherits from the Vehicle class. The default fare charge of any vehicle is `seating capacity * 100`. If Vehicle is `Bus` instance, we need to add an extra 10% on full fare as a maintenance charge. So total fare for bus instance will become the `final amount = total fare + 10% of the total fare`.\n",
    "\n",
    "Note: The bus seating capacity is 50. so the final fare amount should be 5500. You need to override the fare() method of a Vehicle class in Bus class.\r",
    "s."
   ]
  },
  {
   "cell_type": "code",
   "execution_count": 29,
   "id": "2f4bbb26-cb0e-4f86-aa06-7a5352ff8887",
   "metadata": {},
   "outputs": [
    {
     "name": "stdout",
     "output_type": "stream",
     "text": [
      "Volvo\n",
      "130\n",
      "50\n",
      "Total Bus fare is: 5500.0\n"
     ]
    }
   ],
   "source": [
    "class Vehicle:\n",
    "    color = \"White\" # Class attribute\n",
    "\n",
    "    def __init__(self, name, mileage, speed, capacity=50):\n",
    "        self.name= name\n",
    "        self.mileage = mileage\n",
    "        self.speed = speed\n",
    "        self.capacity = capacity\n",
    "\n",
    "    def fare(self):\n",
    "        return self.capacity * 100\n",
    "\n",
    "class Bus(Vehicle):\n",
    "    def fare(self):\n",
    "        amount = super().fare()  # Calling fare method of parent class\n",
    "        amount += amount * 10/100\n",
    "        return amount\n",
    "\n",
    "bus = Bus(\"Volvo\", 22, 130)\n",
    "print(bus.name)\n",
    "print(bus.speed)\n",
    "print(bus.capacity)\n",
    "print(\"Total Bus fare is:\", bus.fare())"
   ]
  },
  {
   "cell_type": "markdown",
   "id": "1f2f875a-be19-4729-b3c0-d49459a02315",
   "metadata": {},
   "source": [
    "#### Q7: Check type of an object:"
   ]
  },
  {
   "cell_type": "code",
   "execution_count": 33,
   "id": "090d094d-9239-4702-abfd-e487f0d0fdba",
   "metadata": {},
   "outputs": [
    {
     "name": "stdout",
     "output_type": "stream",
     "text": [
      "<class '__main__.Bus'>\n"
     ]
    }
   ],
   "source": [
    "class Vehicle:\n",
    "    color = \"White\" #Class Attribute\n",
    "\n",
    "    def __init__(self, name, mileage, speed):\n",
    "        self.name = name\n",
    "        self.mileage = mileage\n",
    "        self. speed = speed\n",
    "\n",
    "class Bus(Vehicle):\n",
    "    pass\n",
    "\n",
    "class Car(Vehicle):\n",
    "    pass\n",
    "\n",
    "bus = Bus(\"Toyota\", 22, 150)\n",
    "print(type(bus))"
   ]
  },
  {
   "cell_type": "markdown",
   "id": "b9d27ca1-5c8f-4cc4-b352-596aeac61a7f",
   "metadata": {},
   "source": [
    "#### Q8: Determine if School_bus is also an instance of the Vehicle class:"
   ]
  },
  {
   "cell_type": "code",
   "execution_count": 35,
   "id": "efd8f829-9844-4049-a942-cc6c476c18aa",
   "metadata": {},
   "outputs": [
    {
     "name": "stdout",
     "output_type": "stream",
     "text": [
      "True\n"
     ]
    }
   ],
   "source": [
    "class Vehicle:\n",
    "    def __init__(self, name, mileage, capacity):\n",
    "        self.name = name\n",
    "        self.mileage = mileage\n",
    "        self.capacity = capacity\n",
    "\n",
    "class Bus(Vehicle):\n",
    "    pass\n",
    "\n",
    "school_bus = Bus(\"Volvo\", 12, 50)\n",
    "\n",
    "print(isinstance(school_bus, Vehicle))"
   ]
  },
  {
   "cell_type": "markdown",
   "id": "17448b74-14e2-4212-8034-cca8760f0949",
   "metadata": {},
   "source": [
    "<br><br><br>"
   ]
  },
  {
   "cell_type": "markdown",
   "id": "f17ed8e9-bf42-4dac-8b2f-0f22f7d79dff",
   "metadata": {},
   "source": [
    "### Encapsulation example:"
   ]
  },
  {
   "cell_type": "code",
   "execution_count": 38,
   "id": "6df2c8d7-3e39-42f9-b4ab-cf5a31a5cbc1",
   "metadata": {},
   "outputs": [
    {
     "name": "stdout",
     "output_type": "stream",
     "text": [
      "My car is a 2022 Audi A4.\n",
      "The car has 1500 miles on it.\n"
     ]
    }
   ],
   "source": [
    "class Car:\n",
    "    def __init__(self, make, model, year):\n",
    "        self.__make = make  # Private attribute\n",
    "        self.__model = model  # Private attribute\n",
    "        self.__year = year  # Private attribute\n",
    "        self.__odometer_reading = 0  # Private attribute\n",
    "\n",
    "    def get_make(self):\n",
    "        return self.__make\n",
    "\n",
    "    def get_model(self):\n",
    "        return self.__model\n",
    "\n",
    "    def get_year(self):\n",
    "        return self.__year\n",
    "\n",
    "    def read_odometer(self):\n",
    "        return self.__odometer_reading\n",
    "\n",
    "    def update_odometer(self, mileage):\n",
    "        if mileage >= self.__odometer_reading:\n",
    "            self.__odometer_reading = mileage\n",
    "        else:\n",
    "            print(\"You can't roll back an odometer!\")\n",
    "\n",
    "    def increment_odometer(self, miles):\n",
    "        if miles >= 0:\n",
    "            self.__odometer_reading += miles\n",
    "        else:\n",
    "            print(\"You can't decrement the odometer!\")\n",
    "\n",
    "# Usage\n",
    "my_car = Car(\"Audi\", \"A4\", 2022)\n",
    "print(f\"My car is a {my_car.get_year()} {my_car.get_make()} {my_car.get_model()}.\")\n",
    "my_car.update_odometer(1000)\n",
    "my_car.increment_odometer(500)\n",
    "print(f\"The car has {my_car.read_odometer()} miles on it.\")"
   ]
  },
  {
   "cell_type": "markdown",
   "id": "e12ac12a-174d-435b-8d0d-c02f54d5f78b",
   "metadata": {},
   "source": [
    "In this example, the Car class encapsulates the make, model, year, and odometer reading of a car. These attributes are private (denoted by the double underscore prefix __), meaning they cannot be accessed directly from outside the class. Instead, getter methods like get_make, get_model, get_year, and read_odometer are provided to access these attributes. This encapsulation helps in controlling access to the internal state of the Car objects and ensures that the data is accessed and modified in a controlled manner."
   ]
  },
  {
   "cell_type": "markdown",
   "id": "7867e3d6-e560-4e85-835b-20e13459c462",
   "metadata": {},
   "source": [
    "#### Q1: Create a `Person` Class with private attributes `name` and `age`. Implement methods to set and get these attributes. Ensure that the `age` attribute is always positive."
   ]
  },
  {
   "cell_type": "code",
   "execution_count": 50,
   "id": "6e17d926-949f-4875-9924-8d6296033aad",
   "metadata": {},
   "outputs": [
    {
     "name": "stdout",
     "output_type": "stream",
     "text": [
      "Alice 30\n"
     ]
    }
   ],
   "source": [
    "class Person:\n",
    "    def __init__(self, name, age):\n",
    "        self.__name = name\n",
    "        self.__age = age\n",
    "\n",
    "    \n",
    "    def set_name(self, name):\n",
    "        self.__name = name\n",
    "\n",
    "    \n",
    "    def set_age(self, age):\n",
    "        if age >= 0:\n",
    "            self.__age = age\n",
    "\n",
    "    \n",
    "    def get_name(self):\n",
    "        return self.__name\n",
    "\n",
    "    def get_age(self):\n",
    "        return self.__age\n",
    "\n",
    "\n",
    "# Usage\n",
    "person = Person(\"Alice\", 30)\n",
    "  \n",
    "print(person.get_name(), person.get_age())  # Output: Alice 30"
   ]
  },
  {
   "cell_type": "markdown",
   "id": "d813facb-3954-4d83-a2e8-b43f612cfce2",
   "metadata": {},
   "source": [
    "#### Q2: Encapsulation question of Bankaccount.\n",
    "\n",
    "Create a `BankAccount` class with private attributes `balance`. Implement methods to deposit and withdraw money, ensuring that the balance cannot go below zero."
   ]
  },
  {
   "cell_type": "code",
   "execution_count": 54,
   "id": "44c5c4b4-4852-45e7-8b0a-d1ac30235357",
   "metadata": {},
   "outputs": [
    {
     "name": "stdout",
     "output_type": "stream",
     "text": [
      "900\n"
     ]
    }
   ],
   "source": [
    "class BankAccount:\n",
    "    def __init__(self, balance = 0):\n",
    "        self.__balance = balance\n",
    "\n",
    "    def deposit_money(self, amount):\n",
    "        if amount > 0:\n",
    "            self.__balance += amount\n",
    "\n",
    "    def withdraw_money(self, amount):\n",
    "        if 0<amount <self.__balance:\n",
    "            self.__balance -= amount\n",
    "\n",
    "    def get_balance(self):\n",
    "        return self.__balance\n",
    "\n",
    "account = BankAccount(10000)\n",
    "account.deposit_money(1900)\n",
    "account.withdraw_money(11000)\n",
    "print(account.get_balance())"
   ]
  },
  {
   "cell_type": "markdown",
   "id": "b22b60d9-eb02-4af8-83fe-b9f486301e56",
   "metadata": {},
   "source": [
    "<br><br>"
   ]
  },
  {
   "cell_type": "markdown",
   "id": "8d072407-3c26-43b2-ab45-8518419e3f28",
   "metadata": {},
   "source": [
    "## Method Overriding Questions:"
   ]
  },
  {
   "cell_type": "markdown",
   "id": "829fcf67-553c-48b4-82b5-a763eaa5540f",
   "metadata": {},
   "source": [
    "#### Q1. Explain the concept of method overriding in object-oriented programming. Provide an example to illustrate your explanation."
   ]
  },
  {
   "cell_type": "markdown",
   "id": "ff64e8b0-33f7-4c44-ad97-4b956f663686",
   "metadata": {},
   "source": [
    "**Method overriding** is a feature of object-oriented programming that allows a subclass to provide a specific implementation of a method that is already provided by its superclass. This allows a subclass to provide a specialized version of a method that is already defined in its superclass.\n",
    "\n",
    "Example:"
   ]
  },
  {
   "cell_type": "code",
   "execution_count": 57,
   "id": "9b14723b-e655-4eb7-bda0-6921c84ef13e",
   "metadata": {},
   "outputs": [
    {
     "name": "stdout",
     "output_type": "stream",
     "text": [
      "Dog Barks\n"
     ]
    }
   ],
   "source": [
    "class Animal:\n",
    "    def sound(self):\n",
    "        print(f\"Animal making sound....\")\n",
    "\n",
    "class Dog(Animal):\n",
    "    def sound(self):\n",
    "        print(\"Dog Barks\")\n",
    "\n",
    "dog = Dog()\n",
    "dog.sound()"
   ]
  },
  {
   "cell_type": "markdown",
   "id": "d4e25f43-988c-4922-a84d-b33050bc4784",
   "metadata": {},
   "source": [
    "<br>"
   ]
  },
  {
   "cell_type": "markdown",
   "id": "7e54b068-ca0a-49c0-bffc-cecf9bfd50ca",
   "metadata": {},
   "source": [
    "#### Q2: What is the difference between method overloading and method overriding? Provide examples to illustrate your answer."
   ]
  },
  {
   "cell_type": "markdown",
   "id": "089c27cd-a97b-414c-aa27-d9683af66404",
   "metadata": {},
   "source": [
    "**Method Overloading** involves defining `multiple methods` in a `class` with the `same name` but `different parameters`. **Method Overriding**, on the other hand, invovles redefining a `method` in a `subclass` that is already defined it its `superclass`, with the `same method name and parameters`.\n",
    "\n",
    "Example:"
   ]
  },
  {
   "cell_type": "code",
   "execution_count": 18,
   "id": "bfd37c79-3b9d-4cc0-9896-29ca8e4481ab",
   "metadata": {},
   "outputs": [
    {
     "name": "stdout",
     "output_type": "stream",
     "text": [
      "9\n"
     ]
    }
   ],
   "source": [
    "# Example:\n",
    "class Example:\n",
    "    def add(self, *args):\n",
    "        if len(args)==1:\n",
    "            return args[0]\n",
    "        elif len(args) == 2:\n",
    "            return args[0] + args[1]\n",
    "        elif len(args) == 3:\n",
    "            return args[0] + args[1] + args[2]\n",
    "\n",
    "eg1 = Example.add(1,3, 6)\n",
    "print(eg1)"
   ]
  },
  {
   "cell_type": "code",
   "execution_count": null,
   "id": "1af3625b-1082-4011-a0bd-3a12ad603cc9",
   "metadata": {},
   "outputs": [],
   "source": []
  },
  {
   "cell_type": "code",
   "execution_count": 62,
   "id": "57e5955f-ce10-4045-a5d3-64859da8af7c",
   "metadata": {},
   "outputs": [
    {
     "name": "stdout",
     "output_type": "stream",
     "text": [
      "6\n"
     ]
    }
   ],
   "source": [
    "# Example of Method overloading:\n",
    "\n",
    "class Calculator:\n",
    "    def add(self, a, b):\n",
    "        return a + b\n",
    "\n",
    "    def add(self, a, b, c):\n",
    "        return a + b + c\n",
    "\n",
    "calc = Calculator()\n",
    "#print(calc.add(2, 2)) #Output: TypeError (no method with 2 arguments)\n",
    "print(calc.add(1, 2, 3))"
   ]
  },
  {
   "cell_type": "markdown",
   "id": "44334db4-e42a-4a88-9bf2-414b12a12386",
   "metadata": {},
   "source": [
    "#### Q3: Create a `Person` class with attributes `name` and `age`. Include a method `greet()` that prints a greeting message with the person's name."
   ]
  },
  {
   "cell_type": "code",
   "execution_count": 6,
   "id": "c5d1410a-8721-4630-8f34-16eb48447051",
   "metadata": {},
   "outputs": [
    {
     "name": "stdout",
     "output_type": "stream",
     "text": [
      "Hello, Prabin\n"
     ]
    }
   ],
   "source": [
    "class Person:\n",
    "    def __init__(self, name, age):\n",
    "        self.name = name\n",
    "        self.age = age\n",
    "\n",
    "    def greet(self):\n",
    "        return f\"Hello, {self.name}\"\n",
    "\n",
    "person = Person(\"Prabin\", 25)\n",
    "print(person.greet())"
   ]
  },
  {
   "cell_type": "markdown",
   "id": "29bba8cf-63c6-42e3-944c-fc13c1bd8e46",
   "metadata": {},
   "source": [
    "#### Q4: Create a `Vehicle` class with attributes `color` and `speed`. Include a method `display.info()` that prints the vehicle's color and speed."
   ]
  },
  {
   "cell_type": "code",
   "execution_count": 7,
   "id": "d850054e-938d-47ad-857a-36e17932bee4",
   "metadata": {},
   "outputs": [
    {
     "name": "stdout",
     "output_type": "stream",
     "text": [
      "The school bus is of Red and its speed is 60\n"
     ]
    }
   ],
   "source": [
    "class Vehicle:\n",
    "    def __init__(self, color, speed):\n",
    "        self.color = color\n",
    "        self.speed = speed\n",
    "\n",
    "    def display_info(self):\n",
    "        return f\"The school bus is of {self.color} and its speed is {self.speed}\"\n",
    "\n",
    "bus = Vehicle(\"Red\", 60)\n",
    "print(bus.display_info())"
   ]
  },
  {
   "cell_type": "markdown",
   "id": "e53d8831-d3ab-49dd-b0f0-842bd70fe164",
   "metadata": {},
   "source": [
    "#### Q5: Create a `BankAccount` class with attributes `account_number` and `balance`. Include methods `deposit()` and `withdraw()` to add or subtract funds form the acoount."
   ]
  },
  {
   "cell_type": "code",
   "execution_count": 12,
   "id": "13073e84-f46d-41ef-8aab-8269937da4aa",
   "metadata": {},
   "outputs": [
    {
     "name": "stdout",
     "output_type": "stream",
     "text": [
      "17000\n",
      "6000\n"
     ]
    }
   ],
   "source": [
    "class BankAccount:\n",
    "    def __init__(self, account_number, balance):\n",
    "        self.account_number = account_number\n",
    "        self.balance = balance\n",
    "\n",
    "    def deposit(self, depo):\n",
    "        self.balance = self.balance + depo\n",
    "        return self.balance\n",
    "\n",
    "    def withdraw(self, wd):\n",
    "        if self.balance >= wd:\n",
    "            self.balance = self.balance - wd\n",
    "            return self.balance\n",
    "        else:\n",
    "            return \"Insufficient balance\"\n",
    "\n",
    "banking_transaction = BankAccount(\"087010011\", 10000)\n",
    "print(banking_transaction.deposit(7000))\n",
    "print(banking_transaction.withdraw(11000))"
   ]
  },
  {
   "cell_type": "markdown",
   "id": "9ddc3572-0df4-4760-8f85-c8fb1a6a3cd4",
   "metadata": {},
   "source": [
    "#### Q6: Create a `Student` class with attributes `name`, `age`, and `grades`(a list of grades). Include methods `add_grade()` to add a grade to the list and `get_average_grade()` to calculate and return the average grade."
   ]
  },
  {
   "cell_type": "code",
   "execution_count": 15,
   "id": "81bece31-05bd-4fba-b915-d696fc8c6e38",
   "metadata": {},
   "outputs": [
    {
     "data": {
      "text/plain": [
       "23.0"
      ]
     },
     "execution_count": 15,
     "metadata": {},
     "output_type": "execute_result"
    }
   ],
   "source": [
    "class Student:\n",
    "    def __init__(self, name, age, grades=[]):\n",
    "        self.name = name\n",
    "        self.age = age\n",
    "        self.grades = grades\n",
    "\n",
    "    def add_grade(self, grade):\n",
    "        self.grades.append(grade)\n",
    "\n",
    "    def get_average_grade(self):\n",
    "        if not self.grades:\n",
    "            return 0\n",
    "        return sum(self.grades)/len(self.grades) \n",
    "\n",
    "\n",
    "student1 = Student(\"Prabin\", 25, grades=[22, 23, 24])\n",
    "\n",
    "student1.get_average_grade()\n",
    "            "
   ]
  },
  {
   "cell_type": "markdown",
   "id": "2ea19366-76e5-46ca-b7ce-89b3d2c48898",
   "metadata": {},
   "source": [
    "#### Q7: Create a  `Rectange` class with attributes `length` and `width`. Include a method `is_square()` that returns `True` if the rectangle is a square (i.e., length equals width) and `False` otherwise."
   ]
  },
  {
   "cell_type": "code",
   "execution_count": 21,
   "id": "3cb80114-1c14-4ffe-a034-cd66a8327812",
   "metadata": {},
   "outputs": [
    {
     "data": {
      "text/plain": [
       "False"
      ]
     },
     "execution_count": 21,
     "metadata": {},
     "output_type": "execute_result"
    }
   ],
   "source": [
    "class Rectangle:\n",
    "    def __init__(self, length, width):\n",
    "        self.length = length\n",
    "        self.width = width\n",
    "\n",
    "    def is_square(self):\n",
    "        return self.length == self.width\n",
    "\n",
    "res = Rectangle(23, 22)\n",
    "res.is_square()"
   ]
  },
  {
   "cell_type": "markdown",
   "id": "8d8fd88a-1a6d-4259-b83b-87d4d0096e9b",
   "metadata": {},
   "source": [
    "#### Q8: Create a `Car` class with attributes `make`, `model`, and `year`. Include a method `get_age()` that returns the age of the book in years(current year - year published)"
   ]
  },
  {
   "cell_type": "code",
   "execution_count": 18,
   "id": "58bfff48-e21b-4894-8184-68c5ed0932d1",
   "metadata": {},
   "outputs": [],
   "source": [
    "import datetime\n",
    "class Car:\n",
    "    def __init__(self, make, model, year):\n",
    "        self.make = make\n",
    "        self.model = model\n",
    "        self.year = year\n",
    "\n",
    "    def get_age(self):\n",
    "        current_year = datetime.datetime.now().year\n",
    "        return current_year - self.year"
   ]
  },
  {
   "cell_type": "code",
   "execution_count": 19,
   "id": "175840b5-670a-44e4-848b-22d68744caae",
   "metadata": {},
   "outputs": [
    {
     "name": "stdout",
     "output_type": "stream",
     "text": [
      "14\n"
     ]
    }
   ],
   "source": [
    "car = Car(\"Toyota\", \"model\", 2010)\n",
    "print(car.get_age())\n"
   ]
  },
  {
   "cell_type": "markdown",
   "id": "89101f2f-4df9-4c0d-8e33-6a2893fe374d",
   "metadata": {},
   "source": [
    "#### Q9: Create a Employee class with attributes name, position, and salary. Include a method raise_salary() that increases the salary by a certain percentage.\n"
   ]
  },
  {
   "cell_type": "code",
   "execution_count": 27,
   "id": "6cbffc75-4233-471f-bab5-ca3ea0c84681",
   "metadata": {},
   "outputs": [],
   "source": [
    "class Employee:\n",
    "    def __init__(self, name, position, salary):\n",
    "        self.name = name\n",
    "        self.position = position\n",
    "        self.salary = salary\n",
    "\n",
    "    def raise_salary(self, raise_percent):\n",
    "        self.salary += (self.salary * (raise_percent / 100))\n",
    "        return self.salary"
   ]
  },
  {
   "cell_type": "code",
   "execution_count": 28,
   "id": "9b2c7a70-2c84-4215-9f23-3b74f82eb713",
   "metadata": {},
   "outputs": [
    {
     "name": "stdout",
     "output_type": "stream",
     "text": [
      "21000.0\n"
     ]
    }
   ],
   "source": [
    "employee = Employee(\"Heather\", \"Accountant\", 20000)\n",
    "print(employee.raise_salary(5)) #Increased by 5%."
   ]
  },
  {
   "cell_type": "markdown",
   "id": "43c101d9-42c8-4807-a9c4-2f297718939c",
   "metadata": {},
   "source": [
    "#### Q10:\n",
    "Create a class `Vector` to represent a vector in 3D space with attributes `x`, `y`, and `z`. Add methods to calculate the dot product and cross product of two vectors."
   ]
  },
  {
   "cell_type": "code",
   "execution_count": 30,
   "id": "6b96eca0-0c0e-4684-b9b1-f03d210c3199",
   "metadata": {},
   "outputs": [
    {
     "name": "stdout",
     "output_type": "stream",
     "text": [
      "Dot product: 32\n",
      "Cross product: (-3, 6, -3)\n"
     ]
    }
   ],
   "source": [
    "class Vector:\n",
    "    def __init__(self, x, y, z):\n",
    "        self.x = x\n",
    "        self.y = y\n",
    "        self.z = z\n",
    "\n",
    "    def dot_product(self, other):\n",
    "        return self.x * other.x + self.y * other.y + self.z * other.z\n",
    "\n",
    "    def cross_product(self, other):\n",
    "        cross_x = self.y * other.z - self.z * other.y\n",
    "        cross_y = self.z * other.x - self.x * other.z\n",
    "        cross_z = self.x * other.y - self.y * other.x\n",
    "        return Vector(cross_x, cross_y, cross_z)\n",
    "\n",
    "# Example usage\n",
    "v1 = Vector(1, 2, 3)\n",
    "v2 = Vector(4, 5, 6)\n",
    "\n",
    "# Calculate dot product\n",
    "dot_prod = v1.dot_product(v2)\n",
    "print(\"Dot product:\", dot_prod)\n",
    "\n",
    "# Calculate cross product\n",
    "cross_prod = v1.cross_product(v2)\n",
    "print(\"Cross product:\", (cross_prod.x, cross_prod.y, cross_prod.z))"
   ]
  },
  {
   "cell_type": "markdown",
   "id": "540febd0-86f5-4447-91e3-e9b760151704",
   "metadata": {},
   "source": [
    "#### Q11:\n",
    "Create a class `Queue` to represent a queue data structure. Add methods `enqueue`, `dequeue`, and `is_empty`."
   ]
  },
  {
   "cell_type": "code",
   "execution_count": 52,
   "id": "596df069-cbe0-4125-bc59-d0a45c658a9b",
   "metadata": {},
   "outputs": [],
   "source": [
    "class Queue:\n",
    "    def __init__(self):\n",
    "        self.queue = []\n",
    "\n",
    "    def enqueue(self, add_queue):\n",
    "        return self.queue.append(add_queue)\n",
    "\n",
    "    def dequeue(self):\n",
    "        if not self.is_empty():\n",
    "            return self.queue.pop(0)\n",
    "        else:\n",
    "            raise IndexError(\"dequeue from empty queue\")\n",
    "\n",
    "    def is_empty(self):\n",
    "        return len(self.queue) == 0\n",
    "        "
   ]
  },
  {
   "cell_type": "code",
   "execution_count": 57,
   "id": "4eefa703-bc63-46c7-9820-2fdf448c6b72",
   "metadata": {},
   "outputs": [
    {
     "name": "stdout",
     "output_type": "stream",
     "text": [
      "Queue: [1, 2, 3]\n",
      "Dequeue: 1\n",
      "Queue: [2, 3]\n",
      "Is Empty: False\n",
      "Dequeue: 2\n",
      "Queue: [3]\n",
      "Is Empty: False\n",
      "Dequeue: 3\n",
      "Queue: []\n",
      "Is Empty: True\n"
     ]
    },
    {
     "ename": "IndexError",
     "evalue": "dequeue from empty queue",
     "output_type": "error",
     "traceback": [
      "\u001b[1;31m---------------------------------------------------------------------------\u001b[0m",
      "\u001b[1;31mIndexError\u001b[0m                                Traceback (most recent call last)",
      "Cell \u001b[1;32mIn[57], line 19\u001b[0m\n\u001b[0;32m     15\u001b[0m \u001b[38;5;28mprint\u001b[39m(\u001b[38;5;124m\"\u001b[39m\u001b[38;5;124mQueue:\u001b[39m\u001b[38;5;124m\"\u001b[39m, q\u001b[38;5;241m.\u001b[39mqueue)\n\u001b[0;32m     17\u001b[0m \u001b[38;5;28mprint\u001b[39m(\u001b[38;5;124m\"\u001b[39m\u001b[38;5;124mIs Empty:\u001b[39m\u001b[38;5;124m\"\u001b[39m, q\u001b[38;5;241m.\u001b[39mis_empty())\n\u001b[1;32m---> 19\u001b[0m \u001b[38;5;28mprint\u001b[39m(\u001b[38;5;124m\"\u001b[39m\u001b[38;5;124mDequeue:\u001b[39m\u001b[38;5;124m\"\u001b[39m, \u001b[43mq\u001b[49m\u001b[38;5;241;43m.\u001b[39;49m\u001b[43mdequeue\u001b[49m\u001b[43m(\u001b[49m\u001b[43m)\u001b[49m)\n\u001b[0;32m     20\u001b[0m \u001b[38;5;28mprint\u001b[39m(\u001b[38;5;124m\"\u001b[39m\u001b[38;5;124mQueue:\u001b[39m\u001b[38;5;124m\"\u001b[39m, q\u001b[38;5;241m.\u001b[39mqueue)\n\u001b[0;32m     22\u001b[0m \u001b[38;5;28mprint\u001b[39m(\u001b[38;5;124m\"\u001b[39m\u001b[38;5;124mIs Empty:\u001b[39m\u001b[38;5;124m\"\u001b[39m, q\u001b[38;5;241m.\u001b[39mis_empty())\n",
      "Cell \u001b[1;32mIn[52], line 12\u001b[0m, in \u001b[0;36mQueue.dequeue\u001b[1;34m(self)\u001b[0m\n\u001b[0;32m     10\u001b[0m     \u001b[38;5;28;01mreturn\u001b[39;00m \u001b[38;5;28mself\u001b[39m\u001b[38;5;241m.\u001b[39mqueue\u001b[38;5;241m.\u001b[39mpop(\u001b[38;5;241m0\u001b[39m)\n\u001b[0;32m     11\u001b[0m \u001b[38;5;28;01melse\u001b[39;00m:\n\u001b[1;32m---> 12\u001b[0m     \u001b[38;5;28;01mraise\u001b[39;00m \u001b[38;5;167;01mIndexError\u001b[39;00m(\u001b[38;5;124m\"\u001b[39m\u001b[38;5;124mdequeue from empty queue\u001b[39m\u001b[38;5;124m\"\u001b[39m)\n",
      "\u001b[1;31mIndexError\u001b[0m: dequeue from empty queue"
     ]
    }
   ],
   "source": [
    "q = Queue()\n",
    "q.enqueue(1)\n",
    "q.enqueue(2)\n",
    "q.enqueue(3)\n",
    "print(\"Queue:\", q.queue)\n",
    "print(\"Dequeue:\", q.dequeue())\n",
    "print(\"Queue:\", q.queue)\n",
    "\n",
    "print(\"Is Empty:\", q.is_empty())\n",
    "print(\"Dequeue:\", q.dequeue())\n",
    "print(\"Queue:\", q.queue)\n",
    "\n",
    "print(\"Is Empty:\", q.is_empty())\n",
    "print(\"Dequeue:\", q.dequeue())\n",
    "print(\"Queue:\", q.queue)\n",
    "\n",
    "print(\"Is Empty:\", q.is_empty())\n",
    "\n",
    "print(\"Dequeue:\", q.dequeue())\n",
    "print(\"Queue:\", q.queue)\n",
    "\n",
    "print(\"Is Empty:\", q.is_empty())"
   ]
  },
  {
   "cell_type": "code",
   "execution_count": null,
   "id": "7c83739b-6739-40c6-80fa-826e167f46d6",
   "metadata": {},
   "outputs": [],
   "source": []
  }
 ],
 "metadata": {
  "kernelspec": {
   "display_name": "Python 3 (ipykernel)",
   "language": "python",
   "name": "python3"
  },
  "language_info": {
   "codemirror_mode": {
    "name": "ipython",
    "version": 3
   },
   "file_extension": ".py",
   "mimetype": "text/x-python",
   "name": "python",
   "nbconvert_exporter": "python",
   "pygments_lexer": "ipython3",
   "version": "3.12.2"
  }
 },
 "nbformat": 4,
 "nbformat_minor": 5
}
