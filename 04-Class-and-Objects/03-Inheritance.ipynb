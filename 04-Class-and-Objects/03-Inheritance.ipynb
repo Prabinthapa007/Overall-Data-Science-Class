{
 "cells": [
  {
   "cell_type": "markdown",
   "id": "79bbbe30-2cb3-4bc5-98f1-8e1ac0e33a8d",
   "metadata": {},
   "source": [
    "# Inheritance in Python\n",
    "\n",
    "Inheritance is one of the key features of object-oriented programming. It allows a new class to be based on an existing class, inheriting all of the attributes and methods of the parent class. This enables code reuse, making it easier to write and maintain complex programs. The parent class is also called the `base` class, while the new class is called the `derived` class.\n",
    "\n",
    "Inheritance is a powerful tool that can greatly simplify code development and maintenance. By reusing existing code and building on top of it, we can avoid duplicating effort and create more complex and powerful programs.\n",
    "\n",
    "There are several types of inheritance, including single inheritance, multiple inheritance, multi-level inheritance, hierarchical inheritance, and hybrid inheritance. Let's discuss each of them independently."
   ]
  },
  {
   "cell_type": "markdown",
   "id": "267ec16e-c352-46cc-8170-7b5923b041b6",
   "metadata": {},
   "source": [
    "## 1. Single Inheritance\n",
    "\n",
    "Single inheritance is a mechanism in object-oriented programming where a class (child or derived class) inherits properties and methods from another class (parent or base class). The derived class inherits all the attributes of the base class, and it can also add its own attributes and methods.\n",
    "\n",
    "To create a single inheritance relationship in Python, you define the derived class and the base class, and then use the syntax `class DerivedClassName(BaseClassName):` to declare the derived class, with the base class specified in the parentheses."
   ]
  },
  {
   "cell_type": "code",
   "execution_count": 3,
   "id": "999926bb-5d6d-4316-ac79-010edc648cbf",
   "metadata": {},
   "outputs": [],
   "source": [
    "class Animal:\n",
    "    def __init__(self, name, age):\n",
    "        self.name = name\n",
    "        self.age = age\n",
    "\n",
    "    def intro(self):\n",
    "        print(f\"My name is {self.name}.\")\n",
    "\n",
    "class Cat(Animal):\n",
    "    def __init__(self, name, age, color):\n",
    "        super().__init__(name, age)\n",
    "        self.color = color\n",
    "\n",
    "    def speak(self):\n",
    "        print(\"Meow\")"
   ]
  },
  {
   "cell_type": "code",
   "execution_count": 6,
   "id": "96c9dc61-9b09-40a9-aa44-031a8189c3ee",
   "metadata": {},
   "outputs": [
    {
     "name": "stdout",
     "output_type": "stream",
     "text": [
      "22\n"
     ]
    }
   ],
   "source": [
    "my_cat = Cat(\"Fluffy\", 22, \"red\")\n",
    "print(my_cat.age)"
   ]
  },
  {
   "cell_type": "code",
   "execution_count": 5,
   "id": "3f4c8824-189b-4f52-9384-cbbac4b3e39a",
   "metadata": {},
   "outputs": [
    {
     "name": "stdout",
     "output_type": "stream",
     "text": [
      "Meow\n"
     ]
    }
   ],
   "source": [
    "my_cat.speak()"
   ]
  },
  {
   "cell_type": "code",
   "execution_count": 7,
   "id": "e86bd417-76c7-4090-8134-4cdaf8f86021",
   "metadata": {},
   "outputs": [
    {
     "name": "stdout",
     "output_type": "stream",
     "text": [
      "My name is Fluffy.\n"
     ]
    }
   ],
   "source": [
    "my_cat.intro()"
   ]
  },
  {
   "cell_type": "markdown",
   "id": "a1330423-f034-4313-b4cb-f61c2e3e3ace",
   "metadata": {},
   "source": [
    "In this example, we have defined two classes, `Animal` and `Cat`. `Cat` is the derived class, and it inherits from the base class `Animal`. The `Cat` class has its own `__init__()` method, which takes three arguments: `name, age, and color`. The `super()` function is used to call the base class constructor and pass `name and age` arguments to it. The `color` argument is specific to the `Cat` class, and is assigned as an attribute of the object and so is the `speak()` method."
   ]
  },
  {
   "cell_type": "markdown",
   "id": "cac53434-9c60-4021-b719-7c4e619a5e6d",
   "metadata": {},
   "source": [
    "## 2. Multiple Inheritance\n",
    "\n",
    "Multiple inheritance is a feature where a class can inherit attributes and methods from more than one base class. It allows a subclass to inherit from multiple parent classes simultaneously. The syntax for multiple inheritance in Python is as follows:\n",
    "\n",
    "```python\n",
    "class MyClass(Parent1, Parent2, ...):\n",
    "    pass\n",
    "```\n",
    "\n",
    "In this example, `MyClass` inherits from `Parent1`, `Parent2`, and so on.\n",
    "\n",
    "When we call a method on an instance of `MyClass`, Python looks for the method in the following order:\n",
    "\n",
    "1. `MyClass` itself\n",
    "2. `Parent1`\n",
    "3. `Parent2`\n",
    "4. and so on\n",
    "\n",
    "This is called the `method resolution order (MRO)`, and it is determined at runtime using a depth-first search algorithm.\n",
    "\n",
    "Multiple inheritance can be a powerful feature of Python, but it can also be complex and can lead to code that is difficult to understand and maintain. It is important to use it judiciously and to keep the design of your classes simple and clear."
   ]
  },
  {
   "cell_type": "code",
   "execution_count": 9,
   "id": "6f0763e7-2da4-49bc-95de-4b333f234021",
   "metadata": {},
   "outputs": [
    {
     "name": "stdout",
     "output_type": "stream",
     "text": [
      "This is Parent 1 function.\n",
      "This is Parent 2 function.\n",
      "This is Child function.\n"
     ]
    }
   ],
   "source": [
    "class Parent1:\n",
    "    def func1(self):\n",
    "        print(\"This is Parent 1 function.\")\n",
    "\n",
    "class Parent2:\n",
    "    def func2(self):\n",
    "        print(\"This is Parent 2 function.\")\n",
    "\n",
    "class Child(Parent1, Parent2):\n",
    "    def func3(self):\n",
    "        print(\"This is Child function.\")\n",
    "\n",
    "#Create an object of child class\n",
    "obj = Child()\n",
    "\n",
    "# Access functions using the object\n",
    "obj.func1()\n",
    "obj.func2()\n",
    "obj.func3()"
   ]
  },
  {
   "cell_type": "markdown",
   "id": "06327e66-9178-4710-b5f1-9c313e8a7ac1",
   "metadata": {},
   "source": [
    "<br>"
   ]
  },
  {
   "cell_type": "markdown",
   "id": "7d38a301-d1b8-4736-8aea-5b6c39188cbc",
   "metadata": {},
   "source": [
    "## 3. Multi-level inheritance\n",
    "\n",
    "Multilevel inheritance refers to the inheritance of a derived class from a base class, where the base class itself is derived from another base class. This means that a subclass will inherit from a superclass that has already inherited from another class.\n",
    "\n",
    "For example, consider three classes: `A`, `B`, and `C`. Class `A` is the parent class, class `B` is derived from class `A`, and class `C` is derived from class `B`. In this case, class `C` will inherit all the properties and methods of both class `B` and class `A`."
   ]
  },
  {
   "cell_type": "code",
   "execution_count": 12,
   "id": "22a9d20c-4ad4-475b-b4eb-ad4f0980ef27",
   "metadata": {},
   "outputs": [
    {
     "name": "stdout",
     "output_type": "stream",
     "text": [
      "This is method A from class A\n",
      "This is method B from class B\n"
     ]
    }
   ],
   "source": [
    "class A:\n",
    "    def method_a(self):\n",
    "        print(\"This is method A from class A\")\n",
    "\n",
    "class B(A):\n",
    "    def method_b(self):\n",
    "        print(\"This is method B from class B\")\n",
    "\n",
    "class C(B):\n",
    "    def method_c(self):\n",
    "        print(\"This is method C from class C\")\n",
    "\n",
    "obj = C()\n",
    "obj.method_a()\n",
    "obj.method_b()"
   ]
  },
  {
   "cell_type": "code",
   "execution_count": 13,
   "id": "2fc1ebd0-87cc-4cd1-95ff-e6099c651016",
   "metadata": {},
   "outputs": [
    {
     "name": "stdout",
     "output_type": "stream",
     "text": [
      "This is method C from class C\n"
     ]
    }
   ],
   "source": [
    "obj.method_c()"
   ]
  },
  {
   "cell_type": "markdown",
   "id": "1c4836f1-ea53-4b24-b3e3-640fce61ede3",
   "metadata": {},
   "source": [
    "In the above example, class `C` inherits from class `B`, which in turn inherits from class `A`. Therefore, class `C` has access to all the methods and properties of classes `B` and `A`. When an instance of class `C` is created, it can call the methods of all three classes."
   ]
  },
  {
   "cell_type": "markdown",
   "id": "229c88cd-2080-4500-b09e-f2bfad9e55ad",
   "metadata": {},
   "source": [
    "## 4. Hierarchical Inheritance\n",
    "\n",
    "Hierarchical inheritance is a type of inheritance in which more than one derived class inherits from a single base or parent class. In other words, it is a relationship between classes in which one class serves as a superclass for multiple subclasses.\n",
    "\n",
    "In Python, the syntax for creating hierarchical inheritance is similar to that of single inheritance. To implement hierarchical inheritance, we simply define multiple subclasses that inherit from the same base class. Each of these subclasses can have their own unique attributes and methods, in addition to the ones inherited from the base class."
   ]
  },
  {
   "cell_type": "code",
   "execution_count": 14,
   "id": "cff782a1-bd62-431a-9b72-d272a3644009",
   "metadata": {},
   "outputs": [],
   "source": [
    "class Animal:\n",
    "    def __init__(self, name):\n",
    "        self.name = name\n",
    "\n",
    "    def intro(self):\n",
    "        pass\n",
    "\n",
    "class Cat(Animal):\n",
    "    def speak(self):\n",
    "        return \"Meow\"\n",
    "\n",
    "class Dog(Animal):\n",
    "    def speak(self):\n",
    "        return \"Woof\"\n",
    "\n",
    "class Lion(Animal):\n",
    "    def speak(self):\n",
    "        return \"Roar\""
   ]
  },
  {
   "cell_type": "code",
   "execution_count": 18,
   "id": "456ae45d-ed01-4b91-82e9-de448cc306b6",
   "metadata": {},
   "outputs": [
    {
     "name": "stdout",
     "output_type": "stream",
     "text": [
      "Meow\n",
      "Fluffy\n"
     ]
    }
   ],
   "source": [
    "cat = Cat(\"Fluffy\")\n",
    "print(cat.speak())\n",
    "print(cat.name)"
   ]
  },
  {
   "cell_type": "code",
   "execution_count": 20,
   "id": "018900c6-3cc4-4181-b74e-54ee9b05656c",
   "metadata": {},
   "outputs": [
    {
     "name": "stdout",
     "output_type": "stream",
     "text": [
      "Chelsea\n",
      "Woof\n"
     ]
    }
   ],
   "source": [
    "dog = Dog(\"Chelsea\")\n",
    "print(dog.name)\n",
    "print(dog.speak())"
   ]
  },
  {
   "cell_type": "markdown",
   "id": "a1cd5b5a-586f-4166-b77e-e4e5cf32b307",
   "metadata": {},
   "source": [
    "In this example, we have a base class `Animal`, which has an `__init__` method that initializes the `name` attribute, as well as a `intro` method that is not implemented. We then define three subclasses, `Cat`, `Dog`, and `Lion`, each of which inherits from `Animal` and defines their own `speak` method."
   ]
  },
  {
   "cell_type": "markdown",
   "id": "205550fd-bb27-4456-834c-56bb3afdae34",
   "metadata": {},
   "source": [
    "<br>"
   ]
  },
  {
   "cell_type": "markdown",
   "id": "7853af3d-29fa-43d8-bb86-dd1724f2f487",
   "metadata": {},
   "source": [
    "## 5. Hybrid Inheritance\n",
    "\n",
    "Hybrid inheritance is a combination of two or more types of inheritance from the above types."
   ]
  },
  {
   "cell_type": "code",
   "execution_count": 21,
   "id": "980cac78-f1a2-4723-8211-be30b55ade2d",
   "metadata": {},
   "outputs": [],
   "source": [
    "class Animal:\n",
    "    def __init__(self, name):\n",
    "        self.name = name\n",
    "    \n",
    "    def speak(self):\n",
    "        print(f\"{self.name} is speaking.\")\n",
    "\n",
    "class Mammal(Animal):\n",
    "    def __init__(self, name):\n",
    "        super().__init__(name)\n",
    "    \n",
    "    def feed_milk(self):\n",
    "        print(f\"{self.name} is feeding milk.\")\n",
    "\n",
    "class Bird(Animal):\n",
    "    def __init__(self, name):\n",
    "        super().__init__(name)\n",
    "    \n",
    "    def fly(self):\n",
    "        print(f\"{self.name} is flying.\")\n",
    "\n",
    "class Bat(Mammal, Bird):\n",
    "    def __init__(self, name):\n",
    "        super().__init__(name)\n"
   ]
  },
  {
   "cell_type": "code",
   "execution_count": 22,
   "id": "a6416ceb-e274-4903-8185-78b096c0bb55",
   "metadata": {},
   "outputs": [
    {
     "name": "stdout",
     "output_type": "stream",
     "text": [
      "Bruce is speaking.\n"
     ]
    }
   ],
   "source": [
    "b = Bat(\"Bruce\")\n",
    "b.speak()"
   ]
  },
  {
   "cell_type": "code",
   "execution_count": 23,
   "id": "13ffa597-7faf-4e76-8a28-255dbcd6336e",
   "metadata": {},
   "outputs": [
    {
     "name": "stdout",
     "output_type": "stream",
     "text": [
      "Bruce is feeding milk.\n"
     ]
    }
   ],
   "source": [
    "b.feed_milk()"
   ]
  },
  {
   "cell_type": "code",
   "execution_count": 24,
   "id": "ba38a159-1155-4181-812e-c96e2c651f89",
   "metadata": {},
   "outputs": [
    {
     "name": "stdout",
     "output_type": "stream",
     "text": [
      "Bruce is flying.\n"
     ]
    }
   ],
   "source": [
    "b.fly()"
   ]
  },
  {
   "cell_type": "markdown",
   "id": "cad8ab67-a180-40b4-bc1d-321901ba0d6e",
   "metadata": {},
   "source": [
    "In this example, we have four classes: `Animal`, `Mammal`, `Bird`, and `Bat`. `Mammal` and `Bird` inherit from `Animal`, forming a multiple inheritance hierarchy. `Bat` then inherits from both `Mammal` and `Bird`, forming a hybrid inheritance hierarchy. This means that `Bat` has access to all the methods and attributes of `Animal`, `Mammal`, and `Bird`. When we create an instance of `Bat`, we can call all the methods defined in the parent classes."
   ]
  },
  {
   "cell_type": "code",
   "execution_count": null,
   "id": "baeec0c6-92f0-4b05-b8ac-09ba34ca4bd0",
   "metadata": {},
   "outputs": [],
   "source": []
  }
 ],
 "metadata": {
  "kernelspec": {
   "display_name": "Python 3 (ipykernel)",
   "language": "python",
   "name": "python3"
  },
  "language_info": {
   "codemirror_mode": {
    "name": "ipython",
    "version": 3
   },
   "file_extension": ".py",
   "mimetype": "text/x-python",
   "name": "python",
   "nbconvert_exporter": "python",
   "pygments_lexer": "ipython3",
   "version": "3.12.2"
  }
 },
 "nbformat": 4,
 "nbformat_minor": 5
}
