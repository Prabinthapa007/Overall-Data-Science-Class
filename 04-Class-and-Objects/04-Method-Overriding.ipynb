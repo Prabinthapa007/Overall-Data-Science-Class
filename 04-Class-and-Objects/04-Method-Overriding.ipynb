{
 "cells": [
  {
   "cell_type": "markdown",
   "id": "b7f69e4d-6169-462a-9a7f-9ccd90ba644c",
   "metadata": {},
   "source": [
    "# Method Overriding in Python\n",
    "\n",
    "Method overriding refers to the ability of a subclass to provide its own implementation of a method that is already defined in its parent class. When a method in a subclass has the same name and parameters as a method in its parent class, the subclass method will override the parent class method.\n",
    "\n",
    "To override a method in Python, the subclass method must have the same name and parameters as the parent class method. When an object of the subclass calls the method, it will use the implementation provided in the subclass, rather than the one in the superclass."
   ]
  },
  {
   "cell_type": "code",
   "execution_count": 9,
   "id": "9cad1c93-259e-44b5-9216-77acbc44c6e2",
   "metadata": {},
   "outputs": [],
   "source": [
    "class Animal:\n",
    "    def sound(self):\n",
    "        print(\"Making some sound...\")\n",
    "\n",
    "class Dog(Animal):\n",
    "    def sound(self, sound):\n",
    "        print(\"Barking\", sound)\n",
    "\n",
    "class Cat(Animal):\n",
    "    def sound(self):\n",
    "        print(\"Meow...\")\n",
    "\n"
   ]
  },
  {
   "cell_type": "code",
   "execution_count": 10,
   "id": "1206cad8-571a-4aac-b4ba-5d479d62ae1b",
   "metadata": {},
   "outputs": [],
   "source": [
    "# Create some objects and call the sound method\n",
    "animal = Animal()\n",
    "dog = Dog()\n",
    "cat = Cat()"
   ]
  },
  {
   "cell_type": "code",
   "execution_count": 11,
   "id": "a591ee0f-17d9-44e2-a573-5392339c6d5c",
   "metadata": {},
   "outputs": [
    {
     "name": "stdout",
     "output_type": "stream",
     "text": [
      "Making some sound...\n"
     ]
    }
   ],
   "source": [
    "animal.sound()"
   ]
  },
  {
   "cell_type": "code",
   "execution_count": 12,
   "id": "0c0fcdad-c56c-4928-8795-a8344a533b6c",
   "metadata": {},
   "outputs": [
    {
     "name": "stdout",
     "output_type": "stream",
     "text": [
      "Barking woof\n"
     ]
    }
   ],
   "source": [
    "dog.sound(\"woof\")"
   ]
  },
  {
   "cell_type": "code",
   "execution_count": 13,
   "id": "178f164d-a214-468b-9f8a-ed9bd71c4516",
   "metadata": {},
   "outputs": [
    {
     "name": "stdout",
     "output_type": "stream",
     "text": [
      "Meow...\n"
     ]
    }
   ],
   "source": [
    "cat.sound()"
   ]
  },
  {
   "cell_type": "markdown",
   "id": "e5ff878a-d014-4354-bf8b-6381ac60641e",
   "metadata": {},
   "source": [
    "In this example, we define a superclass `Animal` with a method sound that prints a generic sound. We then define two subclasses, `Dog` and `Cat`, that override the sound method with their own implementation.\n",
    "\n",
    "The `super()` function can be used to call the overridden method in the parent class, so that the parental behaviour is not lost."
   ]
  },
  {
   "cell_type": "code",
   "execution_count": 14,
   "id": "1b8447b0-0231-4703-936b-8152c75e4ee8",
   "metadata": {},
   "outputs": [],
   "source": [
    "class Parent:\n",
    "    def say_hello(self):\n",
    "        print(\"Hello from Parent\")\n",
    "\n",
    "class Child(Parent):\n",
    "    def say_hello(self):\n",
    "        print(\"Hello from Child\")\n",
    "        super().say_hello()  # Calls the overridden method in the parent class"
   ]
  },
  {
   "cell_type": "code",
   "execution_count": 15,
   "id": "acd3450e-f42f-4f7a-8964-6da27cdab919",
   "metadata": {},
   "outputs": [
    {
     "name": "stdout",
     "output_type": "stream",
     "text": [
      "Hello from Child\n",
      "Hello from Parent\n"
     ]
    }
   ],
   "source": [
    "obj = Child()\n",
    "obj.say_hello()"
   ]
  },
  {
   "cell_type": "markdown",
   "id": "a86a6772-b8ce-4c1c-855c-f8527adb2306",
   "metadata": {},
   "source": [
    "In this example, `Child` is a subclass of `Parent`. The `Child` class overrides the `say_hello()` method of its parent class. When the `say_hello()` method is called on an object of the `Child` class, it will execute the overridden method in the `Child` class first, and then call the overridden method in the parent class using the `super()` function."
   ]
  },
  {
   "cell_type": "code",
   "execution_count": null,
   "id": "3c023f6b-9bcf-4b84-9392-f56ed0908624",
   "metadata": {},
   "outputs": [],
   "source": []
  }
 ],
 "metadata": {
  "kernelspec": {
   "display_name": "Python 3 (ipykernel)",
   "language": "python",
   "name": "python3"
  },
  "language_info": {
   "codemirror_mode": {
    "name": "ipython",
    "version": 3
   },
   "file_extension": ".py",
   "mimetype": "text/x-python",
   "name": "python",
   "nbconvert_exporter": "python",
   "pygments_lexer": "ipython3",
   "version": "3.12.2"
  }
 },
 "nbformat": 4,
 "nbformat_minor": 5
}
