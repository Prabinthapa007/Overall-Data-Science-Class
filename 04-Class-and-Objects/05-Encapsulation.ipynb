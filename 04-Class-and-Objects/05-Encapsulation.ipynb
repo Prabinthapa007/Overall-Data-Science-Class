{
 "cells": [
  {
   "cell_type": "markdown",
   "id": "efef6e60-1da8-4c85-8889-722f0c900f5f",
   "metadata": {},
   "source": [
    "# Encapsulation in Python\n",
    "\n",
    "Encapsulation refers to the practice of hiding the implementation details of a class from the outside world and exposing only the necessary interfaces for interacting with the class. This can be achieved through the use of `access modifiers` (such as private, protected, and public). Encapsulation helps to ensure data integrity, prevent unauthorized access and modification of data, and improve code maintainability.\n",
    "\n",
    "In object-oriented programming, `access modifiers` are used to define the scope or visibility of class members (attributes and methods) in a class. These access modifiers determine which members can be accessed and modified by the code outside the class. In Python, there is no strict implementation of access modifiers like in other object-oriented languages such as Java or C++. However, there are naming conventions that are used to indicate the scope of a class member.\n",
    "\n",
    "**1. Private:** Private members are those that are intended to be used only within the class definition. In Python, private members are indicated by prefixing the attribute or method name with two underscores `(__)`.\n",
    "\n",
    "**2. Protected:** Protected members are those that can be accessed within the class definition and its subclasses. In Python, protected members are indicated by prefixing the attribute or method name with a single underscore `(_)`.\n",
    "\n",
    "**3. Public:** Public members are those that can be accessed by any code outside the class definition. In Python, public members do not have any special prefix or notation."
   ]
  },
  {
   "cell_type": "code",
   "execution_count": 13,
   "id": "299c01ea-691c-4ff3-a51b-509c4e39733b",
   "metadata": {},
   "outputs": [],
   "source": [
    "class Example:\n",
    "    def __init__(self):\n",
    "        self.public_var = 1\n",
    "        self._protected_var = 2\n",
    "        self.__private_var = 3\n",
    "\n",
    "    def public_method(self):\n",
    "        print(\"This is a public method.\")\n",
    "\n",
    "    def _protected_method(self):\n",
    "        print(\"This is a protected method.\")\n",
    "\n",
    "    def __private_method(self):\n",
    "        print(\"This is a private method.\")\n",
    "        "
   ]
  },
  {
   "cell_type": "code",
   "execution_count": 14,
   "id": "443f82be-502b-42ad-9c87-766e9363d61f",
   "metadata": {},
   "outputs": [
    {
     "name": "stdout",
     "output_type": "stream",
     "text": [
      "This is a public method.\n"
     ]
    }
   ],
   "source": [
    "obj = Example()\n",
    "obj.public_method()"
   ]
  },
  {
   "cell_type": "code",
   "execution_count": 15,
   "id": "7939c3a2-9fe3-4a74-a115-4b8c9b9b6b2c",
   "metadata": {},
   "outputs": [
    {
     "ename": "AttributeError",
     "evalue": "'Example' object has no attribute '__private_method'",
     "output_type": "error",
     "traceback": [
      "\u001b[1;31m---------------------------------------------------------------------------\u001b[0m",
      "\u001b[1;31mAttributeError\u001b[0m                            Traceback (most recent call last)",
      "Cell \u001b[1;32mIn[15], line 1\u001b[0m\n\u001b[1;32m----> 1\u001b[0m \u001b[43mobj\u001b[49m\u001b[38;5;241;43m.\u001b[39;49m\u001b[43m__private_method\u001b[49m()\n",
      "\u001b[1;31mAttributeError\u001b[0m: 'Example' object has no attribute '__private_method'"
     ]
    }
   ],
   "source": [
    "obj.__private_method()"
   ]
  },
  {
   "cell_type": "code",
   "execution_count": 16,
   "id": "b5520a89-9297-4958-9061-7be6083ed317",
   "metadata": {},
   "outputs": [
    {
     "data": {
      "text/plain": [
       "2"
      ]
     },
     "execution_count": 16,
     "metadata": {},
     "output_type": "execute_result"
    }
   ],
   "source": [
    "obj._protected_var"
   ]
  },
  {
   "cell_type": "code",
   "execution_count": 17,
   "id": "2cf5d1bf-539b-499e-a454-8b5067c0dcfe",
   "metadata": {},
   "outputs": [
    {
     "ename": "AttributeError",
     "evalue": "'Example' object has no attribute '__private_var'",
     "output_type": "error",
     "traceback": [
      "\u001b[1;31m---------------------------------------------------------------------------\u001b[0m",
      "\u001b[1;31mAttributeError\u001b[0m                            Traceback (most recent call last)",
      "Cell \u001b[1;32mIn[17], line 1\u001b[0m\n\u001b[1;32m----> 1\u001b[0m \u001b[43mobj\u001b[49m\u001b[38;5;241;43m.\u001b[39;49m\u001b[43m__private_var\u001b[49m()\n",
      "\u001b[1;31mAttributeError\u001b[0m: 'Example' object has no attribute '__private_var'"
     ]
    }
   ],
   "source": [
    "obj.__private_var()"
   ]
  },
  {
   "cell_type": "markdown",
   "id": "405b081b-2fa2-464f-ae52-98a47130e836",
   "metadata": {},
   "source": [
    "In this example, `public_var` and `public_method` are public members that can be accessed from anywhere. `_protected_var` and `_protected_method` are protected members that can be accessed within the class and its subclasses. `__private_var` and `__private_method` are private members that can only be accessed within the class definition."
   ]
  },
  {
   "cell_type": "code",
   "execution_count": 18,
   "id": "c85e555e-35fd-4373-a7c5-ab9f9dac64b1",
   "metadata": {},
   "outputs": [],
   "source": [
    "class SubClass(Example):\n",
    "    def __init__(self):\n",
    "        super().__init__()\n",
    "\n",
    "    def get_public_member(self):\n",
    "        print(self.public_var)\n",
    "\n",
    "    def get_protected_member(self):\n",
    "        print(self._protected_var)\n",
    "\n",
    "    def get_private_member(self):\n",
    "        print(self.__private_var)\n",
    "\n",
    "sub = SubClass()"
   ]
  },
  {
   "cell_type": "code",
   "execution_count": 20,
   "id": "0187d213-e660-403c-aa40-2c2045430300",
   "metadata": {},
   "outputs": [
    {
     "ename": "AttributeError",
     "evalue": "'SubClass' object has no attribute '_SubClass__private_var'",
     "output_type": "error",
     "traceback": [
      "\u001b[1;31m---------------------------------------------------------------------------\u001b[0m",
      "\u001b[1;31mAttributeError\u001b[0m                            Traceback (most recent call last)",
      "Cell \u001b[1;32mIn[20], line 1\u001b[0m\n\u001b[1;32m----> 1\u001b[0m \u001b[43msub\u001b[49m\u001b[38;5;241;43m.\u001b[39;49m\u001b[43mget_private_member\u001b[49m\u001b[43m(\u001b[49m\u001b[43m)\u001b[49m \u001b[38;5;66;03m# Raises an AttributeError\u001b[39;00m\n",
      "Cell \u001b[1;32mIn[18], line 12\u001b[0m, in \u001b[0;36mSubClass.get_private_member\u001b[1;34m(self)\u001b[0m\n\u001b[0;32m     11\u001b[0m \u001b[38;5;28;01mdef\u001b[39;00m \u001b[38;5;21mget_private_member\u001b[39m(\u001b[38;5;28mself\u001b[39m):\n\u001b[1;32m---> 12\u001b[0m     \u001b[38;5;28mprint\u001b[39m(\u001b[38;5;28;43mself\u001b[39;49m\u001b[38;5;241;43m.\u001b[39;49m\u001b[43m__private_var\u001b[49m)\n",
      "\u001b[1;31mAttributeError\u001b[0m: 'SubClass' object has no attribute '_SubClass__private_var'"
     ]
    }
   ],
   "source": [
    "sub.get_private_member() # Raises an AttributeError"
   ]
  },
  {
   "cell_type": "code",
   "execution_count": 21,
   "id": "680d3350-bb19-4c16-b966-726236889e2f",
   "metadata": {},
   "outputs": [
    {
     "name": "stdout",
     "output_type": "stream",
     "text": [
      "2\n"
     ]
    }
   ],
   "source": [
    "sub.get_protected_member()  # Can be accessed"
   ]
  },
  {
   "cell_type": "code",
   "execution_count": 22,
   "id": "fbd452f4-42c8-412f-8273-e0a510eca429",
   "metadata": {},
   "outputs": [
    {
     "name": "stdout",
     "output_type": "stream",
     "text": [
      "1\n"
     ]
    }
   ],
   "source": [
    "sub.get_public_member()"
   ]
  },
  {
   "cell_type": "markdown",
   "id": "7fe11a1f-03ad-4966-bf15-4c6821a7da5d",
   "metadata": {},
   "source": [
    "Although one should not be able to access protected methods publicly, python fails to provide the functionality as done by other object-oriented languages like Java and C++"
   ]
  },
  {
   "cell_type": "code",
   "execution_count": null,
   "id": "9a964e80-10d9-497a-a7ee-1a04996c9c46",
   "metadata": {},
   "outputs": [],
   "source": []
  }
 ],
 "metadata": {
  "kernelspec": {
   "display_name": "Python 3 (ipykernel)",
   "language": "python",
   "name": "python3"
  },
  "language_info": {
   "codemirror_mode": {
    "name": "ipython",
    "version": 3
   },
   "file_extension": ".py",
   "mimetype": "text/x-python",
   "name": "python",
   "nbconvert_exporter": "python",
   "pygments_lexer": "ipython3",
   "version": "3.12.2"
  }
 },
 "nbformat": 4,
 "nbformat_minor": 5
}
