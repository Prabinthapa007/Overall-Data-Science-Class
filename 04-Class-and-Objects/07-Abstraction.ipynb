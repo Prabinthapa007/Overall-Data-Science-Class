{
 "cells": [
  {
   "cell_type": "markdown",
   "id": "c45d1f5f-8c04-484d-9ea0-f2b881dd759c",
   "metadata": {},
   "source": [
    "# Abstraction in Python\n",
    "\n",
    "Abstraction is the process of hiding complex implementation details and providing a simple interface for the users to interact with the system. In Python, abstraction can be achieved through the use of abstract classes and interfaces.\n",
    "\n",
    "An abstract class is a class that cannot be instantiated, but can be subclassed. It defines a set of abstract methods that must be implemented by its subclasses. These abstract methods define the interface of the class and are used to enforce a contract between the abstract class and its subclasses."
   ]
  },
  {
   "cell_type": "code",
   "execution_count": 1,
   "id": "24562d87-9117-433d-9822-e7a48ea1f639",
   "metadata": {},
   "outputs": [],
   "source": [
    "from abc import ABC, abstractmethod\n",
    "\n",
    "class Shape(ABC):\n",
    "    @abstractmethod\n",
    "    def area(self):\n",
    "        pass\n",
    "\n",
    "    @abstractmethod\n",
    "    def perimeter(self):\n",
    "        pass\n",
    "\n",
    "    @abstractmethod\n",
    "    def volume(self):\n",
    "        pass"
   ]
  },
  {
   "cell_type": "markdown",
   "id": "a0ee5f3f-a7b8-416e-b8a3-9e732f53d70e",
   "metadata": {},
   "source": [
    "In this example, we define an abstract class called `Shape`. It has two abstract methods, `area()` and `perimeter()`, which are used to define the interface of the class. Any subclass of `Shape` must implement these methods."
   ]
  },
  {
   "cell_type": "code",
   "execution_count": 2,
   "id": "ed9e2a42-fe28-44ce-8956-74c5bba771b7",
   "metadata": {},
   "outputs": [],
   "source": [
    "class Rectangle(Shape):\n",
    "    def __init__(self, width, height):\n",
    "        self.width = width\n",
    "        self.height = height\n",
    "\n",
    "    def area(self):\n",
    "        return self.width * self.height\n",
    "\n",
    "    def perimeter(self):\n",
    "        return 2 * (self.width + self.height)\n",
    "\n",
    "    def volume(self):\n",
    "        return \"Not Applicable\"\n",
    "        "
   ]
  },
  {
   "cell_type": "code",
   "execution_count": 4,
   "id": "10583907-cd11-46fe-8650-9f74ee9cd253",
   "metadata": {},
   "outputs": [],
   "source": [
    "rect = Rectangle(22, 23)"
   ]
  },
  {
   "cell_type": "code",
   "execution_count": 5,
   "id": "e924aa97-d973-4043-a2a3-189ec5e832dd",
   "metadata": {},
   "outputs": [
    {
     "data": {
      "text/plain": [
       "506"
      ]
     },
     "execution_count": 5,
     "metadata": {},
     "output_type": "execute_result"
    }
   ],
   "source": [
    "rect.area()"
   ]
  },
  {
   "cell_type": "code",
   "execution_count": 7,
   "id": "aee327c9-c50f-44af-aa61-9bb02738bf57",
   "metadata": {},
   "outputs": [
    {
     "data": {
      "text/plain": [
       "90"
      ]
     },
     "execution_count": 7,
     "metadata": {},
     "output_type": "execute_result"
    }
   ],
   "source": [
    "rect.perimeter()"
   ]
  },
  {
   "cell_type": "code",
   "execution_count": 8,
   "id": "fb8516cf-d1cf-4e3a-94c0-8a6840bffeba",
   "metadata": {},
   "outputs": [],
   "source": [
    "class Square(Shape):\n",
    "    def __init__(self, length):\n",
    "        self.length = length\n",
    "\n",
    "    def area(self):\n",
    "        return self.length ** 2\n",
    "\n",
    "    def perimeter(self):\n",
    "        return 4 * self.length"
   ]
  },
  {
   "cell_type": "code",
   "execution_count": 9,
   "id": "923ff228-8fc1-4407-bc55-4ea73b2bb82a",
   "metadata": {},
   "outputs": [
    {
     "ename": "TypeError",
     "evalue": "Can't instantiate abstract class Square without an implementation for abstract method 'volume'",
     "output_type": "error",
     "traceback": [
      "\u001b[1;31m---------------------------------------------------------------------------\u001b[0m",
      "\u001b[1;31mTypeError\u001b[0m                                 Traceback (most recent call last)",
      "Cell \u001b[1;32mIn[9], line 1\u001b[0m\n\u001b[1;32m----> 1\u001b[0m sqr \u001b[38;5;241m=\u001b[39m \u001b[43mSquare\u001b[49m\u001b[43m(\u001b[49m\u001b[38;5;241;43m22\u001b[39;49m\u001b[43m)\u001b[49m\n\u001b[0;32m      2\u001b[0m sqr\u001b[38;5;241m.\u001b[39marea()\n",
      "\u001b[1;31mTypeError\u001b[0m: Can't instantiate abstract class Square without an implementation for abstract method 'volume'"
     ]
    }
   ],
   "source": [
    "sqr = Square(22)\n",
    "sqr.area()"
   ]
  },
  {
   "cell_type": "markdown",
   "id": "07039552-c971-48c2-958d-fd7d434d150d",
   "metadata": {},
   "source": [
    "In this example, we define a subclass of `Shape` called `Rectangle`. It implements the `area()` and `perimeter()` methods and provides its own implementation for calculating the area and perimeter of a rectangle.\n",
    "\n",
    "By defining abstract classes and methods, you can ensure that all subclasses of a class have the same interface and behavior, which makes your code more modular and easier to maintain, , while also hiding the implementation details that users don't need to know about."
   ]
  },
  {
   "cell_type": "code",
   "execution_count": null,
   "id": "c901ddbe-fe01-445f-9386-1a9f0c7ef63c",
   "metadata": {},
   "outputs": [],
   "source": []
  }
 ],
 "metadata": {
  "kernelspec": {
   "display_name": "Python 3 (ipykernel)",
   "language": "python",
   "name": "python3"
  },
  "language_info": {
   "codemirror_mode": {
    "name": "ipython",
    "version": 3
   },
   "file_extension": ".py",
   "mimetype": "text/x-python",
   "name": "python",
   "nbconvert_exporter": "python",
   "pygments_lexer": "ipython3",
   "version": "3.12.2"
  }
 },
 "nbformat": 4,
 "nbformat_minor": 5
}
