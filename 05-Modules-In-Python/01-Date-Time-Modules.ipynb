{
 "cells": [
  {
   "cell_type": "markdown",
   "id": "5e2a6c2a-dcc4-461a-9d49-45604e26ee18",
   "metadata": {},
   "source": [
    "# Modules and Packages\n",
    "\n",
    "A module is a file containing Python definitions and statements, which can be used in other Python scripts. In Python Modules can be imported using the `import` statement followed by the module name. Once the module is imported, you can access its functions and variables using `dot` notation.\n",
    "\n",
    "A package is simply a way of organizing modules into directories and sub-directories, making it easier to manage large-scale Python projects.\n"
   ]
  },
  {
   "cell_type": "markdown",
   "id": "4b0c833e-bf3f-4a00-9153-106c1de98692",
   "metadata": {},
   "source": [
    "# Python Date and Time Modules\n",
    "\n",
    "Python has several built-in modules for working with date and time. Some of the most commonly used modules are:\n",
    "\n",
    "- **datetime:** The datetime module provides classes for working with dates and times, including formatting and arithmetic operations.\n",
    "- **time:** The time module provides functions for working with time, including formatting and arithmetic operations.\n",
    "- **calendar:** The calendar module provides functions for working with calendars, including generating month and year calendars.\n"
   ]
  },
  {
   "cell_type": "markdown",
   "id": "b5417d01-2d57-41dc-a2ed-e7fde14ee060",
   "metadata": {},
   "source": [
    "## 1. datetime\n",
    "\n",
    "The `datetime` module in Python is used to work with dates, times, and time intervals. It provides several classes for working with date and time, including `date`, `time`, `datetime`, `timedelta`, and `tzinfo`.\n",
    "\n",
    "- `datetime.date:` This class represents a date (year, month, and day) in the Gregorian calendar. Dates can be created using the constructor `date(year, month, day)`.\n",
    "- `datetime.time:` This class represents a time (hour, minute, second, and microsecond). Times can be created using the constructor `time(hour=0, minute=0, second=0, microsecond=0)`.\n",
    "- `datetime.datetime:` This class represents a date and time. Datetimes can be created using the constructor `datetime(year, month, day, hour=0, minute=0, second=0, microsecond=0)`.\n",
    "- `datetime.timedelta:` This class represents a duration or the difference between two dates or times. Timedeltas can be created using the constructor `timedelta(days=0, seconds=0, microseconds=0, milliseconds=0, minutes=0, hours=0, weeks=0)`.\n",
    "- `datetime.tzinfo:` This is an abstract base class that can be used to define time zones."
   ]
  },
  {
   "cell_type": "code",
   "execution_count": 3,
   "id": "595ef88f-9148-48bf-b9cf-dd0a61da73a9",
   "metadata": {},
   "outputs": [
    {
     "name": "stdout",
     "output_type": "stream",
     "text": [
      "2024-03-07\n"
     ]
    }
   ],
   "source": [
    "import datetime\n",
    "\n",
    "# Create a date object\n",
    "date1 = datetime.date(2024, 3, 7)\n",
    "date2 = datetime.date(2024, 3, 1)\n",
    "\n",
    "print(date1)"
   ]
  },
  {
   "cell_type": "code",
   "execution_count": 5,
   "id": "f231ebaa-7aca-432a-ba4e-7ec01bbbcd2a",
   "metadata": {},
   "outputs": [
    {
     "data": {
      "text/plain": [
       "['__add__',\n",
       " '__class__',\n",
       " '__delattr__',\n",
       " '__dir__',\n",
       " '__doc__',\n",
       " '__eq__',\n",
       " '__format__',\n",
       " '__ge__',\n",
       " '__getattribute__',\n",
       " '__getstate__',\n",
       " '__gt__',\n",
       " '__hash__',\n",
       " '__init__',\n",
       " '__init_subclass__',\n",
       " '__le__',\n",
       " '__lt__',\n",
       " '__ne__',\n",
       " '__new__',\n",
       " '__radd__',\n",
       " '__reduce__',\n",
       " '__reduce_ex__',\n",
       " '__repr__',\n",
       " '__rsub__',\n",
       " '__setattr__',\n",
       " '__sizeof__',\n",
       " '__str__',\n",
       " '__sub__',\n",
       " '__subclasshook__',\n",
       " 'ctime',\n",
       " 'day',\n",
       " 'fromisocalendar',\n",
       " 'fromisoformat',\n",
       " 'fromordinal',\n",
       " 'fromtimestamp',\n",
       " 'isocalendar',\n",
       " 'isoformat',\n",
       " 'isoweekday',\n",
       " 'max',\n",
       " 'min',\n",
       " 'month',\n",
       " 'replace',\n",
       " 'resolution',\n",
       " 'strftime',\n",
       " 'timetuple',\n",
       " 'today',\n",
       " 'toordinal',\n",
       " 'weekday',\n",
       " 'year']"
      ]
     },
     "execution_count": 5,
     "metadata": {},
     "output_type": "execute_result"
    }
   ],
   "source": [
    "dir(date1)"
   ]
  },
  {
   "cell_type": "code",
   "execution_count": 6,
   "id": "3d659dd6-f784-40ce-abbe-30fa38d10e5c",
   "metadata": {},
   "outputs": [
    {
     "name": "stdout",
     "output_type": "stream",
     "text": [
      "12:30:23\n"
     ]
    }
   ],
   "source": [
    "time = datetime.time(12, 30, 23)\n",
    "print(time)"
   ]
  },
  {
   "cell_type": "code",
   "execution_count": 8,
   "id": "2a68062e-fd5c-41c2-af11-bf2f7b44f901",
   "metadata": {},
   "outputs": [
    {
     "name": "stdout",
     "output_type": "stream",
     "text": [
      "2022-03-04 11:11:11\n"
     ]
    }
   ],
   "source": [
    "dt = datetime.datetime(2022, 3, 4, 11, 11, 11)\n",
    "print(dt)"
   ]
  },
  {
   "cell_type": "code",
   "execution_count": 9,
   "id": "0b9c85af-3c59-4993-849a-309a82b5447c",
   "metadata": {},
   "outputs": [
    {
     "name": "stdout",
     "output_type": "stream",
     "text": [
      "5 days, 3:15:00\n"
     ]
    }
   ],
   "source": [
    "td = datetime.timedelta(days=5, hours=3, minutes=15)\n",
    "print(td)"
   ]
  },
  {
   "cell_type": "code",
   "execution_count": 10,
   "id": "2ef4a4d2-c413-4e23-9cea-bd3a12c4129f",
   "metadata": {},
   "outputs": [
    {
     "name": "stdout",
     "output_type": "stream",
     "text": [
      "2024-03-12\n"
     ]
    }
   ],
   "source": [
    "new_date = date1 + td\n",
    "print(new_date)"
   ]
  },
  {
   "cell_type": "markdown",
   "id": "aeb10c4c-2371-4e3a-88c1-e6125ab4f7ec",
   "metadata": {},
   "source": [
    "Each class of `datetime` module is associated with a number of methods. Here are some of the important methods of respective classes in the Python `datetime` module:\n",
    "\n",
    "- **class datetime.date:**\n",
    "    - `today()`: Returns the current date.\n",
    "    - `fromisoformat(date_string)`: Returns a date object corresponding to a date string in the format 'YYYY-MM-DD'.\n",
    "    - `weekday()`: Returns the day of the week as an integer, where Monday is 0 and Sunday is 6.\n",
    "    - `strftime(format)`: Returns a string representing the date according to the format string specified.\n",
    "\n",
    "- **class datetime.time:**\n",
    "    - `hour`: Returns the hour of the time as an integer, in the range 0 to 23.\n",
    "    - `minute`: Returns the minute of the time as an integer, in the range 0 to 59.\n",
    "    - `second`: Returns the second of the time as an integer, in the range 0 to 59.\n",
    "    - `strftime(format)`: Returns a string representing the time according to the format string specified.\n",
    "\n",
    "- **class datetime.datetime:**\n",
    "    - `now([tz])`: Returns the current date and time as a datetime object.\n",
    "    - `fromtimestamp(timestamp[, tz])`: Returns a datetime object corresponding to a POSIX timestamp.\n",
    "    - `ctime()`: Returns a string representing the datetime object in the format 'Day Month Date Time Year'.\n",
    "    - `strftime(format)`: Returns a string representing the datetime object according to the format string specified.\n",
    "\n",
    "- **class datetime.timedelta:**\n",
    "    - `days`: Returns the number of days in the timedelta object.\n",
    "    - `seconds`: Returns the number of seconds in the timedelta object.\n",
    "    - `total_seconds()`: Returns the total number of seconds in the timedelta object.\n",
    "    - `__add__(other)`: Adds two timedelta objects together.\n",
    "    \n",
    "- **class datetime.tzinfo:**\n",
    "    - `utcoffset(self, dt)`: returns the UTC offset for a given datetime object.\n",
    "    - `dst(self, dt)`: returns the daylight saving time (DST) adjustment, if any, for a given datetime object.\n",
    "    - `tzname(self, dt)`: returns the name of the time zone.\n",
    "    - `fromutc(self, dt)`: converts a UTC time to the local time for the time zone.\n",
    "    - `localize(self, dt, is_dst=None)`: attaches the time zone information to a naive datetime object.\n",
    "    - `normalize(self, dt)`: adjusts the date and time for the time zone."
   ]
  },
  {
   "cell_type": "code",
   "execution_count": 11,
   "id": "4d515ddc-505b-46eb-b72b-cfed4751b7e0",
   "metadata": {},
   "outputs": [
    {
     "name": "stdout",
     "output_type": "stream",
     "text": [
      "Year: 2024\n",
      "Month: 7\n",
      "Day: 3\n",
      "========================================\n",
      "Hour: 15\n",
      "Minute: 4\n",
      "Second: 39\n",
      "========================================\n",
      "Year: 2024\n",
      "Month: 7\n",
      "Day: 3\n",
      "Hour: 15\n",
      "Minute: 4\n",
      "Second: 39\n",
      "========================================\n",
      "Formatted date and time: 2023-02-18 12:30:45\n"
     ]
    }
   ],
   "source": [
    "import datetime\n",
    "\n",
    "# Create a date object for today\n",
    "today = datetime.date.today()\n",
    "\n",
    "# Print the year, month, and day attributes of the date object\n",
    "print(\"Year:\", today.year)\n",
    "print(\"Month:\", today.month)\n",
    "print(\"Day:\", today.day)\n",
    "print(\"==\"*20)\n",
    "\n",
    "# Create a time object for the current time\n",
    "now = datetime.datetime.now().time()\n",
    "\n",
    "# Print the hour, minute, and second attributes of the time object\n",
    "print(\"Hour:\", now.hour)\n",
    "print(\"Minute:\", now.minute)\n",
    "print(\"Second:\", now.second)\n",
    "print(\"==\"*20)\n",
    "\n",
    "# Create a datetime object for the current date and time\n",
    "now_datetime = datetime.datetime.now()\n",
    "\n",
    "# Print the year, month, day, hour, minute, and second attributes of the datetime object\n",
    "print(\"Year:\", now_datetime.year)\n",
    "print(\"Month:\", now_datetime.month)\n",
    "print(\"Day:\", now_datetime.day)\n",
    "print(\"Hour:\", now_datetime.hour)\n",
    "print(\"Minute:\", now_datetime.minute)\n",
    "print(\"Second:\", now_datetime.second)\n",
    "print(\"==\"*20)\n",
    "\n",
    "# Create a datetime object for a specific date and time\n",
    "specific_datetime = datetime.datetime(2023, 2, 18, 12, 30, 45)\n",
    "\n",
    "# Print the formatted date and time string using the strftime() method\n",
    "print(\"Formatted date and time:\", specific_datetime.strftime(\"%Y-%m-%d %H:%M:%S\"))"
   ]
  },
  {
   "cell_type": "markdown",
   "id": "3540ea5f-9e4a-429b-9d82-5a661ab11255",
   "metadata": {},
   "source": [
    "## 2. time\n",
    "\n",
    "The `time` module in Python provides various time-related functions. It includes both functions to get the current time and functions to sleep for a specified amount of time. Some of the commonly used functions of the `time` module are:\n",
    "\n",
    "- `time()`: returns the current time in seconds since the Epoch (January 1, 1970, 00:00:00 UTC).\n",
    "- `sleep()`: suspends the execution of the current thread for a given number of seconds.\n",
    "- `ctime()`: returns a string representing the current time and date.\n",
    "- `gmtime()`: returns the current time in Coordinated Universal Time (UTC).\n",
    "- `localtime()`: returns the current time in local time.\n",
    "- `asctime()`: returns a string representing the current time and date in a particular format."
   ]
  },
  {
   "cell_type": "code",
   "execution_count": 12,
   "id": "cd40c5d1-dec6-4c4b-afbe-9e8d44d65461",
   "metadata": {},
   "outputs": [
    {
     "name": "stdout",
     "output_type": "stream",
     "text": [
      "1719998397.053926\n",
      "Wed Jul  3 15:04:59 2024\n",
      "time.struct_time(tm_year=2024, tm_mon=7, tm_mday=3, tm_hour=9, tm_min=19, tm_sec=59, tm_wday=2, tm_yday=185, tm_isdst=0)\n",
      "time.struct_time(tm_year=2024, tm_mon=7, tm_mday=3, tm_hour=15, tm_min=4, tm_sec=59, tm_wday=2, tm_yday=185, tm_isdst=0)\n",
      "Wed Jul  3 15:04:59 2024\n"
     ]
    }
   ],
   "source": [
    "import time\n",
    "\n",
    "# Get current time in seconds since the Epoch\n",
    "current_time = time.time()\n",
    "print(current_time)\n",
    "\n",
    "# Sleep for 2 seconds\n",
    "time.sleep(2)\n",
    "\n",
    "# Get current time in a string format\n",
    "current_time_str = time.ctime()\n",
    "print(current_time_str)\n",
    "\n",
    "# Get current time in UTC\n",
    "current_time_utc = time.gmtime()\n",
    "print(current_time_utc)\n",
    "\n",
    "# Get current time in local time\n",
    "current_time_local = time.localtime()\n",
    "print(current_time_local)\n",
    "\n",
    "# Format the current time as a string\n",
    "current_time_formatted = time.asctime(current_time_local)\n",
    "print(current_time_formatted)"
   ]
  },
  {
   "cell_type": "code",
   "execution_count": 13,
   "id": "f517e883-3fdf-4602-889e-bde9394affa1",
   "metadata": {},
   "outputs": [
    {
     "name": "stdout",
     "output_type": "stream",
     "text": [
      "Hello\n",
      "Hello Again\n",
      "2.0021109580993652\n"
     ]
    }
   ],
   "source": [
    "start = time.time()\n",
    "print(\"Hello\")\n",
    "\n",
    "time.sleep(2)\n",
    "\n",
    "print(\"Hello Again\")\n",
    "end = time.time()\n",
    "\n",
    "print(end-start)"
   ]
  },
  {
   "cell_type": "markdown",
   "id": "b953f438-c163-4daa-93e4-6c11f84cfb95",
   "metadata": {},
   "source": [
    "## 3. calendar\n",
    "\n",
    "The `calendar` module in Python provides functions for working with calendars, including functions to print formatted calendars and determine various properties of the calendar such as leap years and weekdays. Some of the important functions in the calendar module are:\n",
    "\n",
    "- `calendar(year, w=2, l=1, c=6)`: Returns a formatted calendar for the given year as a multi-line string. The first argument is the year and the remaining arguments are optional and specify the width of the date columns (w), the number of lines per week (l), and the number of spaces between month columns (c).\n",
    "- `calendar.month(year, month[, w[, l]])`: Returns a month’s calendar in a multi-line string format.\n",
    "- `calendar.monthcalendar(year, month)`: This function returns a matrix representing a month's calendar. Each row of the matrix represents a week and each column represents a day.\n",
    "- `isleap(year)`: Returns True if the given year is a leap year, otherwise False.\n",
    "- `leapdays(y1, y2)`: Returns the number of leap years between the years y1 and y2.\n",
    "- `monthrange(year, month)`: Returns a tuple containing the weekday of the first day of the month (0-6, where Monday is 0) and the number of days in the month for the given year and month.\n",
    "- `weekday(year, month, day)`: Returns the day of the week (0-6, where Monday is 0) for the given date.\n",
    "- `day_name`: A list of weekday names, starting with Monday.\n",
    "- `month_name`: A list of month names, starting with January."
   ]
  },
  {
   "cell_type": "code",
   "execution_count": 15,
   "id": "b0ea9810-5e56-4d77-8322-e9b5c8e69d36",
   "metadata": {},
   "outputs": [
    {
     "name": "stdout",
     "output_type": "stream",
     "text": [
      "                                  2024\n",
      "\n",
      "      January                   February                   March\n",
      "Mo Tu We Th Fr Sa Su      Mo Tu We Th Fr Sa Su      Mo Tu We Th Fr Sa Su\n",
      " 1  2  3  4  5  6  7                1  2  3  4                   1  2  3\n",
      " 8  9 10 11 12 13 14       5  6  7  8  9 10 11       4  5  6  7  8  9 10\n",
      "15 16 17 18 19 20 21      12 13 14 15 16 17 18      11 12 13 14 15 16 17\n",
      "22 23 24 25 26 27 28      19 20 21 22 23 24 25      18 19 20 21 22 23 24\n",
      "29 30 31                  26 27 28 29               25 26 27 28 29 30 31\n",
      "\n",
      "       April                      May                       June\n",
      "Mo Tu We Th Fr Sa Su      Mo Tu We Th Fr Sa Su      Mo Tu We Th Fr Sa Su\n",
      " 1  2  3  4  5  6  7             1  2  3  4  5                      1  2\n",
      " 8  9 10 11 12 13 14       6  7  8  9 10 11 12       3  4  5  6  7  8  9\n",
      "15 16 17 18 19 20 21      13 14 15 16 17 18 19      10 11 12 13 14 15 16\n",
      "22 23 24 25 26 27 28      20 21 22 23 24 25 26      17 18 19 20 21 22 23\n",
      "29 30                     27 28 29 30 31            24 25 26 27 28 29 30\n",
      "\n",
      "        July                     August                  September\n",
      "Mo Tu We Th Fr Sa Su      Mo Tu We Th Fr Sa Su      Mo Tu We Th Fr Sa Su\n",
      " 1  2  3  4  5  6  7                1  2  3  4                         1\n",
      " 8  9 10 11 12 13 14       5  6  7  8  9 10 11       2  3  4  5  6  7  8\n",
      "15 16 17 18 19 20 21      12 13 14 15 16 17 18       9 10 11 12 13 14 15\n",
      "22 23 24 25 26 27 28      19 20 21 22 23 24 25      16 17 18 19 20 21 22\n",
      "29 30 31                  26 27 28 29 30 31         23 24 25 26 27 28 29\n",
      "                                                    30\n",
      "\n",
      "      October                   November                  December\n",
      "Mo Tu We Th Fr Sa Su      Mo Tu We Th Fr Sa Su      Mo Tu We Th Fr Sa Su\n",
      "    1  2  3  4  5  6                   1  2  3                         1\n",
      " 7  8  9 10 11 12 13       4  5  6  7  8  9 10       2  3  4  5  6  7  8\n",
      "14 15 16 17 18 19 20      11 12 13 14 15 16 17       9 10 11 12 13 14 15\n",
      "21 22 23 24 25 26 27      18 19 20 21 22 23 24      16 17 18 19 20 21 22\n",
      "28 29 30 31               25 26 27 28 29 30         23 24 25 26 27 28 29\n",
      "                                                    30 31\n",
      "\n"
     ]
    }
   ],
   "source": [
    "import calendar\n",
    "\n",
    "cal = calendar.calendar(2024)\n",
    "print(cal)"
   ]
  },
  {
   "cell_type": "code",
   "execution_count": 16,
   "id": "3cecc783-7927-4007-8c96-1110d1daa916",
   "metadata": {},
   "outputs": [
    {
     "name": "stdout",
     "output_type": "stream",
     "text": [
      "     July 2024\n",
      "Mo Tu We Th Fr Sa Su\n",
      " 1  2  3  4  5  6  7\n",
      " 8  9 10 11 12 13 14\n",
      "15 16 17 18 19 20 21\n",
      "22 23 24 25 26 27 28\n",
      "29 30 31\n",
      "\n"
     ]
    }
   ],
   "source": [
    "print(calendar.month(2024, 7))"
   ]
  },
  {
   "cell_type": "code",
   "execution_count": 24,
   "id": "9540fd1f-ab1c-487c-b15e-1932e6fa4422",
   "metadata": {},
   "outputs": [
    {
     "name": "stdout",
     "output_type": "stream",
     "text": [
      "[[0, 0, 1, 2, 3, 4, 5], [6, 7, 8, 9, 10, 11, 12], [13, 14, 15, 16, 17, 18, 19], [20, 21, 22, 23, 24, 25, 26], [27, 28, 29, 30, 31, 0, 0]]\n"
     ]
    }
   ],
   "source": [
    "print(calendar.monthcalendar(2023, 3))"
   ]
  },
  {
   "cell_type": "code",
   "execution_count": 25,
   "id": "a13107a4-0ca9-4188-8393-b3f3c98d15ef",
   "metadata": {},
   "outputs": [
    {
     "name": "stdout",
     "output_type": "stream",
     "text": [
      "(calendar.WEDNESDAY, 31)\n"
     ]
    }
   ],
   "source": [
    "print(calendar.monthrange(2023, 3))"
   ]
  },
  {
   "cell_type": "code",
   "execution_count": 22,
   "id": "ebc3a987-af0e-49a1-aa44-750ee6838d49",
   "metadata": {},
   "outputs": [
    {
     "name": "stdout",
     "output_type": "stream",
     "text": [
      "5\n"
     ]
    }
   ],
   "source": [
    "print(calendar.weekday(2024, 7, 6))"
   ]
  },
  {
   "cell_type": "code",
   "execution_count": 23,
   "id": "094860cf-d0aa-4dc0-a852-b89ec46e8f3b",
   "metadata": {},
   "outputs": [
    {
     "data": {
      "text/plain": [
       "1970"
      ]
     },
     "execution_count": 23,
     "metadata": {},
     "output_type": "execute_result"
    }
   ],
   "source": [
    "calendar.EPOCH"
   ]
  },
  {
   "cell_type": "code",
   "execution_count": null,
   "id": "bb86b1c0-b412-4f1a-9e0a-879cc4e3626a",
   "metadata": {},
   "outputs": [],
   "source": []
  }
 ],
 "metadata": {
  "kernelspec": {
   "display_name": "Python 3 (ipykernel)",
   "language": "python",
   "name": "python3"
  },
  "language_info": {
   "codemirror_mode": {
    "name": "ipython",
    "version": 3
   },
   "file_extension": ".py",
   "mimetype": "text/x-python",
   "name": "python",
   "nbconvert_exporter": "python",
   "pygments_lexer": "ipython3",
   "version": "3.12.2"
  }
 },
 "nbformat": 4,
 "nbformat_minor": 5
}
