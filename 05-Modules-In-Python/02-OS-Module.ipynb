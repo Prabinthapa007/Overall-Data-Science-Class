{
 "cells": [
  {
   "cell_type": "markdown",
   "id": "7111de3d-a7b4-4ca5-b60d-7bbf073cdc87",
   "metadata": {},
   "source": [
    "# Python OS Module\n",
    "\n",
    "The os module in Python provides a way of interacting with the operating system. It provides a way to access and manipulate files and directories, start and stop processes, get information about the system, and more.\n",
    "\n",
    "## Working with Files and Directories\n",
    "\n",
    "Let's explore the `os` module and its various functions and methods that support working with files and directories.\n",
    "\n",
    "- `os.getcwd()`: Get the current working directory\n",
    "- `os.mkdir('path')`: Create a new directory\n",
    "- `os.chdir('path')`: Change the current working directory\n",
    "- `os.listdir('path')`: List the contents of a directory\n",
    "- `os.rename('old_name', 'new_name)`: Rename a file or a directory\n",
    "- `os.remove('file_to_delete')`: Remove a file\n",
    "- `os.rmdir('directory_to_delete')`: Remove a directory\n",
    "- `os.path.dirname('path')`: Returns the name of the directory containing pathname path\n",
    "- `os.path.exists('path')`: Checks if the path already exists, if so returns True"
   ]
  },
  {
   "cell_type": "code",
   "execution_count": 1,
   "id": "3291a8b2-4029-4f1a-aba7-251d2bbd9443",
   "metadata": {},
   "outputs": [
    {
     "name": "stdout",
     "output_type": "stream",
     "text": [
      "Current working directory: C:\\Users\\hp\\OneDrive\\Desktop\\Python-DataScience-Lessons\\05-Modules-In-Python\n",
      "Changed working directory: C:\\Users\\hp\\OneDrive\\Desktop\\Python-DataScience-Lessons\\05-Modules-In-Python\\new_directory\n",
      "Contents of the current directory: ['.ipynb_checkpoints', '01-Date-Time-Modules.ipynb', '02-OS-Module.ipynb', 'new_directory', 'Python Math Module.ipynb']\n"
     ]
    }
   ],
   "source": [
    "import os\n",
    "\n",
    "cwd = os.getcwd()\n",
    "print(\"Current working directory:\", cwd)\n",
    "\n",
    "if not os.path.exists('new_directory'):\n",
    "    os.mkdir('new_directory')\n",
    "\n",
    "os.chdir('new_directory')\n",
    "print(\"Changed working directory:\", os.getcwd())\n",
    "os.chdir('..')\n",
    "\n",
    "contents = os.listdir('.')\n",
    "print(\"Contents of the current directory:\", contents)"
   ]
  },
  {
   "cell_type": "markdown",
   "id": "717f344b-e7d9-414f-8730-1825ed417c51",
   "metadata": {},
   "source": [
    "## Working with Processes\n",
    "\n",
    "The `os` module provides functions for working with processes. Here are some of the most commonly used functions:\n",
    "\n",
    "- `os.system('cmd')`: Start a new process. `cmd` refers to an os command.\n",
    "- `os.popen('cmd')`: Run a command. We use `read()` method along with it to read the output\n",
    "- `os.kill(process_id, signal_num)`: Terminate a process"
   ]
  },
  {
   "cell_type": "code",
   "execution_count": 2,
   "id": "418ac6f4-aa7c-49ec-9c76-da1829d6f15a",
   "metadata": {},
   "outputs": [
    {
     "name": "stdout",
     "output_type": "stream",
     "text": [
      "0\n",
      "01-Date-Time-Modules.ipynb\n",
      "02-OS-Module.ipynb\n",
      "new_directory\n",
      "Python Math Module.ipynb\n",
      "\n"
     ]
    }
   ],
   "source": [
    "output = os.system('ls')\n",
    "print(output)\n",
    "\n",
    "output = os.popen('ls').read()\n",
    "print(output)"
   ]
  },
  {
   "cell_type": "code",
   "execution_count": 3,
   "id": "7243888d-4318-4b24-ad0a-ae78715f25f1",
   "metadata": {},
   "outputs": [
    {
     "ename": "OSError",
     "evalue": "[WinError 87] The parameter is incorrect",
     "output_type": "error",
     "traceback": [
      "\u001b[1;31m---------------------------------------------------------------------------\u001b[0m",
      "\u001b[1;31mOSError\u001b[0m                                   Traceback (most recent call last)",
      "Cell \u001b[1;32mIn[3], line 3\u001b[0m\n\u001b[0;32m      1\u001b[0m \u001b[38;5;28;01mimport\u001b[39;00m \u001b[38;5;21;01msignal\u001b[39;00m\n\u001b[0;32m      2\u001b[0m pid \u001b[38;5;241m=\u001b[39m \u001b[38;5;241m0\u001b[39m\n\u001b[1;32m----> 3\u001b[0m \u001b[43mos\u001b[49m\u001b[38;5;241;43m.\u001b[39;49m\u001b[43mkill\u001b[49m\u001b[43m(\u001b[49m\u001b[43mpid\u001b[49m\u001b[43m,\u001b[49m\u001b[43m \u001b[49m\u001b[43msignal\u001b[49m\u001b[38;5;241;43m.\u001b[39;49m\u001b[43mSIGTERM\u001b[49m\u001b[43m)\u001b[49m  \u001b[38;5;66;03m# This will raise a Dead Kernal alert\u001b[39;00m\n",
      "\u001b[1;31mOSError\u001b[0m: [WinError 87] The parameter is incorrect"
     ]
    }
   ],
   "source": [
    "import signal\n",
    "pid = 0\n",
    "os.kill(pid, signal.SIGTERM)  # This will raise a Dead Kernal alert"
   ]
  },
  {
   "cell_type": "markdown",
   "id": "b6b9a165-a95d-4f4c-a71f-0c43b7c68fe9",
   "metadata": {},
   "source": [
    "## Working with Environment Variables\n",
    "\n",
    "The `os` module provides functions for working with environment variables. Here are some of the most commonly used functions:\n",
    "\n",
    "- `os.getenv('var_name')`: Get the value of an Environment Variable\n",
    "- `os.putenv('var_name', 'var_value')`: Set the Value of an Environment Variable"
   ]
  },
  {
   "cell_type": "code",
   "execution_count": 4,
   "id": "ad8702c8-35c9-46f1-8c46-7f4ffd107080",
   "metadata": {},
   "outputs": [
    {
     "name": "stdout",
     "output_type": "stream",
     "text": [
      "The value of the HOME variable is: C:\\Users\\hp\n"
     ]
    }
   ],
   "source": [
    "value = os.getenv('HOME')\n",
    "print(\"The value of the HOME variable is:\", value)"
   ]
  },
  {
   "cell_type": "code",
   "execution_count": 5,
   "id": "50eb5322-d2cb-4cf8-9e8a-db98af4e7f65",
   "metadata": {},
   "outputs": [
    {
     "name": "stdout",
     "output_type": "stream",
     "text": [
      "None\n"
     ]
    }
   ],
   "source": [
    "print(os.getenv('TEST'))"
   ]
  },
  {
   "cell_type": "code",
   "execution_count": 6,
   "id": "a82eb4e5-8a7b-413d-9e3d-bcd2055333cc",
   "metadata": {},
   "outputs": [],
   "source": [
    "os.putenv('TEST', 'Test Variable')"
   ]
  },
  {
   "cell_type": "code",
   "execution_count": null,
   "id": "b0e5a106-1703-4a15-b7bd-0a79464c4b9d",
   "metadata": {},
   "outputs": [],
   "source": []
  }
 ],
 "metadata": {
  "kernelspec": {
   "display_name": "Python 3 (ipykernel)",
   "language": "python",
   "name": "python3"
  },
  "language_info": {
   "codemirror_mode": {
    "name": "ipython",
    "version": 3
   },
   "file_extension": ".py",
   "mimetype": "text/x-python",
   "name": "python",
   "nbconvert_exporter": "python",
   "pygments_lexer": "ipython3",
   "version": "3.12.2"
  }
 },
 "nbformat": 4,
 "nbformat_minor": 5
}
