{
 "cells": [
  {
   "cell_type": "markdown",
   "id": "5fe92783-edd6-4530-b33c-eb677fac7243",
   "metadata": {},
   "source": [
    "# Numpy Array Operations:"
   ]
  },
  {
   "cell_type": "markdown",
   "id": "0dd35a80-bae6-4806-ad2a-9f53b733715b",
   "metadata": {},
   "source": [
    "## Matrix operations:\n",
    "- Matrices are important because a lot of world's datas are stored in form of tables and matrices are one of the way to work with tables in python.\n",
    "- Matrices are 2-dimesional arryas\n",
    "Lets see some examples."
   ]
  },
  {
   "cell_type": "markdown",
   "id": "61dd2e99-18ff-4a93-992b-974ee7560e22",
   "metadata": {},
   "source": [
    "### 1. Element-wise operations:\n",
    "You can perform element-wise operations like addition, subtraction, multiplication, and division on matrices. These operation are performed element by element."
   ]
  },
  {
   "cell_type": "code",
   "execution_count": 6,
   "id": "fe1f8bd1-2a98-4abd-ad82-4494cc176f4d",
   "metadata": {},
   "outputs": [
    {
     "name": "stdout",
     "output_type": "stream",
     "text": [
      "[[1 2]\n",
      " [3 4]]\n",
      "--------------------\n",
      "[[5 6]\n",
      " [7 8]]\n",
      "\n",
      "Element-wise Addition:\n",
      "[[ 6  8]\n",
      " [10 12]]\n",
      "\n",
      "Element-wise Multiplication:\n",
      "[[ 5 12]\n",
      " [21 32]]\n",
      "2\n"
     ]
    }
   ],
   "source": [
    "import numpy as np\n",
    "\n",
    "#Create two matrices\n",
    "A = np.array([[1,2],[3,4]])\n",
    "B = np.array([[5,6],[7,8]])\n",
    "\n",
    "print(A)\n",
    "print(\"-\" *20)\n",
    "print(B)\n",
    "#Element-wise addition\n",
    "C = A + B\n",
    "\n",
    "#Element-wise multiplication\n",
    "D = A * B\n",
    "\n",
    "print(\"\\nElement-wise Addition:\")\n",
    "print(C)\n",
    "\n",
    "print(\"\\nElement-wise Multiplication:\")\n",
    "print(D)\n",
    "\n",
    "print(A.ndim) #to see dimensions of the array."
   ]
  },
  {
   "cell_type": "code",
   "execution_count": 7,
   "id": "3dc9dd82-a7ee-481a-b18a-97d72f58887a",
   "metadata": {},
   "outputs": [
    {
     "name": "stdout",
     "output_type": "stream",
     "text": [
      "Array a\n",
      "[[4 5 6]\n",
      " [5 7 9]]\n",
      "--------------------\n",
      "Array b\n",
      "[[1 2 3]\n",
      " [4 5 6]]\n",
      "--------------------\n",
      "[[ 5  7  9]\n",
      " [ 9 12 15]]\n",
      "--------------------\n",
      "[[3 3 3]\n",
      " [1 2 3]]\n",
      "--------------------\n",
      "[[ 4 10 18]\n",
      " [20 35 54]]\n",
      "--------------------\n"
     ]
    }
   ],
   "source": [
    "a = np.array([[4, 5, 6], [5, 7, 9]])\n",
    "b = np.array([[1, 2, 3], [4, 5, 6]])\n",
    "print(\"Array a\")\n",
    "print(a)\n",
    "print(\"-\"*20)\n",
    "print(\"Array b\")\n",
    "print(b)\n",
    "print(\"-\"*20)\n",
    "#Element-wise addition\n",
    "c = a + b\n",
    "print(c)\n",
    "print(\"-\"*20)\n",
    "# Element-wise subtraction\n",
    "d = a -b\n",
    "print(d)\n",
    "print(\"-\"*20)\n",
    "# Element-wise multiplication\n",
    "e = a*b\n",
    "print(e)\n",
    "print(\"-\"*20)"
   ]
  },
  {
   "cell_type": "code",
   "execution_count": null,
   "id": "66145fb5-5747-4f5d-9909-e676c854c4be",
   "metadata": {},
   "outputs": [],
   "source": []
  },
  {
   "cell_type": "code",
   "execution_count": null,
   "id": "622efd62-57e9-400a-9b97-a82bb05b5425",
   "metadata": {},
   "outputs": [],
   "source": []
  },
  {
   "cell_type": "markdown",
   "id": "10332e38-55b0-495a-8d5b-dd2032d0c5dd",
   "metadata": {},
   "source": [
    "<br>"
   ]
  },
  {
   "cell_type": "markdown",
   "id": "3aae59ce-f078-4ca4-85ef-e804dc056aa7",
   "metadata": {},
   "source": [
    "### 2. Matrix Multiplication:\n",
    "For matrix multiplication, you can use the `@` operator or the `np.dot()` function"
   ]
  },
  {
   "cell_type": "markdown",
   "id": "1256f637-6d19-4933-a220-f65aaf93e848",
   "metadata": {},
   "source": [
    "\n",
    "`Matrix multiplication` is a fundamental operation in linear algebra. In `NumPy`, the `@` operator and the `np.dot()` function can be used to perform matrix multiplication. Here's how it works:\n",
    "\n",
    "Given two matrices `A` and `B`, the matrix product `C = A @ B` or `C = np.dot(A, B)` is calculated as follows:\n",
    "\n",
    "1. The number of columns in matrix `A` must be equal to the number of rows in matrix `B` for the multiplication to be valid. If this condition is not met, `NumPy` will raise a `ValueError`.\n",
    "\n",
    "2. For each element in the resulting matrix `C`, the value is calculated as the `sum` of the products of the elements in the corresponding `row of A` and the corresponding `column of B`.\n",
    "\n",
    "Here's a step-by-step explanation of how the matrix multiplication works in your example:"
   ]
  },
  {
   "cell_type": "code",
   "execution_count": 2,
   "id": "9b5a6a55-f30b-4746-80e5-ff9796f0204c",
   "metadata": {},
   "outputs": [
    {
     "name": "stdout",
     "output_type": "stream",
     "text": [
      "\n",
      "Matrix A:\n",
      "[[1 2]\n",
      " [3 4]]\n",
      "\n",
      "Matrix B:\n",
      "[[5 6]\n",
      " [7 8]]\n",
      "\n",
      "Matrix Multiplication:\n",
      "[[19 22]\n",
      " [43 50]]\n"
     ]
    }
   ],
   "source": [
    "# Matrix multiplication\n",
    "E = A @ B  # equivalent to np.dot(A, B)\n",
    "print(\"\\nMatrix A:\")\n",
    "print(A)\n",
    "print(\"\\nMatrix B:\")\n",
    "print(B)\n",
    "print(\"\\nMatrix Multiplication:\")\n",
    "print(E)"
   ]
  },
  {
   "cell_type": "markdown",
   "id": "3a55b5d9-6210-4476-806c-cf9cf335f2d6",
   "metadata": {},
   "source": [
    "In this example `matrix A` column is equal to row of `matrix B` after that the matrix multiplication is possible. After that column of `Matrix B` is multiplied by row of `Matrix A` and then added (i.e.,`19= 1*5+2*7`, `22 = 6*1 + 8*2` )."
   ]
  },
  {
   "cell_type": "markdown",
   "id": "21ef6de5-4b52-41ea-a0bc-534096f85661",
   "metadata": {},
   "source": [
    "<br>"
   ]
  },
  {
   "cell_type": "markdown",
   "id": "2e60cf13-87cb-4bab-8984-28c1ddfe9d33",
   "metadata": {},
   "source": [
    "### 3. Matrix Transpose:\n",
    "We can transpose a matrix using the `.T` attribute or the `np.transpose()` function."
   ]
  },
  {
   "cell_type": "code",
   "execution_count": 3,
   "id": "f3e7d446-7d16-4af9-bf16-849179589711",
   "metadata": {},
   "outputs": [
    {
     "name": "stdout",
     "output_type": "stream",
     "text": [
      "\n",
      "Matrix A:\n",
      "[[1 2]\n",
      " [3 4]]\n",
      "\n",
      "Transpose of Matrix A:\n",
      "[[1 3]\n",
      " [2 4]]\n"
     ]
    }
   ],
   "source": [
    "# Transpose of a matrix\n",
    "A = np.array([[1,2],[3,4]])\n",
    "F = A.T  # equivalent to np.transpose(A)\n",
    "print(\"\\nMatrix A:\")\n",
    "print(A)\n",
    "print(\"\\nTranspose of Matrix A:\")\n",
    "print(F)\n"
   ]
  },
  {
   "cell_type": "code",
   "execution_count": 14,
   "id": "e54fadb5-ec98-45cf-93ed-ae16adec6f8c",
   "metadata": {},
   "outputs": [
    {
     "data": {
      "text/plain": [
       "array([[1, 3],\n",
       "       [2, 4]])"
      ]
     },
     "execution_count": 14,
     "metadata": {},
     "output_type": "execute_result"
    }
   ],
   "source": [
    "np.transpose(A)"
   ]
  },
  {
   "cell_type": "markdown",
   "id": "8a01a8d6-7f6a-4600-aff1-9e0220dbd1aa",
   "metadata": {},
   "source": [
    "<br>"
   ]
  },
  {
   "cell_type": "markdown",
   "id": "5dcde00c-0aad-4551-89a6-6eaecc8fc256",
   "metadata": {},
   "source": [
    "### 4. Matrix Inverse: \n",
    "You can find the inverse of a matrix using the `np.linalg.inv()` function. \n",
    "Note that not all matrices are invertible."
   ]
  },
  {
   "cell_type": "code",
   "execution_count": 8,
   "id": "63858093-32c5-475f-ab28-74fbe3e98bdf",
   "metadata": {},
   "outputs": [
    {
     "name": "stdout",
     "output_type": "stream",
     "text": [
      "Inverse of Matrix A:\n",
      "[[-2.   1. ]\n",
      " [ 1.5 -0.5]]\n"
     ]
    }
   ],
   "source": [
    "# Matrix inverse\n",
    "A = np.array([[1,2],[3,4]])\n",
    "A_inv = np.linalg.inv(A)\n",
    "\n",
    "print(\"Inverse of Matrix A:\")\n",
    "print(A_inv)"
   ]
  },
  {
   "cell_type": "code",
   "execution_count": 9,
   "id": "612d8834-862d-41c1-ad04-41b57012ba05",
   "metadata": {},
   "outputs": [
    {
     "name": "stdout",
     "output_type": "stream",
     "text": [
      "[[ 0.22580645 -0.16129032]\n",
      " [-0.16129032  0.25806452]]\n"
     ]
    }
   ],
   "source": [
    "# Mathematical Inverse\n",
    "\n",
    "a = np.array([[8, 5], [5, 7]])\n",
    "a_adj = np.array([[7, -5], [-5, 8]])\n",
    "a_inv = (1/np.linalg.det(a)) * a_adj\n",
    "print(a_inv)"
   ]
  },
  {
   "cell_type": "code",
   "execution_count": 10,
   "id": "1b7cdfa3-cd4b-4529-8770-b00afee17e87",
   "metadata": {},
   "outputs": [
    {
     "data": {
      "text/plain": [
       "array([[ 0.22580645, -0.16129032],\n",
       "       [-0.16129032,  0.25806452]])"
      ]
     },
     "execution_count": 10,
     "metadata": {},
     "output_type": "execute_result"
    }
   ],
   "source": [
    "np.linalg.inv(a) # Numpy way of doing it"
   ]
  },
  {
   "cell_type": "markdown",
   "id": "e68ce205-77ec-4fd6-ad50-c6a254a7275f",
   "metadata": {},
   "source": [
    "<br>"
   ]
  },
  {
   "cell_type": "markdown",
   "id": "3c997758-4fd9-4f81-a49d-2c090a216a01",
   "metadata": {},
   "source": [
    "### 5. np.trace()\n",
    "\r\n",
    "The`numpy.trace`e function returns the sum along the diagonals of an array. If the array is 2-D, it calculates the trace, which is the sum of the diagonal elements. If the array has more than two dimensions, it operates on the last two dimensions and returns the sum along the diagonals of the resulting 2-D arrays."
   ]
  },
  {
   "cell_type": "code",
   "execution_count": 11,
   "id": "2f7d8884-5c04-4310-b3f7-b2ddaa1461d9",
   "metadata": {},
   "outputs": [
    {
     "name": "stdout",
     "output_type": "stream",
     "text": [
      "Array a\n",
      "[[4 5 6]\n",
      " [5 7 9]]\n",
      "--------------------\n",
      "Array b\n",
      "[[1 2 3]\n",
      " [4 5 6]]\n",
      "--------------------\n"
     ]
    }
   ],
   "source": [
    "a = np.array([[4, 5, 6], [5, 7, 9]])\n",
    "b = np.array([[1, 2, 3], [4, 5, 6]])\n",
    "print(\"Array a\")\n",
    "print(a)\n",
    "print(\"-\"*20)\n",
    "print(\"Array b\")\n",
    "print(b)\n",
    "print(\"-\"*20)"
   ]
  },
  {
   "cell_type": "code",
   "execution_count": 12,
   "id": "052e0745-e69a-449e-bcca-224f26a3bd5d",
   "metadata": {},
   "outputs": [
    {
     "data": {
      "text/plain": [
       "11"
      ]
     },
     "execution_count": 12,
     "metadata": {},
     "output_type": "execute_result"
    }
   ],
   "source": [
    "np.trace(a) #It givess addition of diagonal 4+5."
   ]
  },
  {
   "cell_type": "code",
   "execution_count": 13,
   "id": "b6c7266f-ab9c-4ea7-ba1c-cd8b70c10166",
   "metadata": {},
   "outputs": [
    {
     "data": {
      "text/plain": [
       "8"
      ]
     },
     "execution_count": 13,
     "metadata": {},
     "output_type": "execute_result"
    }
   ],
   "source": [
    "np.trace(b, offset=1)"
   ]
  },
  {
   "cell_type": "markdown",
   "id": "ca3574fd-77cd-4436-ba0d-5ec8bfd2a040",
   "metadata": {},
   "source": [
    "<br>"
   ]
  },
  {
   "cell_type": "markdown",
   "id": "922e1ea1-22ff-414d-bec6-856ad986b796",
   "metadata": {},
   "source": [
    "### 6. np.linalg.det(a):\n",
    "Gives determinant of matrices:\n",
    "- To find out determination of matrices you should have square matrix (i.e., 2 x 2, 3x3)"
   ]
  },
  {
   "cell_type": "code",
   "execution_count": 14,
   "id": "67f0a18b-986e-46b9-8793-2d3a5a1b50a3",
   "metadata": {},
   "outputs": [
    {
     "ename": "LinAlgError",
     "evalue": "Last 2 dimensions of the array must be square",
     "output_type": "error",
     "traceback": [
      "\u001b[1;31m---------------------------------------------------------------------------\u001b[0m",
      "\u001b[1;31mLinAlgError\u001b[0m                               Traceback (most recent call last)",
      "Cell \u001b[1;32mIn[14], line 1\u001b[0m\n\u001b[1;32m----> 1\u001b[0m \u001b[43mnp\u001b[49m\u001b[38;5;241;43m.\u001b[39;49m\u001b[43mlinalg\u001b[49m\u001b[38;5;241;43m.\u001b[39;49m\u001b[43mdet\u001b[49m\u001b[43m(\u001b[49m\u001b[43ma\u001b[49m\u001b[43m)\u001b[49m \u001b[38;5;66;03m# Determination doesnot come out because matrix is not square matrix.\u001b[39;00m\n",
      "File \u001b[1;32m~\\OneDrive\\Desktop\\Financial-Analysis\\myvenv\\Lib\\site-packages\\numpy\\linalg\\linalg.py:2177\u001b[0m, in \u001b[0;36mdet\u001b[1;34m(a)\u001b[0m\n\u001b[0;32m   2175\u001b[0m a \u001b[38;5;241m=\u001b[39m asarray(a)\n\u001b[0;32m   2176\u001b[0m _assert_stacked_2d(a)\n\u001b[1;32m-> 2177\u001b[0m \u001b[43m_assert_stacked_square\u001b[49m\u001b[43m(\u001b[49m\u001b[43ma\u001b[49m\u001b[43m)\u001b[49m\n\u001b[0;32m   2178\u001b[0m t, result_t \u001b[38;5;241m=\u001b[39m _commonType(a)\n\u001b[0;32m   2179\u001b[0m signature \u001b[38;5;241m=\u001b[39m \u001b[38;5;124m'\u001b[39m\u001b[38;5;124mD->D\u001b[39m\u001b[38;5;124m'\u001b[39m \u001b[38;5;28;01mif\u001b[39;00m isComplexType(t) \u001b[38;5;28;01melse\u001b[39;00m \u001b[38;5;124m'\u001b[39m\u001b[38;5;124md->d\u001b[39m\u001b[38;5;124m'\u001b[39m\n",
      "File \u001b[1;32m~\\OneDrive\\Desktop\\Financial-Analysis\\myvenv\\Lib\\site-packages\\numpy\\linalg\\linalg.py:213\u001b[0m, in \u001b[0;36m_assert_stacked_square\u001b[1;34m(*arrays)\u001b[0m\n\u001b[0;32m    211\u001b[0m m, n \u001b[38;5;241m=\u001b[39m a\u001b[38;5;241m.\u001b[39mshape[\u001b[38;5;241m-\u001b[39m\u001b[38;5;241m2\u001b[39m:]\n\u001b[0;32m    212\u001b[0m \u001b[38;5;28;01mif\u001b[39;00m m \u001b[38;5;241m!=\u001b[39m n:\n\u001b[1;32m--> 213\u001b[0m     \u001b[38;5;28;01mraise\u001b[39;00m LinAlgError(\u001b[38;5;124m'\u001b[39m\u001b[38;5;124mLast 2 dimensions of the array must be square\u001b[39m\u001b[38;5;124m'\u001b[39m)\n",
      "\u001b[1;31mLinAlgError\u001b[0m: Last 2 dimensions of the array must be square"
     ]
    }
   ],
   "source": [
    "np.linalg.det(a) # Determination doesnot come out because matrix is not square matrix."
   ]
  },
  {
   "cell_type": "code",
   "execution_count": 15,
   "id": "e2ee1246-7155-43bb-88f0-2dcdc1b162c1",
   "metadata": {},
   "outputs": [
    {
     "name": "stdout",
     "output_type": "stream",
     "text": [
      "[[ 2  1 10]\n",
      " [18 16 13]\n",
      " [ 3 15 19]]\n"
     ]
    },
    {
     "data": {
      "text/plain": [
       "2135.000000000001"
      ]
     },
     "execution_count": 15,
     "metadata": {},
     "output_type": "execute_result"
    }
   ],
   "source": [
    "g = np.random.randint(1, 20, (3,3))\n",
    "print(g)\n",
    "np.linalg.det(g)"
   ]
  },
  {
   "cell_type": "markdown",
   "id": "9c0b138c-3d01-4da6-9ac5-895cdbe645ba",
   "metadata": {},
   "source": [
    "<br>"
   ]
  },
  {
   "cell_type": "markdown",
   "id": "40a96586-de55-43ab-a312-f29c3f245f52",
   "metadata": {},
   "source": [
    "### 7. np.linalg.eig(a)"
   ]
  },
  {
   "cell_type": "code",
   "execution_count": 16,
   "id": "338abce8-2fb7-4e3f-9127-51a8d65de73d",
   "metadata": {},
   "outputs": [
    {
     "data": {
      "text/plain": [
       "EigResult(eigenvalues=array([35.+0.j        ,  1.+7.74596669j,  1.-7.74596669j]), eigenvectors=array([[-0.22941573+0.j        ,  0.26981874-0.47832178j,\n",
       "         0.26981874+0.47832178j],\n",
       "       [-0.6882472 +0.j        , -0.6804786 +0.j        ,\n",
       "        -0.6804786 -0.j        ],\n",
       "       [-0.6882472 +0.j        ,  0.41157244+0.25683287j,\n",
       "         0.41157244-0.25683287j]]))"
      ]
     },
     "execution_count": 16,
     "metadata": {},
     "output_type": "execute_result"
    }
   ],
   "source": [
    "np.linalg.eig(g)"
   ]
  },
  {
   "cell_type": "code",
   "execution_count": null,
   "id": "a9a4ac97-b796-4c96-b4f3-eec4f09c5891",
   "metadata": {},
   "outputs": [],
   "source": []
  },
  {
   "cell_type": "markdown",
   "id": "260e657a-2539-44b2-b303-c5eebe99a820",
   "metadata": {},
   "source": [
    "<br>"
   ]
  },
  {
   "cell_type": "markdown",
   "id": "6b8842e9-335a-482c-859b-097da33fd2e4",
   "metadata": {},
   "source": [
    "### 8. np.linalg.solve(a, b)"
   ]
  },
  {
   "cell_type": "code",
   "execution_count": 25,
   "id": "958d0f2f-2646-496b-808e-41a14a74efed",
   "metadata": {},
   "outputs": [
    {
     "data": {
      "text/plain": [
       "array([-1.,  1.])"
      ]
     },
     "execution_count": 25,
     "metadata": {},
     "output_type": "execute_result"
    }
   ],
   "source": [
    "# Solve the system of equations 1x + 2y = 1 and 3x + 5y = 2:\n",
    "\n",
    "a = np.array([[1, 2], [3, 5]])  \n",
    "b = np.array([1, 2])\n",
    "x = np.linalg.solve(a, b)\n",
    "x"
   ]
  },
  {
   "cell_type": "code",
   "execution_count": 26,
   "id": "d59f974a-6472-4d5c-b195-0a4e2de718e7",
   "metadata": {},
   "outputs": [
    {
     "data": {
      "text/plain": [
       "True"
      ]
     },
     "execution_count": 26,
     "metadata": {},
     "output_type": "execute_result"
    }
   ],
   "source": [
    "# Check that the solution is correct:\n",
    "np.allclose(np.dot(a, x), b)"
   ]
  },
  {
   "cell_type": "markdown",
   "id": "14992076-55bc-4902-baa9-2d72a72e4ef3",
   "metadata": {},
   "source": [
    "<br>"
   ]
  },
  {
   "cell_type": "markdown",
   "id": "d635d25b-8a2a-4738-8989-06de100a119f",
   "metadata": {},
   "source": [
    "## Extra Array methods"
   ]
  },
  {
   "cell_type": "markdown",
   "id": "ee8077ed-64a9-42d1-963f-6a37885112f7",
   "metadata": {},
   "source": [
    "### 5. np.arange() "
   ]
  },
  {
   "cell_type": "code",
   "execution_count": 4,
   "id": "ed21f05f-72e6-45ae-9fcf-4b94b377e252",
   "metadata": {},
   "outputs": [
    {
     "name": "stdout",
     "output_type": "stream",
     "text": [
      "[ 0  1  2  3  4  5  6  7  8  9 10 11 12 13 14 15 16 17 18 19]\n"
     ]
    }
   ],
   "source": [
    "import numpy as np\n",
    "mydata = np.arange(0,20)\n",
    "print(mydata)"
   ]
  },
  {
   "cell_type": "markdown",
   "id": "82a1903a-c7ac-4923-a410-7b82a1fe46b2",
   "metadata": {},
   "source": [
    "The `arange` function is used to create an array with evenly spaced values within a given interval."
   ]
  },
  {
   "cell_type": "markdown",
   "id": "382696d2-a2ab-48f0-aefb-75712eac666e",
   "metadata": {},
   "source": [
    "<br>"
   ]
  },
  {
   "cell_type": "markdown",
   "id": "0b050c99-1018-4e5b-a6dc-c26d7a682766",
   "metadata": {},
   "source": [
    "### 6. np.reshape(array_like, newshape, order)"
   ]
  },
  {
   "cell_type": "code",
   "execution_count": 5,
   "id": "e69a650e-8591-46ce-bab4-1a097a3f4e94",
   "metadata": {},
   "outputs": [
    {
     "name": "stdout",
     "output_type": "stream",
     "text": [
      "[[ 0  1  2  3  4]\n",
      " [ 5  6  7  8  9]\n",
      " [10 11 12 13 14]\n",
      " [15 16 17 18 19]]\n"
     ]
    }
   ],
   "source": [
    "#Now changing this datasets into 2 dimensional arrays.\n",
    "mydata_reshaped = np.reshape(mydata, (4,5), order='C')\n",
    "print(mydata_reshaped)"
   ]
  },
  {
   "cell_type": "markdown",
   "id": "0fd82434-074b-47a3-b26f-9c5a9905e7b3",
   "metadata": {},
   "source": [
    "Lets see about parameters in np.reshape:\n",
    "- **`array_like`**: The array to be reshaped. This can be an ndarray, a list, or any array-like object.\n",
    "- **`newshape`**: The new shape of the array. This can be a tuple of integers or a single integer. If it is a tuple, the elements define the size of each dimension of the reshaped array. If it is a single integer, it indicates that the array should be reshaped into a 1-D array of that length.\n",
    "- **`order`**: Specifies the order in which the elements of the array are read. It can be `'C'` (row-major, default) or `'F'` (column-major). `'A'` means to read / write the elements in Fortran-like index  order if `a` is Fortran *contiguous* in memory, C-like orde   otherwise.\n"
   ]
  },
  {
   "cell_type": "code",
   "execution_count": 6,
   "id": "27567465-ead2-4d7b-8043-3c12d481c5aa",
   "metadata": {},
   "outputs": [
    {
     "name": "stdout",
     "output_type": "stream",
     "text": [
      "[[ 0  4  8 12 16]\n",
      " [ 1  5  9 13 17]\n",
      " [ 2  6 10 14 18]\n",
      " [ 3  7 11 15 19]]\n",
      "[[ 0  1  2  3  4]\n",
      " [ 5  6  7  8  9]\n",
      " [10 11 12 13 14]\n",
      " [15 16 17 18 19]]\n"
     ]
    }
   ],
   "source": [
    "# checking reshape with different orders\n",
    "mydata_reshaped = np.reshape(mydata, (4,5), order='F')\n",
    "print(mydata_reshaped)\n",
    "mydata_reshaped = np.reshape(mydata, (4,5), order='A')\n",
    "print(mydata_reshaped)"
   ]
  },
  {
   "cell_type": "markdown",
   "id": "5a1cb604-7d16-42ee-8319-595021d754ba",
   "metadata": {},
   "source": [
    "<br>"
   ]
  },
  {
   "cell_type": "markdown",
   "id": "e5640541-a6bd-4416-85e7-3d4680c9321a",
   "metadata": {
    "jp-MarkdownHeadingCollapsed": true
   },
   "source": [
    "##  Matrices slicing"
   ]
  },
  {
   "cell_type": "code",
   "execution_count": 7,
   "id": "6978f134-681d-4d9f-8719-1cded31a9140",
   "metadata": {},
   "outputs": [
    {
     "name": "stdout",
     "output_type": "stream",
     "text": [
      "[[ 0  1  2  3  4  5]\n",
      " [ 6  7  8  9 10 11]\n",
      " [12 13 14 15 16 17]\n",
      " [18 19 20 21 22 23]\n",
      " [24 25 26 27 28 29]]\n",
      "14\n",
      "23\n"
     ]
    }
   ],
   "source": [
    "import numpy as np\n",
    "mydata = np.arange(0,30)\n",
    "mydata_reshaped = np.reshape(mydata, (5,6), order='C')\n",
    "print(mydata_reshaped)\n",
    "print(mydata_reshaped[2,2])\n",
    "print(mydata_reshaped[3,5])"
   ]
  },
  {
   "cell_type": "code",
   "execution_count": 8,
   "id": "9084a454-0e5f-4b67-a160-bbb85bd8bd90",
   "metadata": {},
   "outputs": [
    {
     "name": "stdout",
     "output_type": "stream",
     "text": [
      "[[1 2 3]\n",
      " [4 5 6]\n",
      " [7 8 9]]\n",
      "[1 2 3]\n",
      "[1 4 7]\n",
      "[[2 3]\n",
      " [5 6]]\n"
     ]
    }
   ],
   "source": [
    "matrix = np.array([[1,2,3],[4,5,6],[7,8,9]])\n",
    "print(matrix)\n",
    "row1 = matrix[0,:]\n",
    "column1 = matrix[:, 0]\n",
    "subset = matrix[0:2, 1:3]\n",
    "print(row1)\n",
    "print(column1)\n",
    "print(subset)"
   ]
  },
  {
   "cell_type": "code",
   "execution_count": null,
   "id": "cecfed90-a3af-4444-8ba1-c02271977a79",
   "metadata": {},
   "outputs": [],
   "source": []
  },
  {
   "cell_type": "markdown",
   "id": "10050dd9-7355-4f95-87af-e42d5f20d487",
   "metadata": {},
   "source": [
    "## Why NumPy over Python's Loop?"
   ]
  },
  {
   "cell_type": "code",
   "execution_count": 67,
   "id": "d32d6ad4-649f-4efd-adb8-5290feeee681",
   "metadata": {},
   "outputs": [],
   "source": [
    "import numpy as np\n",
    "import time"
   ]
  },
  {
   "cell_type": "code",
   "execution_count": 68,
   "id": "9fbec8c5-5d84-4ecd-9da9-f1ccff7dd234",
   "metadata": {},
   "outputs": [],
   "source": [
    "# Numpy element_wise operation\n",
    "a = np.random.rand(10000000)\n",
    "b = np.random.rand(10000000)\n",
    "start = time.time()\n",
    "c = a + b\n",
    "end = time.time()\n",
    "numpy_execution = end - start\n"
   ]
  },
  {
   "cell_type": "code",
   "execution_count": 69,
   "id": "ed773af7-3247-4bb2-a0e2-f0f88235d803",
   "metadata": {},
   "outputs": [],
   "source": [
    "# Python's execution \n",
    "a = list(a)\n",
    "b = list(b)\n",
    "c = []\n",
    "start = time.time()\n",
    "for i in range(len(a)):\n",
    "    c.append(a[i] + b[i])\n",
    "\n",
    "end = time.time()\n",
    "python_execution = end - start\n",
    "         \n"
   ]
  },
  {
   "cell_type": "code",
   "execution_count": 70,
   "id": "a1008672-3a6b-475c-b7a6-bd3ec8241b90",
   "metadata": {},
   "outputs": [
    {
     "name": "stdout",
     "output_type": "stream",
     "text": [
      "0.18746256828308105 is numpy execution which is faster than 2.7951622009277344.\n"
     ]
    }
   ],
   "source": [
    "print(f\"{numpy_execution} is numpy execution which is faster than {python_execution}.\")"
   ]
  },
  {
   "cell_type": "code",
   "execution_count": 71,
   "id": "cb319867-b554-46ad-9a10-74154105e361",
   "metadata": {},
   "outputs": [
    {
     "name": "stdout",
     "output_type": "stream",
     "text": [
      "Numpy is 14.910508409907475 times faster.\n"
     ]
    }
   ],
   "source": [
    "print(f\"Numpy is {python_execution/numpy_execution} times faster.\")"
   ]
  },
  {
   "cell_type": "code",
   "execution_count": null,
   "id": "3cc5e9e4-19b0-49ff-9893-3f4784604c5b",
   "metadata": {},
   "outputs": [],
   "source": []
  }
 ],
 "metadata": {
  "kernelspec": {
   "display_name": "Python 3 (ipykernel)",
   "language": "python",
   "name": "python3"
  },
  "language_info": {
   "codemirror_mode": {
    "name": "ipython",
    "version": 3
   },
   "file_extension": ".py",
   "mimetype": "text/x-python",
   "name": "python",
   "nbconvert_exporter": "python",
   "pygments_lexer": "ipython3",
   "version": "3.12.2"
  }
 },
 "nbformat": 4,
 "nbformat_minor": 5
}
