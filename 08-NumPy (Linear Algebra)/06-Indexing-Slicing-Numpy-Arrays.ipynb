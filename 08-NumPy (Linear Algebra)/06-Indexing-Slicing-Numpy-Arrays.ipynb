{
 "cells": [
  {
   "cell_type": "raw",
   "id": "1856eb32-9f34-498a-a7d2-ab93a8267d65",
   "metadata": {},
   "source": [
    "1D Array: array_name[idx] (Similar to Python list)\n",
    "2D Array: array_name[row_idx, col_idx]  (Similar to matrices)\n",
    "3D Array: array_name[dim1_idx, dim2_idx,......dimN_idx]"
   ]
  },
  {
   "cell_type": "markdown",
   "id": "22e74e6e-d969-478a-8c30-5ffd1ef061bc",
   "metadata": {},
   "source": [
    "# Indexing Numpy Arrays"
   ]
  },
  {
   "cell_type": "markdown",
   "id": "af5a8724-539c-4665-b2a9-1320f0eb8ca5",
   "metadata": {},
   "source": [
    "## One Dimension"
   ]
  },
  {
   "cell_type": "code",
   "execution_count": 2,
   "id": "60c6b7c1-246c-4842-b837-97147417acf6",
   "metadata": {},
   "outputs": [
    {
     "data": {
      "text/plain": [
       "25"
      ]
     },
     "execution_count": 2,
     "metadata": {},
     "output_type": "execute_result"
    }
   ],
   "source": [
    "import numpy as np\n",
    "list1 = [22, 23, 24, 25]\n",
    "list1[3]"
   ]
  },
  {
   "cell_type": "code",
   "execution_count": 3,
   "id": "0f539bd0-ac5a-4060-8849-c9e2f402d8ce",
   "metadata": {},
   "outputs": [
    {
     "name": "stdout",
     "output_type": "stream",
     "text": [
      "[22 23 24 25]\n"
     ]
    }
   ],
   "source": [
    "array1 = np.array(list1)\n",
    "print(array1)\n"
   ]
  },
  {
   "cell_type": "code",
   "execution_count": 4,
   "id": "fd145544-e2fe-47c7-b3b4-bca1036f3b98",
   "metadata": {},
   "outputs": [
    {
     "name": "stdout",
     "output_type": "stream",
     "text": [
      "25\n"
     ]
    }
   ],
   "source": [
    "print(array1[3])"
   ]
  },
  {
   "cell_type": "markdown",
   "id": "c2b788f8-a649-469e-bbdc-9332f55a3b58",
   "metadata": {},
   "source": [
    "<br>"
   ]
  },
  {
   "cell_type": "markdown",
   "id": "095a4fbf-a7ed-4c82-86cd-92c56ea742bb",
   "metadata": {},
   "source": [
    "## Multi-dimensional"
   ]
  },
  {
   "cell_type": "code",
   "execution_count": 6,
   "id": "017fef2d-3080-4841-9e53-ce02c3216721",
   "metadata": {},
   "outputs": [
    {
     "name": "stdout",
     "output_type": "stream",
     "text": [
      "[[2 3 4]\n",
      " [5 6 7]]\n"
     ]
    }
   ],
   "source": [
    "# 2D Array > Similar to Matrix\n",
    "\n",
    "list2 = [[2, 3, 4], [5, 6, 7]]\n",
    "array2 = np.array(list2)\n",
    "print(array2)"
   ]
  },
  {
   "cell_type": "code",
   "execution_count": 8,
   "id": "abdc1a61-d1c0-4f6d-8157-a338b9e088c1",
   "metadata": {},
   "outputs": [
    {
     "data": {
      "text/plain": [
       "7"
      ]
     },
     "execution_count": 8,
     "metadata": {},
     "output_type": "execute_result"
    }
   ],
   "source": [
    "# Lets try to asses `7` from the array2.\n",
    "array2[1, 2]"
   ]
  },
  {
   "cell_type": "code",
   "execution_count": 9,
   "id": "08e35930-5804-4520-a0ab-ea5f9b328d54",
   "metadata": {},
   "outputs": [
    {
     "name": "stdout",
     "output_type": "stream",
     "text": [
      "[[[27 20 29 34 48]\n",
      "  [36 15 35 19 24]\n",
      "  [39 40 48 38 44]]\n",
      "\n",
      " [[35 34 46 34 38]\n",
      "  [44 13 30 39 23]\n",
      "  [19 15 32 19 34]]]\n",
      "\n",
      "dimension\n",
      "3D\n",
      "\n",
      "shape\n",
      "(2, 3, 5)\n"
     ]
    }
   ],
   "source": [
    "# np.random.randint\n",
    "array_randint = np.random.randint(low=10, high=50, size=(2, 3, 5))\n",
    "print(array_randint)\n",
    "print(\"\\ndimension\")\n",
    "print(f\"{array_randint.ndim}D\")\n",
    "print(\"\\nshape\")\n",
    "print(array_randint.shape)"
   ]
  },
  {
   "cell_type": "code",
   "execution_count": 11,
   "id": "aec5df3f-61e7-4294-b113-07c7da9087a9",
   "metadata": {},
   "outputs": [
    {
     "data": {
      "text/plain": [
       "32"
      ]
     },
     "execution_count": 11,
     "metadata": {},
     "output_type": "execute_result"
    }
   ],
   "source": [
    "# Assess the 32 from array_randint\n",
    "array_randint[1, 2, 2]"
   ]
  },
  {
   "cell_type": "code",
   "execution_count": 12,
   "id": "63be5478-be96-45bd-8a8e-8571d70cd562",
   "metadata": {},
   "outputs": [
    {
     "name": "stdout",
     "output_type": "stream",
     "text": [
      "[[[[34 20 16 44]\n",
      "   [45 49 23 28]\n",
      "   [36 24 41 26]\n",
      "   [38 47 16 24]\n",
      "   [41 40 31 14]]\n",
      "\n",
      "  [[21 24 44 13]\n",
      "   [35 40 31 12]\n",
      "   [26 12 16 16]\n",
      "   [13 20 23 18]\n",
      "   [24 19 31 13]]\n",
      "\n",
      "  [[37 40 44 48]\n",
      "   [13 10 36 47]\n",
      "   [34 38 40 47]\n",
      "   [37 16 29 22]\n",
      "   [35 16 20 36]]]\n",
      "\n",
      "\n",
      " [[[41 40 48 16]\n",
      "   [32 43 31 25]\n",
      "   [19 33 23 27]\n",
      "   [30 32 31 39]\n",
      "   [19 42 30 38]]\n",
      "\n",
      "  [[11 38 19 17]\n",
      "   [42 48 12 30]\n",
      "   [35 42 47 31]\n",
      "   [45 23 27 40]\n",
      "   [34 32 28 24]]\n",
      "\n",
      "  [[32 47 18 43]\n",
      "   [46 45 41 21]\n",
      "   [16 38 35 25]\n",
      "   [37 28 27 20]\n",
      "   [17 11 40 20]]]]\n",
      "\n",
      "dimension\n",
      "4D\n",
      "\n",
      "shape\n",
      "(2, 3, 5, 4)\n"
     ]
    }
   ],
   "source": [
    "array_randint1 = np.random.randint(low=10, high=50, size=(2, 3, 5, 4))\n",
    "print(array_randint1)\n",
    "print(\"\\ndimension\")\n",
    "print(f\"{array_randint1.ndim}D\")\n",
    "print(\"\\nshape\")\n",
    "print(array_randint1.shape)"
   ]
  },
  {
   "cell_type": "code",
   "execution_count": 14,
   "id": "2275eef7-dd1a-4071-b937-97b20d93a7c1",
   "metadata": {},
   "outputs": [
    {
     "data": {
      "text/plain": [
       "28"
      ]
     },
     "execution_count": 14,
     "metadata": {},
     "output_type": "execute_result"
    }
   ],
   "source": [
    "array_randint1[1, 1, 4, 2]"
   ]
  },
  {
   "cell_type": "markdown",
   "id": "f742018d-0b2a-4187-aa27-2f28656fa890",
   "metadata": {},
   "source": [
    "## Question for Indexing"
   ]
  },
  {
   "cell_type": "markdown",
   "id": "eeeedf65-33b6-4e82-8555-ca1ac578f307",
   "metadata": {},
   "source": [
    "#### Q1: Basic Indexing:\n",
    "- Create a numpy array `arr` of shape(3,4) filled with random integers. Print the entire array\n",
    "- Print the first row of the array\n",
    "- print the last column of the array\n",
    "- Print the element at the second row and third column."
   ]
  },
  {
   "cell_type": "code",
   "execution_count": 16,
   "id": "2a7b9837-1a3a-4d83-a6ae-2aa7788aaffa",
   "metadata": {},
   "outputs": [
    {
     "name": "stdout",
     "output_type": "stream",
     "text": [
      "[[20 16 18 17]\n",
      " [26 24 18 14]\n",
      " [32 14 20 14]]\n",
      "\n",
      "Dimension\n",
      "2D\n",
      "\n",
      "Shape\n",
      "(3, 4)\n",
      "\n",
      "Size\n",
      "12\n"
     ]
    }
   ],
   "source": [
    "array1 = np.random.randint(low=10, high=35, size=(3,4))\n",
    "print(array1)\n",
    "print(\"\\nDimension\")\n",
    "print(f\"{array1.ndim}D\")\n",
    "print(\"\\nShape\")\n",
    "print(array1.shape)\n",
    "print(\"\\nSize\")\n",
    "print(array1.size)"
   ]
  },
  {
   "cell_type": "code",
   "execution_count": 10,
   "id": "59b9fea5-7baf-4bc3-beaf-3ff196aad40b",
   "metadata": {},
   "outputs": [
    {
     "name": "stdout",
     "output_type": "stream",
     "text": [
      "[12 30 26 26]\n"
     ]
    }
   ],
   "source": [
    "# Print the first row of the array:\n",
    "array1_sliced1 = array1[0]\n",
    "print(array1_sliced1)"
   ]
  },
  {
   "cell_type": "code",
   "execution_count": 21,
   "id": "4a9f4071-7db7-4f3c-8715-9d567f4729dc",
   "metadata": {},
   "outputs": [
    {
     "name": "stdout",
     "output_type": "stream",
     "text": [
      "17\n",
      "14\n",
      "14\n"
     ]
    }
   ],
   "source": [
    "# print the last column of the array\n",
    "\n",
    "for row in array1:\n",
    "    print(row[-1])"
   ]
  },
  {
   "cell_type": "code",
   "execution_count": 22,
   "id": "9bcca787-1718-48fc-a639-799a9846cc0d",
   "metadata": {},
   "outputs": [
    {
     "name": "stdout",
     "output_type": "stream",
     "text": [
      "18\n"
     ]
    }
   ],
   "source": [
    "# Print the element at the second row and third column.\n",
    "array1_sliced3 = array1[1,2]\n",
    "print(array1_sliced3)"
   ]
  },
  {
   "cell_type": "markdown",
   "id": "5761e71e-e2ef-4cee-92f6-0ba3e24254a3",
   "metadata": {},
   "source": [
    "<br>"
   ]
  },
  {
   "cell_type": "markdown",
   "id": "01cf5381-d4a8-465d-ae84-a064150dc20e",
   "metadata": {},
   "source": [
    "#### Q2: Boolean Indexing:\n",
    "- Create a numpy array `arr` of shape(6,6) filled with random intetegers between 1 and 10.\n",
    "- Find and print all elements in `arr` that are greater than 5.\n",
    "- Create a boolean array `mask` that indicates where the elements of `arr` are even.\n",
    "- Print the elements of `arr` when `mask` is True"
   ]
  },
  {
   "cell_type": "code",
   "execution_count": 23,
   "id": "49501f50-fdc1-4184-b229-3effdb0e8ccf",
   "metadata": {},
   "outputs": [
    {
     "name": "stdout",
     "output_type": "stream",
     "text": [
      "[[8 8 6 5 3 3]\n",
      " [5 9 6 5 9 8]\n",
      " [4 2 1 3 9 2]\n",
      " [8 9 2 9 9 3]\n",
      " [9 8 7 1 6 1]\n",
      " [5 5 5 4 4 2]]\n",
      "\n",
      "Dimension\n",
      "2D\n",
      "\n",
      "Shape\n",
      "(6, 6)\n",
      "\n",
      "Size\n",
      "36\n"
     ]
    }
   ],
   "source": [
    "arr2 = np.random.randint(low=1, high=10, size=(6,6))\n",
    "print(arr2)\n",
    "print(\"\\nDimension\")\n",
    "print(f\"{arr2.ndim}D\")\n",
    "print(\"\\nShape\")\n",
    "print(arr2.shape)\n",
    "print(\"\\nSize\")\n",
    "print(arr2.size)"
   ]
  },
  {
   "cell_type": "code",
   "execution_count": 26,
   "id": "36a4793b-1712-4149-ba9e-aba36e869f44",
   "metadata": {},
   "outputs": [
    {
     "name": "stdout",
     "output_type": "stream",
     "text": [
      "8\n",
      "8\n",
      "6\n",
      "9\n",
      "6\n",
      "9\n",
      "8\n",
      "9\n",
      "8\n",
      "9\n",
      "9\n",
      "9\n",
      "9\n",
      "8\n",
      "7\n",
      "6\n"
     ]
    }
   ],
   "source": [
    "# Find and print all elements in arr that are greater than 5.\n",
    "for row in arr2:\n",
    "    for element in row:\n",
    "        if element>5:\n",
    "            print(element)"
   ]
  },
  {
   "cell_type": "code",
   "execution_count": 40,
   "id": "702d691d-67cd-4427-a86f-92db33ae27ef",
   "metadata": {},
   "outputs": [
    {
     "name": "stdout",
     "output_type": "stream",
     "text": [
      "\n",
      "Boolean array 'mask'\n",
      "[[ True  True  True False False False]\n",
      " [False False  True False False  True]\n",
      " [ True  True False False False  True]\n",
      " [ True False  True False False False]\n",
      " [False  True False False  True False]\n",
      " [False False False  True  True  True]]\n"
     ]
    }
   ],
   "source": [
    "# Create a boolean array 'mask' that indicates where the elements of arr2 are even.\n",
    "mask = arr2\n",
    "#for row in mask:\n",
    "    #for element in row:\n",
    "        #if element%2==0:\n",
    "            #print(element) #This will print the even numbers but we want boolean(i.e, True or False)\n",
    "\n",
    "# Alternative\n",
    "mask = arr2%2==0\n",
    "print(\"\\nBoolean array 'mask'\")\n",
    "print(mask)"
   ]
  },
  {
   "cell_type": "code",
   "execution_count": 41,
   "id": "84cda5b9-8516-4911-b9d0-6589e17fdf00",
   "metadata": {},
   "outputs": [
    {
     "name": "stdout",
     "output_type": "stream",
     "text": [
      "8\n",
      "8\n",
      "6\n",
      "6\n",
      "8\n",
      "4\n",
      "2\n",
      "2\n",
      "8\n",
      "2\n",
      "8\n",
      "6\n",
      "4\n",
      "4\n",
      "2\n"
     ]
    }
   ],
   "source": [
    "# Print the elements of arr2 when mask is True\n",
    "for i in range(mask.shape[0]):\n",
    "    for j in range(mask.shape[1]):\n",
    "        if mask[i,j]:\n",
    "            print(arr2[i, j])"
   ]
  },
  {
   "cell_type": "markdown",
   "id": "e9d1ea2c-e6d4-458e-a281-c7870d091699",
   "metadata": {},
   "source": [
    "<br>"
   ]
  },
  {
   "cell_type": "markdown",
   "id": "e2bced3b-c6bb-438a-ba38-0d29c009c916",
   "metadata": {},
   "source": [
    "#### Fancy Indexing:\n",
    "- Create a numpy array `arr` of shape (5, 5) filled with random integers between 1 and 100.\n",
    "- Create an array `indices` with five random integers between 0 and 4.\n",
    "- Use fancy indexing to print the diagonal elements of `arr` using the indices from `indices`.\n",
    "- Use fancy indexing to replace the diagonal elements of `arr` with zeros using the indices from `indices`."
   ]
  },
  {
   "cell_type": "code",
   "execution_count": 62,
   "id": "a71c559b-cd5e-40b6-b51a-3a4f35e9a1bb",
   "metadata": {},
   "outputs": [
    {
     "name": "stdout",
     "output_type": "stream",
     "text": [
      "[[33  3 75 92 41]\n",
      " [73 31 99 74 65]\n",
      " [93 34 95 36 96]\n",
      " [48 75 71  4 55]\n",
      " [50 88 19 25 98]]\n",
      "\n",
      "Dimension\n",
      "2D\n",
      "\n",
      "Shape\n",
      "(5, 5)\n",
      "\n",
      "Size\n",
      "25\n"
     ]
    }
   ],
   "source": [
    "# Create a numpy array arr of shape (5, 5) filled with random integers between 1 and 100.\n",
    "arr = np.random.randint(1, 100, (5,5))\n",
    "print(arr)\n",
    "print(\"\\nDimension\")\n",
    "print(f\"{arr.ndim}D\")\n",
    "print(\"\\nShape\")\n",
    "print(arr.shape)\n",
    "print(\"\\nSize\")\n",
    "print(arr.size)\n"
   ]
  },
  {
   "cell_type": "code",
   "execution_count": 64,
   "id": "72b3b435-0519-4c19-ab56-e8f5e5241d57",
   "metadata": {},
   "outputs": [
    {
     "name": "stdout",
     "output_type": "stream",
     "text": [
      "[[ 0  3 75 92 41]\n",
      " [73  0 99 74 65]\n",
      " [93 34  0 36 96]\n",
      " [48 75 71  0 55]\n",
      " [50 88 19 25  0]]\n"
     ]
    }
   ],
   "source": [
    "np.fill_diagonal(arr, 0)\n",
    "print(arr)"
   ]
  },
  {
   "cell_type": "code",
   "execution_count": 56,
   "id": "458223f6-8c51-4034-9d94-22cd6379511e",
   "metadata": {},
   "outputs": [
    {
     "name": "stdout",
     "output_type": "stream",
     "text": [
      "[1 0 2 0 2]\n",
      "\n",
      "Dimension\n",
      "1D\n",
      "\n",
      "Shape\n",
      "(5,)\n",
      "\n",
      "Size\n",
      "5\n"
     ]
    }
   ],
   "source": [
    "# Create an array indices with five random integers between 0 and 4.\n",
    "indices = np.random.randint(0, 5, size=5)\n",
    "print(indices)\n",
    "print(\"\\nDimension\")\n",
    "print(f\"{indices.ndim}D\")\n",
    "print(\"\\nShape\")\n",
    "print(indices.shape)\n",
    "print(\"\\nSize\")\n",
    "print(indices.size)"
   ]
  },
  {
   "cell_type": "code",
   "execution_count": 58,
   "id": "dfd3bd9e-23c6-49ad-afce-6b27ab10246c",
   "metadata": {},
   "outputs": [
    {
     "name": "stdout",
     "output_type": "stream",
     "text": [
      "Diagonal elements of arr using indices: [96 76 78 76 78]\n"
     ]
    }
   ],
   "source": [
    "# Use fancy indexing to print the diagonal elements of arr using the indices from indices.\n",
    "diagonal_element = arr[indices, indices]\n",
    "print(\"Diagonal elements of arr using indices:\", diagonal_element)"
   ]
  },
  {
   "cell_type": "code",
   "execution_count": 59,
   "id": "2240afe3-2cbf-4075-942e-fba4b13a669e",
   "metadata": {},
   "outputs": [
    {
     "name": "stdout",
     "output_type": "stream",
     "text": [
      "arr with diagonal elements replaced by zeros:\n",
      "[[ 0 84 13 47 59]\n",
      " [46  0 35 20 11]\n",
      " [18 47  0 35 51]\n",
      " [16 61 77  0  9]\n",
      " [72 20 23  5  0]]\n"
     ]
    }
   ],
   "source": [
    "# Use fancy indexing to replace the diagonal elements of arr with zeros using the indices from indices\n",
    "np.fill_diagonal(arr, 0)\n",
    "print(\"arr with diagonal elements replaced by zeros:\")\n",
    "print(arr)"
   ]
  },
  {
   "cell_type": "markdown",
   "id": "ff513097-55c0-4057-baec-3464da5cd1b0",
   "metadata": {},
   "source": [
    "<br>"
   ]
  },
  {
   "cell_type": "markdown",
   "id": "acc8fecd-82c3-41a2-8f0f-395d1a060dea",
   "metadata": {},
   "source": [
    "#### Q4: Advance Indexing:\n",
    "- Create a numpy array `arr` of shape(7,7) filled with random integers between 1 and 50.\n",
    "- Create an array `row_indices` containing indices of rows `[1, 3, 5]`.\n",
    "- Create an array `col_indices` containing indices of columns `[0, 2, 4]`.\n",
    "- Use advanced indexing to print the elements at the intersection of rows and columns specified by row_indices and col_indices."
   ]
  },
  {
   "cell_type": "code",
   "execution_count": 65,
   "id": "c131d0af-4242-4edf-a537-18dc1aa4da24",
   "metadata": {},
   "outputs": [
    {
     "name": "stdout",
     "output_type": "stream",
     "text": [
      "Element at the intersection:\n",
      "[[18 32 22]\n",
      " [39 41 40]\n",
      " [45 34 27]]\n"
     ]
    }
   ],
   "source": [
    "# Create a numpy array arr of shape(7,7) filled with random integers between 1 and 50.\n",
    "arr = np.random.randint(1, 50, (7,7))\n",
    "\n",
    "# Create an array row_indices containing indices of rows [1, 3, 5].\n",
    "row_indices = np.array([1, 3, 5])\n",
    "\n",
    "# Create an array col_indices containing indices of columns [0, 2, 4].\n",
    "col_indices = np.array([0, 2, 4])\n",
    "\n",
    "# Use advanced indexing to print the elements at the intersection of rows and columns specified by row_indices and col_indices.\n",
    "intersection_element = arr[row_indices[:, np.newaxis], col_indices]\n",
    "print(\"Element at the intersection:\")\n",
    "print(intersection_element)"
   ]
  },
  {
   "cell_type": "markdown",
   "id": "df237357-5bc1-4d71-8047-220da6ce42f7",
   "metadata": {},
   "source": [
    "<br><br>"
   ]
  },
  {
   "cell_type": "markdown",
   "id": "9b81a39c-9c86-47a8-9e6f-d9c492110e13",
   "metadata": {},
   "source": [
    "# Slicing Numpy Arrays"
   ]
  },
  {
   "cell_type": "markdown",
   "id": "ef9712df-d498-45ca-813a-585f5d7d029a",
   "metadata": {
    "jp-MarkdownHeadingCollapsed": true
   },
   "source": [
    "## One Dimensions"
   ]
  },
  {
   "cell_type": "code",
   "execution_count": 21,
   "id": "bd871d03-28c6-4fd4-9e92-7d536d7b77ee",
   "metadata": {},
   "outputs": [
    {
     "name": "stdout",
     "output_type": "stream",
     "text": [
      "[2, 4, 6]\n"
     ]
    }
   ],
   "source": [
    "# Lets see example of list slicing.\n",
    "list1 = [2, 3, 4, 5, 6, 7]\n",
    "sliced_list1= list1[0:-1:2]\n",
    "print(sliced_list1)"
   ]
  },
  {
   "cell_type": "code",
   "execution_count": 22,
   "id": "fd7eacd7-9f7f-40af-b548-c6b3574441e5",
   "metadata": {},
   "outputs": [
    {
     "name": "stdout",
     "output_type": "stream",
     "text": [
      "[2 3 4 5 6 7]\n"
     ]
    }
   ],
   "source": [
    "# 1D \n",
    "array1 = np.array(list1)\n",
    "print(array1)"
   ]
  },
  {
   "cell_type": "code",
   "execution_count": 20,
   "id": "8d3e6b0e-e126-4e4e-adfc-d329a8eef2d2",
   "metadata": {},
   "outputs": [
    {
     "name": "stdout",
     "output_type": "stream",
     "text": [
      "[2 4 6]\n"
     ]
    }
   ],
   "source": [
    "#Slicing Array\n",
    "sliced_array1 = array1[0: -1: 2]\n",
    "print(sliced_array1)"
   ]
  },
  {
   "cell_type": "markdown",
   "id": "f6958657-9047-4b0b-9d51-590fbfd9ec8a",
   "metadata": {},
   "source": [
    "<br>"
   ]
  },
  {
   "cell_type": "markdown",
   "id": "e2e2f3de-c399-4553-bdc2-8c8a14e24412",
   "metadata": {
    "jp-MarkdownHeadingCollapsed": true
   },
   "source": [
    "## Two Dimensions"
   ]
  },
  {
   "cell_type": "code",
   "execution_count": 23,
   "id": "39b22243-8e9a-4b88-aff5-82f081ff30dd",
   "metadata": {},
   "outputs": [
    {
     "name": "stdout",
     "output_type": "stream",
     "text": [
      "[[ 1  2  3  4  5]\n",
      " [ 6  7  8  9 10]]\n",
      "\n",
      "dimension\n",
      "2D\n",
      "\n",
      "shape\n",
      "(2, 5)\n"
     ]
    }
   ],
   "source": [
    "list2 = [[1, 2, 3, 4, 5], [6, 7, 8, 9, 10]]\n",
    "array2 = np.array(list2)\n",
    "print(array2)\n",
    "print(\"\\ndimension\")\n",
    "print(f\"{array2.ndim}D\")\n",
    "print(\"\\nshape\")\n",
    "print(array2.shape)"
   ]
  },
  {
   "cell_type": "code",
   "execution_count": 26,
   "id": "962f4fb2-2767-4ea9-a62e-6ebdd6b234c6",
   "metadata": {},
   "outputs": [
    {
     "data": {
      "text/plain": [
       "array([[6, 7, 8]])"
      ]
     },
     "execution_count": 26,
     "metadata": {},
     "output_type": "execute_result"
    }
   ],
   "source": [
    "sliced_array2 = array2[1:4, 0:3:1]\n",
    "sliced_array2"
   ]
  },
  {
   "cell_type": "code",
   "execution_count": 27,
   "id": "64982d94-6792-4f8b-8d25-73a26b619ab4",
   "metadata": {},
   "outputs": [],
   "source": [
    "list2d = [[1, 2, 3, 4, 5, 6, 7, 8], [2, 3, 4, 5, 6, 7, 8, 9]]\n",
    "array2d = np.array(list2d)\n"
   ]
  },
  {
   "cell_type": "code",
   "execution_count": null,
   "id": "1017be04-4d65-49cb-8e0c-3fa2f2747224",
   "metadata": {},
   "outputs": [],
   "source": []
  },
  {
   "cell_type": "markdown",
   "id": "7e6b8627-1982-49ed-9a9a-96223d54ed8a",
   "metadata": {},
   "source": [
    "<br>"
   ]
  },
  {
   "cell_type": "markdown",
   "id": "cd36ffc3-5452-4b5e-9486-2bd6baff6256",
   "metadata": {
    "jp-MarkdownHeadingCollapsed": true
   },
   "source": [
    "## Three Dimesions"
   ]
  },
  {
   "cell_type": "code",
   "execution_count": 28,
   "id": "65e4d6ad-0b32-42ad-96a8-ec34be6154fc",
   "metadata": {},
   "outputs": [
    {
     "name": "stdout",
     "output_type": "stream",
     "text": [
      "[[[17 42 13 44]\n",
      "  [30 33 11 11]\n",
      "  [23 29 39 28]]\n",
      "\n",
      " [[22 40 34 43]\n",
      "  [20 39 36 42]\n",
      "  [24 28 43 26]]\n",
      "\n",
      " [[46 43 36 26]\n",
      "  [33 33 10 11]\n",
      "  [12 35 40 31]]\n",
      "\n",
      " [[20 19 32 31]\n",
      "  [29 19 15 38]\n",
      "  [17 32 34 15]]]\n",
      "\n",
      "dimension\n",
      "3D\n",
      "\n",
      "shape\n",
      "(4, 3, 4)\n"
     ]
    }
   ],
   "source": [
    "array_randint = np.random.randint(low=10, high=50, size=(4, 3, 4))\n",
    "print(array_randint)\n",
    "print(\"\\ndimension\")\n",
    "print(f\"{array_randint.ndim}D\")\n",
    "print(\"\\nshape\")\n",
    "print(array_randint.shape)"
   ]
  },
  {
   "cell_type": "code",
   "execution_count": 33,
   "id": "b4fb3942-beae-49ab-b2bb-f94453dc21f0",
   "metadata": {},
   "outputs": [
    {
     "name": "stdout",
     "output_type": "stream",
     "text": [
      "[[[46 43]\n",
      "  [33 33]]\n",
      "\n",
      " [[20 19]\n",
      "  [29 19]]]\n",
      "(2, 2, 2)\n"
     ]
    }
   ],
   "source": [
    "sliced_array_randint = array_randint[2: , 0:2:, 0:2:]\n",
    "print(sliced_array_randint)\n",
    "print(sliced_array_randint.shape)"
   ]
  },
  {
   "cell_type": "markdown",
   "id": "71e8693f-384c-4789-82e0-54ad58fa321f",
   "metadata": {},
   "source": [
    "<br>"
   ]
  },
  {
   "cell_type": "markdown",
   "id": "d60cb82b-807c-4898-8687-4021c179e3af",
   "metadata": {
    "jp-MarkdownHeadingCollapsed": true
   },
   "source": [
    "## ND (number of dimensions)"
   ]
  },
  {
   "cell_type": "code",
   "execution_count": 34,
   "id": "42dd59f9-912f-4520-8ee7-6c27680f947e",
   "metadata": {},
   "outputs": [
    {
     "name": "stdout",
     "output_type": "stream",
     "text": [
      "[[[[14 43 13]\n",
      "   [27 17 16]\n",
      "   [34 18 10]\n",
      "   [23 48 23]]\n",
      "\n",
      "  [[15 21 18]\n",
      "   [48 43 27]\n",
      "   [44 12 18]\n",
      "   [48 26 36]]]\n",
      "\n",
      "\n",
      " [[[12 28 44]\n",
      "   [19 35 11]\n",
      "   [14 12 36]\n",
      "   [30 24 11]]\n",
      "\n",
      "  [[29 37 19]\n",
      "   [40 35 45]\n",
      "   [49 31 39]\n",
      "   [17 19 26]]]\n",
      "\n",
      "\n",
      " [[[40 10 21]\n",
      "   [26 15 30]\n",
      "   [27 38 21]\n",
      "   [37 10 13]]\n",
      "\n",
      "  [[44 10 32]\n",
      "   [22 24 42]\n",
      "   [19 11 46]\n",
      "   [39 30 26]]]]\n",
      "\n",
      "dimension\n",
      "4D\n",
      "\n",
      "shape\n",
      "(3, 2, 4, 3)\n"
     ]
    }
   ],
   "source": [
    "array_randint = np.random.randint(low=10, high=50, size=(3, 2, 4, 3))\n",
    "print(array_randint)\n",
    "print(\"\\ndimension\")\n",
    "print(f\"{array_randint.ndim}D\")\n",
    "print(\"\\nshape\")\n",
    "print(array_randint.shape)"
   ]
  },
  {
   "cell_type": "code",
   "execution_count": 37,
   "id": "3b548f94-0f19-418a-b7de-c6c93bbab81d",
   "metadata": {},
   "outputs": [
    {
     "data": {
      "text/plain": [
       "array([[[[15, 30],\n",
       "         [38, 21]]]])"
      ]
     },
     "execution_count": 37,
     "metadata": {},
     "output_type": "execute_result"
    }
   ],
   "source": [
    "sliced_array = array_randint[2::, 0:1:1, 1:3:1, 1:3:1]\n",
    "sliced_array"
   ]
  },
  {
   "cell_type": "markdown",
   "id": "74390369-3921-4846-a147-b63ead729347",
   "metadata": {},
   "source": [
    "<br>"
   ]
  },
  {
   "cell_type": "markdown",
   "id": "0d15007f-e62b-4723-884e-b16bd7c058bd",
   "metadata": {
    "jp-MarkdownHeadingCollapsed": true
   },
   "source": [
    "## Questions for Slicing Arrays"
   ]
  },
  {
   "cell_type": "code",
   "execution_count": null,
   "id": "6cb41d63-ce71-40d7-9dd4-7687eb27a6c8",
   "metadata": {},
   "outputs": [],
   "source": []
  }
 ],
 "metadata": {
  "kernelspec": {
   "display_name": "Python 3 (ipykernel)",
   "language": "python",
   "name": "python3"
  },
  "language_info": {
   "codemirror_mode": {
    "name": "ipython",
    "version": 3
   },
   "file_extension": ".py",
   "mimetype": "text/x-python",
   "name": "python",
   "nbconvert_exporter": "python",
   "pygments_lexer": "ipython3",
   "version": "3.12.2"
  }
 },
 "nbformat": 4,
 "nbformat_minor": 5
}
