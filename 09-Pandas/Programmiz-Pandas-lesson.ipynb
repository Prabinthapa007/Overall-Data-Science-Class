{
 "cells": [
  {
   "cell_type": "code",
   "execution_count": 1,
   "id": "482780b0-aa93-4f2d-87ef-b59cf3ca205a",
   "metadata": {},
   "outputs": [
    {
     "name": "stderr",
     "output_type": "stream",
     "text": [
      "C:\\Users\\hp\\AppData\\Local\\Temp\\ipykernel_15552\\2694728594.py:1: DeprecationWarning: \n",
      "Pyarrow will become a required dependency of pandas in the next major release of pandas (pandas 3.0),\n",
      "(to allow more performant data types, such as the Arrow string type, and better interoperability with other libraries)\n",
      "but was not found to be installed on your system.\n",
      "If this would cause problems for you,\n",
      "please provide us feedback at https://github.com/pandas-dev/pandas/issues/54466\n",
      "        \n",
      "  import pandas as pd\n"
     ]
    }
   ],
   "source": [
    "import pandas as pd\n",
    "import numpy as np\n",
    "from IPython.display import Image"
   ]
  },
  {
   "cell_type": "markdown",
   "id": "f0a410b8-071a-4e01-a166-e425c00a351e",
   "metadata": {},
   "source": [
    "# Introduction"
   ]
  },
  {
   "cell_type": "markdown",
   "id": "6a230aad-ea24-4f5f-b7ec-a65deaa36023",
   "metadata": {},
   "source": [
    "## 1. Pandas Series\n",
    "- A Pandas Series is a one-dimensional labeled array-like object that can hold data of any type.\n",
    "- A Pandas Series can be thought of as a column in a spreadsheet or a single column of a DataFrame. It consists of two main components: the labels and the data."
   ]
  },
  {
   "cell_type": "markdown",
   "id": "c9e8ea31-22a3-4933-862b-67bcb7b96a5a",
   "metadata": {},
   "source": [
    "### Creating a Pandas Series"
   ]
  },
  {
   "cell_type": "code",
   "execution_count": 2,
   "id": "6b5aac92-db18-41ee-9ea8-42da87ce2a05",
   "metadata": {},
   "outputs": [
    {
     "name": "stdout",
     "output_type": "stream",
     "text": [
      "0    1\n",
      "1    2\n",
      "2    3\n",
      "3    4\n",
      "4    5\n",
      "dtype: int64\n"
     ]
    }
   ],
   "source": [
    "data = [1, 2, 3, 4, 5]\n",
    "my_series = pd.Series(data)\n",
    "print(my_series)"
   ]
  },
  {
   "cell_type": "markdown",
   "id": "39d663b8-e4d1-4e42-9aa3-e13d7d494e61",
   "metadata": {},
   "source": [
    "In this example, we created a Python list called `data` containing five integer values. We then passed this list to the `Series()` function, which converted it into a Pandas Series called `my_series`.\n",
    "\n",
    "Here, `dtype: int64` denotes that the series stores the values of int64 types"
   ]
  },
  {
   "cell_type": "markdown",
   "id": "789c5bba-a978-42f3-a2d5-5e96184ecf12",
   "metadata": {},
   "source": [
    "## 2. Pandas DataFrame"
   ]
  },
  {
   "cell_type": "markdown",
   "id": "fb8ab53a-1575-4660-a945-5771265ec29d",
   "metadata": {},
   "source": [
    "#### I. Pandas DataFrame Using Python Dictionary"
   ]
  },
  {
   "cell_type": "code",
   "execution_count": 3,
   "id": "41716f78-8281-412a-8fc7-806d76f5487b",
   "metadata": {},
   "outputs": [
    {
     "name": "stdout",
     "output_type": "stream",
     "text": [
      "     Name  Age      City\n",
      "0  Prabin   25  New York\n",
      "1    John   30    London\n",
      "2  Sushma   35     Paris\n"
     ]
    }
   ],
   "source": [
    "data = {\n",
    "    \"Name\": [\"Prabin\", \"John\", \"Sushma\"],\n",
    "    \"Age\":[25, 30, 35],\n",
    "    \"City\": [\"New York\", \"London\", \"Paris\"]}\n",
    "df = pd.DataFrame(data)\n",
    "print(df)"
   ]
  },
  {
   "cell_type": "markdown",
   "id": "a1769669-40bf-4442-abaf-5c8527b247e9",
   "metadata": {},
   "source": [
    "In this example, we created a dictionary called `data` that contains the column names (`Name`, `Age`, `City`) as keys, and lists of values as their respective values.\n",
    "\n",
    "We then used the `pd.DataFrame()` function to convert the dictionary into a DataFrame called `df`."
   ]
  },
  {
   "cell_type": "markdown",
   "id": "63321dc6-693c-453e-a77a-c0be6facf7b9",
   "metadata": {},
   "source": [
    "<br>"
   ]
  },
  {
   "cell_type": "markdown",
   "id": "fd0b4ca6-d7ea-44cc-956c-55e5dabaa354",
   "metadata": {},
   "source": [
    "#### II. Pandas DataFrame Using Python List"
   ]
  },
  {
   "cell_type": "code",
   "execution_count": 4,
   "id": "9ae668e8-e6f4-421e-a7f1-906c1860c680",
   "metadata": {},
   "outputs": [
    {
     "name": "stdout",
     "output_type": "stream",
     "text": [
      "     Name  Age    City\n",
      "0  Prabin   25      NY\n",
      "1    John   22  London\n",
      "2     Bob   33   Paris\n"
     ]
    }
   ],
   "source": [
    "\n",
    "data = [[\"Prabin\", 25, \"NY\"],\n",
    "        [\"John\", 22, \"London\"],\n",
    "        [\"Bob\", 33, \"Paris\"]]\n",
    "\n",
    "df = pd.DataFrame(data, columns=[\"Name\", \"Age\", \"City\"])\n",
    "print(df)"
   ]
  },
  {
   "cell_type": "markdown",
   "id": "29401cc8-a5b3-4187-a9a2-7a6ae774bac6",
   "metadata": {},
   "source": [
    "<br>"
   ]
  },
  {
   "cell_type": "markdown",
   "id": "418c7ea5-9d99-4a44-9cc2-30be4ff67567",
   "metadata": {},
   "source": [
    "#### III. Pandas DataFrame From a File\n",
    "Another common way to create a DataFrame is by loading data from a CSV (Comma-Separated Values) file. For example,"
   ]
  },
  {
   "cell_type": "code",
   "execution_count": 5,
   "id": "536dcf79-9cf6-4422-bc73-5708975d6eda",
   "metadata": {},
   "outputs": [
    {
     "name": "stdout",
     "output_type": "stream",
     "text": [
      "   PassengerId  Survived  Pclass  \\\n",
      "0            1         0       3   \n",
      "1            2         1       1   \n",
      "2            3         1       3   \n",
      "3            4         1       1   \n",
      "4            5         0       3   \n",
      "\n",
      "                                                Name     Sex   Age  SibSp  \\\n",
      "0                            Braund, Mr. Owen Harris    male  22.0      1   \n",
      "1  Cumings, Mrs. John Bradley (Florence Briggs Th...  female  38.0      1   \n",
      "2                             Heikkinen, Miss. Laina  female  26.0      0   \n",
      "3       Futrelle, Mrs. Jacques Heath (Lily May Peel)  female  35.0      1   \n",
      "4                           Allen, Mr. William Henry    male  35.0      0   \n",
      "\n",
      "   Parch            Ticket     Fare Cabin Embarked  \n",
      "0      0         A/5 21171   7.2500   NaN        S  \n",
      "1      0          PC 17599  71.2833   C85        C  \n",
      "2      0  STON/O2. 3101282   7.9250   NaN        S  \n",
      "3      0            113803  53.1000  C123        S  \n",
      "4      0            373450   8.0500   NaN        S  \n"
     ]
    }
   ],
   "source": [
    "df = pd.read_csv(\"C:\\\\Users\\\\hp\\\\Downloads\\\\archive\\\\train.csv\")\n",
    "print(df.head()) "
   ]
  },
  {
   "cell_type": "markdown",
   "id": "2704b846-8da2-4852-871f-0b1f76aa60a9",
   "metadata": {},
   "source": [
    "In this example, we used the `read_csv()` function which reads the CSV file `train.csv`, and automatically creates a DataFrame object `df`, containing data from the CSV file.\n",
    "\n",
    "**Note**: We can also create a DataFrame using other file types like JSON, Excel spreadsheet, SQL database, etc. The methods to read different file types are listed below:\n",
    "- **Json** = `read_json()`\n",
    "- **Excel spreadsheet** = `read_excel()`\n",
    "- **SQL** = `read_sql()`"
   ]
  },
  {
   "cell_type": "markdown",
   "id": "d1c2b84a-5326-43e4-b998-3e4b25d303b4",
   "metadata": {},
   "source": [
    "<br><br>"
   ]
  },
  {
   "cell_type": "markdown",
   "id": "860bffc4-124d-4382-b4ec-f7feca673370",
   "metadata": {},
   "source": [
    "## 3. Pandas Index\n",
    "In Pandas, an index refers to the labeled array that identifies rows or columns in a DataFrame or a Series. For example,"
   ]
  },
  {
   "cell_type": "code",
   "execution_count": 6,
   "id": "c7d1476b-893f-4893-8f88-cec57a8259e7",
   "metadata": {},
   "outputs": [
    {
     "name": "stdout",
     "output_type": "stream",
     "text": [
      "     Name  Age      City\n",
      "0  Prabin   25  New York\n",
      "1    John   30    London\n",
      "2  Sushma   35     Paris\n"
     ]
    }
   ],
   "source": [
    "data = {\n",
    "    \"Name\": [\"Prabin\", \"John\", \"Sushma\"],\n",
    "    \"Age\":[25, 30, 35],\n",
    "    \"City\": [\"New York\", \"London\", \"Paris\"]}\n",
    "df = pd.DataFrame(data)\n",
    "print(df)"
   ]
  },
  {
   "cell_type": "markdown",
   "id": "388d2ede-9668-4edf-8635-258fc017736e",
   "metadata": {},
   "source": [
    "In the above `DataFrame`, the numbers **0**, **1**, and **2** represent the index, providing unique labels to each row.\n",
    "\n",
    "We can use indexes to uniquely identify data and access data with efficiency and precision.n."
   ]
  },
  {
   "cell_type": "markdown",
   "id": "42c21749-04cf-47c6-842b-6844cf10b2a6",
   "metadata": {},
   "source": [
    "### a. Create Indexes in Pandas\n",
    "Pandas offers several ways to create indexes. Some common methods are as follows:\n",
    "- Default Index\n",
    "- Setting Index\n",
    "- Creating a Range Index"
   ]
  },
  {
   "cell_type": "markdown",
   "id": "2b36004d-4181-4f88-82fd-0a19f0d98b73",
   "metadata": {},
   "source": [
    "#### I. Default Index\n",
    "When we create a `DataFrame` or `Series` without specifying an `index` explicitly, `Pandas` assigns a `default` integer index starting from 0. For example,"
   ]
  },
  {
   "cell_type": "code",
   "execution_count": 7,
   "id": "36acfd9a-19d0-43ff-93d2-6aa4d392f97f",
   "metadata": {},
   "outputs": [
    {
     "name": "stdout",
     "output_type": "stream",
     "text": [
      "     Name  Age      City\n",
      "0  Prabin   25  New York\n",
      "1    John   30    London\n",
      "2  Sushma   35     Paris\n"
     ]
    }
   ],
   "source": [
    "data = {\n",
    "    \"Name\": [\"Prabin\", \"John\", \"Sushma\"],\n",
    "    \"Age\":[25, 30, 35],\n",
    "    \"City\": [\"New York\", \"London\", \"Paris\"]}\n",
    "df = pd.DataFrame(data)\n",
    "print(df)"
   ]
  },
  {
   "cell_type": "markdown",
   "id": "7011c379-ed83-4407-828c-f64b850351f1",
   "metadata": {},
   "source": [
    "In this example, the default index `[0, 1, 2]` is automatically assigned to the rows."
   ]
  },
  {
   "cell_type": "markdown",
   "id": "8ff70c34-1f7d-4e6e-9584-0854b550ecf4",
   "metadata": {},
   "source": [
    "<br>"
   ]
  },
  {
   "cell_type": "markdown",
   "id": "6f83cb48-d772-4acc-811d-b010aa617396",
   "metadata": {},
   "source": [
    "#### II. Setting Index\n",
    "We can set an `existing column` as the index using the `set_index()` method. For example,"
   ]
  },
  {
   "cell_type": "code",
   "execution_count": 8,
   "id": "8107c195-1214-4065-894d-e2197ffec974",
   "metadata": {},
   "outputs": [
    {
     "name": "stdout",
     "output_type": "stream",
     "text": [
      "        Age      City\n",
      "Name                 \n",
      "Prabin   25  New York\n",
      "John     30    London\n",
      "Sushma   35     Paris\n"
     ]
    }
   ],
   "source": [
    "data = {\n",
    "    \"Name\": [\"Prabin\", \"John\", \"Sushma\"],\n",
    "    \"Age\":[25, 30, 35],\n",
    "    \"City\": [\"New York\", \"London\", \"Paris\"]}\n",
    "df = pd.DataFrame(data)\n",
    "#print(df.set_index(\"Name\")) # This will print as it is \n",
    "df.set_index(\"Name\", inplace=True)\n",
    "print(df)"
   ]
  },
  {
   "cell_type": "markdown",
   "id": "939f9625-d8cc-4f0d-befc-2952d17a724c",
   "metadata": {},
   "source": [
    "In this example, the `Name` column is set as the index, replacing the default integer index.\n",
    "\n",
    "Here, the `inplace=True` parameter performs the operation directly on the object itself, without creating a new object. When we specify `inplace=True`, the original object is modified, and the changes are directly applied."
   ]
  },
  {
   "cell_type": "markdown",
   "id": "c466da7c-d058-4bdc-b368-a90bd7821008",
   "metadata": {},
   "source": [
    "<br>"
   ]
  },
  {
   "cell_type": "markdown",
   "id": "816510f8-7b7c-4d64-88c3-b17b39e9cf24",
   "metadata": {},
   "source": [
    "#### III. Creating a Range Index\n",
    "We can create a range index with specific start and end values using the `RangeIndex()` function. For example,"
   ]
  },
  {
   "cell_type": "code",
   "execution_count": 9,
   "id": "b1afaf90-0b52-4502-b042-b4bfdb96617b",
   "metadata": {},
   "outputs": [
    {
     "name": "stdout",
     "output_type": "stream",
     "text": [
      "         Name  Age      City\n",
      "Index                       \n",
      "1      Prabin   25  New York\n",
      "2        John   30    London\n",
      "3      Sushma   35     Paris\n"
     ]
    }
   ],
   "source": [
    "data = {\n",
    "    \"Name\": [\"Prabin\", \"John\", \"Sushma\"],\n",
    "    \"Age\":[25, 30, 35],\n",
    "    \"City\": [\"New York\", \"London\", \"Paris\"]}\n",
    "df = pd.DataFrame(data)\n",
    "\n",
    "# create a range index.\n",
    "df = pd.DataFrame(data, index=pd.RangeIndex(1,4, name=\"Index\"))\n",
    "print(df)"
   ]
  },
  {
   "cell_type": "code",
   "execution_count": 10,
   "id": "187394e3-49b9-41a5-ad37-08b0337a4df1",
   "metadata": {},
   "outputs": [
    {
     "name": "stdout",
     "output_type": "stream",
     "text": [
      "         Name  Age      City\n",
      "Index                       \n",
      "5      Prabin   25  New York\n",
      "6        John   30    London\n",
      "7      Sushma   35     Paris\n"
     ]
    }
   ],
   "source": [
    "# Create a Range Index 5, 6, 7 instead of 1, 2, 3:\n",
    "df = pd.DataFrame(data, index=pd.RangeIndex(5, 8, name=\"Index\"))\n",
    "print(df)"
   ]
  },
  {
   "cell_type": "markdown",
   "id": "20a983e2-fc3b-4ab4-9c11-830f8784845b",
   "metadata": {},
   "source": [
    "Here, a range index from 5 to 8(excluded) is created with the name `Index`."
   ]
  },
  {
   "cell_type": "markdown",
   "id": "2ccec231-72cd-40a6-be19-ecb47ac92249",
   "metadata": {},
   "source": [
    "<br>"
   ]
  },
  {
   "cell_type": "markdown",
   "id": "15fb3797-f2cf-4c13-b807-829e93ac2df4",
   "metadata": {},
   "source": [
    "### b. Modifying Indexes in Pandas\n",
    "`Pandas` allows us to make `changes` to `indexes` easily. Some common modification operations are:\n",
    "- Renaming Index\n",
    "- Resetting Index"
   ]
  },
  {
   "cell_type": "markdown",
   "id": "2f95f170-bf08-402c-9bb1-220caf22ba0a",
   "metadata": {},
   "source": [
    "#### I. Renaming Index\n",
    "We can rename an index using the `rename()` method. For example,"
   ]
  },
  {
   "cell_type": "code",
   "execution_count": 11,
   "id": "1c7ac361-20d1-433d-acee-2ccf9014a392",
   "metadata": {},
   "outputs": [
    {
     "name": "stdout",
     "output_type": "stream",
     "text": [
      "Original DataFrame:\n",
      "     Name  Age    City\n",
      "0    John   25      NY\n",
      "1   Alice   26  London\n",
      "2  Sushma   27   Paris\n",
      "\n",
      "Modified DataFrame\n",
      "     Name  Age    City\n",
      "A    John   25      NY\n",
      "B   Alice   26  London\n",
      "C  Sushma   27   Paris\n"
     ]
    }
   ],
   "source": [
    "# Create a DataFrame\n",
    "data={\n",
    "    'Name': [\"John\", \"Alice\", \"Sushma\"],\n",
    "    'Age': [25, 26, 27],\n",
    "    'City': [\"NY\", \"London\", \"Paris\"]\n",
    "}\n",
    "df = pd.DataFrame(data)\n",
    "\n",
    "# Display original DataFrame\n",
    "print(\"Original DataFrame:\")\n",
    "print(df)\n",
    "\n",
    "# Renaming Index\n",
    "df.rename(index={0:'A', 1:'B', 2:'C'}, inplace=True)\n",
    "\n",
    "# Display dataframe after index is renamed\n",
    "print(\"\\nModified DataFrame\")\n",
    "print(df)"
   ]
  },
  {
   "cell_type": "markdown",
   "id": "60a3e176-02d8-4cfa-ab09-9133bce4b484",
   "metadata": {},
   "source": [
    "In this example, we renamed the indexes **0**, **1**, and **2** to `'A'`, `'B'`, and `'C'` respectively."
   ]
  },
  {
   "cell_type": "markdown",
   "id": "a14fe5ad-715e-4633-80d5-86a6193f487d",
   "metadata": {},
   "source": [
    "<br>"
   ]
  },
  {
   "cell_type": "markdown",
   "id": "94413c42-395e-44d6-be3e-4ac815e3bccc",
   "metadata": {},
   "source": [
    "#### II. Resetting Index\n",
    "We can reset the index to the default integer index using the `reset_index()` method. For example,"
   ]
  },
  {
   "cell_type": "code",
   "execution_count": 12,
   "id": "79fd8ccf-2b56-4e63-86f4-adfabcdcc699",
   "metadata": {},
   "outputs": [
    {
     "name": "stdout",
     "output_type": "stream",
     "text": [
      "Original DataFrame:\n",
      "     Name  Age    City\n",
      "0    John   25      NY\n",
      "1   Alice   26  London\n",
      "2  Sushma   27   Paris\n",
      "\n",
      "Modified DataFrame\n",
      "     Name  Age    City\n",
      "A    John   25      NY\n",
      "B   Alice   26  London\n",
      "C  Sushma   27   Paris\n",
      "\n",
      "Return to Original DataFrame\n",
      "  index    Name  Age    City\n",
      "0     A    John   25      NY\n",
      "1     B   Alice   26  London\n",
      "2     C  Sushma   27   Paris\n"
     ]
    }
   ],
   "source": [
    "data={\n",
    "    'Name': [\"John\", \"Alice\", \"Sushma\"],\n",
    "    'Age': [25, 26, 27],\n",
    "    'City': [\"NY\", \"London\", \"Paris\"]\n",
    "}\n",
    "df = pd.DataFrame(data)\n",
    "\n",
    "# Display original DataFrame\n",
    "print(\"Original DataFrame:\")\n",
    "print(df)\n",
    "\n",
    "# Renaming Index\n",
    "df.rename(index={0:'A', 1:'B', 2:'C'}, inplace=True)\n",
    "\n",
    "# Display dataframe after index is renamed\n",
    "print(\"\\nModified DataFrame\")\n",
    "print(df)\n",
    "\n",
    "# Reset the index to original\n",
    "df.reset_index(inplace=True)\n",
    "\n",
    "# Display DataFrame after index is reset\n",
    "print(\"\\nReturn to Original DataFrame\")\n",
    "print(df)"
   ]
  },
  {
   "cell_type": "markdown",
   "id": "201401cf-d995-4c6a-ac49-eeb28fdef786",
   "metadata": {},
   "source": [
    "<br><br>"
   ]
  },
  {
   "cell_type": "code",
   "execution_count": null,
   "id": "9233582e-3ef4-4593-a0ba-df3bd8b9e099",
   "metadata": {},
   "outputs": [],
   "source": []
  },
  {
   "cell_type": "code",
   "execution_count": null,
   "id": "87ae02d6-a7ee-49ec-a8d0-a6753577f7d3",
   "metadata": {},
   "outputs": [],
   "source": []
  },
  {
   "cell_type": "code",
   "execution_count": null,
   "id": "78bfd176-dc80-4af1-b65b-7037a2c846a3",
   "metadata": {},
   "outputs": [],
   "source": []
  },
  {
   "cell_type": "code",
   "execution_count": null,
   "id": "931c6816-1a92-4c69-b7cb-6ea9e51587bc",
   "metadata": {},
   "outputs": [],
   "source": []
  },
  {
   "cell_type": "code",
   "execution_count": null,
   "id": "6991fb36-ab97-484b-9f0e-5d19dfca45c0",
   "metadata": {},
   "outputs": [],
   "source": []
  },
  {
   "cell_type": "code",
   "execution_count": null,
   "id": "3deb818c-4bbd-46f0-96fc-8d4c3dd34d9f",
   "metadata": {},
   "outputs": [],
   "source": []
  },
  {
   "cell_type": "code",
   "execution_count": null,
   "id": "202f0510-89c0-47d9-bb8f-1988d20d23b2",
   "metadata": {},
   "outputs": [],
   "source": []
  },
  {
   "cell_type": "code",
   "execution_count": null,
   "id": "bc927a97-0d80-475b-83de-0a95211518dd",
   "metadata": {},
   "outputs": [],
   "source": []
  },
  {
   "cell_type": "code",
   "execution_count": null,
   "id": "3df6ed90-8663-4595-b37e-dc5fe793634e",
   "metadata": {},
   "outputs": [],
   "source": []
  },
  {
   "cell_type": "code",
   "execution_count": null,
   "id": "edb6c579-1c6b-4d9d-b41d-6a562b60af1f",
   "metadata": {},
   "outputs": [],
   "source": []
  },
  {
   "cell_type": "markdown",
   "id": "d60ecd64-18f5-4f3c-8c47-5add4f6fd8b5",
   "metadata": {},
   "source": [
    "<br><br><br>"
   ]
  },
  {
   "cell_type": "markdown",
   "id": "2aaedf79-59ab-416f-b5c4-fa899187e773",
   "metadata": {},
   "source": [
    "# DataFrame Operations and Manipulations"
   ]
  },
  {
   "cell_type": "markdown",
   "id": "e57f4809-45f2-4d8d-8e20-fee76989f69c",
   "metadata": {},
   "source": [
    "## 1. Pandas DataFrame Analysis\n",
    "Pandas DataFrame objects come with a variety of built-in-functions like `head()`, `tail()`, and `info()` that allow us to view and analyze DataFrames\n"
   ]
  },
  {
   "cell_type": "code",
   "execution_count": 13,
   "id": "cf4d7832-ad4d-4fbe-9c64-e564c3ce1684",
   "metadata": {},
   "outputs": [
    {
     "name": "stdout",
     "output_type": "stream",
     "text": [
      "   PassengerId  Survived  Pclass  \\\n",
      "0            1         0       3   \n",
      "1            2         1       1   \n",
      "2            3         1       3   \n",
      "3            4         1       1   \n",
      "4            5         0       3   \n",
      "\n",
      "                                                Name     Sex   Age  SibSp  \\\n",
      "0                            Braund, Mr. Owen Harris    male  22.0      1   \n",
      "1  Cumings, Mrs. John Bradley (Florence Briggs Th...  female  38.0      1   \n",
      "2                             Heikkinen, Miss. Laina  female  26.0      0   \n",
      "3       Futrelle, Mrs. Jacques Heath (Lily May Peel)  female  35.0      1   \n",
      "4                           Allen, Mr. William Henry    male  35.0      0   \n",
      "\n",
      "   Parch            Ticket     Fare Cabin Embarked  \n",
      "0      0         A/5 21171   7.2500   NaN        S  \n",
      "1      0          PC 17599  71.2833   C85        C  \n",
      "2      0  STON/O2. 3101282   7.9250   NaN        S  \n",
      "3      0            113803  53.1000  C123        S  \n",
      "4      0            373450   8.0500   NaN        S  \n"
     ]
    }
   ],
   "source": [
    "data = pd.read_csv(\"C:\\\\Users\\\\hp\\\\Downloads\\\\archive\\\\train.csv\")\n",
    "print(data.head())"
   ]
  },
  {
   "cell_type": "markdown",
   "id": "dd19d6c6-e877-45e3-a8c4-bd85258496a0",
   "metadata": {},
   "source": [
    "### a. Pandas head()"
   ]
  },
  {
   "cell_type": "markdown",
   "id": "4baa65ab-ef12-4826-9087-cef5c0c200c4",
   "metadata": {},
   "source": [
    "The `head()` method provides a rapid summary of a DataFrame. It returns the column headers and a specified number of rows from the beginning. For example,"
   ]
  },
  {
   "cell_type": "code",
   "execution_count": 14,
   "id": "4a87aecb-c6f9-4a79-a3c4-eaf3904f52af",
   "metadata": {},
   "outputs": [
    {
     "data": {
      "text/html": [
       "<div>\n",
       "<style scoped>\n",
       "    .dataframe tbody tr th:only-of-type {\n",
       "        vertical-align: middle;\n",
       "    }\n",
       "\n",
       "    .dataframe tbody tr th {\n",
       "        vertical-align: top;\n",
       "    }\n",
       "\n",
       "    .dataframe thead th {\n",
       "        text-align: right;\n",
       "    }\n",
       "</style>\n",
       "<table border=\"1\" class=\"dataframe\">\n",
       "  <thead>\n",
       "    <tr style=\"text-align: right;\">\n",
       "      <th></th>\n",
       "      <th>PassengerId</th>\n",
       "      <th>Survived</th>\n",
       "      <th>Pclass</th>\n",
       "      <th>Name</th>\n",
       "      <th>Sex</th>\n",
       "      <th>Age</th>\n",
       "      <th>SibSp</th>\n",
       "      <th>Parch</th>\n",
       "      <th>Ticket</th>\n",
       "      <th>Fare</th>\n",
       "      <th>Cabin</th>\n",
       "      <th>Embarked</th>\n",
       "    </tr>\n",
       "  </thead>\n",
       "  <tbody>\n",
       "    <tr>\n",
       "      <th>0</th>\n",
       "      <td>1</td>\n",
       "      <td>0</td>\n",
       "      <td>3</td>\n",
       "      <td>Braund, Mr. Owen Harris</td>\n",
       "      <td>male</td>\n",
       "      <td>22.0</td>\n",
       "      <td>1</td>\n",
       "      <td>0</td>\n",
       "      <td>A/5 21171</td>\n",
       "      <td>7.2500</td>\n",
       "      <td>NaN</td>\n",
       "      <td>S</td>\n",
       "    </tr>\n",
       "    <tr>\n",
       "      <th>1</th>\n",
       "      <td>2</td>\n",
       "      <td>1</td>\n",
       "      <td>1</td>\n",
       "      <td>Cumings, Mrs. John Bradley (Florence Briggs Th...</td>\n",
       "      <td>female</td>\n",
       "      <td>38.0</td>\n",
       "      <td>1</td>\n",
       "      <td>0</td>\n",
       "      <td>PC 17599</td>\n",
       "      <td>71.2833</td>\n",
       "      <td>C85</td>\n",
       "      <td>C</td>\n",
       "    </tr>\n",
       "    <tr>\n",
       "      <th>2</th>\n",
       "      <td>3</td>\n",
       "      <td>1</td>\n",
       "      <td>3</td>\n",
       "      <td>Heikkinen, Miss. Laina</td>\n",
       "      <td>female</td>\n",
       "      <td>26.0</td>\n",
       "      <td>0</td>\n",
       "      <td>0</td>\n",
       "      <td>STON/O2. 3101282</td>\n",
       "      <td>7.9250</td>\n",
       "      <td>NaN</td>\n",
       "      <td>S</td>\n",
       "    </tr>\n",
       "    <tr>\n",
       "      <th>3</th>\n",
       "      <td>4</td>\n",
       "      <td>1</td>\n",
       "      <td>1</td>\n",
       "      <td>Futrelle, Mrs. Jacques Heath (Lily May Peel)</td>\n",
       "      <td>female</td>\n",
       "      <td>35.0</td>\n",
       "      <td>1</td>\n",
       "      <td>0</td>\n",
       "      <td>113803</td>\n",
       "      <td>53.1000</td>\n",
       "      <td>C123</td>\n",
       "      <td>S</td>\n",
       "    </tr>\n",
       "    <tr>\n",
       "      <th>4</th>\n",
       "      <td>5</td>\n",
       "      <td>0</td>\n",
       "      <td>3</td>\n",
       "      <td>Allen, Mr. William Henry</td>\n",
       "      <td>male</td>\n",
       "      <td>35.0</td>\n",
       "      <td>0</td>\n",
       "      <td>0</td>\n",
       "      <td>373450</td>\n",
       "      <td>8.0500</td>\n",
       "      <td>NaN</td>\n",
       "      <td>S</td>\n",
       "    </tr>\n",
       "  </tbody>\n",
       "</table>\n",
       "</div>"
      ],
      "text/plain": [
       "   PassengerId  Survived  Pclass  \\\n",
       "0            1         0       3   \n",
       "1            2         1       1   \n",
       "2            3         1       3   \n",
       "3            4         1       1   \n",
       "4            5         0       3   \n",
       "\n",
       "                                                Name     Sex   Age  SibSp  \\\n",
       "0                            Braund, Mr. Owen Harris    male  22.0      1   \n",
       "1  Cumings, Mrs. John Bradley (Florence Briggs Th...  female  38.0      1   \n",
       "2                             Heikkinen, Miss. Laina  female  26.0      0   \n",
       "3       Futrelle, Mrs. Jacques Heath (Lily May Peel)  female  35.0      1   \n",
       "4                           Allen, Mr. William Henry    male  35.0      0   \n",
       "\n",
       "   Parch            Ticket     Fare Cabin Embarked  \n",
       "0      0         A/5 21171   7.2500   NaN        S  \n",
       "1      0          PC 17599  71.2833   C85        C  \n",
       "2      0  STON/O2. 3101282   7.9250   NaN        S  \n",
       "3      0            113803  53.1000  C123        S  \n",
       "4      0            373450   8.0500   NaN        S  "
      ]
     },
     "execution_count": 14,
     "metadata": {},
     "output_type": "execute_result"
    }
   ],
   "source": [
    "data.head()"
   ]
  },
  {
   "cell_type": "markdown",
   "id": "b4ec2d40-6893-4961-ac90-4a8ce4965025",
   "metadata": {},
   "source": [
    "<br>"
   ]
  },
  {
   "cell_type": "markdown",
   "id": "038d41de-927f-4a25-9f93-b70c579d3789",
   "metadata": {},
   "source": [
    "### b. Pandas tail()\n",
    "The `tail()` method is similar to head() but it returns data starting from the end of the DataFrame. For example,"
   ]
  },
  {
   "cell_type": "code",
   "execution_count": 15,
   "id": "0c5ba902-6d96-4e6a-b675-b13e387fc73e",
   "metadata": {},
   "outputs": [
    {
     "data": {
      "text/html": [
       "<div>\n",
       "<style scoped>\n",
       "    .dataframe tbody tr th:only-of-type {\n",
       "        vertical-align: middle;\n",
       "    }\n",
       "\n",
       "    .dataframe tbody tr th {\n",
       "        vertical-align: top;\n",
       "    }\n",
       "\n",
       "    .dataframe thead th {\n",
       "        text-align: right;\n",
       "    }\n",
       "</style>\n",
       "<table border=\"1\" class=\"dataframe\">\n",
       "  <thead>\n",
       "    <tr style=\"text-align: right;\">\n",
       "      <th></th>\n",
       "      <th>PassengerId</th>\n",
       "      <th>Survived</th>\n",
       "      <th>Pclass</th>\n",
       "      <th>Name</th>\n",
       "      <th>Sex</th>\n",
       "      <th>Age</th>\n",
       "      <th>SibSp</th>\n",
       "      <th>Parch</th>\n",
       "      <th>Ticket</th>\n",
       "      <th>Fare</th>\n",
       "      <th>Cabin</th>\n",
       "      <th>Embarked</th>\n",
       "    </tr>\n",
       "  </thead>\n",
       "  <tbody>\n",
       "    <tr>\n",
       "      <th>886</th>\n",
       "      <td>887</td>\n",
       "      <td>0</td>\n",
       "      <td>2</td>\n",
       "      <td>Montvila, Rev. Juozas</td>\n",
       "      <td>male</td>\n",
       "      <td>27.0</td>\n",
       "      <td>0</td>\n",
       "      <td>0</td>\n",
       "      <td>211536</td>\n",
       "      <td>13.00</td>\n",
       "      <td>NaN</td>\n",
       "      <td>S</td>\n",
       "    </tr>\n",
       "    <tr>\n",
       "      <th>887</th>\n",
       "      <td>888</td>\n",
       "      <td>1</td>\n",
       "      <td>1</td>\n",
       "      <td>Graham, Miss. Margaret Edith</td>\n",
       "      <td>female</td>\n",
       "      <td>19.0</td>\n",
       "      <td>0</td>\n",
       "      <td>0</td>\n",
       "      <td>112053</td>\n",
       "      <td>30.00</td>\n",
       "      <td>B42</td>\n",
       "      <td>S</td>\n",
       "    </tr>\n",
       "    <tr>\n",
       "      <th>888</th>\n",
       "      <td>889</td>\n",
       "      <td>0</td>\n",
       "      <td>3</td>\n",
       "      <td>Johnston, Miss. Catherine Helen \"Carrie\"</td>\n",
       "      <td>female</td>\n",
       "      <td>NaN</td>\n",
       "      <td>1</td>\n",
       "      <td>2</td>\n",
       "      <td>W./C. 6607</td>\n",
       "      <td>23.45</td>\n",
       "      <td>NaN</td>\n",
       "      <td>S</td>\n",
       "    </tr>\n",
       "    <tr>\n",
       "      <th>889</th>\n",
       "      <td>890</td>\n",
       "      <td>1</td>\n",
       "      <td>1</td>\n",
       "      <td>Behr, Mr. Karl Howell</td>\n",
       "      <td>male</td>\n",
       "      <td>26.0</td>\n",
       "      <td>0</td>\n",
       "      <td>0</td>\n",
       "      <td>111369</td>\n",
       "      <td>30.00</td>\n",
       "      <td>C148</td>\n",
       "      <td>C</td>\n",
       "    </tr>\n",
       "    <tr>\n",
       "      <th>890</th>\n",
       "      <td>891</td>\n",
       "      <td>0</td>\n",
       "      <td>3</td>\n",
       "      <td>Dooley, Mr. Patrick</td>\n",
       "      <td>male</td>\n",
       "      <td>32.0</td>\n",
       "      <td>0</td>\n",
       "      <td>0</td>\n",
       "      <td>370376</td>\n",
       "      <td>7.75</td>\n",
       "      <td>NaN</td>\n",
       "      <td>Q</td>\n",
       "    </tr>\n",
       "  </tbody>\n",
       "</table>\n",
       "</div>"
      ],
      "text/plain": [
       "     PassengerId  Survived  Pclass                                      Name  \\\n",
       "886          887         0       2                     Montvila, Rev. Juozas   \n",
       "887          888         1       1              Graham, Miss. Margaret Edith   \n",
       "888          889         0       3  Johnston, Miss. Catherine Helen \"Carrie\"   \n",
       "889          890         1       1                     Behr, Mr. Karl Howell   \n",
       "890          891         0       3                       Dooley, Mr. Patrick   \n",
       "\n",
       "        Sex   Age  SibSp  Parch      Ticket   Fare Cabin Embarked  \n",
       "886    male  27.0      0      0      211536  13.00   NaN        S  \n",
       "887  female  19.0      0      0      112053  30.00   B42        S  \n",
       "888  female   NaN      1      2  W./C. 6607  23.45   NaN        S  \n",
       "889    male  26.0      0      0      111369  30.00  C148        C  \n",
       "890    male  32.0      0      0      370376   7.75   NaN        Q  "
      ]
     },
     "execution_count": 15,
     "metadata": {},
     "output_type": "execute_result"
    }
   ],
   "source": [
    "data.tail()"
   ]
  },
  {
   "cell_type": "markdown",
   "id": "552dbb73-f660-4087-a3d3-310929960881",
   "metadata": {},
   "source": [
    "<br>"
   ]
  },
  {
   "cell_type": "markdown",
   "id": "cf99a4e7-1d41-48a9-af54-1d5320494d85",
   "metadata": {},
   "source": [
    "### c. Get DataFrame Information -> info()\n",
    "The `info()` method gives us the overall information about the DataFrame such as its class, data type, size etc."
   ]
  },
  {
   "cell_type": "code",
   "execution_count": 16,
   "id": "295b1e9e-4559-42ee-8a4b-dcbbf7753175",
   "metadata": {},
   "outputs": [
    {
     "name": "stdout",
     "output_type": "stream",
     "text": [
      "<class 'pandas.core.frame.DataFrame'>\n",
      "RangeIndex: 891 entries, 0 to 890\n",
      "Data columns (total 12 columns):\n",
      " #   Column       Non-Null Count  Dtype  \n",
      "---  ------       --------------  -----  \n",
      " 0   PassengerId  891 non-null    int64  \n",
      " 1   Survived     891 non-null    int64  \n",
      " 2   Pclass       891 non-null    int64  \n",
      " 3   Name         891 non-null    object \n",
      " 4   Sex          891 non-null    object \n",
      " 5   Age          714 non-null    float64\n",
      " 6   SibSp        891 non-null    int64  \n",
      " 7   Parch        891 non-null    int64  \n",
      " 8   Ticket       891 non-null    object \n",
      " 9   Fare         891 non-null    float64\n",
      " 10  Cabin        204 non-null    object \n",
      " 11  Embarked     889 non-null    object \n",
      "dtypes: float64(2), int64(5), object(5)\n",
      "memory usage: 83.7+ KB\n"
     ]
    }
   ],
   "source": [
    "data.info()"
   ]
  },
  {
   "cell_type": "markdown",
   "id": "cfe60f66-9c2a-4e86-bcd6-60bdcf932501",
   "metadata": {},
   "source": [
    "<br><br>"
   ]
  },
  {
   "cell_type": "markdown",
   "id": "963ea3de-8705-4d89-b1d5-35f1ae260dcd",
   "metadata": {},
   "source": [
    "## 2. Pandas DataFrmae Manipulation\n",
    "DataFrame manipulation in Pandas involves editing and modifying existing DataFrames. Some common DataFrame manipulation operations are:\n",
    "- Adding rows/columns\n",
    "- Removing rows/columns\n",
    "- Renaming rows/columns"
   ]
  },
  {
   "cell_type": "markdown",
   "id": "6597b52c-7ac6-4a4b-9b74-f2f0265b4e2f",
   "metadata": {},
   "source": [
    "#### a. Adding rows/columns\n",
    "We can add a new column to an existing Pandas DataFrame by simply declaring a new list as a column. For example,"
   ]
  },
  {
   "cell_type": "code",
   "execution_count": 17,
   "id": "b834ecf0-1625-4dec-8904-a83b75f3c2e7",
   "metadata": {},
   "outputs": [
    {
     "data": {
      "text/plain": [
       "(891, 12)"
      ]
     },
     "execution_count": 17,
     "metadata": {},
     "output_type": "execute_result"
    }
   ],
   "source": [
    "data.shape"
   ]
  },
  {
   "cell_type": "code",
   "execution_count": 18,
   "id": "a2cf3697-31aa-405e-ae5f-399cb421eaa4",
   "metadata": {},
   "outputs": [
    {
     "data": {
      "text/plain": [
       "Index(['PassengerId', 'Survived', 'Pclass', 'Name', 'Sex', 'Age', 'SibSp',\n",
       "       'Parch', 'Ticket', 'Fare', 'Cabin', 'Embarked', 'SpecialAddition'],\n",
       "      dtype='object')"
      ]
     },
     "execution_count": 18,
     "metadata": {},
     "output_type": "execute_result"
    }
   ],
   "source": [
    "# Adding columns\n",
    "data['SpecialAddition'] = np.arange(1, 892)\n",
    "data.columns"
   ]
  },
  {
   "cell_type": "code",
   "execution_count": 19,
   "id": "7b9dd569-cfd7-45e9-a713-d6bb0052dfb3",
   "metadata": {},
   "outputs": [
    {
     "data": {
      "text/html": [
       "<div>\n",
       "<style scoped>\n",
       "    .dataframe tbody tr th:only-of-type {\n",
       "        vertical-align: middle;\n",
       "    }\n",
       "\n",
       "    .dataframe tbody tr th {\n",
       "        vertical-align: top;\n",
       "    }\n",
       "\n",
       "    .dataframe thead th {\n",
       "        text-align: right;\n",
       "    }\n",
       "</style>\n",
       "<table border=\"1\" class=\"dataframe\">\n",
       "  <thead>\n",
       "    <tr style=\"text-align: right;\">\n",
       "      <th></th>\n",
       "      <th>PassengerId</th>\n",
       "      <th>Survived</th>\n",
       "      <th>Pclass</th>\n",
       "      <th>Name</th>\n",
       "      <th>Sex</th>\n",
       "      <th>Age</th>\n",
       "      <th>SibSp</th>\n",
       "      <th>Parch</th>\n",
       "      <th>Ticket</th>\n",
       "      <th>Fare</th>\n",
       "      <th>Cabin</th>\n",
       "      <th>Embarked</th>\n",
       "      <th>SpecialAddition</th>\n",
       "    </tr>\n",
       "  </thead>\n",
       "  <tbody>\n",
       "    <tr>\n",
       "      <th>0</th>\n",
       "      <td>1</td>\n",
       "      <td>0</td>\n",
       "      <td>3</td>\n",
       "      <td>Braund, Mr. Owen Harris</td>\n",
       "      <td>male</td>\n",
       "      <td>22.0</td>\n",
       "      <td>1</td>\n",
       "      <td>0</td>\n",
       "      <td>A/5 21171</td>\n",
       "      <td>7.2500</td>\n",
       "      <td>NaN</td>\n",
       "      <td>S</td>\n",
       "      <td>1</td>\n",
       "    </tr>\n",
       "    <tr>\n",
       "      <th>1</th>\n",
       "      <td>2</td>\n",
       "      <td>1</td>\n",
       "      <td>1</td>\n",
       "      <td>Cumings, Mrs. John Bradley (Florence Briggs Th...</td>\n",
       "      <td>female</td>\n",
       "      <td>38.0</td>\n",
       "      <td>1</td>\n",
       "      <td>0</td>\n",
       "      <td>PC 17599</td>\n",
       "      <td>71.2833</td>\n",
       "      <td>C85</td>\n",
       "      <td>C</td>\n",
       "      <td>2</td>\n",
       "    </tr>\n",
       "    <tr>\n",
       "      <th>2</th>\n",
       "      <td>3</td>\n",
       "      <td>1</td>\n",
       "      <td>3</td>\n",
       "      <td>Heikkinen, Miss. Laina</td>\n",
       "      <td>female</td>\n",
       "      <td>26.0</td>\n",
       "      <td>0</td>\n",
       "      <td>0</td>\n",
       "      <td>STON/O2. 3101282</td>\n",
       "      <td>7.9250</td>\n",
       "      <td>NaN</td>\n",
       "      <td>S</td>\n",
       "      <td>3</td>\n",
       "    </tr>\n",
       "    <tr>\n",
       "      <th>3</th>\n",
       "      <td>4</td>\n",
       "      <td>1</td>\n",
       "      <td>1</td>\n",
       "      <td>Futrelle, Mrs. Jacques Heath (Lily May Peel)</td>\n",
       "      <td>female</td>\n",
       "      <td>35.0</td>\n",
       "      <td>1</td>\n",
       "      <td>0</td>\n",
       "      <td>113803</td>\n",
       "      <td>53.1000</td>\n",
       "      <td>C123</td>\n",
       "      <td>S</td>\n",
       "      <td>4</td>\n",
       "    </tr>\n",
       "    <tr>\n",
       "      <th>4</th>\n",
       "      <td>5</td>\n",
       "      <td>0</td>\n",
       "      <td>3</td>\n",
       "      <td>Allen, Mr. William Henry</td>\n",
       "      <td>male</td>\n",
       "      <td>35.0</td>\n",
       "      <td>0</td>\n",
       "      <td>0</td>\n",
       "      <td>373450</td>\n",
       "      <td>8.0500</td>\n",
       "      <td>NaN</td>\n",
       "      <td>S</td>\n",
       "      <td>5</td>\n",
       "    </tr>\n",
       "  </tbody>\n",
       "</table>\n",
       "</div>"
      ],
      "text/plain": [
       "   PassengerId  Survived  Pclass  \\\n",
       "0            1         0       3   \n",
       "1            2         1       1   \n",
       "2            3         1       3   \n",
       "3            4         1       1   \n",
       "4            5         0       3   \n",
       "\n",
       "                                                Name     Sex   Age  SibSp  \\\n",
       "0                            Braund, Mr. Owen Harris    male  22.0      1   \n",
       "1  Cumings, Mrs. John Bradley (Florence Briggs Th...  female  38.0      1   \n",
       "2                             Heikkinen, Miss. Laina  female  26.0      0   \n",
       "3       Futrelle, Mrs. Jacques Heath (Lily May Peel)  female  35.0      1   \n",
       "4                           Allen, Mr. William Henry    male  35.0      0   \n",
       "\n",
       "   Parch            Ticket     Fare Cabin Embarked  SpecialAddition  \n",
       "0      0         A/5 21171   7.2500   NaN        S                1  \n",
       "1      0          PC 17599  71.2833   C85        C                2  \n",
       "2      0  STON/O2. 3101282   7.9250   NaN        S                3  \n",
       "3      0            113803  53.1000  C123        S                4  \n",
       "4      0            373450   8.0500   NaN        S                5  "
      ]
     },
     "execution_count": 19,
     "metadata": {},
     "output_type": "execute_result"
    }
   ],
   "source": [
    "data.head()"
   ]
  },
  {
   "cell_type": "code",
   "execution_count": 20,
   "id": "2588bdec-ebd3-4488-8261-aedde00db830",
   "metadata": {},
   "outputs": [],
   "source": [
    "# Adding rows\n",
    "data.loc[894] =[895, 1, 3, \"Thapa, Mr. Prabin\", \"male\", 25, 0, 0, \"CC456\", 8.90,np.nan, \"S\", 894]"
   ]
  },
  {
   "cell_type": "code",
   "execution_count": 21,
   "id": "42b9b770-cd6d-4138-9b20-9e0cf3153251",
   "metadata": {},
   "outputs": [
    {
     "data": {
      "text/html": [
       "<div>\n",
       "<style scoped>\n",
       "    .dataframe tbody tr th:only-of-type {\n",
       "        vertical-align: middle;\n",
       "    }\n",
       "\n",
       "    .dataframe tbody tr th {\n",
       "        vertical-align: top;\n",
       "    }\n",
       "\n",
       "    .dataframe thead th {\n",
       "        text-align: right;\n",
       "    }\n",
       "</style>\n",
       "<table border=\"1\" class=\"dataframe\">\n",
       "  <thead>\n",
       "    <tr style=\"text-align: right;\">\n",
       "      <th></th>\n",
       "      <th>PassengerId</th>\n",
       "      <th>Survived</th>\n",
       "      <th>Pclass</th>\n",
       "      <th>Name</th>\n",
       "      <th>Sex</th>\n",
       "      <th>Age</th>\n",
       "      <th>SibSp</th>\n",
       "      <th>Parch</th>\n",
       "      <th>Ticket</th>\n",
       "      <th>Fare</th>\n",
       "      <th>Cabin</th>\n",
       "      <th>Embarked</th>\n",
       "      <th>SpecialAddition</th>\n",
       "    </tr>\n",
       "  </thead>\n",
       "  <tbody>\n",
       "    <tr>\n",
       "      <th>887</th>\n",
       "      <td>888</td>\n",
       "      <td>1</td>\n",
       "      <td>1</td>\n",
       "      <td>Graham, Miss. Margaret Edith</td>\n",
       "      <td>female</td>\n",
       "      <td>19.0</td>\n",
       "      <td>0</td>\n",
       "      <td>0</td>\n",
       "      <td>112053</td>\n",
       "      <td>30.00</td>\n",
       "      <td>B42</td>\n",
       "      <td>S</td>\n",
       "      <td>888</td>\n",
       "    </tr>\n",
       "    <tr>\n",
       "      <th>888</th>\n",
       "      <td>889</td>\n",
       "      <td>0</td>\n",
       "      <td>3</td>\n",
       "      <td>Johnston, Miss. Catherine Helen \"Carrie\"</td>\n",
       "      <td>female</td>\n",
       "      <td>NaN</td>\n",
       "      <td>1</td>\n",
       "      <td>2</td>\n",
       "      <td>W./C. 6607</td>\n",
       "      <td>23.45</td>\n",
       "      <td>NaN</td>\n",
       "      <td>S</td>\n",
       "      <td>889</td>\n",
       "    </tr>\n",
       "    <tr>\n",
       "      <th>889</th>\n",
       "      <td>890</td>\n",
       "      <td>1</td>\n",
       "      <td>1</td>\n",
       "      <td>Behr, Mr. Karl Howell</td>\n",
       "      <td>male</td>\n",
       "      <td>26.0</td>\n",
       "      <td>0</td>\n",
       "      <td>0</td>\n",
       "      <td>111369</td>\n",
       "      <td>30.00</td>\n",
       "      <td>C148</td>\n",
       "      <td>C</td>\n",
       "      <td>890</td>\n",
       "    </tr>\n",
       "    <tr>\n",
       "      <th>890</th>\n",
       "      <td>891</td>\n",
       "      <td>0</td>\n",
       "      <td>3</td>\n",
       "      <td>Dooley, Mr. Patrick</td>\n",
       "      <td>male</td>\n",
       "      <td>32.0</td>\n",
       "      <td>0</td>\n",
       "      <td>0</td>\n",
       "      <td>370376</td>\n",
       "      <td>7.75</td>\n",
       "      <td>NaN</td>\n",
       "      <td>Q</td>\n",
       "      <td>891</td>\n",
       "    </tr>\n",
       "    <tr>\n",
       "      <th>894</th>\n",
       "      <td>895</td>\n",
       "      <td>1</td>\n",
       "      <td>3</td>\n",
       "      <td>Thapa, Mr. Prabin</td>\n",
       "      <td>male</td>\n",
       "      <td>25.0</td>\n",
       "      <td>0</td>\n",
       "      <td>0</td>\n",
       "      <td>CC456</td>\n",
       "      <td>8.90</td>\n",
       "      <td>NaN</td>\n",
       "      <td>S</td>\n",
       "      <td>894</td>\n",
       "    </tr>\n",
       "  </tbody>\n",
       "</table>\n",
       "</div>"
      ],
      "text/plain": [
       "     PassengerId  Survived  Pclass                                      Name  \\\n",
       "887          888         1       1              Graham, Miss. Margaret Edith   \n",
       "888          889         0       3  Johnston, Miss. Catherine Helen \"Carrie\"   \n",
       "889          890         1       1                     Behr, Mr. Karl Howell   \n",
       "890          891         0       3                       Dooley, Mr. Patrick   \n",
       "894          895         1       3                         Thapa, Mr. Prabin   \n",
       "\n",
       "        Sex   Age  SibSp  Parch      Ticket   Fare Cabin Embarked  \\\n",
       "887  female  19.0      0      0      112053  30.00   B42        S   \n",
       "888  female   NaN      1      2  W./C. 6607  23.45   NaN        S   \n",
       "889    male  26.0      0      0      111369  30.00  C148        C   \n",
       "890    male  32.0      0      0      370376   7.75   NaN        Q   \n",
       "894    male  25.0      0      0       CC456   8.90   NaN        S   \n",
       "\n",
       "     SpecialAddition  \n",
       "887              888  \n",
       "888              889  \n",
       "889              890  \n",
       "890              891  \n",
       "894              894  "
      ]
     },
     "execution_count": 21,
     "metadata": {},
     "output_type": "execute_result"
    }
   ],
   "source": [
    "data.tail()"
   ]
  },
  {
   "cell_type": "markdown",
   "id": "e781c994-79ac-4065-8886-bfac21706560",
   "metadata": {},
   "source": [
    "<br>"
   ]
  },
  {
   "cell_type": "markdown",
   "id": "2fb87a0a-71b3-40ff-a85e-4f410f2fbeaf",
   "metadata": {},
   "source": [
    "#### b. Removing Columns and rows"
   ]
  },
  {
   "cell_type": "code",
   "execution_count": 22,
   "id": "0eb934c7-050e-407f-8810-542c5ef109fc",
   "metadata": {},
   "outputs": [
    {
     "data": {
      "text/plain": [
       "Index(['PassengerId', 'Survived', 'Pclass', 'Name', 'Sex', 'Age', 'SibSp',\n",
       "       'Parch', 'Ticket', 'Fare', 'Cabin', 'Embarked'],\n",
       "      dtype='object')"
      ]
     },
     "execution_count": 22,
     "metadata": {},
     "output_type": "execute_result"
    }
   ],
   "source": [
    "# Removing columns\n",
    "data.drop(\"SpecialAddition\", axis=1, inplace=True)\n",
    "data.columns"
   ]
  },
  {
   "cell_type": "code",
   "execution_count": 23,
   "id": "e122c25a-c296-4457-b011-b76ff3769aa5",
   "metadata": {},
   "outputs": [
    {
     "data": {
      "text/plain": [
       "<bound method NDFrame.tail of      PassengerId  Survived  Pclass  \\\n",
       "0              1         0       3   \n",
       "1              2         1       1   \n",
       "2              3         1       3   \n",
       "3              4         1       1   \n",
       "4              5         0       3   \n",
       "..           ...       ...     ...   \n",
       "886          887         0       2   \n",
       "887          888         1       1   \n",
       "888          889         0       3   \n",
       "889          890         1       1   \n",
       "890          891         0       3   \n",
       "\n",
       "                                                  Name     Sex   Age  SibSp  \\\n",
       "0                              Braund, Mr. Owen Harris    male  22.0      1   \n",
       "1    Cumings, Mrs. John Bradley (Florence Briggs Th...  female  38.0      1   \n",
       "2                               Heikkinen, Miss. Laina  female  26.0      0   \n",
       "3         Futrelle, Mrs. Jacques Heath (Lily May Peel)  female  35.0      1   \n",
       "4                             Allen, Mr. William Henry    male  35.0      0   \n",
       "..                                                 ...     ...   ...    ...   \n",
       "886                              Montvila, Rev. Juozas    male  27.0      0   \n",
       "887                       Graham, Miss. Margaret Edith  female  19.0      0   \n",
       "888           Johnston, Miss. Catherine Helen \"Carrie\"  female   NaN      1   \n",
       "889                              Behr, Mr. Karl Howell    male  26.0      0   \n",
       "890                                Dooley, Mr. Patrick    male  32.0      0   \n",
       "\n",
       "     Parch            Ticket     Fare Cabin Embarked  \n",
       "0        0         A/5 21171   7.2500   NaN        S  \n",
       "1        0          PC 17599  71.2833   C85        C  \n",
       "2        0  STON/O2. 3101282   7.9250   NaN        S  \n",
       "3        0            113803  53.1000  C123        S  \n",
       "4        0            373450   8.0500   NaN        S  \n",
       "..     ...               ...      ...   ...      ...  \n",
       "886      0            211536  13.0000   NaN        S  \n",
       "887      0            112053  30.0000   B42        S  \n",
       "888      2        W./C. 6607  23.4500   NaN        S  \n",
       "889      0            111369  30.0000  C148        C  \n",
       "890      0            370376   7.7500   NaN        Q  \n",
       "\n",
       "[891 rows x 12 columns]>"
      ]
     },
     "execution_count": 23,
     "metadata": {},
     "output_type": "execute_result"
    }
   ],
   "source": [
    "# Removing rows\n",
    "data.drop(894, axis=0, inplace=True)\n",
    "data.tail"
   ]
  },
  {
   "cell_type": "code",
   "execution_count": 24,
   "id": "49d8baa1-a1bd-484a-938e-f060cc94710a",
   "metadata": {},
   "outputs": [
    {
     "data": {
      "text/plain": [
       "(891, 12)"
      ]
     },
     "execution_count": 24,
     "metadata": {},
     "output_type": "execute_result"
    }
   ],
   "source": [
    "data.shape"
   ]
  },
  {
   "cell_type": "code",
   "execution_count": 25,
   "id": "52750f5b-26cf-483f-ba7a-75293e4af4f0",
   "metadata": {},
   "outputs": [
    {
     "name": "stdout",
     "output_type": "stream",
     "text": [
      "Original DataFrame:\n",
      "      Name  Age      City Height    Profession Marital Status\n",
      "0    Alice   25  New York    165      Engineer         Single\n",
      "1      Bob   30    London    178  Entrepreneur        Married\n",
      "2  Charlie   35     Paris    185    Unemployed       Divorced\n",
      "3    David   40     Tokyo    171         Actor        Engaged\n",
      "\n",
      "Modified DataFrame:\n",
      "      Name      City\n",
      "0    Alice  New York\n",
      "1      Bob    London\n",
      "2  Charlie     Paris\n",
      "3    David     Tokyo\n"
     ]
    }
   ],
   "source": [
    "# Both removing row and columns\n",
    "\n",
    "data = {'Name': ['Alice', 'Bob', 'Charlie', 'David'],\n",
    "        'Age': [25, 30, 35, 40],\n",
    "        'City': ['New York', 'London', 'Paris', 'Tokyo'],\n",
    "        'Height': ['165', '178', '185', '171'],\n",
    "        'Profession': ['Engineer', 'Entrepreneur', 'Unemployed', 'Actor'],\n",
    "        'Marital Status': ['Single', 'Married', 'Divorced', 'Engaged']}\n",
    "df = pd.DataFrame(data)\n",
    "\n",
    "# display the original DataFrame\n",
    "print(\"Original DataFrame:\")\n",
    "print(df)\n",
    "print()\n",
    "\n",
    "# delete age column\n",
    "df.drop('Age', axis=1, inplace=True)\n",
    "\n",
    "# delete marital status column\n",
    "df.drop(columns='Marital Status', inplace=True)\n",
    "\n",
    "# delete height and profession columns\n",
    "df.drop(['Height', 'Profession'], axis=1, inplace=True)\n",
    "\n",
    "# display the modified DataFrame after deleting rows\n",
    "print(\"Modified DataFrame:\")\n",
    "print(df)"
   ]
  },
  {
   "cell_type": "markdown",
   "id": "086e1d20-da4f-489c-89eb-b03184f01111",
   "metadata": {},
   "source": [
    "<br>"
   ]
  },
  {
   "cell_type": "markdown",
   "id": "de99fbbe-6fba-4799-af0e-1ee9161e2bca",
   "metadata": {},
   "source": [
    "#### c. Renaming Rows/Columns"
   ]
  },
  {
   "cell_type": "markdown",
   "id": "3f87fbc2-0b37-462b-afbb-bbd66a0ce61b",
   "metadata": {},
   "source": [
    "##### Renaming Columns"
   ]
  },
  {
   "cell_type": "code",
   "execution_count": 26,
   "id": "0636e020-b3c8-43fe-bfe4-b548d85b3235",
   "metadata": {},
   "outputs": [
    {
     "name": "stdout",
     "output_type": "stream",
     "text": [
      "Original DataFrame:\n",
      "      Name  Age      City Height    Profession Marital Status\n",
      "0    Alice   25  New York    165      Engineer         Single\n",
      "1      Bob   30    London    178  Entrepreneur        Married\n",
      "2  Charlie   35     Paris    185    Unemployed       Divorced\n",
      "3    David   40     Tokyo    171         Actor        Engaged\n",
      "\n",
      "Modified DataFrame:\n",
      "  First_Name  Old      City Height        Career Marital Status\n",
      "0      Alice   25  New York    165      Engineer         Single\n",
      "1        Bob   30    London    178  Entrepreneur        Married\n",
      "2    Charlie   35     Paris    185    Unemployed       Divorced\n",
      "3      David   40     Tokyo    171         Actor        Engaged\n"
     ]
    }
   ],
   "source": [
    "data = {'Name': ['Alice', 'Bob', 'Charlie', 'David'],\n",
    "        'Age': [25, 30, 35, 40],\n",
    "        'City': ['New York', 'London', 'Paris', 'Tokyo'],\n",
    "        'Height': ['165', '178', '185', '171'],\n",
    "        'Profession': ['Engineer', 'Entrepreneur', 'Unemployed', 'Actor'],\n",
    "        'Marital Status': ['Single', 'Married', 'Divorced', 'Engaged']}\n",
    "df = pd.DataFrame(data)\n",
    "\n",
    "# display the original DataFrame\n",
    "print(\"Original DataFrame:\")\n",
    "print(df)\n",
    "print()\n",
    "\n",
    "# Rename column 'Name' to 'First_Name':\n",
    "df.rename(columns={'Name':'First_Name'}, inplace=True)\n",
    "\n",
    "# Rename column 'Age' and 'profession'\n",
    "df.rename(mapper={'Age':'Old', 'Profession':'Career'}, axis=1, inplace=True)\n",
    "print(\"Modified DataFrame:\")\n",
    "print(df)"
   ]
  },
  {
   "cell_type": "markdown",
   "id": "fba32c41-3d4f-4504-9f65-6f604a7bed27",
   "metadata": {},
   "source": [
    "In this example, we renamed a single column using the `columns={'Name': 'First_Name'}` parameter. We also renamed multiple columns with `mapper={'Age': 'Number', 'Profession':'Career'}` argument.\n",
    "\n",
    "- `axis=1`: indicates that columns are to be renamed\n",
    "- `inplace=True`: indicates that the changes are to be made in the original DataFrame"
   ]
  },
  {
   "cell_type": "markdown",
   "id": "54180ec1-f3a9-453e-b745-16b9927153b9",
   "metadata": {},
   "source": [
    "##### Renaming rows"
   ]
  },
  {
   "cell_type": "code",
   "execution_count": 27,
   "id": "63c6c492-9899-4e18-bdb9-0058138b56aa",
   "metadata": {},
   "outputs": [
    {
     "name": "stdout",
     "output_type": "stream",
     "text": [
      "Original DataFrame:\n",
      "      Name  Age      City\n",
      "0    Alice   25  New York\n",
      "1      Bob   30    London\n",
      "2  Charlie   35     Paris\n",
      "3    David   40     Tokyo\n",
      "\n",
      "Modified DataFrame:\n",
      "       Name  Age      City\n",
      "7     Alice   25  New York\n",
      "8       Bob   30    London\n",
      "9   Charlie   35     Paris\n",
      "10    David   40     Tokyo\n"
     ]
    }
   ],
   "source": [
    "data = {'Name': ['Alice', 'Bob', 'Charlie', 'David'],\n",
    "        'Age': [25, 30, 35, 40],\n",
    "        'City': ['New York', 'London', 'Paris', 'Tokyo']}\n",
    "df = pd.DataFrame(data)\n",
    "\n",
    "# display the original DataFrame\n",
    "print(\"Original DataFrame:\")\n",
    "print(df)\n",
    "print()\n",
    "\n",
    "# Renaming rows/ column one index level\n",
    "df.rename(index={0: 7}, inplace=True) \n",
    "\n",
    "# rename multiple rows/index labels\n",
    "df.rename(mapper={1:8, 2:9, 3:10}, axis=0, inplace=True)\n",
    "\n",
    "print(\"Modified DataFrame:\")\n",
    "print(df)"
   ]
  },
  {
   "cell_type": "markdown",
   "id": "394b22fa-604b-4df2-ad0e-d02081d7eeaa",
   "metadata": {},
   "source": [
    "In this example, we renamed a single row using the `index={0: 7}` parameter. We also renamed multiple rows with `mapper={1: 8, 2: 9, 3:10}` argument.\n",
    "\n",
    "`axis=0`: indicates that rows are to be renamed"
   ]
  },
  {
   "cell_type": "markdown",
   "id": "bd4f7b4d-a2f9-4de1-9893-ba19be872c5c",
   "metadata": {},
   "source": [
    "<br><br>"
   ]
  },
  {
   "cell_type": "markdown",
   "id": "8580b8fc-a158-4734-9354-deaad66c45b7",
   "metadata": {},
   "source": [
    "## 3. Pandas Indexing and Slicing"
   ]
  },
  {
   "cell_type": "markdown",
   "id": "1036d085-3601-4a50-89af-524e494980b7",
   "metadata": {},
   "source": [
    "In Pandas, indexing refers to accessing rows and columns of data from a DataFrame, whereas slicing refers to accessing a range of rows and columns.\n",
    "\n",
    "We can access data or range of data from a DataFrame using different methods."
   ]
  },
  {
   "cell_type": "markdown",
   "id": "9e2305da-39b6-443a-8838-af328c13d73a",
   "metadata": {},
   "source": [
    "### Access Columns of a DataFrame"
   ]
  },
  {
   "cell_type": "code",
   "execution_count": 28,
   "id": "15080900-f157-43e4-8a34-0b8956f3dbfe",
   "metadata": {},
   "outputs": [
    {
     "data": {
      "text/html": [
       "<div>\n",
       "<style scoped>\n",
       "    .dataframe tbody tr th:only-of-type {\n",
       "        vertical-align: middle;\n",
       "    }\n",
       "\n",
       "    .dataframe tbody tr th {\n",
       "        vertical-align: top;\n",
       "    }\n",
       "\n",
       "    .dataframe thead th {\n",
       "        text-align: right;\n",
       "    }\n",
       "</style>\n",
       "<table border=\"1\" class=\"dataframe\">\n",
       "  <thead>\n",
       "    <tr style=\"text-align: right;\">\n",
       "      <th></th>\n",
       "      <th>PassengerId</th>\n",
       "      <th>Survived</th>\n",
       "      <th>Pclass</th>\n",
       "      <th>Name</th>\n",
       "      <th>Sex</th>\n",
       "      <th>Age</th>\n",
       "      <th>SibSp</th>\n",
       "      <th>Parch</th>\n",
       "      <th>Ticket</th>\n",
       "      <th>Fare</th>\n",
       "      <th>Cabin</th>\n",
       "      <th>Embarked</th>\n",
       "    </tr>\n",
       "  </thead>\n",
       "  <tbody>\n",
       "    <tr>\n",
       "      <th>0</th>\n",
       "      <td>1</td>\n",
       "      <td>0</td>\n",
       "      <td>3</td>\n",
       "      <td>Braund, Mr. Owen Harris</td>\n",
       "      <td>male</td>\n",
       "      <td>22.0</td>\n",
       "      <td>1</td>\n",
       "      <td>0</td>\n",
       "      <td>A/5 21171</td>\n",
       "      <td>7.2500</td>\n",
       "      <td>NaN</td>\n",
       "      <td>S</td>\n",
       "    </tr>\n",
       "    <tr>\n",
       "      <th>1</th>\n",
       "      <td>2</td>\n",
       "      <td>1</td>\n",
       "      <td>1</td>\n",
       "      <td>Cumings, Mrs. John Bradley (Florence Briggs Th...</td>\n",
       "      <td>female</td>\n",
       "      <td>38.0</td>\n",
       "      <td>1</td>\n",
       "      <td>0</td>\n",
       "      <td>PC 17599</td>\n",
       "      <td>71.2833</td>\n",
       "      <td>C85</td>\n",
       "      <td>C</td>\n",
       "    </tr>\n",
       "    <tr>\n",
       "      <th>2</th>\n",
       "      <td>3</td>\n",
       "      <td>1</td>\n",
       "      <td>3</td>\n",
       "      <td>Heikkinen, Miss. Laina</td>\n",
       "      <td>female</td>\n",
       "      <td>26.0</td>\n",
       "      <td>0</td>\n",
       "      <td>0</td>\n",
       "      <td>STON/O2. 3101282</td>\n",
       "      <td>7.9250</td>\n",
       "      <td>NaN</td>\n",
       "      <td>S</td>\n",
       "    </tr>\n",
       "    <tr>\n",
       "      <th>3</th>\n",
       "      <td>4</td>\n",
       "      <td>1</td>\n",
       "      <td>1</td>\n",
       "      <td>Futrelle, Mrs. Jacques Heath (Lily May Peel)</td>\n",
       "      <td>female</td>\n",
       "      <td>35.0</td>\n",
       "      <td>1</td>\n",
       "      <td>0</td>\n",
       "      <td>113803</td>\n",
       "      <td>53.1000</td>\n",
       "      <td>C123</td>\n",
       "      <td>S</td>\n",
       "    </tr>\n",
       "    <tr>\n",
       "      <th>4</th>\n",
       "      <td>5</td>\n",
       "      <td>0</td>\n",
       "      <td>3</td>\n",
       "      <td>Allen, Mr. William Henry</td>\n",
       "      <td>male</td>\n",
       "      <td>35.0</td>\n",
       "      <td>0</td>\n",
       "      <td>0</td>\n",
       "      <td>373450</td>\n",
       "      <td>8.0500</td>\n",
       "      <td>NaN</td>\n",
       "      <td>S</td>\n",
       "    </tr>\n",
       "  </tbody>\n",
       "</table>\n",
       "</div>"
      ],
      "text/plain": [
       "   PassengerId  Survived  Pclass  \\\n",
       "0            1         0       3   \n",
       "1            2         1       1   \n",
       "2            3         1       3   \n",
       "3            4         1       1   \n",
       "4            5         0       3   \n",
       "\n",
       "                                                Name     Sex   Age  SibSp  \\\n",
       "0                            Braund, Mr. Owen Harris    male  22.0      1   \n",
       "1  Cumings, Mrs. John Bradley (Florence Briggs Th...  female  38.0      1   \n",
       "2                             Heikkinen, Miss. Laina  female  26.0      0   \n",
       "3       Futrelle, Mrs. Jacques Heath (Lily May Peel)  female  35.0      1   \n",
       "4                           Allen, Mr. William Henry    male  35.0      0   \n",
       "\n",
       "   Parch            Ticket     Fare Cabin Embarked  \n",
       "0      0         A/5 21171   7.2500   NaN        S  \n",
       "1      0          PC 17599  71.2833   C85        C  \n",
       "2      0  STON/O2. 3101282   7.9250   NaN        S  \n",
       "3      0            113803  53.1000  C123        S  \n",
       "4      0            373450   8.0500   NaN        S  "
      ]
     },
     "execution_count": 28,
     "metadata": {},
     "output_type": "execute_result"
    }
   ],
   "source": [
    "df = pd.read_csv(\"C:\\\\Users\\\\hp\\\\Downloads\\\\archive\\\\train.csv\")\n",
    "(df.head()) "
   ]
  },
  {
   "cell_type": "code",
   "execution_count": 29,
   "id": "0320162a-d8c6-449d-b9c5-8256c549e17f",
   "metadata": {},
   "outputs": [
    {
     "data": {
      "text/plain": [
       "0      male\n",
       "1    female\n",
       "2    female\n",
       "3    female\n",
       "4      male\n",
       "Name: Sex, dtype: object"
      ]
     },
     "execution_count": 29,
     "metadata": {},
     "output_type": "execute_result"
    }
   ],
   "source": [
    "df['Sex'].head() # Access single columns"
   ]
  },
  {
   "cell_type": "code",
   "execution_count": 30,
   "id": "8408e8b1-6061-41de-9f2b-ed4d8e1fa837",
   "metadata": {},
   "outputs": [
    {
     "data": {
      "text/html": [
       "<div>\n",
       "<style scoped>\n",
       "    .dataframe tbody tr th:only-of-type {\n",
       "        vertical-align: middle;\n",
       "    }\n",
       "\n",
       "    .dataframe tbody tr th {\n",
       "        vertical-align: top;\n",
       "    }\n",
       "\n",
       "    .dataframe thead th {\n",
       "        text-align: right;\n",
       "    }\n",
       "</style>\n",
       "<table border=\"1\" class=\"dataframe\">\n",
       "  <thead>\n",
       "    <tr style=\"text-align: right;\">\n",
       "      <th></th>\n",
       "      <th>Sex</th>\n",
       "      <th>Age</th>\n",
       "    </tr>\n",
       "  </thead>\n",
       "  <tbody>\n",
       "    <tr>\n",
       "      <th>886</th>\n",
       "      <td>male</td>\n",
       "      <td>27.0</td>\n",
       "    </tr>\n",
       "    <tr>\n",
       "      <th>887</th>\n",
       "      <td>female</td>\n",
       "      <td>19.0</td>\n",
       "    </tr>\n",
       "    <tr>\n",
       "      <th>888</th>\n",
       "      <td>female</td>\n",
       "      <td>NaN</td>\n",
       "    </tr>\n",
       "    <tr>\n",
       "      <th>889</th>\n",
       "      <td>male</td>\n",
       "      <td>26.0</td>\n",
       "    </tr>\n",
       "    <tr>\n",
       "      <th>890</th>\n",
       "      <td>male</td>\n",
       "      <td>32.0</td>\n",
       "    </tr>\n",
       "  </tbody>\n",
       "</table>\n",
       "</div>"
      ],
      "text/plain": [
       "        Sex   Age\n",
       "886    male  27.0\n",
       "887  female  19.0\n",
       "888  female   NaN\n",
       "889    male  26.0\n",
       "890    male  32.0"
      ]
     },
     "execution_count": 30,
     "metadata": {},
     "output_type": "execute_result"
    }
   ],
   "source": [
    "df[['Sex', 'Age']].tail() #Access multiple columns"
   ]
  },
  {
   "cell_type": "markdown",
   "id": "bac6f1fa-5bbc-43cb-9a45-573d42cea98a",
   "metadata": {},
   "source": [
    "In this example, we accessed the `Sex` and the `Age` columns of `df` using the `[]` operator. It returned a DataFrame containing the values from `Sex` and `Age` of df.\n",
    "\n",
    "The `[]` operator, however, provides limited functionality. Even basic operations like selecting rows, slicing DataFrames and selecting individual elements are quite tricky using the `[]` operator only.\n",
    "\n",
    "So we use the `.loc` and properties for indexing and slicing DataFrames. They provide much more flexibility compared to the `[]` operator.\r\n",
    "\r\n"
   ]
  },
  {
   "cell_type": "markdown",
   "id": "f94ca10b-6f2c-4f2e-b736-6183faf32c09",
   "metadata": {},
   "source": [
    "### Pandas.loc\n",
    "In Pandas, we use the `.loc` property to access and modify data within a DataFrame using **label-based** indexing. It allows us to select specific rows and columns based on their labels.\n",
    "\n",
    "Basic Syntax\n",
    "```Python\n",
    "df.loc[row_indexer, column_indexer]\n",
    "```\n",
    "Here, \n",
    "- `row_indexer` - selects rows by their labels, can be a single label, a list of labels, or a boolean array\n",
    "- `column_indexer` - selects columns, can also be a single label, a list of labels, or a boolean array"
   ]
  },
  {
   "cell_type": "markdown",
   "id": "a366c085-934c-4b26-b77f-8cab6ca7007b",
   "metadata": {},
   "source": [
    "#### Indexing with `.loc[]`"
   ]
  },
  {
   "cell_type": "code",
   "execution_count": 31,
   "id": "8aac25e9-2049-4c34-949c-663ddb536749",
   "metadata": {},
   "outputs": [
    {
     "data": {
      "text/html": [
       "<div>\n",
       "<style scoped>\n",
       "    .dataframe tbody tr th:only-of-type {\n",
       "        vertical-align: middle;\n",
       "    }\n",
       "\n",
       "    .dataframe tbody tr th {\n",
       "        vertical-align: top;\n",
       "    }\n",
       "\n",
       "    .dataframe thead th {\n",
       "        text-align: right;\n",
       "    }\n",
       "</style>\n",
       "<table border=\"1\" class=\"dataframe\">\n",
       "  <thead>\n",
       "    <tr style=\"text-align: right;\">\n",
       "      <th></th>\n",
       "      <th>Name</th>\n",
       "      <th>Embarked</th>\n",
       "    </tr>\n",
       "  </thead>\n",
       "  <tbody>\n",
       "    <tr>\n",
       "      <th>0</th>\n",
       "      <td>Braund, Mr. Owen Harris</td>\n",
       "      <td>S</td>\n",
       "    </tr>\n",
       "    <tr>\n",
       "      <th>3</th>\n",
       "      <td>Futrelle, Mrs. Jacques Heath (Lily May Peel)</td>\n",
       "      <td>S</td>\n",
       "    </tr>\n",
       "    <tr>\n",
       "      <th>4</th>\n",
       "      <td>Allen, Mr. William Henry</td>\n",
       "      <td>S</td>\n",
       "    </tr>\n",
       "  </tbody>\n",
       "</table>\n",
       "</div>"
      ],
      "text/plain": [
       "                                           Name Embarked\n",
       "0                       Braund, Mr. Owen Harris        S\n",
       "3  Futrelle, Mrs. Jacques Heath (Lily May Peel)        S\n",
       "4                      Allen, Mr. William Henry        S"
      ]
     },
     "execution_count": 31,
     "metadata": {},
     "output_type": "execute_result"
    }
   ],
   "source": [
    "df.loc[[0, 3, 4], [\"Name\", \"Embarked\"]] # Indexing "
   ]
  },
  {
   "cell_type": "markdown",
   "id": "f1563555-b53f-4727-909a-441109d4880a",
   "metadata": {},
   "source": [
    "#### Slicing with `.loc[]`"
   ]
  },
  {
   "cell_type": "code",
   "execution_count": 32,
   "id": "7208d7cf-6abf-4367-85e2-d875f7afc509",
   "metadata": {},
   "outputs": [
    {
     "data": {
      "text/html": [
       "<div>\n",
       "<style scoped>\n",
       "    .dataframe tbody tr th:only-of-type {\n",
       "        vertical-align: middle;\n",
       "    }\n",
       "\n",
       "    .dataframe tbody tr th {\n",
       "        vertical-align: top;\n",
       "    }\n",
       "\n",
       "    .dataframe thead th {\n",
       "        text-align: right;\n",
       "    }\n",
       "</style>\n",
       "<table border=\"1\" class=\"dataframe\">\n",
       "  <thead>\n",
       "    <tr style=\"text-align: right;\">\n",
       "      <th></th>\n",
       "      <th>Name</th>\n",
       "      <th>Sex</th>\n",
       "    </tr>\n",
       "  </thead>\n",
       "  <tbody>\n",
       "    <tr>\n",
       "      <th>1</th>\n",
       "      <td>Cumings, Mrs. John Bradley (Florence Briggs Th...</td>\n",
       "      <td>female</td>\n",
       "    </tr>\n",
       "    <tr>\n",
       "      <th>2</th>\n",
       "      <td>Heikkinen, Miss. Laina</td>\n",
       "      <td>female</td>\n",
       "    </tr>\n",
       "    <tr>\n",
       "      <th>3</th>\n",
       "      <td>Futrelle, Mrs. Jacques Heath (Lily May Peel)</td>\n",
       "      <td>female</td>\n",
       "    </tr>\n",
       "    <tr>\n",
       "      <th>4</th>\n",
       "      <td>Allen, Mr. William Henry</td>\n",
       "      <td>male</td>\n",
       "    </tr>\n",
       "    <tr>\n",
       "      <th>5</th>\n",
       "      <td>Moran, Mr. James</td>\n",
       "      <td>male</td>\n",
       "    </tr>\n",
       "  </tbody>\n",
       "</table>\n",
       "</div>"
      ],
      "text/plain": [
       "                                                Name     Sex\n",
       "1  Cumings, Mrs. John Bradley (Florence Briggs Th...  female\n",
       "2                             Heikkinen, Miss. Laina  female\n",
       "3       Futrelle, Mrs. Jacques Heath (Lily May Peel)  female\n",
       "4                           Allen, Mr. William Henry    male\n",
       "5                                   Moran, Mr. James    male"
      ]
     },
     "execution_count": 32,
     "metadata": {},
     "output_type": "execute_result"
    }
   ],
   "source": [
    "df.loc[1:5, \"Name\":\"Sex\"] # Slicing"
   ]
  },
  {
   "cell_type": "markdown",
   "id": "9d393bbc-fadc-43e7-afa3-991473e35db3",
   "metadata": {},
   "source": [
    "#### Boolean Indexing with `.loc[]`"
   ]
  },
  {
   "cell_type": "code",
   "execution_count": 33,
   "id": "c3b12631-933b-49c8-91f4-334ab6a42747",
   "metadata": {},
   "outputs": [
    {
     "data": {
      "text/html": [
       "<div>\n",
       "<style scoped>\n",
       "    .dataframe tbody tr th:only-of-type {\n",
       "        vertical-align: middle;\n",
       "    }\n",
       "\n",
       "    .dataframe tbody tr th {\n",
       "        vertical-align: top;\n",
       "    }\n",
       "\n",
       "    .dataframe thead th {\n",
       "        text-align: right;\n",
       "    }\n",
       "</style>\n",
       "<table border=\"1\" class=\"dataframe\">\n",
       "  <thead>\n",
       "    <tr style=\"text-align: right;\">\n",
       "      <th></th>\n",
       "      <th>PassengerId</th>\n",
       "      <th>Survived</th>\n",
       "      <th>Pclass</th>\n",
       "      <th>Name</th>\n",
       "      <th>Sex</th>\n",
       "      <th>Age</th>\n",
       "      <th>SibSp</th>\n",
       "      <th>Parch</th>\n",
       "      <th>Ticket</th>\n",
       "      <th>Fare</th>\n",
       "      <th>Cabin</th>\n",
       "      <th>Embarked</th>\n",
       "    </tr>\n",
       "  </thead>\n",
       "  <tbody>\n",
       "    <tr>\n",
       "      <th>96</th>\n",
       "      <td>97</td>\n",
       "      <td>0</td>\n",
       "      <td>1</td>\n",
       "      <td>Goldschmidt, Mr. George B</td>\n",
       "      <td>male</td>\n",
       "      <td>71.0</td>\n",
       "      <td>0</td>\n",
       "      <td>0</td>\n",
       "      <td>PC 17754</td>\n",
       "      <td>34.6542</td>\n",
       "      <td>A5</td>\n",
       "      <td>C</td>\n",
       "    </tr>\n",
       "    <tr>\n",
       "      <th>116</th>\n",
       "      <td>117</td>\n",
       "      <td>0</td>\n",
       "      <td>3</td>\n",
       "      <td>Connors, Mr. Patrick</td>\n",
       "      <td>male</td>\n",
       "      <td>70.5</td>\n",
       "      <td>0</td>\n",
       "      <td>0</td>\n",
       "      <td>370369</td>\n",
       "      <td>7.7500</td>\n",
       "      <td>NaN</td>\n",
       "      <td>Q</td>\n",
       "    </tr>\n",
       "    <tr>\n",
       "      <th>493</th>\n",
       "      <td>494</td>\n",
       "      <td>0</td>\n",
       "      <td>1</td>\n",
       "      <td>Artagaveytia, Mr. Ramon</td>\n",
       "      <td>male</td>\n",
       "      <td>71.0</td>\n",
       "      <td>0</td>\n",
       "      <td>0</td>\n",
       "      <td>PC 17609</td>\n",
       "      <td>49.5042</td>\n",
       "      <td>NaN</td>\n",
       "      <td>C</td>\n",
       "    </tr>\n",
       "    <tr>\n",
       "      <th>630</th>\n",
       "      <td>631</td>\n",
       "      <td>1</td>\n",
       "      <td>1</td>\n",
       "      <td>Barkworth, Mr. Algernon Henry Wilson</td>\n",
       "      <td>male</td>\n",
       "      <td>80.0</td>\n",
       "      <td>0</td>\n",
       "      <td>0</td>\n",
       "      <td>27042</td>\n",
       "      <td>30.0000</td>\n",
       "      <td>A23</td>\n",
       "      <td>S</td>\n",
       "    </tr>\n",
       "    <tr>\n",
       "      <th>851</th>\n",
       "      <td>852</td>\n",
       "      <td>0</td>\n",
       "      <td>3</td>\n",
       "      <td>Svensson, Mr. Johan</td>\n",
       "      <td>male</td>\n",
       "      <td>74.0</td>\n",
       "      <td>0</td>\n",
       "      <td>0</td>\n",
       "      <td>347060</td>\n",
       "      <td>7.7750</td>\n",
       "      <td>NaN</td>\n",
       "      <td>S</td>\n",
       "    </tr>\n",
       "  </tbody>\n",
       "</table>\n",
       "</div>"
      ],
      "text/plain": [
       "     PassengerId  Survived  Pclass                                  Name  \\\n",
       "96            97         0       1             Goldschmidt, Mr. George B   \n",
       "116          117         0       3                  Connors, Mr. Patrick   \n",
       "493          494         0       1               Artagaveytia, Mr. Ramon   \n",
       "630          631         1       1  Barkworth, Mr. Algernon Henry Wilson   \n",
       "851          852         0       3                   Svensson, Mr. Johan   \n",
       "\n",
       "      Sex   Age  SibSp  Parch    Ticket     Fare Cabin Embarked  \n",
       "96   male  71.0      0      0  PC 17754  34.6542    A5        C  \n",
       "116  male  70.5      0      0    370369   7.7500   NaN        Q  \n",
       "493  male  71.0      0      0  PC 17609  49.5042   NaN        C  \n",
       "630  male  80.0      0      0     27042  30.0000   A23        S  \n",
       "851  male  74.0      0      0    347060   7.7750   NaN        S  "
      ]
     },
     "execution_count": 33,
     "metadata": {},
     "output_type": "execute_result"
    }
   ],
   "source": [
    "df.loc[df['Age']>70]"
   ]
  },
  {
   "cell_type": "markdown",
   "id": "3f90b628-4477-4f5e-9363-fc518ed63d38",
   "metadata": {},
   "source": [
    "<br><br>"
   ]
  },
  {
   "cell_type": "markdown",
   "id": "6e4442c0-0711-4057-a4bb-38111df6d711",
   "metadata": {},
   "source": [
    "## 4. Pandas Select"
   ]
  },
  {
   "cell_type": "markdown",
   "id": "351c4354-b51a-4a7d-91b5-3dfb08a7f65b",
   "metadata": {},
   "source": [
    "- It is selecting Data Using Indexing and Slicing\n",
    "- Mostly we use `.loc[]`, `.at[]`, `.iat[]` for Indexing and Slicing of large Datasets.\n",
    "- We already looked about this matters.\n",
    "- We will talk about `df.query()` method of selecting data in this chapter."
   ]
  },
  {
   "cell_type": "markdown",
   "id": "1873af79-0ce2-40bb-9c76-ec1731c165ed",
   "metadata": {},
   "source": [
    "#### `df.query()` to Select Data\n",
    "The `query()` method in Pandas allows you to select data using a more SQL-like syntax."
   ]
  },
  {
   "cell_type": "code",
   "execution_count": 34,
   "id": "411e94f1-f733-4386-8313-16ea94f36ed7",
   "metadata": {},
   "outputs": [
    {
     "name": "stdout",
     "output_type": "stream",
     "text": [
      " Name  Age  Score\n",
      "  Bob   30     90\n",
      "David   28     80\n",
      "  Eva   35     95\n"
     ]
    }
   ],
   "source": [
    "data = {\n",
    "    'Name': ['Alice', 'Bob', 'Charlie', 'David', 'Eva'],\n",
    "    'Age': [25, 30, 22, 28, 35],\n",
    "    'Score': [85, 90, 75, 80, 95]\n",
    "}\n",
    "df = pd.DataFrame(data)\n",
    "\n",
    "# Select the rows where the age is greater than 25\n",
    "selected_rows = df.loc[df['Age'] > 25]\n",
    "selected_rows  # With .loc[] we can do like this same thing using df.query()\n",
    "\n",
    "select_rows = df.query('Age> 25')\n",
    "print(select_rows.to_string(index=False))"
   ]
  },
  {
   "cell_type": "markdown",
   "id": "8235ebc8-292a-4d78-b4ef-79d67feb84eb",
   "metadata": {},
   "source": [
    "In this example, the query `Age > 25` selects the rows where the Age column's values are greater than `25`."
   ]
  },
  {
   "cell_type": "markdown",
   "id": "77d0e274-9c8d-4476-81c1-dac741318210",
   "metadata": {},
   "source": [
    "<br>"
   ]
  },
  {
   "cell_type": "markdown",
   "id": "5fc1ceb5-3aba-4235-9879-e727eca3a673",
   "metadata": {},
   "source": [
    "`df.isin()` to Select Rows"
   ]
  },
  {
   "cell_type": "code",
   "execution_count": 35,
   "id": "09e690b3-9a20-490a-a49b-e800643c97c4",
   "metadata": {},
   "outputs": [
    {
     "name": "stdout",
     "output_type": "stream",
     "text": [
      " Name  Age\n",
      "  Bob   30\n",
      "David   28\n"
     ]
    }
   ],
   "source": [
    "data = {\n",
    "    'Name': ['Alice', 'Bob', 'Charlie', 'David', 'Emily'],\n",
    "    'Age': [25, 30, 22, 28, 24]\n",
    "}\n",
    "\n",
    "df = pd.DataFrame(data)\n",
    "\n",
    "# create a list of names to select\n",
    "names_to_filter = ['Bob', 'David']\n",
    "\n",
    "# use isin() to select rows based on the 'Name' column\n",
    "selected_rows = df[df['Name'].isin(names_to_filter)]\n",
    "\n",
    "print(selected_rows.to_string(index = False))"
   ]
  },
  {
   "cell_type": "markdown",
   "id": "d867d6c6-3ea0-4986-aa81-7990b0df2f25",
   "metadata": {},
   "source": [
    "In this example, we want to select only the rows where the name is either `Bob` or `David`.\n",
    "\n",
    "We created a list `names_to_filter` with the names we want to filter by and then used the `isin()` method to filter the rows based on the values in the `Name` column."
   ]
  },
  {
   "cell_type": "markdown",
   "id": "d56735d3-b3fa-42fa-82d3-0e00c62bc057",
   "metadata": {},
   "source": [
    "<br><br>"
   ]
  },
  {
   "cell_type": "markdown",
   "id": "9ef6155e-78b6-4e73-82be-b4e9064bea47",
   "metadata": {},
   "source": [
    "## 5. Pandas MultiIndex"
   ]
  },
  {
   "cell_type": "markdown",
   "id": "985b4ef1-806b-4118-942d-17719e3246f4",
   "metadata": {},
   "source": [
    "A MultiIndex in Pandas is a hierarchical indexing structure that allows us to represent and work with higher-dimensional data efficiently.\n",
    "\n",
    "While a typical index refers to a single column, a MultiIndex contains multiple levels of indexes. Each column in a MultiIndex is linked to one another through a parent/relationship.\n",
    "\n",
    "Let's take an example of a DataFrame containing the population of different countries."
   ]
  },
  {
   "cell_type": "code",
   "execution_count": 36,
   "id": "7068339b-009b-4c26-ba72-1bef148bac21",
   "metadata": {},
   "outputs": [
    {
     "data": {
      "text/html": [
       "<div>\n",
       "<style scoped>\n",
       "    .dataframe tbody tr th:only-of-type {\n",
       "        vertical-align: middle;\n",
       "    }\n",
       "\n",
       "    .dataframe tbody tr th {\n",
       "        vertical-align: top;\n",
       "    }\n",
       "\n",
       "    .dataframe thead th {\n",
       "        text-align: right;\n",
       "    }\n",
       "</style>\n",
       "<table border=\"1\" class=\"dataframe\">\n",
       "  <thead>\n",
       "    <tr style=\"text-align: right;\">\n",
       "      <th></th>\n",
       "      <th>Continent</th>\n",
       "      <th>Country</th>\n",
       "      <th>Population</th>\n",
       "    </tr>\n",
       "  </thead>\n",
       "  <tbody>\n",
       "    <tr>\n",
       "      <th>0</th>\n",
       "      <td>North America</td>\n",
       "      <td>United States</td>\n",
       "      <td>331002651</td>\n",
       "    </tr>\n",
       "    <tr>\n",
       "      <th>1</th>\n",
       "      <td>Europe</td>\n",
       "      <td>Germany</td>\n",
       "      <td>83783942</td>\n",
       "    </tr>\n",
       "    <tr>\n",
       "      <th>2</th>\n",
       "      <td>Asia</td>\n",
       "      <td>China</td>\n",
       "      <td>1439323776</td>\n",
       "    </tr>\n",
       "    <tr>\n",
       "      <th>3</th>\n",
       "      <td>North America</td>\n",
       "      <td>Canada</td>\n",
       "      <td>37742154</td>\n",
       "    </tr>\n",
       "    <tr>\n",
       "      <th>4</th>\n",
       "      <td>Asia</td>\n",
       "      <td>Japan</td>\n",
       "      <td>126476461</td>\n",
       "    </tr>\n",
       "    <tr>\n",
       "      <th>5</th>\n",
       "      <td>Europe</td>\n",
       "      <td>France</td>\n",
       "      <td>65273511</td>\n",
       "    </tr>\n",
       "    <tr>\n",
       "      <th>6</th>\n",
       "      <td>North America</td>\n",
       "      <td>Mexico</td>\n",
       "      <td>128932753</td>\n",
       "    </tr>\n",
       "    <tr>\n",
       "      <th>7</th>\n",
       "      <td>Asia</td>\n",
       "      <td>India</td>\n",
       "      <td>1380004385</td>\n",
       "    </tr>\n",
       "    <tr>\n",
       "      <th>8</th>\n",
       "      <td>Europe</td>\n",
       "      <td>United Kingdom</td>\n",
       "      <td>67886011</td>\n",
       "    </tr>\n",
       "    <tr>\n",
       "      <th>9</th>\n",
       "      <td>Asia</td>\n",
       "      <td>Nepal</td>\n",
       "      <td>29136808</td>\n",
       "    </tr>\n",
       "  </tbody>\n",
       "</table>\n",
       "</div>"
      ],
      "text/plain": [
       "       Continent         Country  Population\n",
       "0  North America   United States   331002651\n",
       "1         Europe         Germany    83783942\n",
       "2           Asia           China  1439323776\n",
       "3  North America          Canada    37742154\n",
       "4           Asia           Japan   126476461\n",
       "5         Europe          France    65273511\n",
       "6  North America          Mexico   128932753\n",
       "7           Asia           India  1380004385\n",
       "8         Europe  United Kingdom    67886011\n",
       "9           Asia           Nepal    29136808"
      ]
     },
     "execution_count": 36,
     "metadata": {},
     "output_type": "execute_result"
    }
   ],
   "source": [
    "# create a dictionary\n",
    "data = {\n",
    "    \"Continent\": [\"North America\", \"Europe\", \"Asia\", \"North America\", \"Asia\", \"Europe\", \"North America\", \"Asia\", \"Europe\", \"Asia\"],\n",
    "    \"Country\": [\"United States\", \"Germany\", \"China\", \"Canada\", \"Japan\", \"France\", \"Mexico\", \"India\", \"United Kingdom\", \"Nepal\"],\n",
    "    \"Population\": [331002651, 83783942, 1439323776, 37742154, 126476461, 65273511, 128932753, 1380004385, 67886011, 29136808]\n",
    "}\n",
    "\n",
    "# create dataframe from dictionary\n",
    "df = pd.DataFrame(data)\n",
    "\n",
    "df"
   ]
  },
  {
   "cell_type": "markdown",
   "id": "3e2c24f4-c7b8-4e33-8d42-3123ff763948",
   "metadata": {},
   "source": [
    "Notice the redundancy in the `Continent` column. **North America** and **Europe** are repeated three times each while **Asia** is repeated four times.\n",
    "\n",
    "Additionally, we have arranged the entries in a random order and used integer values as index for the rows, thus complicating the task of locating data for a particular country. This task becomes tedious as the size of the data set grows.\n",
    "\n",
    "In situation like this, `hierarchical indexing`, makes much more sense.\n",
    "\n",
    "We can do `Continent` as the parent column and `Country` as the child column."
   ]
  },
  {
   "cell_type": "code",
   "execution_count": 37,
   "id": "feafb744-f931-4ecd-89f6-508a1ff87e76",
   "metadata": {},
   "outputs": [
    {
     "data": {
      "text/html": [
       "<img src=\"https://www.programiz.com/sites/tutorial2program/files/pandas-multiindex.png\"/>"
      ],
      "text/plain": [
       "<IPython.core.display.Image object>"
      ]
     },
     "execution_count": 37,
     "metadata": {},
     "output_type": "execute_result"
    }
   ],
   "source": [
    "Image(url=\"https://www.programiz.com/sites/tutorial2program/files/pandas-multiindex.png\")"
   ]
  },
  {
   "cell_type": "markdown",
   "id": "0bbe3aa0-7313-4076-b6b2-315ae397ba41",
   "metadata": {},
   "source": [
    "#### Create MultiIndex in Pandas\n",
    "In Pandas, we achieve `hierarchical indexing` using the concept of `MultiIndex`."
   ]
  },
  {
   "cell_type": "code",
   "execution_count": 38,
   "id": "4c8c8e85-8656-4a65-895f-637f561fed78",
   "metadata": {},
   "outputs": [
    {
     "data": {
      "text/html": [
       "<div>\n",
       "<style scoped>\n",
       "    .dataframe tbody tr th:only-of-type {\n",
       "        vertical-align: middle;\n",
       "    }\n",
       "\n",
       "    .dataframe tbody tr th {\n",
       "        vertical-align: top;\n",
       "    }\n",
       "\n",
       "    .dataframe thead th {\n",
       "        text-align: right;\n",
       "    }\n",
       "</style>\n",
       "<table border=\"1\" class=\"dataframe\">\n",
       "  <thead>\n",
       "    <tr style=\"text-align: right;\">\n",
       "      <th></th>\n",
       "      <th></th>\n",
       "      <th>Population</th>\n",
       "    </tr>\n",
       "    <tr>\n",
       "      <th>Continent</th>\n",
       "      <th>Country</th>\n",
       "      <th></th>\n",
       "    </tr>\n",
       "  </thead>\n",
       "  <tbody>\n",
       "    <tr>\n",
       "      <th rowspan=\"4\" valign=\"top\">Asia</th>\n",
       "      <th>China</th>\n",
       "      <td>1439323776</td>\n",
       "    </tr>\n",
       "    <tr>\n",
       "      <th>Japan</th>\n",
       "      <td>126476461</td>\n",
       "    </tr>\n",
       "    <tr>\n",
       "      <th>India</th>\n",
       "      <td>1380004385</td>\n",
       "    </tr>\n",
       "    <tr>\n",
       "      <th>Nepal</th>\n",
       "      <td>29136808</td>\n",
       "    </tr>\n",
       "    <tr>\n",
       "      <th rowspan=\"3\" valign=\"top\">Europe</th>\n",
       "      <th>Germany</th>\n",
       "      <td>83783942</td>\n",
       "    </tr>\n",
       "    <tr>\n",
       "      <th>France</th>\n",
       "      <td>65273511</td>\n",
       "    </tr>\n",
       "    <tr>\n",
       "      <th>United Kingdom</th>\n",
       "      <td>67886011</td>\n",
       "    </tr>\n",
       "    <tr>\n",
       "      <th rowspan=\"3\" valign=\"top\">North America</th>\n",
       "      <th>United States</th>\n",
       "      <td>331002651</td>\n",
       "    </tr>\n",
       "    <tr>\n",
       "      <th>Canada</th>\n",
       "      <td>37742154</td>\n",
       "    </tr>\n",
       "    <tr>\n",
       "      <th>Mexico</th>\n",
       "      <td>128932753</td>\n",
       "    </tr>\n",
       "  </tbody>\n",
       "</table>\n",
       "</div>"
      ],
      "text/plain": [
       "                              Population\n",
       "Continent     Country                   \n",
       "Asia          China           1439323776\n",
       "              Japan            126476461\n",
       "              India           1380004385\n",
       "              Nepal             29136808\n",
       "Europe        Germany           83783942\n",
       "              France            65273511\n",
       "              United Kingdom    67886011\n",
       "North America United States    331002651\n",
       "              Canada            37742154\n",
       "              Mexico           128932753"
      ]
     },
     "execution_count": 38,
     "metadata": {},
     "output_type": "execute_result"
    }
   ],
   "source": [
    "data = {\n",
    "    \"Continent\": [\"North America\", \"Europe\", \"Asia\", \"North America\", \"Asia\", \"Europe\", \"North America\", \"Asia\", \"Europe\", \"Asia\"],\n",
    "    \"Country\": [\"United States\", \"Germany\", \"China\", \"Canada\", \"Japan\", \"France\", \"Mexico\", \"India\", \"United Kingdom\", \"Nepal\"],\n",
    "    \"Population\": [331002651, 83783942, 1439323776, 37742154, 126476461, 65273511, 128932753, 1380004385, 67886011, 29136808]\n",
    "}\n",
    "\n",
    "# create dataframe from dictionary\n",
    "df = pd.DataFrame(data)\n",
    "\n",
    "# sort the data by continent\n",
    "df.sort_values('Continent', inplace=True)\n",
    "\n",
    "# create a multiindex\n",
    "df.set_index(['Continent', 'Country'], inplace=True)\n",
    "\n",
    "df"
   ]
  },
  {
   "cell_type": "markdown",
   "id": "d0805b89-b46a-4b4c-bfa1-2ff3fc3bba65",
   "metadata": {},
   "source": [
    "In the above example, we first **sorted** the values in the dataframe df based on the `Continent` column. This groups the entries of the same continent together.\n",
    "\n",
    "We then created a `MultiIndex` by passing a list of columns as an argument to the `set_index()` function.\n",
    "\n",
    "Notice the order of the columns in the list. `Continent` comes first as it is the parent column and Country comes second as it is the child of Continent\n"
   ]
  },
  {
   "cell_type": "markdown",
   "id": "5dc2589d-17ac-4147-9d01-204f07c389c2",
   "metadata": {},
   "source": [
    "<br>"
   ]
  },
  {
   "cell_type": "markdown",
   "id": "1d639c56-5d17-4150-89cb-636277057a70",
   "metadata": {},
   "source": [
    "#### Access Rows with MultiIndex"
   ]
  },
  {
   "cell_type": "code",
   "execution_count": 39,
   "id": "af50f1a4-9943-4aa6-b1e1-9e45deb81a7b",
   "metadata": {},
   "outputs": [
    {
     "name": "stdout",
     "output_type": "stream",
     "text": [
      "Asia\n",
      "          Population\n",
      "Country            \n",
      "China    1439323776\n",
      "Japan     126476461\n",
      "India    1380004385\n",
      "Nepal      29136808\n",
      "\n",
      "Canada\n",
      " Population    37742154\n",
      "Name: (North America, Canada), dtype: int64\n"
     ]
    }
   ],
   "source": [
    "data = {\n",
    "    \"Continent\": [\"North America\", \"Europe\", \"Asia\", \"North America\", \"Asia\", \"Europe\", \"North America\", \"Asia\", \"Europe\", \"Asia\"],\n",
    "    \"Country\": [\"United States\", \"Germany\", \"China\", \"Canada\", \"Japan\", \"France\", \"Mexico\", \"India\", \"United Kingdom\", \"Nepal\"],\n",
    "    \"Population\": [331002651, 83783942, 1439323776, 37742154, 126476461, 65273511, 128932753, 1380004385, 67886011, 29136808]\n",
    "}\n",
    "\n",
    "# Create a DataFrame out of dict:\n",
    "df = pd.DataFrame(data)\n",
    "\n",
    "# Sort the data by continent\n",
    "df.sort_values(by='Continent', inplace=True)\n",
    "\n",
    "# Create a MultiIndex:\n",
    "df.set_index(['Continent', 'Country'], inplace = True)\n",
    "\n",
    "# Access all enteries under Asia\n",
    "asia = df.loc['Asia']\n",
    "\n",
    "# Access Canada\n",
    "Canada = df.loc[('North America', 'Canada')]\n",
    "\n",
    "print(\"Asia\\n\", asia)\n",
    "print(\"\\nCanada\\n\", Canada)\n"
   ]
  },
  {
   "cell_type": "markdown",
   "id": "608ac829-a9f0-4092-8055-07049636c572",
   "metadata": {},
   "source": [
    "In the above example, we accessed all the entries under Asia by passing a single string **Asia** to `df.loc[].`\n",
    "\n",
    "To access a particular row `Canada`, we passed a `tuple ('North America' , 'Canada')` to `df.loc[]`.\n",
    "\n",
    "Only providing the label of child index will result in error."
   ]
  },
  {
   "cell_type": "markdown",
   "id": "7fd69de9-4bf3-4354-bb99-553fdcf3fe8a",
   "metadata": {},
   "source": [
    "<br>"
   ]
  },
  {
   "cell_type": "markdown",
   "id": "6b4b558b-c49d-4d1b-9d09-98519e6fd2b5",
   "metadata": {},
   "source": [
    "## 6. Pandas Reshape"
   ]
  },
  {
   "cell_type": "markdown",
   "id": "e15c4a50-1bb9-4a3b-a362-4fc4198edc62",
   "metadata": {},
   "source": [
    "In Pandas, `reshaping data` refers to the process of converting a `DataFrame` from one `format` to another for better `data visualization and analysis`.\n",
    "\n",
    "Pandas provides multiple methods like `pivot()`, `pivot_table()`, `stack()`, `unstack()` and `melt()` to reshape data. We can choose the method based on our analysis requirement."
   ]
  },
  {
   "cell_type": "markdown",
   "id": "fcb33ee6-a0d7-401b-b768-34e435931dad",
   "metadata": {},
   "source": [
    "#### Reshape Data Using pivot()\n",
    "In Pandas, the `pivot()` function reshapes data based on column values."
   ]
  },
  {
   "cell_type": "code",
   "execution_count": 40,
   "id": "a558bdc2-bbbd-4b52-b174-612c50efc109",
   "metadata": {},
   "outputs": [
    {
     "data": {
      "text/html": [
       "<div>\n",
       "<style scoped>\n",
       "    .dataframe tbody tr th:only-of-type {\n",
       "        vertical-align: middle;\n",
       "    }\n",
       "\n",
       "    .dataframe tbody tr th {\n",
       "        vertical-align: top;\n",
       "    }\n",
       "\n",
       "    .dataframe thead th {\n",
       "        text-align: right;\n",
       "    }\n",
       "</style>\n",
       "<table border=\"1\" class=\"dataframe\">\n",
       "  <thead>\n",
       "    <tr style=\"text-align: right;\">\n",
       "      <th>Category</th>\n",
       "      <th>A</th>\n",
       "      <th>B</th>\n",
       "    </tr>\n",
       "    <tr>\n",
       "      <th>Date</th>\n",
       "      <th></th>\n",
       "      <th></th>\n",
       "    </tr>\n",
       "  </thead>\n",
       "  <tbody>\n",
       "    <tr>\n",
       "      <th>2023-08-01</th>\n",
       "      <td>10</td>\n",
       "      <td>20</td>\n",
       "    </tr>\n",
       "    <tr>\n",
       "      <th>2023-08-02</th>\n",
       "      <td>30</td>\n",
       "      <td>40</td>\n",
       "    </tr>\n",
       "  </tbody>\n",
       "</table>\n",
       "</div>"
      ],
      "text/plain": [
       "Category     A   B\n",
       "Date              \n",
       "2023-08-01  10  20\n",
       "2023-08-02  30  40"
      ]
     },
     "execution_count": 40,
     "metadata": {},
     "output_type": "execute_result"
    }
   ],
   "source": [
    "# create a DataFrame\n",
    "data = {'Date': ['2023-08-01', '2023-08-01', '2023-08-02', '2023-08-02'],\n",
    "        'Category': ['A', 'B', 'A', 'B'],\n",
    "        'Value': [10, 20, 30, 40]}\n",
    "df = pd.DataFrame(data)\n",
    "\n",
    "# Changing data using pivot or Pivot the DataFrame\n",
    "pivot_df = df.pivot(columns='Category', values='Value', index='Date')\n",
    "pivot_df"
   ]
  },
  {
   "cell_type": "markdown",
   "id": "9fdac1f8-9a1c-4019-870c-8a095e3be78a",
   "metadata": {},
   "source": [
    "In this example, we have passed the parameters `index,` `columns` and `values` to the pivot function. Here,\n",
    "- `index` specifies the column to be used as the index for the pivoted DataFrame\n",
    "- `columns` specifies the column whose unique values will become the new column headers\n",
    "- `values` specifies the column containing the values to be placed in the new columns"
   ]
  },
  {
   "cell_type": "markdown",
   "id": "6ee232a9-cd98-44f0-9cd5-2bc94bc49aa1",
   "metadata": {},
   "source": [
    "<br><br>"
   ]
  },
  {
   "cell_type": "markdown",
   "id": "e0f087be-e85b-4bf7-a292-9c2df7d4c0ad",
   "metadata": {},
   "source": [
    "#### 7. Pandas Handling Duplicate Values"
   ]
  },
  {
   "cell_type": "markdown",
   "id": "0f5b7150-ceea-4086-8588-74bdab8d83b6",
   "metadata": {},
   "source": [
    "In large datasets, we often encounter `duplicate` entries in tables. These `duplicate` entries can throw off our `analysis` and `skew` the results.\n",
    "\n",
    "Pandas provides several methods to `find` and `remove` duplicate entries in DataFrames."
   ]
  },
  {
   "cell_type": "markdown",
   "id": "828e3ecf-c2b6-4aec-ad44-f60629535a66",
   "metadata": {},
   "source": [
    "#### Find Duplicate Entries\n",
    "We can find duplicate entries in a `DataFrame` using the `duplicated()` method. It returns `True` if a row is duplicated and returns `False` otherwise."
   ]
  },
  {
   "cell_type": "code",
   "execution_count": 41,
   "id": "13b9c6b7-a324-4aff-a406-81463c73176c",
   "metadata": {},
   "outputs": [
    {
     "name": "stdout",
     "output_type": "stream",
     "text": [
      "   Name  Age         City\n",
      "0  John   28     New York\n",
      "1  Anna   24  Los Angeles\n",
      "2  John   28     New York\n",
      "3  Anna   24  Los Angeles\n",
      "4  John   19      Chicago\n",
      "\n"
     ]
    },
    {
     "data": {
      "text/plain": [
       "0    False\n",
       "1    False\n",
       "2     True\n",
       "3     True\n",
       "4    False\n",
       "dtype: bool"
      ]
     },
     "execution_count": 41,
     "metadata": {},
     "output_type": "execute_result"
    }
   ],
   "source": [
    "data = {\n",
    "    'Name': ['John', 'Anna', 'John', 'Anna', 'John'],\n",
    "    'Age': [28, 24, 28, 24, 19],\n",
    "    'City': ['New York', 'Los Angeles', 'New York', 'Los Angeles', 'Chicago']\n",
    "}\n",
    "df = pd.DataFrame(data)\n",
    "print(df)\n",
    "print()\n",
    "\n",
    "# Check duplication\n",
    "df.duplicated()"
   ]
  },
  {
   "cell_type": "markdown",
   "id": "2bbfe4af-5ae7-4540-8464-b2709a4d7441",
   "metadata": {},
   "source": [
    "In the above example, we checked for duplicate entries in `df` using the `duplicated()` method. It returned a series with boolean values indicating if an entry is a duplicate.\n",
    "\n",
    "Here, we got `True` in the third and the fourth rows because they are `duplicates` of the first and the second rows respectively."
   ]
  },
  {
   "cell_type": "markdown",
   "id": "bb118da8-9c37-4181-bbe2-fb663ab8bc7d",
   "metadata": {},
   "source": [
    "#### Finding Duplicates based on Columns\n",
    "By default, `duplicated()` considers all columns. To find duplicates based on certain `columns`, we can pass them as a list to the `duplicated()` function."
   ]
  },
  {
   "cell_type": "code",
   "execution_count": 42,
   "id": "97ce8fb4-191a-420c-a6cf-3e3d539fc7ad",
   "metadata": {},
   "outputs": [
    {
     "data": {
      "text/plain": [
       "0    False\n",
       "1    False\n",
       "2    False\n",
       "3     True\n",
       "4    False\n",
       "dtype: bool"
      ]
     },
     "execution_count": 42,
     "metadata": {},
     "output_type": "execute_result"
    }
   ],
   "source": [
    "data = {\n",
    "    'Name': ['John', 'Anna', 'Johny', 'Anna', 'John'],\n",
    "    'Age': [28, 24, 28, 24, 19],\n",
    "    'City': ['New York', 'Los Angeles', 'New York', 'Los Angeles', 'Chicago']\n",
    "}\n",
    "df = pd.DataFrame(data)\n",
    "\n",
    "# Check duplication\n",
    "df.duplicated(['Name', 'Age'])"
   ]
  },
  {
   "cell_type": "markdown",
   "id": "fce87246-4a65-473c-9dea-366671f14ece",
   "metadata": {},
   "source": [
    "In this example, we checked the duplicate entries based on `Name` and `Age` columns only."
   ]
  },
  {
   "cell_type": "markdown",
   "id": "63702adb-d091-44af-b324-f829e7a54c15",
   "metadata": {},
   "source": [
    "<br>"
   ]
  },
  {
   "cell_type": "markdown",
   "id": "6f7be929-cf12-453d-badb-a497537c3582",
   "metadata": {},
   "source": [
    "#### Remove Duplicate Entries\n",
    "We can remove duplicate entries in Pandas using the `drop_duplicates()` method. For example,"
   ]
  },
  {
   "cell_type": "code",
   "execution_count": 43,
   "id": "23fe070c-0be8-4222-9c77-a8e25109490c",
   "metadata": {},
   "outputs": [
    {
     "name": "stdout",
     "output_type": "stream",
     "text": [
      "   Name  Age         City\n",
      "0  John   28     New York\n",
      "1  Anna   24  Los Angeles\n",
      "2  John   28     New York\n",
      "3  Anna   24  Los Angeles\n",
      "4  John   19      Chicago\n",
      "\n",
      "   Name  Age         City\n",
      "0  John   28     New York\n",
      "1  Anna   24  Los Angeles\n",
      "4  John   19      Chicago\n"
     ]
    }
   ],
   "source": [
    "# create dataframe\n",
    "data = {\n",
    "    'Name': ['John', 'Anna', 'John', 'Anna', 'John'],\n",
    "    'Age': [28, 24, 28, 24, 19],\n",
    "    'City': ['New York', 'Los Angeles', 'New York', 'Los Angeles', 'Chicago']\n",
    "}\n",
    "df = pd.DataFrame(data)\n",
    "print(df)\n",
    "print()\n",
    "\n",
    "# Remove Duplicates\n",
    "df.drop_duplicates(inplace=True)\n",
    "print(df)"
   ]
  },
  {
   "cell_type": "markdown",
   "id": "b198c73b-64fa-4d03-96a2-cbf1b3624095",
   "metadata": {},
   "source": [
    "Notice that the `drop_duplicates()` function keeps the **first duplicate entry** and removes the **last** by default. Here, the first and the second rows are kept while the third and the fourth rows are removed.\n",
    "\n",
    "To keep the last entry, we can pass the `keep='last'` argument. For example"
   ]
  },
  {
   "cell_type": "code",
   "execution_count": 44,
   "id": "947d7d5b-c100-427f-bc4c-a230d1e26420",
   "metadata": {},
   "outputs": [
    {
     "name": "stdout",
     "output_type": "stream",
     "text": [
      "   Name  Age         City\n",
      "0  John   28     New York\n",
      "1  Anna   24  Los Angeles\n",
      "2  John   28     New York\n",
      "3  Anna   24  Los Angeles\n",
      "4  John   19      Chicago\n",
      "\n",
      "   Name  Age         City\n",
      "2  John   28     New York\n",
      "3  Anna   24  Los Angeles\n",
      "4  John   19      Chicago\n"
     ]
    }
   ],
   "source": [
    "# create dataframe\n",
    "data = {\n",
    "    'Name': ['John', 'Anna', 'John', 'Anna', 'John'],\n",
    "    'Age': [28, 24, 28, 24, 19],\n",
    "    'City': ['New York', 'Los Angeles', 'New York', 'Los Angeles', 'Chicago']\n",
    "}\n",
    "df = pd.DataFrame(data)\n",
    "print(df)\n",
    "print()\n",
    "\n",
    "# Remove Duplicates\n",
    "df.drop_duplicates(keep=\"last\", inplace=True)\n",
    "print(df)"
   ]
  },
  {
   "cell_type": "markdown",
   "id": "4b38d430-d012-4006-8ac2-94e99b509f0d",
   "metadata": {},
   "source": [
    "<br><br>"
   ]
  },
  {
   "cell_type": "markdown",
   "id": "d1cc0808-5c15-45ab-8672-f60b82b0d1aa",
   "metadata": {
    "jp-MarkdownHeadingCollapsed": true
   },
   "source": [
    "## 7.Pandas Pivot"
   ]
  },
  {
   "cell_type": "markdown",
   "id": "c98f8deb-0b8b-4e25-8fda-cf0f2f11d353",
   "metadata": {},
   "source": [
    "The `pivot()` function in Pandas reshapes data based on column values. It takes simple column-wise data as input, and groups the entries into a two-dimensional table."
   ]
  },
  {
   "cell_type": "code",
   "execution_count": 45,
   "id": "cd87bf99-196f-4e9c-b564-99f0387eb6b8",
   "metadata": {},
   "outputs": [
    {
     "data": {
      "text/html": [
       "<img src=\"https://www.programiz.com/sites/tutorial2program/files/pandas-pivot.png\"/>"
      ],
      "text/plain": [
       "<IPython.core.display.Image object>"
      ]
     },
     "execution_count": 45,
     "metadata": {},
     "output_type": "execute_result"
    }
   ],
   "source": [
    "Image(url=\"https://www.programiz.com/sites/tutorial2program/files/pandas-pivot.png\")"
   ]
  },
  {
   "cell_type": "code",
   "execution_count": 46,
   "id": "3e83ef36-b8d6-4a37-88ab-1653398aa353",
   "metadata": {},
   "outputs": [
    {
     "name": "stdout",
     "output_type": "stream",
     "text": [
      "Original DataFrame\n",
      "          Date         City  Temperature\n",
      "0  2023-01-01     New York           32\n",
      "1  2023-01-01  Los Angeles           75\n",
      "2  2023-01-02     New York           30\n",
      "3  2023-01-02  Los Angeles           77\n",
      "\n",
      "Reshaped with Pivot DataFrame\n",
      " City        Los Angeles  New York\n",
      "Date                             \n",
      "2023-01-01           75        32\n",
      "2023-01-02           77        30\n"
     ]
    }
   ],
   "source": [
    "data = {'Date': ['2023-01-01', '2023-01-01', '2023-01-02', '2023-01-02'],\n",
    "        'City': ['New York', 'Los Angeles', 'New York', 'Los Angeles'],\n",
    "        'Temperature': [32, 75, 30, 77]}\n",
    "\n",
    "df = pd.DataFrame(data)\n",
    "\n",
    "print(\"Original DataFrame\\n\", df)\n",
    "\n",
    "# pivot the DataFrame\n",
    "pivot_df = df.pivot(columns=\"City\", index= 'Date', values=\"Temperature\")\n",
    "print(\"\\nReshaped with Pivot DataFrame\\n\", pivot_df)"
   ]
  },
  {
   "cell_type": "markdown",
   "id": "f3b5d020-69a2-4fe8-a616-ff89699ddd37",
   "metadata": {},
   "source": [
    "In this example, we used `pivot()` to reshape the DataFrame `df`. The `Date` column is set as `index`, `City` as `columns` and `Temperature` as `values`.\n",
    "\n",
    "Notice the original and reshaped DataFrame in the output section. The reshaped DataFrame is a multidimensional table that shows the temperature based on the city and the date.\n",
    "\n",
    "Thus the `pivot()` operation reshapes the data to make it clearer for further analysis."
   ]
  },
  {
   "cell_type": "markdown",
   "id": "573c9d36-9bf6-4481-8aae-da01c2d65600",
   "metadata": {},
   "source": [
    "#### pivot()syntax\n",
    "The syntax of `pivot()` in Pandas is:\n",
    "```python\n",
    "df.pivot(index=None, columns=None, values=None)\n",
    "```\n",
    "Here, \n",
    "- `index`: the column to use as row labels\n",
    "- `columns`: the column that will be reshaped as columns\n",
    "- `values`: the column(s) to use for the new DataFrame's values"
   ]
  },
  {
   "cell_type": "code",
   "execution_count": 47,
   "id": "9e6b535e-09cf-476e-af19-d694b0f47a94",
   "metadata": {},
   "outputs": [
    {
     "data": {
      "text/plain": [
       "Date\n",
       "2023-01-01    75\n",
       "2023-01-02    77\n",
       "Name: Los Angeles, dtype: int64"
      ]
     },
     "execution_count": 47,
     "metadata": {},
     "output_type": "execute_result"
    }
   ],
   "source": [
    "pivot_df.loc[:, 'Los Angeles']"
   ]
  },
  {
   "cell_type": "markdown",
   "id": "6375848d-e3c1-48df-af26-8ccde782fc10",
   "metadata": {},
   "source": [
    "#### pivot() for Multiple Values\n",
    "If we omit the `values` argument in `pivot()`, it selects all the remaining columns (besides the ones specified `index` and `columns`) as values for the pivot table."
   ]
  },
  {
   "cell_type": "code",
   "execution_count": 48,
   "id": "13f7aa90-059c-4dea-8d0a-3c1ee05463ad",
   "metadata": {},
   "outputs": [
    {
     "name": "stdout",
     "output_type": "stream",
     "text": [
      "Original DataFrame\n",
      "         Date         City  Temperature  Humidity\n",
      "0  2023-01-01     New York           32        80\n",
      "1  2023-01-01  Los Angeles           75        10\n",
      "2  2023-01-02     New York           30        85\n",
      "3  2023-01-02  Los Angeles           77         5\n",
      "\n",
      "Reshaped DataFrame\n",
      "           Temperature             Humidity         \n",
      "City       Los Angeles New York Los Angeles New York\n",
      "Date                                                \n",
      "2023-01-01          75       32          10       80\n",
      "2023-01-02          77       30           5       85\n"
     ]
    }
   ],
   "source": [
    "data = {'Date': ['2023-01-01', '2023-01-01', '2023-01-02', '2023-01-02'],\n",
    "        'City': ['New York', 'Los Angeles', 'New York', 'Los Angeles'],\n",
    "        'Temperature': [32, 75, 30, 77],\n",
    "        'Humidity': [80, 10, 85, 5]}\n",
    "df = pd.DataFrame(data)\n",
    "print('Original DataFrame')\n",
    "print(df)\n",
    "print()\n",
    "\n",
    "# Pivot the DataFrame\n",
    "pivot_df = df.pivot(columns=\"City\", index=\"Date\")\n",
    "print('Reshaped DataFrame')\n",
    "print(pivot_df)"
   ]
  },
  {
   "cell_type": "markdown",
   "id": "dcc88dea-45a4-43fa-bc80-e954671d1a8a",
   "metadata": {},
   "source": [
    "In this example, we created a pivot table for multiple values i.e. `Temperature` and `Humidity`."
   ]
  },
  {
   "cell_type": "markdown",
   "id": "c1ce301f-e396-4dee-b3f3-663578a2d4c0",
   "metadata": {},
   "source": [
    "<br><br>"
   ]
  },
  {
   "cell_type": "markdown",
   "id": "75afe317-5779-428a-b71a-49fb8d364517",
   "metadata": {
    "jp-MarkdownHeadingCollapsed": true
   },
   "source": [
    "## 8. Pandas Pivot Table"
   ]
  },
  {
   "cell_type": "markdown",
   "id": "73cd23dd-5085-4608-9b1c-8c9fa05089f6",
   "metadata": {},
   "source": [
    "The `pivot_table()` function in Pandas allows us to create a `spreadsheet-style` pivot table making it easier to group and analyze our data."
   ]
  },
  {
   "cell_type": "code",
   "execution_count": 49,
   "id": "171632ba-c5a3-47c3-be0b-402e374ab589",
   "metadata": {},
   "outputs": [
    {
     "data": {
      "text/html": [
       "<img src=\"https://www.programiz.com/sites/tutorial2program/files/pandas-pivot.png\"/>"
      ],
      "text/plain": [
       "<IPython.core.display.Image object>"
      ]
     },
     "execution_count": 49,
     "metadata": {},
     "output_type": "execute_result"
    }
   ],
   "source": [
    "Image(url=\"https://www.programiz.com/sites/tutorial2program/files/pandas-pivot.png\")"
   ]
  },
  {
   "cell_type": "code",
   "execution_count": 50,
   "id": "1ff74609-9e57-4f0a-ab25-e22b105af619",
   "metadata": {},
   "outputs": [
    {
     "name": "stdout",
     "output_type": "stream",
     "text": [
      "Original DataFrame\n",
      "          Date         City  Temperature\n",
      "0  2023-01-01     New York           32\n",
      "1  2023-01-01  Los Angeles           75\n",
      "2  2023-01-02     New York           30\n",
      "3  2023-01-02  Los Angeles           77\n",
      "\n",
      "Reshaped DataFrame\n",
      " City        Los Angeles  New York\n",
      "Date                             \n",
      "2023-01-01         75.0      32.0\n",
      "2023-01-02         77.0      30.0\n"
     ]
    }
   ],
   "source": [
    "data = {'Date': ['2023-01-01', '2023-01-01', '2023-01-02', '2023-01-02'],\n",
    "        'City': ['New York', 'Los Angeles', 'New York', 'Los Angeles'],\n",
    "        'Temperature': [32, 75, 30, 77]}\n",
    "df = pd.DataFrame(data)\n",
    "print(\"Original DataFrame\\n\", df)\n",
    "\n",
    "# Pivot the dataframe\n",
    "pivot_df = df.pivot_table(columns=\"City\", index=\"Date\", values=\"Temperature\")\n",
    "print(\"\\nReshaped DataFrame\\n\", pivot_df)\n",
    "\n"
   ]
  },
  {
   "cell_type": "markdown",
   "id": "ea1b675e-4faf-4cdf-8617-50fac4e38a5f",
   "metadata": {},
   "source": [
    "#### pivot_table()syntax\n",
    "The syntax of `pivot_table()` in Pandas is:\n",
    "```python\n",
    "df.pivot_table(index=None, columns=None, values=None, aggfunc='mean', fill_value=None, dropna=True)\n",
    "```\n",
    "Here, \n",
    "- `index`: the column to use as row labels\n",
    "- `columns`: the column that will be reshaped as columns\n",
    "- `values`: the column(s) to use for the new DataFrame's values\n",
    "- `aggfunc`: the function to use for aggregation, defaulting to `'mean'`\n",
    "- `fill_value`: value to replace missing values with\n",
    "- `dropna`: whether to exclude the columns whose entries are all NaN"
   ]
  },
  {
   "cell_type": "markdown",
   "id": "e75b14c2-77b8-4814-9882-7fe93f9511f9",
   "metadata": {},
   "source": [
    "#### pivot_table() With Aggregate Functions:\n",
    "We can use the `pivot_table()` method with different `aggregate functions` using the `aggfunc` parameter. We can set the value of aggfunc to functions such as `'sum'`, `'mean'`, `'count'`, `'max'` or `'min'`."
   ]
  },
  {
   "cell_type": "code",
   "execution_count": 51,
   "id": "8e6f5ac1-29ba-4959-85e8-d54773d72238",
   "metadata": {},
   "outputs": [
    {
     "name": "stdout",
     "output_type": "stream",
     "text": [
      "                   mean         min\n",
      "            Temperature Temperature\n",
      "City                               \n",
      "Los Angeles   76.666667          75\n",
      "New York      31.666667          30\n"
     ]
    }
   ],
   "source": [
    "data = {'Date': ['2023-01-01', '2023-01-01', '2023-01-02', '2023-01-02', '2023-01-03', '2023-01-03'],\n",
    "        'City': ['New York', 'Los Angeles', 'New York', 'Los Angeles', 'New York', 'Los Angeles'],\n",
    "        'Temperature': [32, 75, 30, 77, 33, 78],\n",
    "        'Humidity': [80, 10, 85, 5, 81, 7]}\n",
    "\n",
    "df = pd.DataFrame(data)\n",
    "\n",
    "# calculate mean temperature for each city using pivot_table()\n",
    "mean_temperature = df.pivot_table(index='City', values='Temperature', aggfunc=['mean', 'min'])\n",
    "\n",
    "print(mean_temperature)"
   ]
  },
  {
   "cell_type": "markdown",
   "id": "7e8ce8e0-a65f-48b5-892b-6d62cd36f4b7",
   "metadata": {},
   "source": [
    "<br><br>"
   ]
  },
  {
   "cell_type": "markdown",
   "id": "061481e1-f60b-4c3f-9ea8-cea620e59c84",
   "metadata": {},
   "source": [
    "# Data Import and Export"
   ]
  },
  {
   "cell_type": "markdown",
   "id": "33a3b400-b9b6-42d3-8697-cc224df6e1c5",
   "metadata": {},
   "source": [
    "1. Pandas CSV\n",
    "2. Pandas JSON\n",
    "3. Pandas Excel"
   ]
  },
  {
   "cell_type": "markdown",
   "id": "eba6409b-8800-4576-af11-643177b33742",
   "metadata": {},
   "source": [
    "## Pandas Merge\n",
    "The merge operation in Pandas merges two DataFrames based on their indexes or a specified column.\n",
    "\n",
    "The `merge()` in Pandas works similar to JOINs in SQL."
   ]
  },
  {
   "cell_type": "markdown",
   "id": "0f0c671b-b316-485c-abfc-fcf20523b862",
   "metadata": {},
   "source": [
    "#### merge() Syntax in Pandas\n",
    "Basic Syntax\n",
    "```python\n",
    "pd.merge(left_data, right_data, on=None, how='inner', left_on=None, right_on, sort=False)\n",
    "```\n",
    "Here, \n",
    "- `left`: specifies the left DataFrame to be merged\n",
    "- `right`: specifies the right DataFrame to be merged\n",
    "- `on` (optional): specifies column(s) to join on\n",
    "- `how` (optional): specifies the type of join to perform\n",
    "- `left_on` (optional): specifies column(s) from the left DataFrame to use as key(s) for merging\n",
    "- `right_on` (optional): specifies column(s) from the right DataFrame to use as key(s) for merging\n",
    "- `sort` (optional): if True, sort the result DataFrame by the join keys"
   ]
  },
  {
   "cell_type": "markdown",
   "id": "122f3ac2-74a0-44ae-8c8d-2dd6333b40de",
   "metadata": {},
   "source": [
    "#### Merge DataFrames Based on Keys:\n",
    "When there are no common columns between two DataFrames, we can merge them by specifying the columns (as keys) in the `left_on` and `right_on` arguments. For example,"
   ]
  },
  {
   "cell_type": "code",
   "execution_count": 52,
   "id": "0fbaefe6-3861-4113-9081-f1e8c03d9a6b",
   "metadata": {},
   "outputs": [
    {
     "data": {
      "text/html": [
       "<div>\n",
       "<style scoped>\n",
       "    .dataframe tbody tr th:only-of-type {\n",
       "        vertical-align: middle;\n",
       "    }\n",
       "\n",
       "    .dataframe tbody tr th {\n",
       "        vertical-align: top;\n",
       "    }\n",
       "\n",
       "    .dataframe thead th {\n",
       "        text-align: right;\n",
       "    }\n",
       "</style>\n",
       "<table border=\"1\" class=\"dataframe\">\n",
       "  <thead>\n",
       "    <tr style=\"text-align: right;\">\n",
       "      <th></th>\n",
       "      <th>EmployeeID</th>\n",
       "      <th>Name</th>\n",
       "      <th>DeptID1</th>\n",
       "      <th>DeptID2</th>\n",
       "      <th>DeptName</th>\n",
       "    </tr>\n",
       "  </thead>\n",
       "  <tbody>\n",
       "    <tr>\n",
       "      <th>0</th>\n",
       "      <td>E001</td>\n",
       "      <td>John Doe</td>\n",
       "      <td>D001</td>\n",
       "      <td>D001</td>\n",
       "      <td>Sales</td>\n",
       "    </tr>\n",
       "    <tr>\n",
       "      <th>1</th>\n",
       "      <td>E003</td>\n",
       "      <td>Peter Brown</td>\n",
       "      <td>D001</td>\n",
       "      <td>D001</td>\n",
       "      <td>Sales</td>\n",
       "    </tr>\n",
       "    <tr>\n",
       "      <th>2</th>\n",
       "      <td>E004</td>\n",
       "      <td>Tom Johnson</td>\n",
       "      <td>D002</td>\n",
       "      <td>D002</td>\n",
       "      <td>HR</td>\n",
       "    </tr>\n",
       "    <tr>\n",
       "      <th>3</th>\n",
       "      <td>E002</td>\n",
       "      <td>Jane Smith</td>\n",
       "      <td>D003</td>\n",
       "      <td>D003</td>\n",
       "      <td>Admin</td>\n",
       "    </tr>\n",
       "  </tbody>\n",
       "</table>\n",
       "</div>"
      ],
      "text/plain": [
       "  EmployeeID         Name DeptID1 DeptID2 DeptName\n",
       "0       E001     John Doe    D001    D001    Sales\n",
       "1       E003  Peter Brown    D001    D001    Sales\n",
       "2       E004  Tom Johnson    D002    D002       HR\n",
       "3       E002   Jane Smith    D003    D003    Admin"
      ]
     },
     "execution_count": 52,
     "metadata": {},
     "output_type": "execute_result"
    }
   ],
   "source": [
    "data1 = {\n",
    "    'EmployeeID': ['E001', 'E002', 'E003', 'E004', 'E005'],\n",
    "    'Name': ['John Doe', 'Jane Smith', 'Peter Brown', 'Tom Johnson', 'Rita Patel'],\n",
    "    'DeptID1': ['D001', 'D003', 'D001', 'D002', 'D006'],\n",
    "}\n",
    "employees = pd.DataFrame(data1)\n",
    "\n",
    "data2 = {\n",
    "    'DeptID2': ['D001', 'D002', 'D003', 'D004'],\n",
    "    'DeptName': ['Sales', 'HR', 'Admin', 'Marketing']\n",
    "}\n",
    "\n",
    "departments = pd.DataFrame(data2)\n",
    "\n",
    "# merge the dataframes\n",
    "merged_df = pd.merge(employees, departments, left_on=\"DeptID1\", right_on=\"DeptID2\", sort=True)\n",
    "\n",
    "merged_df"
   ]
  },
  {
   "cell_type": "markdown",
   "id": "4e360c1a-46be-47e7-8ed2-0db5ffeef0ec",
   "metadata": {},
   "source": [
    "### Types of Join Operations in merge()\n",
    "So far, we've not defined **how** to merge the dataframes, thus it defaults to an inner join.\n",
    "\n",
    "However, we can specify the join type in the `how` argument. Here are the 5 join types we can use in the `merge()` method:\n",
    "- Left Join\n",
    "- Right Join\n",
    "- Outer Join\n",
    "- Inner Join (Default)\n",
    "- Cross Join"
   ]
  },
  {
   "cell_type": "markdown",
   "id": "3afaba34-1c0f-4104-a153-eb8bc09ab992",
   "metadata": {},
   "source": [
    "#### Left Join\n",
    "A left Join combines two DataFrames based on a common key and returns a new DataFrame that contains all rows from the left DataFrame and the matched rows from the right DataFrame.\n",
    "\n",
    "If values are not found in the right dataframe, it fills the space with `NaN`. "
   ]
  },
  {
   "cell_type": "code",
   "execution_count": 53,
   "id": "0072ddc7-9fcd-4ba7-8b75-9850b7d82a19",
   "metadata": {},
   "outputs": [
    {
     "data": {
      "text/html": [
       "<img src=\"https://tableplus.com/assets/images/sql-joins/left-join.png\"/>"
      ],
      "text/plain": [
       "<IPython.core.display.Image object>"
      ]
     },
     "execution_count": 53,
     "metadata": {},
     "output_type": "execute_result"
    }
   ],
   "source": [
    "Image(url=\"https://tableplus.com/assets/images/sql-joins/left-join.png\")"
   ]
  },
  {
   "cell_type": "code",
   "execution_count": 54,
   "id": "03f7480a-4b05-4d7b-903a-1cfbffeb7428",
   "metadata": {},
   "outputs": [
    {
     "data": {
      "text/html": [
       "<div>\n",
       "<style scoped>\n",
       "    .dataframe tbody tr th:only-of-type {\n",
       "        vertical-align: middle;\n",
       "    }\n",
       "\n",
       "    .dataframe tbody tr th {\n",
       "        vertical-align: top;\n",
       "    }\n",
       "\n",
       "    .dataframe thead th {\n",
       "        text-align: right;\n",
       "    }\n",
       "</style>\n",
       "<table border=\"1\" class=\"dataframe\">\n",
       "  <thead>\n",
       "    <tr style=\"text-align: right;\">\n",
       "      <th></th>\n",
       "      <th>EmployeeID</th>\n",
       "      <th>Name</th>\n",
       "      <th>DeptID</th>\n",
       "      <th>DeptName</th>\n",
       "    </tr>\n",
       "  </thead>\n",
       "  <tbody>\n",
       "    <tr>\n",
       "      <th>0</th>\n",
       "      <td>E001</td>\n",
       "      <td>John Doe</td>\n",
       "      <td>D001</td>\n",
       "      <td>Sales</td>\n",
       "    </tr>\n",
       "    <tr>\n",
       "      <th>1</th>\n",
       "      <td>E003</td>\n",
       "      <td>Peter Brown</td>\n",
       "      <td>D001</td>\n",
       "      <td>Sales</td>\n",
       "    </tr>\n",
       "    <tr>\n",
       "      <th>2</th>\n",
       "      <td>E004</td>\n",
       "      <td>Tom Johnson</td>\n",
       "      <td>D002</td>\n",
       "      <td>HR</td>\n",
       "    </tr>\n",
       "    <tr>\n",
       "      <th>3</th>\n",
       "      <td>E002</td>\n",
       "      <td>Jane Smith</td>\n",
       "      <td>D003</td>\n",
       "      <td>Admin</td>\n",
       "    </tr>\n",
       "    <tr>\n",
       "      <th>4</th>\n",
       "      <td>E005</td>\n",
       "      <td>Rita Patel</td>\n",
       "      <td>D006</td>\n",
       "      <td>NaN</td>\n",
       "    </tr>\n",
       "  </tbody>\n",
       "</table>\n",
       "</div>"
      ],
      "text/plain": [
       "  EmployeeID         Name DeptID DeptName\n",
       "0       E001     John Doe   D001    Sales\n",
       "1       E003  Peter Brown   D001    Sales\n",
       "2       E004  Tom Johnson   D002       HR\n",
       "3       E002   Jane Smith   D003    Admin\n",
       "4       E005   Rita Patel   D006      NaN"
      ]
     },
     "execution_count": 54,
     "metadata": {},
     "output_type": "execute_result"
    }
   ],
   "source": [
    "data1 = {\n",
    "    'EmployeeID': ['E001', 'E002', 'E003', 'E004', 'E005'],\n",
    "    'Name': ['John Doe', 'Jane Smith', 'Peter Brown', 'Tom Johnson', 'Rita Patel'],\n",
    "    'DeptID': ['D001', 'D003', 'D001', 'D002', 'D006'],\n",
    "}\n",
    "employees = pd.DataFrame(data1)\n",
    "\n",
    "data2 = {\n",
    "    'DeptID': ['D001', 'D002', 'D003', 'D004'],\n",
    "    'DeptName': ['Sales', 'HR', 'Admin', 'Marketing']\n",
    "}\n",
    "departments = pd.DataFrame(data2)\n",
    "\n",
    "# left merge the DataFrame\n",
    "merged_df = pd.merge(employees, departments, on=\"DeptID\", how=\"left\", sort=True)\n",
    "\n",
    "merged_df"
   ]
  },
  {
   "cell_type": "markdown",
   "id": "b95d072f-d3e6-451f-b1e6-579871633b9c",
   "metadata": {},
   "source": [
    "#### Right Join\n",
    "A right join is the opposite of a left join. It returns a new DataFrame that contains all rows from the right DataFrame and the matched rows from the left DataFrame.\n",
    "\n",
    "If values are not found in the left dataframe, it fills the space with `NaN`. For example,"
   ]
  },
  {
   "cell_type": "code",
   "execution_count": 55,
   "id": "4e7db3dc-d0ed-40a0-bb56-4af94e6b5d91",
   "metadata": {},
   "outputs": [
    {
     "data": {
      "text/html": [
       "<img src=\"https://editor.analyticsvidhya.com/uploads/15523right_join.png\" width=\"350\" height=\"250\"/>"
      ],
      "text/plain": [
       "<IPython.core.display.Image object>"
      ]
     },
     "execution_count": 55,
     "metadata": {},
     "output_type": "execute_result"
    }
   ],
   "source": [
    "Image(url=\"https://editor.analyticsvidhya.com/uploads/15523right_join.png\", width=350, height=250)"
   ]
  },
  {
   "cell_type": "code",
   "execution_count": 56,
   "id": "0bd15232-eb67-4ae4-ad4e-78051ff16bc9",
   "metadata": {},
   "outputs": [
    {
     "data": {
      "text/html": [
       "<div>\n",
       "<style scoped>\n",
       "    .dataframe tbody tr th:only-of-type {\n",
       "        vertical-align: middle;\n",
       "    }\n",
       "\n",
       "    .dataframe tbody tr th {\n",
       "        vertical-align: top;\n",
       "    }\n",
       "\n",
       "    .dataframe thead th {\n",
       "        text-align: right;\n",
       "    }\n",
       "</style>\n",
       "<table border=\"1\" class=\"dataframe\">\n",
       "  <thead>\n",
       "    <tr style=\"text-align: right;\">\n",
       "      <th></th>\n",
       "      <th>EmployeeID</th>\n",
       "      <th>Name</th>\n",
       "      <th>DeptID</th>\n",
       "      <th>DeptName</th>\n",
       "    </tr>\n",
       "  </thead>\n",
       "  <tbody>\n",
       "    <tr>\n",
       "      <th>0</th>\n",
       "      <td>E001</td>\n",
       "      <td>John Doe</td>\n",
       "      <td>D001</td>\n",
       "      <td>Sales</td>\n",
       "    </tr>\n",
       "    <tr>\n",
       "      <th>1</th>\n",
       "      <td>E003</td>\n",
       "      <td>Peter Brown</td>\n",
       "      <td>D001</td>\n",
       "      <td>Sales</td>\n",
       "    </tr>\n",
       "    <tr>\n",
       "      <th>2</th>\n",
       "      <td>E004</td>\n",
       "      <td>Tom Johnson</td>\n",
       "      <td>D002</td>\n",
       "      <td>HR</td>\n",
       "    </tr>\n",
       "    <tr>\n",
       "      <th>3</th>\n",
       "      <td>E002</td>\n",
       "      <td>Jane Smith</td>\n",
       "      <td>D003</td>\n",
       "      <td>Admin</td>\n",
       "    </tr>\n",
       "    <tr>\n",
       "      <th>4</th>\n",
       "      <td>NaN</td>\n",
       "      <td>NaN</td>\n",
       "      <td>D004</td>\n",
       "      <td>Marketing</td>\n",
       "    </tr>\n",
       "  </tbody>\n",
       "</table>\n",
       "</div>"
      ],
      "text/plain": [
       "  EmployeeID         Name DeptID   DeptName\n",
       "0       E001     John Doe   D001      Sales\n",
       "1       E003  Peter Brown   D001      Sales\n",
       "2       E004  Tom Johnson   D002         HR\n",
       "3       E002   Jane Smith   D003      Admin\n",
       "4        NaN          NaN   D004  Marketing"
      ]
     },
     "execution_count": 56,
     "metadata": {},
     "output_type": "execute_result"
    }
   ],
   "source": [
    "data1 = {\n",
    "    'EmployeeID': ['E001', 'E002', 'E003', 'E004', 'E005'],\n",
    "    'Name': ['John Doe', 'Jane Smith', 'Peter Brown', 'Tom Johnson', 'Rita Patel'],\n",
    "    'DeptID': ['D001', 'D003', 'D001', 'D002', 'D006'],\n",
    "}\n",
    "employees = pd.DataFrame(data1)\n",
    "\n",
    "data2 = {\n",
    "    'DeptID': ['D001', 'D002', 'D003', 'D004'],\n",
    "    'DeptName': ['Sales', 'HR', 'Admin', 'Marketing']\n",
    "}\n",
    "departments = pd.DataFrame(data2)\n",
    "\n",
    "# left merge the DataFrame\n",
    "merged_df = pd.merge(employees, departments, on=\"DeptID\", how=\"right\", sort=True)\n",
    "\n",
    "merged_df"
   ]
  },
  {
   "cell_type": "markdown",
   "id": "0f1c6bb2-b8bd-4e1d-947b-677e952dcd2a",
   "metadata": {},
   "source": [
    "#### Inner Join\n",
    "An inner join combines two DataFrames based on a common key and returns a new DataFrame that contains only rows that have matching values in both of the original DataFrames."
   ]
  },
  {
   "cell_type": "code",
   "execution_count": 57,
   "id": "49063338-57aa-46e7-b7e9-80d03bf5bfc1",
   "metadata": {},
   "outputs": [
    {
     "data": {
      "text/html": [
       "<img src=\"https://www.ionos.ca/digitalguide/fileadmin/DigitalGuide/Screenshots_2018/innerjoin.png\" width=\"350\" height=\"200\"/>"
      ],
      "text/plain": [
       "<IPython.core.display.Image object>"
      ]
     },
     "execution_count": 57,
     "metadata": {},
     "output_type": "execute_result"
    }
   ],
   "source": [
    "Image(url=\"https://www.ionos.ca/digitalguide/fileadmin/DigitalGuide/Screenshots_2018/innerjoin.png\", width=350, height=200)"
   ]
  },
  {
   "cell_type": "code",
   "execution_count": 58,
   "id": "5a642aba-35ca-4cab-83a8-d32731e03bb5",
   "metadata": {},
   "outputs": [
    {
     "data": {
      "text/html": [
       "<div>\n",
       "<style scoped>\n",
       "    .dataframe tbody tr th:only-of-type {\n",
       "        vertical-align: middle;\n",
       "    }\n",
       "\n",
       "    .dataframe tbody tr th {\n",
       "        vertical-align: top;\n",
       "    }\n",
       "\n",
       "    .dataframe thead th {\n",
       "        text-align: right;\n",
       "    }\n",
       "</style>\n",
       "<table border=\"1\" class=\"dataframe\">\n",
       "  <thead>\n",
       "    <tr style=\"text-align: right;\">\n",
       "      <th></th>\n",
       "      <th>EmployeeID</th>\n",
       "      <th>Name</th>\n",
       "      <th>DeptID</th>\n",
       "      <th>DeptName</th>\n",
       "    </tr>\n",
       "  </thead>\n",
       "  <tbody>\n",
       "    <tr>\n",
       "      <th>0</th>\n",
       "      <td>E001</td>\n",
       "      <td>John Doe</td>\n",
       "      <td>D001</td>\n",
       "      <td>Sales</td>\n",
       "    </tr>\n",
       "    <tr>\n",
       "      <th>1</th>\n",
       "      <td>E003</td>\n",
       "      <td>Peter Brown</td>\n",
       "      <td>D001</td>\n",
       "      <td>Sales</td>\n",
       "    </tr>\n",
       "    <tr>\n",
       "      <th>2</th>\n",
       "      <td>E004</td>\n",
       "      <td>Tom Johnson</td>\n",
       "      <td>D002</td>\n",
       "      <td>HR</td>\n",
       "    </tr>\n",
       "    <tr>\n",
       "      <th>3</th>\n",
       "      <td>E002</td>\n",
       "      <td>Jane Smith</td>\n",
       "      <td>D003</td>\n",
       "      <td>Admin</td>\n",
       "    </tr>\n",
       "  </tbody>\n",
       "</table>\n",
       "</div>"
      ],
      "text/plain": [
       "  EmployeeID         Name DeptID DeptName\n",
       "0       E001     John Doe   D001    Sales\n",
       "1       E003  Peter Brown   D001    Sales\n",
       "2       E004  Tom Johnson   D002       HR\n",
       "3       E002   Jane Smith   D003    Admin"
      ]
     },
     "execution_count": 58,
     "metadata": {},
     "output_type": "execute_result"
    }
   ],
   "source": [
    "data1 = {\n",
    "    'EmployeeID': ['E001', 'E002', 'E003', 'E004', 'E005'],\n",
    "    'Name': ['John Doe', 'Jane Smith', 'Peter Brown', 'Tom Johnson', 'Rita Patel'],\n",
    "    'DeptID': ['D001', 'D003', 'D001', 'D002', 'D006'],\n",
    "}\n",
    "employees = pd.DataFrame(data1)\n",
    "\n",
    "data2 = {\n",
    "    'DeptID': ['D001', 'D002', 'D003', 'D004'],\n",
    "    'DeptName': ['Sales', 'HR', 'Admin', 'Marketing']\n",
    "}\n",
    "departments = pd.DataFrame(data2)\n",
    "\n",
    "# left merge the DataFrame\n",
    "merged_df = pd.merge(employees, departments, on=\"DeptID\", how=\"inner\", sort=True)\n",
    "\n",
    "merged_df"
   ]
  },
  {
   "cell_type": "markdown",
   "id": "b7598233-83d9-44b9-bd71-0c27bf35caad",
   "metadata": {},
   "source": [
    "#### Outer Join\n",
    "An outer join combines two DataFrames based on a common key. Unlike an inner join, an outer join returns a new DataFrame that contains all rows from both original DataFrames.\n",
    "\n",
    "If values are not found in the DataFrames, it fills the space with` NaN.`"
   ]
  },
  {
   "cell_type": "code",
   "execution_count": 59,
   "id": "d662b5d8-5dac-4687-9368-7b85c0f41742",
   "metadata": {},
   "outputs": [
    {
     "data": {
      "text/html": [
       "<img src=\"https://dbmstutorials.com/images/FullOuterJoinSpark.png\" width=\"350\" height=\"250\"/>"
      ],
      "text/plain": [
       "<IPython.core.display.Image object>"
      ]
     },
     "execution_count": 59,
     "metadata": {},
     "output_type": "execute_result"
    }
   ],
   "source": [
    "Image(url=\"https://dbmstutorials.com/images/FullOuterJoinSpark.png\", width=350, height=250)"
   ]
  },
  {
   "cell_type": "code",
   "execution_count": 60,
   "id": "d3078d14-a451-4686-84f1-2cd27b5f59d4",
   "metadata": {},
   "outputs": [
    {
     "data": {
      "text/html": [
       "<div>\n",
       "<style scoped>\n",
       "    .dataframe tbody tr th:only-of-type {\n",
       "        vertical-align: middle;\n",
       "    }\n",
       "\n",
       "    .dataframe tbody tr th {\n",
       "        vertical-align: top;\n",
       "    }\n",
       "\n",
       "    .dataframe thead th {\n",
       "        text-align: right;\n",
       "    }\n",
       "</style>\n",
       "<table border=\"1\" class=\"dataframe\">\n",
       "  <thead>\n",
       "    <tr style=\"text-align: right;\">\n",
       "      <th></th>\n",
       "      <th>EmployeeID</th>\n",
       "      <th>Name</th>\n",
       "      <th>DeptID</th>\n",
       "      <th>DeptName</th>\n",
       "    </tr>\n",
       "  </thead>\n",
       "  <tbody>\n",
       "    <tr>\n",
       "      <th>0</th>\n",
       "      <td>E001</td>\n",
       "      <td>John Doe</td>\n",
       "      <td>D001</td>\n",
       "      <td>Sales</td>\n",
       "    </tr>\n",
       "    <tr>\n",
       "      <th>1</th>\n",
       "      <td>E003</td>\n",
       "      <td>Peter Brown</td>\n",
       "      <td>D001</td>\n",
       "      <td>Sales</td>\n",
       "    </tr>\n",
       "    <tr>\n",
       "      <th>2</th>\n",
       "      <td>E004</td>\n",
       "      <td>Tom Johnson</td>\n",
       "      <td>D002</td>\n",
       "      <td>HR</td>\n",
       "    </tr>\n",
       "    <tr>\n",
       "      <th>3</th>\n",
       "      <td>E002</td>\n",
       "      <td>Jane Smith</td>\n",
       "      <td>D003</td>\n",
       "      <td>Admin</td>\n",
       "    </tr>\n",
       "    <tr>\n",
       "      <th>4</th>\n",
       "      <td>NaN</td>\n",
       "      <td>NaN</td>\n",
       "      <td>D004</td>\n",
       "      <td>Marketing</td>\n",
       "    </tr>\n",
       "    <tr>\n",
       "      <th>5</th>\n",
       "      <td>E005</td>\n",
       "      <td>Rita Patel</td>\n",
       "      <td>D006</td>\n",
       "      <td>NaN</td>\n",
       "    </tr>\n",
       "  </tbody>\n",
       "</table>\n",
       "</div>"
      ],
      "text/plain": [
       "  EmployeeID         Name DeptID   DeptName\n",
       "0       E001     John Doe   D001      Sales\n",
       "1       E003  Peter Brown   D001      Sales\n",
       "2       E004  Tom Johnson   D002         HR\n",
       "3       E002   Jane Smith   D003      Admin\n",
       "4        NaN          NaN   D004  Marketing\n",
       "5       E005   Rita Patel   D006        NaN"
      ]
     },
     "execution_count": 60,
     "metadata": {},
     "output_type": "execute_result"
    }
   ],
   "source": [
    "data1 = {\n",
    "    'EmployeeID': ['E001', 'E002', 'E003', 'E004', 'E005'],\n",
    "    'Name': ['John Doe', 'Jane Smith', 'Peter Brown', 'Tom Johnson', 'Rita Patel'],\n",
    "    'DeptID': ['D001', 'D003', 'D001', 'D002', 'D006'],\n",
    "}\n",
    "employees = pd.DataFrame(data1)\n",
    "\n",
    "data2 = {\n",
    "    'DeptID': ['D001', 'D002', 'D003', 'D004'],\n",
    "    'DeptName': ['Sales', 'HR', 'Admin', 'Marketing']\n",
    "}\n",
    "departments = pd.DataFrame(data2)\n",
    "\n",
    "# left merge the DataFrame\n",
    "merged_df = pd.merge(employees, departments, on=\"DeptID\", how=\"outer\", sort=True)\n",
    "\n",
    "merged_df"
   ]
  },
  {
   "cell_type": "markdown",
   "id": "e9417e89-21ed-40e8-b36e-177bdad368af",
   "metadata": {},
   "source": [
    "#### Cross Join\n",
    "A cross join in Pandas creates the cartesian product of both DataFrames while preserving the order of the left DataFrame."
   ]
  },
  {
   "cell_type": "code",
   "execution_count": 61,
   "id": "fd3fb45c-0d13-40e8-90ac-5999e2c831d4",
   "metadata": {},
   "outputs": [
    {
     "data": {
      "text/html": [
       "<img src=\"https://th.bing.com/th/id/OIP.QJXDAYqFBy6_DUaeY_NuOQHaD7?rs=1&pid=ImgDetMain\" width=\"350\" height=\"250\"/>"
      ],
      "text/plain": [
       "<IPython.core.display.Image object>"
      ]
     },
     "execution_count": 61,
     "metadata": {},
     "output_type": "execute_result"
    }
   ],
   "source": [
    "Image(url=\"https://th.bing.com/th/id/OIP.QJXDAYqFBy6_DUaeY_NuOQHaD7?rs=1&pid=ImgDetMain\", width=350, height=250)"
   ]
  },
  {
   "cell_type": "code",
   "execution_count": 62,
   "id": "a4813d53-821b-4251-a72c-87ee40d96d66",
   "metadata": {},
   "outputs": [
    {
     "name": "stdout",
     "output_type": "stream",
     "text": [
      "   EmployeeID         Name DeptID_x DeptID_y   DeptName\n",
      "0        E001     John Doe     D001     D001      Sales\n",
      "1        E001     John Doe     D001     D002         HR\n",
      "2        E001     John Doe     D001     D003      Admin\n",
      "3        E001     John Doe     D001     D004  Marketing\n",
      "4        E002   Jane Smith     D003     D001      Sales\n",
      "5        E002   Jane Smith     D003     D002         HR\n",
      "6        E002   Jane Smith     D003     D003      Admin\n",
      "7        E002   Jane Smith     D003     D004  Marketing\n",
      "8        E003  Peter Brown     D001     D001      Sales\n",
      "9        E003  Peter Brown     D001     D002         HR\n",
      "10       E003  Peter Brown     D001     D003      Admin\n",
      "11       E003  Peter Brown     D001     D004  Marketing\n",
      "12       E004  Tom Johnson     D002     D001      Sales\n",
      "13       E004  Tom Johnson     D002     D002         HR\n",
      "14       E004  Tom Johnson     D002     D003      Admin\n",
      "15       E004  Tom Johnson     D002     D004  Marketing\n",
      "16       E005   Rita Patel     D006     D001      Sales\n",
      "17       E005   Rita Patel     D006     D002         HR\n",
      "18       E005   Rita Patel     D006     D003      Admin\n",
      "19       E005   Rita Patel     D006     D004  Marketing\n"
     ]
    }
   ],
   "source": [
    "# create dataframes from the dictionaries\n",
    "data1 = {\n",
    "    'EmployeeID': ['E001', 'E002', 'E003', 'E004', 'E005'],\n",
    "    'Name': ['John Doe', 'Jane Smith', 'Peter Brown', 'Tom Johnson', 'Rita Patel'],\n",
    "    'DeptID': ['D001', 'D003', 'D001', 'D002', 'D006'],\n",
    "}\n",
    "employees = pd.DataFrame(data1)\n",
    "\n",
    "data2 = {\n",
    "    'DeptID': ['D001', 'D002', 'D003', 'D004'],\n",
    "    'DeptName': ['Sales', 'HR', 'Admin', 'Marketing']\n",
    "}\n",
    "departments = pd.DataFrame(data2)\n",
    "\n",
    "# merge the dataframes\n",
    "df_merge = pd.merge(employees, departments, how = 'cross')\n",
    "\n",
    "print(df_merge)"
   ]
  },
  {
   "cell_type": "markdown",
   "id": "519172cd-f04b-4459-9eb8-dc9b8629a8f0",
   "metadata": {},
   "source": [
    "<br>"
   ]
  },
  {
   "cell_type": "markdown",
   "id": "04323f2c-e1c8-4507-8773-0dc486cb67cf",
   "metadata": {},
   "source": [
    "### Join vs Merge vs Concat\n",
    "There are three different methods to combine DataFrames in Pandas:\n",
    "- `join()`: joins two DataFrames based on their **indexes**, performs **left join** by default\n",
    "- `merge()`: joins two DataFrames based on any **specified columns**, performs **inner join** by default\n",
    "- `concat()`: stacks two DataFrames along the vertical or horizontal axis"
   ]
  },
  {
   "cell_type": "markdown",
   "id": "ac05bead-84a2-4448-89c9-8dbe01fca3fe",
   "metadata": {},
   "source": [
    "<br>"
   ]
  },
  {
   "cell_type": "markdown",
   "id": "14b9cfad-ac5d-40c9-9c24-ef0068c36e9d",
   "metadata": {},
   "source": [
    "## 2. Pandas Join"
   ]
  },
  {
   "cell_type": "markdown",
   "id": "0c8a1676-75c5-41a7-b471-fb9f13e929ce",
   "metadata": {},
   "source": [
    "The join operation in Pandas joins two DataFrames based on their **indexes**."
   ]
  },
  {
   "cell_type": "code",
   "execution_count": 63,
   "id": "480849a6-f7ea-4b3f-8b69-c741d3e53ac6",
   "metadata": {},
   "outputs": [
    {
     "name": "stdout",
     "output_type": "stream",
     "text": [
      "DataFrame 1:\n",
      "      A   B\n",
      "K0  A0  B0\n",
      "K1  A1  B1\n",
      "K2  A2  B2\n",
      "K3  A3  B3\n",
      "\n",
      "DataFrame 2:\n",
      "      C   D\n",
      "K0  C0  D0\n",
      "K1  C1  D1\n",
      "K2  C2  D2\n",
      "K3  C3  D3\n",
      "\n",
      "Joined DataFrame:\n",
      "      A   B   C   D\n",
      "K0  A0  B0  C0  D0\n",
      "K1  A1  B1  C1  D1\n",
      "K2  A2  B2  C2  D2\n",
      "K3  A3  B3  C3  D3\n"
     ]
    }
   ],
   "source": [
    "# create dataframe 1\n",
    "data1 = {\n",
    "    'A': ['A0', 'A1', 'A2', 'A3'],\n",
    "    'B': ['B0', 'B1', 'B2', 'B3'],\n",
    "}\n",
    "df1 = pd.DataFrame(data1, index=['K0', 'K1', 'K2', 'K3'])\n",
    "\n",
    "# create dataframe 2\n",
    "data2 = {\n",
    "    'C': ['C0', 'C1', 'C2', 'C3'],\n",
    "    'D': ['D0', 'D1', 'D2', 'D3'],\n",
    "}\n",
    "df2 = pd.DataFrame(data2, index=['K0', 'K1', 'K2', 'K3'])\n",
    "\n",
    "# join dataframes\n",
    "df_join = df1.join(df2)\n",
    "\n",
    "# display DataFrames\n",
    "print(\"DataFrame 1:\\n\", df1)\n",
    "print(\"\\nDataFrame 2:\\n\", df2)\n",
    "print(\"\\nJoined DataFrame:\\n\", df_join)"
   ]
  },
  {
   "cell_type": "markdown",
   "id": "668d6b7b-bf2e-43eb-9e7b-8a6a24e8211a",
   "metadata": {},
   "source": [
    "In this example, we joined DataFrames `df1` and `df2` using `join()`.\n",
    "\n",
    "Here, we have specified `index= ['K0', 'K1', 'K2', 'K3']` in both the DataFrames. This is to provide a common index column based on which we can perform the join operation."
   ]
  },
  {
   "cell_type": "markdown",
   "id": "2e21ff52-db97-4302-8a0f-02da29cfce3c",
   "metadata": {},
   "source": [
    "#### join() Syntax\n",
    "Basic Syntax:\n",
    "```python\n",
    "df1.join(df2, on=None, how='left', lsuffix='', rsuffix='', sort=False)\n",
    "```\n",
    "here, \n",
    "- `df1` : is the first DataFrame\n",
    "- `df2` : is the dataframe to be joined to the first DataFrame\n",
    "- `on (optional)`: specifies the index column(s) based on which the DataFrames are joined\n",
    "- `how(optional)`: specifies the type of join to perform\n",
    "- `lsuffix(optional)`: specifies a suffix that will be appended to a column name of the first DataFrame if there is a collision or conflict with another column name\n",
    "- `rsuffix(optional)`: specifies a suffix that will be appended to a column name of the second DataFrame if there is a collision or conflict with another column name\n",
    "- `sort(optional)`: determines whether to sort the result DataFrame by the join keys\r\n"
   ]
  },
  {
   "cell_type": "markdown",
   "id": "8c7db273-0ddf-45d7-b39b-8dd2f464ba4d",
   "metadata": {},
   "source": [
    "#### Example: Join DataFrames\n",
    "As discussed above, the `join()` method can only join DataFrames based on an index. However, we can treat a `column` as an `index` by passing it to `set_index()`. We can then use the column to join DataFrames."
   ]
  },
  {
   "cell_type": "code",
   "execution_count": 64,
   "id": "1b88a8a4-d82d-4ac8-aa2a-a46e41ccbca2",
   "metadata": {},
   "outputs": [
    {
     "data": {
      "text/html": [
       "<div>\n",
       "<style scoped>\n",
       "    .dataframe tbody tr th:only-of-type {\n",
       "        vertical-align: middle;\n",
       "    }\n",
       "\n",
       "    .dataframe tbody tr th {\n",
       "        vertical-align: top;\n",
       "    }\n",
       "\n",
       "    .dataframe thead th {\n",
       "        text-align: right;\n",
       "    }\n",
       "</style>\n",
       "<table border=\"1\" class=\"dataframe\">\n",
       "  <thead>\n",
       "    <tr style=\"text-align: right;\">\n",
       "      <th></th>\n",
       "      <th>EmployeeID</th>\n",
       "      <th>Name</th>\n",
       "      <th>DeptID</th>\n",
       "      <th>DeptName_left</th>\n",
       "      <th>DeptName_right</th>\n",
       "    </tr>\n",
       "  </thead>\n",
       "  <tbody>\n",
       "    <tr>\n",
       "      <th>0</th>\n",
       "      <td>E001</td>\n",
       "      <td>John Doe</td>\n",
       "      <td>D001</td>\n",
       "      <td>Sales1</td>\n",
       "      <td>Sales2</td>\n",
       "    </tr>\n",
       "    <tr>\n",
       "      <th>1</th>\n",
       "      <td>E002</td>\n",
       "      <td>Jane Smith</td>\n",
       "      <td>D003</td>\n",
       "      <td>Admin1</td>\n",
       "      <td>Admin2</td>\n",
       "    </tr>\n",
       "    <tr>\n",
       "      <th>2</th>\n",
       "      <td>E003</td>\n",
       "      <td>Peter Brown</td>\n",
       "      <td>D001</td>\n",
       "      <td>Sales1</td>\n",
       "      <td>Sales2</td>\n",
       "    </tr>\n",
       "    <tr>\n",
       "      <th>3</th>\n",
       "      <td>E004</td>\n",
       "      <td>Tom Johnson</td>\n",
       "      <td>D002</td>\n",
       "      <td>HR1</td>\n",
       "      <td>HR2</td>\n",
       "    </tr>\n",
       "    <tr>\n",
       "      <th>4</th>\n",
       "      <td>E005</td>\n",
       "      <td>Rita Patel</td>\n",
       "      <td>D006</td>\n",
       "      <td>N/A</td>\n",
       "      <td>NaN</td>\n",
       "    </tr>\n",
       "  </tbody>\n",
       "</table>\n",
       "</div>"
      ],
      "text/plain": [
       "  EmployeeID         Name DeptID DeptName_left DeptName_right\n",
       "0       E001     John Doe   D001        Sales1         Sales2\n",
       "1       E002   Jane Smith   D003        Admin1         Admin2\n",
       "2       E003  Peter Brown   D001        Sales1         Sales2\n",
       "3       E004  Tom Johnson   D002           HR1            HR2\n",
       "4       E005   Rita Patel   D006           N/A            NaN"
      ]
     },
     "execution_count": 64,
     "metadata": {},
     "output_type": "execute_result"
    }
   ],
   "source": [
    "data1 = {\n",
    "    'EmployeeID' : ['E001', 'E002', 'E003', 'E004', 'E005'],\n",
    "    'Name' : ['John Doe', 'Jane Smith', 'Peter Brown', 'Tom Johnson', 'Rita Patel'],\n",
    "    'DeptID': ['D001', 'D003', 'D001', 'D002', 'D006'],\n",
    "    'DeptName': ['Sales1', 'Admin1', 'Sales1', 'HR1', 'N/A']\n",
    "}\n",
    "employees = pd.DataFrame(data1)\n",
    "\n",
    "data2 = {\n",
    "    'DeptID' : ['D001', 'D002', 'D003', 'D004'],\n",
    "    'DeptName' : ['Sales2', 'HR2', 'Admin2', 'Marketing2']\n",
    "}\n",
    "departments = pd.DataFrame(data2)\n",
    "\n",
    "# set DepID as index for departments dataframe\n",
    "departments.set_index('DeptID', inplace=True)\n",
    "\n",
    "# join the DataFrames based on columns.\n",
    "df.join= employees.join(departments, on='DeptID', lsuffix='_left', rsuffix='_right')\n",
    "df.join"
   ]
  },
  {
   "cell_type": "code",
   "execution_count": 85,
   "id": "0ac2c9b8-7a81-453d-8c51-4daba12ebafa",
   "metadata": {},
   "outputs": [],
   "source": [
    "df = pd.DataFrame({'UserID': ['K0', 'K1', 'K2', 'K3', 'K4', 'K5'],\n",
    "                   'Name': ['A0', 'A1', 'A2', 'A3', 'A4', 'A5']})"
   ]
  },
  {
   "cell_type": "code",
   "execution_count": 86,
   "id": "4f26e6c2-3374-4e28-a185-6ee78c863401",
   "metadata": {},
   "outputs": [],
   "source": [
    "other = pd.DataFrame({'UserID': ['K0', 'K1', 'K2'],\n",
    "                       'Name': ['A0', 'A1', 'A2']})"
   ]
  },
  {
   "cell_type": "code",
   "execution_count": 88,
   "id": "6eece36a-d6e5-4f2c-9c97-6d299ef15601",
   "metadata": {},
   "outputs": [
    {
     "data": {
      "text/html": [
       "<div>\n",
       "<style scoped>\n",
       "    .dataframe tbody tr th:only-of-type {\n",
       "        vertical-align: middle;\n",
       "    }\n",
       "\n",
       "    .dataframe tbody tr th {\n",
       "        vertical-align: top;\n",
       "    }\n",
       "\n",
       "    .dataframe thead th {\n",
       "        text-align: right;\n",
       "    }\n",
       "</style>\n",
       "<table border=\"1\" class=\"dataframe\">\n",
       "  <thead>\n",
       "    <tr style=\"text-align: right;\">\n",
       "      <th></th>\n",
       "      <th>UserID</th>\n",
       "      <th>Name</th>\n",
       "      <th>Name_right</th>\n",
       "    </tr>\n",
       "  </thead>\n",
       "  <tbody>\n",
       "    <tr>\n",
       "      <th>0</th>\n",
       "      <td>K0</td>\n",
       "      <td>A0</td>\n",
       "      <td>NaN</td>\n",
       "    </tr>\n",
       "    <tr>\n",
       "      <th>1</th>\n",
       "      <td>K1</td>\n",
       "      <td>A1</td>\n",
       "      <td>NaN</td>\n",
       "    </tr>\n",
       "    <tr>\n",
       "      <th>2</th>\n",
       "      <td>K2</td>\n",
       "      <td>A2</td>\n",
       "      <td>NaN</td>\n",
       "    </tr>\n",
       "    <tr>\n",
       "      <th>3</th>\n",
       "      <td>K3</td>\n",
       "      <td>A3</td>\n",
       "      <td>NaN</td>\n",
       "    </tr>\n",
       "    <tr>\n",
       "      <th>4</th>\n",
       "      <td>K4</td>\n",
       "      <td>A4</td>\n",
       "      <td>NaN</td>\n",
       "    </tr>\n",
       "    <tr>\n",
       "      <th>5</th>\n",
       "      <td>K5</td>\n",
       "      <td>A5</td>\n",
       "      <td>NaN</td>\n",
       "    </tr>\n",
       "  </tbody>\n",
       "</table>\n",
       "</div>"
      ],
      "text/plain": [
       "  UserID Name Name_right\n",
       "0     K0   A0        NaN\n",
       "1     K1   A1        NaN\n",
       "2     K2   A2        NaN\n",
       "3     K3   A3        NaN\n",
       "4     K4   A4        NaN\n",
       "5     K5   A5        NaN"
      ]
     },
     "execution_count": 88,
     "metadata": {},
     "output_type": "execute_result"
    }
   ],
   "source": [
    "df.join(other.set_index('UserID'), how='left', rsuffix='_right')"
   ]
  },
  {
   "cell_type": "markdown",
   "id": "dbc2d4dd-9191-46d4-a95d-f93a0dbe3580",
   "metadata": {},
   "source": [
    "<br><br>"
   ]
  },
  {
   "cell_type": "markdown",
   "id": "eba0a9b7-1a14-47a7-9662-eb47c30da5b3",
   "metadata": {
    "jp-MarkdownHeadingCollapsed": true
   },
   "source": [
    "# Data Cleaning"
   ]
  },
  {
   "cell_type": "markdown",
   "id": "bb30774f-2fe9-4bc7-b3a8-02a4b33e6724",
   "metadata": {},
   "source": [
    "## 1. Pandas Data Cleaning"
   ]
  },
  {
   "cell_type": "markdown",
   "id": "e6b93587-b3fb-4a4d-b978-3b03a6956e51",
   "metadata": {},
   "source": [
    "Data cleaning means fixing and organizing messy data. Pandas offers a wide range of tools and functions to help us clean and preprocess our data effectively.\n",
    "\n",
    "Data cleaning often involves:\n",
    "1. Dropping Irrevelant Columns\n",
    "2. Renaming column names to meaningful names.\n",
    "3. Making data values consistent or Handling Inconsistent Data\n",
    "4. Replacing or filling in missing values."
   ]
  },
  {
   "cell_type": "markdown",
   "id": "a5ecf8a7-fe47-450a-8681-bccf359712bb",
   "metadata": {},
   "source": [
    "#### Dropping Rows with Missing Values\n",
    "In Pandas, we can drop rows with missing values using the dropna() function. For example,"
   ]
  },
  {
   "cell_type": "code",
   "execution_count": 65,
   "id": "4ca08aff-0e43-4fa3-8dc0-131cc8d58938",
   "metadata": {},
   "outputs": [
    {
     "name": "stdout",
     "output_type": "stream",
     "text": [
      "Original DataFrame\n",
      "      A    B    C\n",
      "0  1.0  NaN  1.0\n",
      "1  2.0  2.0  2.0\n",
      "2  3.0  3.0  NaN\n",
      "3  NaN  4.0  NaN\n",
      "4  5.0  5.0  5.0\n",
      "\n",
      " A    1\n",
      "B    1\n",
      "C    2\n",
      "dtype: int64\n",
      "\n",
      "Cleaned DataFrame\n",
      "      A    B    C\n",
      "1  2.0  2.0  2.0\n",
      "4  5.0  5.0  5.0\n"
     ]
    }
   ],
   "source": [
    "data = {\n",
    "    'A': [1, 2, 3, None, 5],  \n",
    "    'B': [None, 2, 3, 4, 5],  \n",
    "    'C': [1, 2, None, None, 5]\n",
    "}\n",
    "df = pd.DataFrame(data)\n",
    "print(\"Original DataFrame\\n\", df)\n",
    "\n",
    "print(\"\\n\",df.isna().sum())\n",
    "\n",
    "#use dropna() to remove with any missing values)\n",
    "df.dropna(inplace=True)\n",
    "print(\"\\nCleaned DataFrame\\n\", df)"
   ]
  },
  {
   "cell_type": "markdown",
   "id": "62f4fe75-5f64-4abe-9ccb-f4ff13bc589f",
   "metadata": {},
   "source": [
    "Here, we have used the `dropna()` method to remove rows with any missing values."
   ]
  },
  {
   "cell_type": "code",
   "execution_count": 66,
   "id": "c83da443-6e3c-413d-a9c0-6ca6ce9ea16d",
   "metadata": {},
   "outputs": [
    {
     "name": "stdout",
     "output_type": "stream",
     "text": [
      "Original DataFrame\n",
      "      A    B    C\n",
      "0  1.0  NaN  1.0\n",
      "1  2.0  2.0  2.0\n",
      "2  3.0  3.0  NaN\n",
      "3  NaN  4.0  NaN\n",
      "4  5.0  5.0  5.0\n",
      "\n",
      " A    1\n",
      "B    1\n",
      "C    2\n",
      "dtype: int64\n",
      "\n",
      "Filled DataFrame\n",
      "      A    B    C\n",
      "0  1.0  4.0  1.0\n",
      "1  2.0  2.0  2.0\n",
      "2  3.0  3.0  4.0\n",
      "3  4.0  4.0  4.0\n",
      "4  5.0  5.0  5.0\n"
     ]
    }
   ],
   "source": [
    "data = {\n",
    "    'A': [1, 2, 3, None, 5],  \n",
    "    'B': [None, 2, 3, 4, 5],  \n",
    "    'C': [1, 2, None, None, 5]\n",
    "}\n",
    "df = pd.DataFrame(data)\n",
    "print(\"Original DataFrame\\n\", df)\n",
    "\n",
    "print(\"\\n\",df.isna().sum())\n",
    "\n",
    "# Fill inside missing value\n",
    "df.fillna(4, inplace=True)\n",
    "\n",
    "print(\"\\nFilled DataFrame\\n\", df)"
   ]
  },
  {
   "cell_type": "markdown",
   "id": "42a0ba4d-9de4-48be-ad2e-05afca0e678c",
   "metadata": {},
   "source": [
    "Here, we used `data.fillna()` to fill the missing values(NaN) in each column with 4.\n",
    "- It is not a proper way of filling up the documments\n",
    "- In later chapter we will learn about filling null value more accurately."
   ]
  },
  {
   "cell_type": "markdown",
   "id": "1387777c-0163-4acd-b3b9-535d6c06249b",
   "metadata": {},
   "source": [
    "#### Use Aggregate Functions to Fill Missing Values\n",
    "Instead of filling with **4**, we can also use `aggregate functions` to fill missing values."
   ]
  },
  {
   "cell_type": "code",
   "execution_count": 67,
   "id": "ccc0bc1e-66c9-4b9a-903a-29fa1d76d661",
   "metadata": {},
   "outputs": [
    {
     "name": "stdout",
     "output_type": "stream",
     "text": [
      "Original Data:\n",
      "      A    B    C\n",
      "0  1.0  NaN  1.0\n",
      "1  2.0  2.0  2.0\n",
      "2  3.0  3.0  NaN\n",
      "3  NaN  4.0  NaN\n",
      "4  5.0  5.0  5.0\n",
      "\n",
      "Data after filling NaN with mean:\n",
      "       A    B         C\n",
      "0  1.00  3.5  1.000000\n",
      "1  2.00  2.0  2.000000\n",
      "2  3.00  3.0  2.666667\n",
      "3  2.75  4.0  2.666667\n",
      "4  5.00  5.0  5.000000\n"
     ]
    }
   ],
   "source": [
    "data = {\n",
    "    'A': [1, 2, 3, None, 5],  \n",
    "    'B': [None, 2, 3, 4, 5],  \n",
    "    'C': [1, 2, None, None, 5]\n",
    "}\n",
    "\n",
    "df = pd.DataFrame(data)\n",
    "print(\"Original Data:\\n\", df)\n",
    "df.fillna(df.mean(), inplace=True)\n",
    "print(\"\\nData after filling NaN with mean:\\n\", df)"
   ]
  },
  {
   "cell_type": "markdown",
   "id": "158dc2f4-90e1-4205-831a-b81a6ed7966f",
   "metadata": {},
   "source": [
    "### Handle Duplicated Values -> Already Done"
   ]
  },
  {
   "cell_type": "code",
   "execution_count": 68,
   "id": "c7ac926d-7427-4d70-8500-e2c66993b2bb",
   "metadata": {},
   "outputs": [],
   "source": [
    "data = {\n",
    "    'A': [1, 2, 2, 3, 3, 4],\n",
    "    'B': [5, 6, 6, 7, 8, 8]\n",
    "}\n",
    "df = pd.DataFrame(data)"
   ]
  },
  {
   "cell_type": "code",
   "execution_count": 69,
   "id": "14bf203c-3ff6-4c50-ae02-2d1a351a6539",
   "metadata": {},
   "outputs": [
    {
     "data": {
      "text/plain": [
       "0    False\n",
       "1    False\n",
       "2     True\n",
       "3    False\n",
       "4    False\n",
       "5    False\n",
       "dtype: bool"
      ]
     },
     "execution_count": 69,
     "metadata": {},
     "output_type": "execute_result"
    }
   ],
   "source": [
    "df.duplicated()"
   ]
  },
  {
   "cell_type": "code",
   "execution_count": 70,
   "id": "6addf4f0-c851-44d5-88b5-39bb41c0fbf8",
   "metadata": {},
   "outputs": [],
   "source": [
    "df.drop_duplicates(df, inplace=True, keep='first')"
   ]
  },
  {
   "cell_type": "code",
   "execution_count": 71,
   "id": "d3fc8b81-e521-4c54-97c1-4d87f66103da",
   "metadata": {},
   "outputs": [
    {
     "name": "stdout",
     "output_type": "stream",
     "text": [
      "   A  B\n",
      "0  1  5\n",
      "1  2  6\n",
      "3  3  7\n",
      "4  3  8\n",
      "5  4  8\n"
     ]
    }
   ],
   "source": [
    "print(df)"
   ]
  },
  {
   "cell_type": "markdown",
   "id": "7b49c7f4-0c16-4ebd-8546-40870e4e1913",
   "metadata": {},
   "source": [
    "### Rename Column Names to Meaningful Names\n",
    "To rename column names to more meaningful names in Pandas, we can use the `rename()` function. For example,"
   ]
  },
  {
   "cell_type": "code",
   "execution_count": 72,
   "id": "5c22129b-4c1b-42b4-95c0-8aec99e513d2",
   "metadata": {},
   "outputs": [
    {
     "name": "stdout",
     "output_type": "stream",
     "text": [
      "   Age   Name  Income\n",
      "0   25   John   50000\n",
      "1   30    Doe   60000\n",
      "2   35  Smith   70000\n"
     ]
    }
   ],
   "source": [
    "data = {\n",
    "    'A': [25, 30, 35],\n",
    "    'B': ['John', 'Doe', 'Smith'],\n",
    "    'C': [50000, 60000, 70000]\n",
    "}\n",
    "\n",
    "df = pd.DataFrame(data)\n",
    "\n",
    "df.rename(columns={'A':'Age', 'B':'Name', 'C':'Income'}, inplace=True)\n",
    "print(df)"
   ]
  },
  {
   "cell_type": "markdown",
   "id": "f37a1a92-2c14-4231-853c-af5a3d1e4bd3",
   "metadata": {},
   "source": [
    "<br>"
   ]
  },
  {
   "cell_type": "markdown",
   "id": "5e28c1bf-627c-4c64-84ce-a2a05ba8571c",
   "metadata": {},
   "source": [
    "## 2. Pandas Handling Missing Values"
   ]
  },
  {
   "cell_type": "markdown",
   "id": "4b8fac10-1557-44fa-9bd8-81a2b72584bc",
   "metadata": {},
   "source": [
    "in Pandas, missing values, often represented as `NaN` (Not a Number), can cause problems during data processing and analysis. These gaps in data can lead to incorrect analysis and misleading conclusions.\n",
    "\n",
    "Pandas provides a host of functions like `dropna()`, `fillna()` and `combine_first()` to handle missing values."
   ]
  },
  {
   "cell_type": "code",
   "execution_count": 73,
   "id": "a35af44e-fc93-4f35-a011-d2b3db230491",
   "metadata": {},
   "outputs": [],
   "source": [
    "data = {\n",
    "    'A': [1, 2, np.nan, 4, 5],\n",
    "    'B': [np.nan, 2, 3, 4, 5],\n",
    "    'C': [1, 2, 3, np.nan, 5],\n",
    "    'D': [1, 2, 3, 4, 5]\n",
    "}\n",
    "df = pd.DataFrame(data)"
   ]
  },
  {
   "cell_type": "markdown",
   "id": "9f17f04e-a914-4c19-b044-81b8862e974f",
   "metadata": {},
   "source": [
    "#### Removing rows containing Missing Values\n",
    "One straightforward way to handle missing values is by removing them. Since the data sets we deal with are often large, eliminating a few rows typically has minimal impact on the final outcome.\n",
    "\n",
    "We use the `dropna()` function to remove rows containing at least one missing value. For example,"
   ]
  },
  {
   "cell_type": "code",
   "execution_count": 74,
   "id": "298de8b1-8fbf-46f4-8010-1ed5ce483a7f",
   "metadata": {},
   "outputs": [
    {
     "name": "stdout",
     "output_type": "stream",
     "text": [
      "Original DataFrame\n",
      "      A    B    C  D\n",
      "0  1.0  NaN  1.0  1\n",
      "1  2.0  2.0  2.0  2\n",
      "2  NaN  3.0  3.0  3\n",
      "3  4.0  4.0  NaN  4\n",
      "4  5.0  5.0  5.0  5\n",
      "\n",
      "      A    B    C  D\n",
      "1  2.0  2.0  2.0  2\n",
      "4  5.0  5.0  5.0  5\n"
     ]
    }
   ],
   "source": [
    "data = {\n",
    "    'A': [1, 2, np.nan, 4, 5],\n",
    "    'B': [np.nan, 2, 3, 4, 5],\n",
    "    'C': [1, 2, 3, np.nan, 5],\n",
    "    'D': [1, 2, 3, 4, 5]\n",
    "}\n",
    "df = pd.DataFrame(data)\n",
    "\n",
    "print(\"Original DataFrame\\n\", df)\n",
    "\n",
    "# Removing rows containg missing values\n",
    "df.dropna(axis=0, inplace=True,)\n",
    "print(\"\\n\",df)"
   ]
  },
  {
   "cell_type": "markdown",
   "id": "eb307d31-0390-49e3-9af4-c50fd441075c",
   "metadata": {},
   "source": [
    "In this example, we removed all the rows containing NaN values using dropna(). The `dropna()` method detects the rows with `NaN` values and removes them. `axis=0` parameter is used to indicate row wise operation. \n"
   ]
  },
  {
   "cell_type": "markdown",
   "id": "81ba9a83-329a-4ede-9767-129f6a2f7a4c",
   "metadata": {},
   "source": [
    "#### Replace Missing Values\n",
    "Instead of deleting the entire row containing missing values, we can replace the missing values with a specified value using `fillna()`."
   ]
  },
  {
   "cell_type": "code",
   "execution_count": 75,
   "id": "77afeede-13bb-44a3-a46a-b305829e001f",
   "metadata": {},
   "outputs": [
    {
     "name": "stdout",
     "output_type": "stream",
     "text": [
      "Original DataFrame\n",
      "      A    B    C  D\n",
      "0  1.0  NaN  1.0  1\n",
      "1  2.0  2.0  2.0  2\n",
      "2  NaN  3.0  3.0  3\n",
      "3  4.0  4.0  NaN  4\n",
      "4  5.0  5.0  5.0  5\n",
      "\n",
      "      A    B    C  D\n",
      "0  1.0  1.0  1.0  1\n",
      "1  2.0  2.0  2.0  2\n",
      "2  1.0  3.0  3.0  3\n",
      "3  4.0  4.0  1.0  4\n",
      "4  5.0  5.0  5.0  5\n"
     ]
    }
   ],
   "source": [
    "data = {\n",
    "    'A': [1, 2, np.nan, 4, 5],\n",
    "    'B': [np.nan, 2, 3, 4, 5],\n",
    "    'C': [1, 2, 3, np.nan, 5],\n",
    "    'D': [1, 2, 3, 4, 5]\n",
    "}\n",
    "df = pd.DataFrame(data)\n",
    "\n",
    "print(\"Original DataFrame\\n\", df)\n",
    "\n",
    "# Replacing null value\n",
    "df.fillna(1, inplace=True)\n",
    "print(\"\\n\",df)"
   ]
  },
  {
   "cell_type": "markdown",
   "id": "1caf8e6e-a666-4386-8f63-cee0568e6b55",
   "metadata": {},
   "source": [
    "#### Replacing Missing Value with Mean, Median and Mode\n",
    "A more refined approach is to replace missing values with the mean, median, or mode of the remaining values in the column. This can give a more accurate representation than just replacing it with a default value.\n",
    "\n",
    "We can use the `fillna()` function with aggregate functions to replace missing values with mean, median or mode."
   ]
  },
  {
   "cell_type": "code",
   "execution_count": 76,
   "id": "b122a52b-b934-4c32-a5d2-bba72cd1e346",
   "metadata": {},
   "outputs": [
    {
     "name": "stdout",
     "output_type": "stream",
     "text": [
      "Original DataFrame\n",
      "      A    B    C  D\n",
      "0  1.0  NaN  1.0  1\n",
      "1  2.0  2.0  2.0  2\n",
      "2  NaN  3.0  3.0  3\n",
      "3  4.0  4.0  NaN  4\n",
      "4  5.0  5.0  5.0  5\n",
      "     A    B    C  D\n",
      "0  1.0  3.5  1.0  1\n",
      "1  2.0  2.0  2.0  2\n",
      "2  3.0  3.0  3.0  3\n",
      "3  4.0  4.0  1.0  4\n",
      "4  5.0  5.0  5.0  5\n"
     ]
    },
    {
     "name": "stderr",
     "output_type": "stream",
     "text": [
      "C:\\Users\\hp\\AppData\\Local\\Temp\\ipykernel_15552\\748567863.py:12: FutureWarning: A value is trying to be set on a copy of a DataFrame or Series through chained assignment using an inplace method.\n",
      "The behavior will change in pandas 3.0. This inplace method will never work because the intermediate object on which we are setting values always behaves as a copy.\n",
      "\n",
      "For example, when doing 'df[col].method(value, inplace=True)', try using 'df.method({col: value}, inplace=True)' or df[col] = df[col].method(value) instead, to perform the operation inplace on the original object.\n",
      "\n",
      "\n",
      "  df['A'].fillna(df['A'].mean(), inplace = True)\n",
      "C:\\Users\\hp\\AppData\\Local\\Temp\\ipykernel_15552\\748567863.py:15: FutureWarning: A value is trying to be set on a copy of a DataFrame or Series through chained assignment using an inplace method.\n",
      "The behavior will change in pandas 3.0. This inplace method will never work because the intermediate object on which we are setting values always behaves as a copy.\n",
      "\n",
      "For example, when doing 'df[col].method(value, inplace=True)', try using 'df.method({col: value}, inplace=True)' or df[col] = df[col].method(value) instead, to perform the operation inplace on the original object.\n",
      "\n",
      "\n",
      "  df['B'].fillna(df['B'].median(), inplace=True)\n"
     ]
    }
   ],
   "source": [
    "data = {\n",
    "    'A': [1, 2, np.nan, 4, 5],\n",
    "    'B': [np.nan, 2, 3, 4, 5],\n",
    "    'C': [1, 2, 3, np.nan, 5],\n",
    "    'D': [1, 2, 3, 4, 5]\n",
    "}\n",
    "df = pd.DataFrame(data)\n",
    "\n",
    "print(\"Original DataFrame\\n\", df)\n",
    "\n",
    "# Replace missing value of column A with mean \n",
    "df['A'].fillna(df['A'].mean(), inplace = True)\n",
    "\n",
    "# replace missing values with median\n",
    "df['B'].fillna(df['B'].median(), inplace=True)\n",
    "\n",
    "# replace missing values with mode\n",
    "df.fillna({'C':df['C'].mode()[0]}, inplace=True)\n",
    "\n",
    "print(df)"
   ]
  },
  {
   "cell_type": "markdown",
   "id": "c9d254d5-7b65-4ce0-a801-59b4e7c8e43c",
   "metadata": {},
   "source": [
    "In this example, we replaced the missing values of `A`, `B` and `C` columns with their mean, median and mode respectively.\n",
    "\n",
    "Here, `mode()[0]` returns the most frequent value. Since all the values have the same frequency, it returns the first value of the column."
   ]
  },
  {
   "cell_type": "markdown",
   "id": "1da4bd7a-96ce-4a79-b91c-4e13508d5cd2",
   "metadata": {},
   "source": [
    "#### Replace Values Using Another DataFrame\n",
    "We can replace missing values in one DataFrame using another DataFrame using the `fillna()` method."
   ]
  },
  {
   "cell_type": "code",
   "execution_count": 77,
   "id": "97f1c868-c951-4c5b-b6d1-5d49f331f902",
   "metadata": {},
   "outputs": [
    {
     "name": "stdout",
     "output_type": "stream",
     "text": [
      "      A     B     C  D\n",
      "0   1.0  10.0   1.0  1\n",
      "1   2.0   2.0   2.0  2\n",
      "2  30.0   3.0   3.0  3\n",
      "3   4.0   4.0  40.0  4\n",
      "4   5.0   5.0   5.0  5\n"
     ]
    }
   ],
   "source": [
    "data1 = {\n",
    "    'A': [1, 2, np.nan, 4, 5],\n",
    "    'B': [np.nan, 2, 3, 4, 5],\n",
    "    'C': [1, 2, 3, np.nan, 5],\n",
    "    'D': [1, 2, 3, 4, 5]\n",
    "}\n",
    "df1 = pd.DataFrame(data1)\n",
    "\n",
    "# create datframe to fill the missing values with\n",
    "data2 = {\n",
    "    'A': [10, 20, 30, 40, 50],\n",
    "    'B': [10, 20, 30, 40, 50],\n",
    "    'C': [10, 20, 30, 40, 50],\n",
    "    'D': [10, 20, 30, 40, 50]\n",
    "}\n",
    "df2 = pd.DataFrame(data2)\n",
    "\n",
    "# Replace missing values with another dataframe\n",
    "df1.fillna(df2, inplace=True)\n",
    "\n",
    "print(df1)"
   ]
  },
  {
   "cell_type": "markdown",
   "id": "0ff301fe-4d2f-4e61-aeb8-93c6b7f6fb64",
   "metadata": {},
   "source": [
    "Here, we've two dataframes `df1` and `df2`. The `fillna()` replaces missing values in `df1` with corresponding values from `df2`."
   ]
  },
  {
   "cell_type": "markdown",
   "id": "dcd1cee4-f1eb-47b5-b029-039e4e44bcc4",
   "metadata": {},
   "source": [
    "<br>"
   ]
  },
  {
   "cell_type": "markdown",
   "id": "27d64d4c-0aa6-4630-9ee3-5bdeb23f2e2f",
   "metadata": {},
   "source": [
    "## 3. Pandas Handling Wrong Format or Inconsistent Format"
   ]
  },
  {
   "cell_type": "markdown",
   "id": "9bc7088e-8d09-4c36-8213-ba252fb61de3",
   "metadata": {},
   "source": [
    "In a real world scenario, data are taken from various sources which causes inconsistencies in format of the data. For example, a column can have data of integer and string type as the data is copied from different sources.\n",
    "\n",
    "Such inconsistencies can create challenges, making data analysis difficult or even impossible.\n",
    "\n",
    "`astype()`"
   ]
  },
  {
   "cell_type": "code",
   "execution_count": 78,
   "id": "41848a72-47f4-4a56-8550-e7b60053e1a7",
   "metadata": {},
   "outputs": [
    {
     "ename": "TypeError",
     "evalue": "unsupported operand type(s) for +: 'float' and 'str'",
     "output_type": "error",
     "traceback": [
      "\u001b[1;31m------------------------------------------------------------------------\u001b[0m",
      "\u001b[1;31mTypeError\u001b[0m                              Traceback (most recent call last)",
      "Cell \u001b[1;32mIn[78], line 9\u001b[0m\n\u001b[0;32m      6\u001b[0m df \u001b[38;5;241m=\u001b[39m pd\u001b[38;5;241m.\u001b[39mDataFrame(data)\n\u001b[0;32m      8\u001b[0m \u001b[38;5;66;03m# Calculate mean of temperature\u001b[39;00m\n\u001b[1;32m----> 9\u001b[0m mean_temperature \u001b[38;5;241m=\u001b[39m \u001b[43mdf\u001b[49m\u001b[43m[\u001b[49m\u001b[38;5;124;43m'\u001b[39;49m\u001b[38;5;124;43mTemperature\u001b[39;49m\u001b[38;5;124;43m'\u001b[39;49m\u001b[43m]\u001b[49m\u001b[38;5;241;43m.\u001b[39;49m\u001b[43mmean\u001b[49m\u001b[43m(\u001b[49m\u001b[43m)\u001b[49m\n\u001b[0;32m     11\u001b[0m \u001b[38;5;28mprint\u001b[39m(mean_temperature)\n",
      "File \u001b[1;32m~\\OneDrive\\Desktop\\Financial-Analysis\\myvenv\\Lib\\site-packages\\pandas\\core\\series.py:6529\u001b[0m, in \u001b[0;36mSeries.mean\u001b[1;34m(self, axis, skipna, numeric_only, **kwargs)\u001b[0m\n\u001b[0;32m   6521\u001b[0m \u001b[38;5;129m@doc\u001b[39m(make_doc(\u001b[38;5;124m\"\u001b[39m\u001b[38;5;124mmean\u001b[39m\u001b[38;5;124m\"\u001b[39m, ndim\u001b[38;5;241m=\u001b[39m\u001b[38;5;241m1\u001b[39m))\n\u001b[0;32m   6522\u001b[0m \u001b[38;5;28;01mdef\u001b[39;00m \u001b[38;5;21mmean\u001b[39m(\n\u001b[0;32m   6523\u001b[0m     \u001b[38;5;28mself\u001b[39m,\n\u001b[1;32m   (...)\u001b[0m\n\u001b[0;32m   6527\u001b[0m     \u001b[38;5;241m*\u001b[39m\u001b[38;5;241m*\u001b[39mkwargs,\n\u001b[0;32m   6528\u001b[0m ):\n\u001b[1;32m-> 6529\u001b[0m     \u001b[38;5;28;01mreturn\u001b[39;00m \u001b[43mNDFrame\u001b[49m\u001b[38;5;241;43m.\u001b[39;49m\u001b[43mmean\u001b[49m\u001b[43m(\u001b[49m\u001b[38;5;28;43mself\u001b[39;49m\u001b[43m,\u001b[49m\u001b[43m \u001b[49m\u001b[43maxis\u001b[49m\u001b[43m,\u001b[49m\u001b[43m \u001b[49m\u001b[43mskipna\u001b[49m\u001b[43m,\u001b[49m\u001b[43m \u001b[49m\u001b[43mnumeric_only\u001b[49m\u001b[43m,\u001b[49m\u001b[43m \u001b[49m\u001b[38;5;241;43m*\u001b[39;49m\u001b[38;5;241;43m*\u001b[39;49m\u001b[43mkwargs\u001b[49m\u001b[43m)\u001b[49m\n",
      "File \u001b[1;32m~\\OneDrive\\Desktop\\Financial-Analysis\\myvenv\\Lib\\site-packages\\pandas\\core\\generic.py:12413\u001b[0m, in \u001b[0;36mNDFrame.mean\u001b[1;34m(self, axis, skipna, numeric_only, **kwargs)\u001b[0m\n\u001b[0;32m  12406\u001b[0m \u001b[38;5;28;01mdef\u001b[39;00m \u001b[38;5;21mmean\u001b[39m(\n\u001b[0;32m  12407\u001b[0m     \u001b[38;5;28mself\u001b[39m,\n\u001b[0;32m  12408\u001b[0m     axis: Axis \u001b[38;5;241m|\u001b[39m \u001b[38;5;28;01mNone\u001b[39;00m \u001b[38;5;241m=\u001b[39m \u001b[38;5;241m0\u001b[39m,\n\u001b[1;32m   (...)\u001b[0m\n\u001b[0;32m  12411\u001b[0m     \u001b[38;5;241m*\u001b[39m\u001b[38;5;241m*\u001b[39mkwargs,\n\u001b[0;32m  12412\u001b[0m ) \u001b[38;5;241m-\u001b[39m\u001b[38;5;241m>\u001b[39m Series \u001b[38;5;241m|\u001b[39m \u001b[38;5;28mfloat\u001b[39m:\n\u001b[1;32m> 12413\u001b[0m     \u001b[38;5;28;01mreturn\u001b[39;00m \u001b[38;5;28;43mself\u001b[39;49m\u001b[38;5;241;43m.\u001b[39;49m\u001b[43m_stat_function\u001b[49m\u001b[43m(\u001b[49m\n\u001b[0;32m  12414\u001b[0m \u001b[43m        \u001b[49m\u001b[38;5;124;43m\"\u001b[39;49m\u001b[38;5;124;43mmean\u001b[39;49m\u001b[38;5;124;43m\"\u001b[39;49m\u001b[43m,\u001b[49m\u001b[43m \u001b[49m\u001b[43mnanops\u001b[49m\u001b[38;5;241;43m.\u001b[39;49m\u001b[43mnanmean\u001b[49m\u001b[43m,\u001b[49m\u001b[43m \u001b[49m\u001b[43maxis\u001b[49m\u001b[43m,\u001b[49m\u001b[43m \u001b[49m\u001b[43mskipna\u001b[49m\u001b[43m,\u001b[49m\u001b[43m \u001b[49m\u001b[43mnumeric_only\u001b[49m\u001b[43m,\u001b[49m\u001b[43m \u001b[49m\u001b[38;5;241;43m*\u001b[39;49m\u001b[38;5;241;43m*\u001b[39;49m\u001b[43mkwargs\u001b[49m\n\u001b[0;32m  12415\u001b[0m \u001b[43m    \u001b[49m\u001b[43m)\u001b[49m\n",
      "File \u001b[1;32m~\\OneDrive\\Desktop\\Financial-Analysis\\myvenv\\Lib\\site-packages\\pandas\\core\\generic.py:12370\u001b[0m, in \u001b[0;36mNDFrame._stat_function\u001b[1;34m(self, name, func, axis, skipna, numeric_only, **kwargs)\u001b[0m\n\u001b[0;32m  12366\u001b[0m nv\u001b[38;5;241m.\u001b[39mvalidate_func(name, (), kwargs)\n\u001b[0;32m  12368\u001b[0m validate_bool_kwarg(skipna, \u001b[38;5;124m\"\u001b[39m\u001b[38;5;124mskipna\u001b[39m\u001b[38;5;124m\"\u001b[39m, none_allowed\u001b[38;5;241m=\u001b[39m\u001b[38;5;28;01mFalse\u001b[39;00m)\n\u001b[1;32m> 12370\u001b[0m \u001b[38;5;28;01mreturn\u001b[39;00m \u001b[38;5;28;43mself\u001b[39;49m\u001b[38;5;241;43m.\u001b[39;49m\u001b[43m_reduce\u001b[49m\u001b[43m(\u001b[49m\n\u001b[0;32m  12371\u001b[0m \u001b[43m    \u001b[49m\u001b[43mfunc\u001b[49m\u001b[43m,\u001b[49m\u001b[43m \u001b[49m\u001b[43mname\u001b[49m\u001b[38;5;241;43m=\u001b[39;49m\u001b[43mname\u001b[49m\u001b[43m,\u001b[49m\u001b[43m \u001b[49m\u001b[43maxis\u001b[49m\u001b[38;5;241;43m=\u001b[39;49m\u001b[43maxis\u001b[49m\u001b[43m,\u001b[49m\u001b[43m \u001b[49m\u001b[43mskipna\u001b[49m\u001b[38;5;241;43m=\u001b[39;49m\u001b[43mskipna\u001b[49m\u001b[43m,\u001b[49m\u001b[43m \u001b[49m\u001b[43mnumeric_only\u001b[49m\u001b[38;5;241;43m=\u001b[39;49m\u001b[43mnumeric_only\u001b[49m\n\u001b[0;32m  12372\u001b[0m \u001b[43m\u001b[49m\u001b[43m)\u001b[49m\n",
      "File \u001b[1;32m~\\OneDrive\\Desktop\\Financial-Analysis\\myvenv\\Lib\\site-packages\\pandas\\core\\series.py:6437\u001b[0m, in \u001b[0;36mSeries._reduce\u001b[1;34m(self, op, name, axis, skipna, numeric_only, filter_type, **kwds)\u001b[0m\n\u001b[0;32m   6432\u001b[0m     \u001b[38;5;66;03m# GH#47500 - change to TypeError to match other methods\u001b[39;00m\n\u001b[0;32m   6433\u001b[0m     \u001b[38;5;28;01mraise\u001b[39;00m \u001b[38;5;167;01mTypeError\u001b[39;00m(\n\u001b[0;32m   6434\u001b[0m         \u001b[38;5;124mf\u001b[39m\u001b[38;5;124m\"\u001b[39m\u001b[38;5;124mSeries.\u001b[39m\u001b[38;5;132;01m{\u001b[39;00mname\u001b[38;5;132;01m}\u001b[39;00m\u001b[38;5;124m does not allow \u001b[39m\u001b[38;5;132;01m{\u001b[39;00mkwd_name\u001b[38;5;132;01m}\u001b[39;00m\u001b[38;5;124m=\u001b[39m\u001b[38;5;132;01m{\u001b[39;00mnumeric_only\u001b[38;5;132;01m}\u001b[39;00m\u001b[38;5;124m \u001b[39m\u001b[38;5;124m\"\u001b[39m\n\u001b[0;32m   6435\u001b[0m         \u001b[38;5;124m\"\u001b[39m\u001b[38;5;124mwith non-numeric dtypes.\u001b[39m\u001b[38;5;124m\"\u001b[39m\n\u001b[0;32m   6436\u001b[0m     )\n\u001b[1;32m-> 6437\u001b[0m \u001b[38;5;28;01mreturn\u001b[39;00m \u001b[43mop\u001b[49m\u001b[43m(\u001b[49m\u001b[43mdelegate\u001b[49m\u001b[43m,\u001b[49m\u001b[43m \u001b[49m\u001b[43mskipna\u001b[49m\u001b[38;5;241;43m=\u001b[39;49m\u001b[43mskipna\u001b[49m\u001b[43m,\u001b[49m\u001b[43m \u001b[49m\u001b[38;5;241;43m*\u001b[39;49m\u001b[38;5;241;43m*\u001b[39;49m\u001b[43mkwds\u001b[49m\u001b[43m)\u001b[49m\n",
      "File \u001b[1;32m~\\OneDrive\\Desktop\\Financial-Analysis\\myvenv\\Lib\\site-packages\\pandas\\core\\nanops.py:147\u001b[0m, in \u001b[0;36mbottleneck_switch.__call__.<locals>.f\u001b[1;34m(values, axis, skipna, **kwds)\u001b[0m\n\u001b[0;32m    145\u001b[0m         result \u001b[38;5;241m=\u001b[39m alt(values, axis\u001b[38;5;241m=\u001b[39maxis, skipna\u001b[38;5;241m=\u001b[39mskipna, \u001b[38;5;241m*\u001b[39m\u001b[38;5;241m*\u001b[39mkwds)\n\u001b[0;32m    146\u001b[0m \u001b[38;5;28;01melse\u001b[39;00m:\n\u001b[1;32m--> 147\u001b[0m     result \u001b[38;5;241m=\u001b[39m \u001b[43malt\u001b[49m\u001b[43m(\u001b[49m\u001b[43mvalues\u001b[49m\u001b[43m,\u001b[49m\u001b[43m \u001b[49m\u001b[43maxis\u001b[49m\u001b[38;5;241;43m=\u001b[39;49m\u001b[43maxis\u001b[49m\u001b[43m,\u001b[49m\u001b[43m \u001b[49m\u001b[43mskipna\u001b[49m\u001b[38;5;241;43m=\u001b[39;49m\u001b[43mskipna\u001b[49m\u001b[43m,\u001b[49m\u001b[43m \u001b[49m\u001b[38;5;241;43m*\u001b[39;49m\u001b[38;5;241;43m*\u001b[39;49m\u001b[43mkwds\u001b[49m\u001b[43m)\u001b[49m\n\u001b[0;32m    149\u001b[0m \u001b[38;5;28;01mreturn\u001b[39;00m result\n",
      "File \u001b[1;32m~\\OneDrive\\Desktop\\Financial-Analysis\\myvenv\\Lib\\site-packages\\pandas\\core\\nanops.py:404\u001b[0m, in \u001b[0;36m_datetimelike_compat.<locals>.new_func\u001b[1;34m(values, axis, skipna, mask, **kwargs)\u001b[0m\n\u001b[0;32m    401\u001b[0m \u001b[38;5;28;01mif\u001b[39;00m datetimelike \u001b[38;5;129;01mand\u001b[39;00m mask \u001b[38;5;129;01mis\u001b[39;00m \u001b[38;5;28;01mNone\u001b[39;00m:\n\u001b[0;32m    402\u001b[0m     mask \u001b[38;5;241m=\u001b[39m isna(values)\n\u001b[1;32m--> 404\u001b[0m result \u001b[38;5;241m=\u001b[39m \u001b[43mfunc\u001b[49m\u001b[43m(\u001b[49m\u001b[43mvalues\u001b[49m\u001b[43m,\u001b[49m\u001b[43m \u001b[49m\u001b[43maxis\u001b[49m\u001b[38;5;241;43m=\u001b[39;49m\u001b[43maxis\u001b[49m\u001b[43m,\u001b[49m\u001b[43m \u001b[49m\u001b[43mskipna\u001b[49m\u001b[38;5;241;43m=\u001b[39;49m\u001b[43mskipna\u001b[49m\u001b[43m,\u001b[49m\u001b[43m \u001b[49m\u001b[43mmask\u001b[49m\u001b[38;5;241;43m=\u001b[39;49m\u001b[43mmask\u001b[49m\u001b[43m,\u001b[49m\u001b[43m \u001b[49m\u001b[38;5;241;43m*\u001b[39;49m\u001b[38;5;241;43m*\u001b[39;49m\u001b[43mkwargs\u001b[49m\u001b[43m)\u001b[49m\n\u001b[0;32m    406\u001b[0m \u001b[38;5;28;01mif\u001b[39;00m datetimelike:\n\u001b[0;32m    407\u001b[0m     result \u001b[38;5;241m=\u001b[39m _wrap_results(result, orig_values\u001b[38;5;241m.\u001b[39mdtype, fill_value\u001b[38;5;241m=\u001b[39miNaT)\n",
      "File \u001b[1;32m~\\OneDrive\\Desktop\\Financial-Analysis\\myvenv\\Lib\\site-packages\\pandas\\core\\nanops.py:719\u001b[0m, in \u001b[0;36mnanmean\u001b[1;34m(values, axis, skipna, mask)\u001b[0m\n\u001b[0;32m    716\u001b[0m     dtype_count \u001b[38;5;241m=\u001b[39m dtype\n\u001b[0;32m    718\u001b[0m count \u001b[38;5;241m=\u001b[39m _get_counts(values\u001b[38;5;241m.\u001b[39mshape, mask, axis, dtype\u001b[38;5;241m=\u001b[39mdtype_count)\n\u001b[1;32m--> 719\u001b[0m the_sum \u001b[38;5;241m=\u001b[39m \u001b[43mvalues\u001b[49m\u001b[38;5;241;43m.\u001b[39;49m\u001b[43msum\u001b[49m\u001b[43m(\u001b[49m\u001b[43maxis\u001b[49m\u001b[43m,\u001b[49m\u001b[43m \u001b[49m\u001b[43mdtype\u001b[49m\u001b[38;5;241;43m=\u001b[39;49m\u001b[43mdtype_sum\u001b[49m\u001b[43m)\u001b[49m\n\u001b[0;32m    720\u001b[0m the_sum \u001b[38;5;241m=\u001b[39m _ensure_numeric(the_sum)\n\u001b[0;32m    722\u001b[0m \u001b[38;5;28;01mif\u001b[39;00m axis \u001b[38;5;129;01mis\u001b[39;00m \u001b[38;5;129;01mnot\u001b[39;00m \u001b[38;5;28;01mNone\u001b[39;00m \u001b[38;5;129;01mand\u001b[39;00m \u001b[38;5;28mgetattr\u001b[39m(the_sum, \u001b[38;5;124m\"\u001b[39m\u001b[38;5;124mndim\u001b[39m\u001b[38;5;124m\"\u001b[39m, \u001b[38;5;28;01mFalse\u001b[39;00m):\n",
      "File \u001b[1;32m~\\OneDrive\\Desktop\\Financial-Analysis\\myvenv\\Lib\\site-packages\\numpy\\core\\_methods.py:49\u001b[0m, in \u001b[0;36m_sum\u001b[1;34m(a, axis, dtype, out, keepdims, initial, where)\u001b[0m\n\u001b[0;32m     47\u001b[0m \u001b[38;5;28;01mdef\u001b[39;00m \u001b[38;5;21m_sum\u001b[39m(a, axis\u001b[38;5;241m=\u001b[39m\u001b[38;5;28;01mNone\u001b[39;00m, dtype\u001b[38;5;241m=\u001b[39m\u001b[38;5;28;01mNone\u001b[39;00m, out\u001b[38;5;241m=\u001b[39m\u001b[38;5;28;01mNone\u001b[39;00m, keepdims\u001b[38;5;241m=\u001b[39m\u001b[38;5;28;01mFalse\u001b[39;00m,\n\u001b[0;32m     48\u001b[0m          initial\u001b[38;5;241m=\u001b[39m_NoValue, where\u001b[38;5;241m=\u001b[39m\u001b[38;5;28;01mTrue\u001b[39;00m):\n\u001b[1;32m---> 49\u001b[0m     \u001b[38;5;28;01mreturn\u001b[39;00m \u001b[43mumr_sum\u001b[49m\u001b[43m(\u001b[49m\u001b[43ma\u001b[49m\u001b[43m,\u001b[49m\u001b[43m \u001b[49m\u001b[43maxis\u001b[49m\u001b[43m,\u001b[49m\u001b[43m \u001b[49m\u001b[43mdtype\u001b[49m\u001b[43m,\u001b[49m\u001b[43m \u001b[49m\u001b[43mout\u001b[49m\u001b[43m,\u001b[49m\u001b[43m \u001b[49m\u001b[43mkeepdims\u001b[49m\u001b[43m,\u001b[49m\u001b[43m \u001b[49m\u001b[43minitial\u001b[49m\u001b[43m,\u001b[49m\u001b[43m \u001b[49m\u001b[43mwhere\u001b[49m\u001b[43m)\u001b[49m\n",
      "\u001b[1;31mTypeError\u001b[0m: unsupported operand type(s) for +: 'float' and 'str'"
     ]
    }
   ],
   "source": [
    "data = {\n",
    "    'Country': ['USA', 'Canada', 'Australia', 'Germany', 'Japan'],\n",
    "    'Date': ['2023-07-20', '2023-07-21', '2023-07-22', '2023-07-23', '2023-07-24'],\n",
    "    'Temperature': [25.5, '28.0', 30.2, 22.8, 26.3]\n",
    "}\n",
    "df = pd.DataFrame(data)\n",
    "\n",
    "# Calculate mean of temperature\n",
    "mean_temperature = df['Temperature'].mean()\n",
    "\n",
    "print(mean_temperature)"
   ]
  },
  {
   "cell_type": "markdown",
   "id": "313bd983-0b74-4dbc-8ab8-47fbabc24adc",
   "metadata": {},
   "source": [
    "Here, the `Temperature` column contains data in an inconsistent format, with a mixture of `float` and `string` types, which is causing a `TypeError`.\n",
    "\n",
    "With Pandas, we can handle such issues by converting all the values in a column to a specific format."
   ]
  },
  {
   "cell_type": "code",
   "execution_count": null,
   "id": "43c5b137-acad-4644-9ee4-e3ebfe1c299a",
   "metadata": {},
   "outputs": [],
   "source": [
    "data = {\n",
    "    'Country': ['USA', 'Canada', 'Australia', 'Germany', 'Japan'],\n",
    "    'Date': ['2023-07-20', '2023-07-21', '2023-07-22', '2023-07-23', '2023-07-24'],\n",
    "    'Temperature': [25.5, '28.0', 30.2, 22.8, 26.3]\n",
    "}\n",
    "df = pd.DataFrame(data)\n",
    "\n",
    "# Changing all temperature elements to float\n",
    "df['Temperature']= df['Temperature'].astype(np.float64)\n",
    "\n",
    "# Calculate mean of temperature\n",
    "mean_temperature = df['Temperature'].mean()\n",
    "\n",
    "print(mean_temperature)"
   ]
  },
  {
   "cell_type": "markdown",
   "id": "8b49f3a9-5653-44fd-af39-5a54040ca01c",
   "metadata": {},
   "source": [
    "In this example, we converted all the values of `Temperature` column to `float` using `astype()`. This solves the problem of columns with mixed data."
   ]
  },
  {
   "cell_type": "markdown",
   "id": "e2475690-3142-4855-85da-742ce0ee9f20",
   "metadata": {},
   "source": [
    "### Handling Mixed Date Formats\n",
    "Another common example of `inconsistency` in data format that you often encounter in real life is mixed `date` formats.\n",
    "\n",
    "Dates can be represented in various formats such as `mm-dd-yyyy`, `dd-mm-yyyy`, `yyyy-mm-dd` etc. Also, different separators such as /, -, . etc can be used.\n",
    "\n",
    "We can handle this issue by converting the column containing dates to the `DateTime`\" format."
   ]
  },
  {
   "cell_type": "code",
   "execution_count": null,
   "id": "a59bf0a7-2a41-4257-9b70-fa18455a4831",
   "metadata": {},
   "outputs": [],
   "source": [
    "df = pd.DataFrame({'date': ['2022-12-01', '01/02/2022', '2022-03-23', '03/02/2022',\n",
    "                            '3 4 2023', '2023.9.30']})\n",
    "print(\"Original DataFrame\\n\", df)\n",
    "\n",
    "# Handling Inconsistent Date Formats\n",
    "df['date'] = pd.to_datetime(df['date'],  format='mixed', yearfirst=True)\n",
    "\n",
    "print(\"\\nModified DataFrame\\n\", df)"
   ]
  },
  {
   "cell_type": "markdown",
   "id": "8ab23794-a44e-499d-b727-b15cf1bb2fe0",
   "metadata": {},
   "source": [
    "In the above example, we converted the mixed date formats to a uniform yyyy-mm-dd format. Here,\n",
    "- `format='mixed'`: specifies that the format of each given date can be different\n",
    "- `dayfirst=True`: specifies that the day should be considered before the month when interpreting dates"
   ]
  },
  {
   "cell_type": "markdown",
   "id": "50e74e00-7f0f-43a6-9256-e1d3849570af",
   "metadata": {},
   "source": [
    "<br>"
   ]
  },
  {
   "cell_type": "markdown",
   "id": "f0d6af1a-9180-4db6-9f65-105f2544435c",
   "metadata": {},
   "source": [
    "## 4. Pandas Handling Wrong Data or Inconsistent Data"
   ]
  },
  {
   "cell_type": "markdown",
   "id": "9c7f14da-49cc-45f8-b59a-62e0aca96478",
   "metadata": {},
   "source": [
    "Sometimes, a dataset can have inaccurate entries due to reasons such as human errors during data input, sourcing data from unreliable places, etc.\n",
    "\n",
    "This can significantly undermine the quality and reliability of the data analysis performed on it.\n",
    "\n",
    "Let's take a DataFrame containing data about students of an all-boys elementary school."
   ]
  },
  {
   "cell_type": "code",
   "execution_count": null,
   "id": "9c007750-d6f6-4c6c-aefb-f555b7cff652",
   "metadata": {},
   "outputs": [],
   "source": [
    "data = {\"Name\":[\"John\", \"Michael\", \"Tom\", \"Alex\", \"Ryan\"],\n",
    "        \"Age\":[8, 9, 7, 80, 100],\n",
    "        \"Gender\":[\"M\", \"M\", \"M\", \"F\", \"M\"],\n",
    "        \"Standard\":[3, 4, 12, 3, 5]\n",
    "       }\n",
    "df = pd.DataFrame(data)\n",
    "print(df)"
   ]
  },
  {
   "cell_type": "markdown",
   "id": "f64b2336-cd00-4779-b83f-20f4d8d95247",
   "metadata": {},
   "source": [
    "In the above DataFrame, we can see a few obvious mistakes like:\n",
    "- The ages of two students are listed as **80** and **100**, which is too old for primary school students.\n",
    "- The gender of **Alex** is marked as **F**. Since this is an all-boys school, it is obviously a mistake.\n",
    "- **Tom** is listed as being in the **12th** standard, which is simply not possible in an elementary school context.\n",
    "\n",
    "We can handle such wrong data in the following ways:\n",
    "1. Replace Individual Values\n",
    "2. Replace Values Based on a Condition\n",
    "3. Remove Wrong Values"
   ]
  },
  {
   "cell_type": "markdown",
   "id": "73b8bf03-3ffd-410d-b250-ae37e99eeac8",
   "metadata": {},
   "source": [
    "#### Replace Individual Values\n",
    "We can see that the value `F` for `Gender` column is an obvious mistake. Let's replace `F` with `M` to rectify the error."
   ]
  },
  {
   "cell_type": "code",
   "execution_count": null,
   "id": "1e628840-9b27-44ad-8873-bf2b55985fab",
   "metadata": {},
   "outputs": [],
   "source": [
    "data = {\"Name\":[\"John\", \"Michael\", \"Tom\", \"Alex\", \"Ryan\"],\n",
    "        \"Age\":[8, 9, 7, 80, 100],\n",
    "        \"Gender\":[\"M\", \"M\", \"M\", \"F\", \"M\"],\n",
    "        \"Standard\":[3, 4, 12, 3, 5]\n",
    "       }\n",
    "df = pd.DataFrame(data)\n",
    "print(\"Original DataFrame\\n\", df)\n",
    "\n",
    "# Replace F with M\n",
    "df.loc[3, 'Gender'] = \"M\"\n",
    "\n",
    "print(\"\\nModified DataFrame\\n\", df)"
   ]
  },
  {
   "cell_type": "markdown",
   "id": "0cad904e-6a4b-444a-954a-dd31d46d1785",
   "metadata": {},
   "source": [
    "While this method is effective for **small datasets**, it becomes **tedious** as the size of the dataset grows."
   ]
  },
  {
   "cell_type": "markdown",
   "id": "edddbe72-a265-46fc-9abd-a129c5f87b95",
   "metadata": {},
   "source": [
    "#### Replace Values Based on a Condition\n",
    "In cases where the values need to satisfy a particular condition, we can iterate through the values to check if the condition is satisfied and to make changes accordingly.\n",
    "\n",
    "For example, the maximum age of students in this elementary school is **14**. But there are two students whose ages are **80** and **100**. This looks like a typo where an additional zero has been added unintentionally."
   ]
  },
  {
   "cell_type": "code",
   "execution_count": null,
   "id": "26e46aea-2664-4616-8383-796adbcefcca",
   "metadata": {},
   "outputs": [],
   "source": [
    "data = {\"Name\":[\"John\", \"Michael\", \"Tom\", \"Alex\", \"Ryan\"],\n",
    "        \"Age\":[8, 9, 7, 80, 100],\n",
    "        \"Gender\":[\"M\", \"M\", \"M\", \"F\", \"M\"],\n",
    "        \"Standard\":[3, 4, 12, 3, 5]\n",
    "       }\n",
    "df = pd.DataFrame(data)\n",
    "print(\"Original DataFrame\\n\", df)\n",
    "\n",
    "# Condition for age \n",
    "incorrect_age = df[(df['Age']>14) | (df['Age']<0)]\n",
    "df.loc[incorrect_age.index, 'Age'] = df['Age']/10\n",
    "\n",
    "print(\"\\nModified DataFrame\\n\", df)"
   ]
  },
  {
   "cell_type": "code",
   "execution_count": null,
   "id": "221ba38f-4d13-442a-890c-5575d9a2b8e4",
   "metadata": {},
   "outputs": [],
   "source": [
    "# Alternative way\n",
    "\n",
    "data = {\"Name\":[\"John\", \"Michael\", \"Tom\", \"Alex\", \"Ryan\"],\n",
    "        \"Age\":[8, 9, 7, 80, 100],\n",
    "        \"Gender\":[\"M\", \"M\", \"M\", \"F\", \"M\"],\n",
    "        \"Standard\":[3, 4, 12, 3, 5]\n",
    "       }\n",
    "df = pd.DataFrame(data)\n",
    "print(\"Original DataFrame\\n\", df)\n",
    "\n",
    "# Condition for age \n",
    "for i in df.index:\n",
    "    age_val = df.loc[i, 'Age']\n",
    "    if (age_val>14) and (age_val%10==0):\n",
    "        df.loc[i, 'Age'] = age_val/10\n",
    "\n",
    "print(\"\\nModified DataFrame\\n\", df)"
   ]
  },
  {
   "cell_type": "markdown",
   "id": "31f9c586-6b3a-4a05-9c6a-7067a7a29157",
   "metadata": {},
   "source": [
    "In the above example, we replaced ages greater than 14 which are a multiple of 10 by removing a zero from the original values.\n",
    "\n",
    "We checked if the age is a multiple of 10 because it is highly likely that a higher age which is a multiple of 10 is a typo"
   ]
  },
  {
   "cell_type": "markdown",
   "id": "0fcf90dc-434d-40a0-97d7-65b275e9ac41",
   "metadata": {},
   "source": [
    "#### Remove Wrong Values\n",
    "Some values can't be corrected. For example, the value **12** in Standard doesn't make any sense as this is an elementary school. But we can't also correct it because we don't know the right standard."
   ]
  },
  {
   "cell_type": "code",
   "execution_count": null,
   "id": "d4d89ee8-899d-4136-97f7-eef3c3e27a23",
   "metadata": {},
   "outputs": [],
   "source": [
    "data = {\"Name\":[\"John\", \"Michael\", \"Tom\", \"Alex\", \"Ryan\"],\n",
    "        \"Age\":[8, 9, 7, 80, 100],\n",
    "        \"Gender\":[\"M\", \"M\", \"M\", \"F\", \"M\"],\n",
    "        \"Standard\":[3, 4, 12, 3, 5]\n",
    "       }\n",
    "df = pd.DataFrame(data)\n",
    "print(\"Original DataFrame\\n\", df)\n",
    "\n",
    "# Condition for standard \n",
    "incorrect_standard = df[(df['Standard']>7) | (df['Standard']<1)]\n",
    "df.loc[incorrect_standard.index, 'Standard'] = np.nan\n",
    "df.dropna(inplace=True)\n",
    "\n",
    "print(\"\\nModified DataFrame\\n\", df)"
   ]
  },
  {
   "cell_type": "markdown",
   "id": "28b33c3c-d2ae-47c9-8152-e073d31a4e10",
   "metadata": {},
   "source": [
    "In this example, we removed the row(s) containing values greater than **7** in the `Standard` column."
   ]
  },
  {
   "cell_type": "markdown",
   "id": "f66f6518-6eed-449a-bd1c-6c1ceaede9a8",
   "metadata": {},
   "source": [
    "<br><br>"
   ]
  },
  {
   "cell_type": "markdown",
   "id": "7aa90eae-261d-473a-831d-65eb5f2796e8",
   "metadata": {},
   "source": [
    "## 5. Pandas Get Dummies "
   ]
  },
  {
   "cell_type": "markdown",
   "id": "75dafffd-60c0-479d-aa7c-9948a7957ccd",
   "metadata": {},
   "source": [
    "A dummy variable is a numerical representation used to encode categorical data.\n",
    "\n",
    "Dummy variables exhibit binary values, exclusively **0** or **1**.\n",
    "\n",
    "For some data, each item can only belong to one category. For example, a car can be **red** or **blue**, but not both at the same time.\n",
    "\n",
    "However, some data can belong to more than one category. Like a `movie` that's both **action** and **comedy**.\n",
    "\n",
    "In both cases, the point of `get_dummies()` in Pandas is to change these categories into **0s** and **1s**. This makes it easier for computer programs to understand and work with the data.\n",
    "\n",
    "In the context of a dummy variable:\n",
    "- The value **1** signifies the existence of a specific category.\n",
    "- The value **0** signifies the non-existence of a particular category.\n",
    "\n",
    "In Pandas, we use the `get_dummies()` function to transform categorical variables into binary values."
   ]
  },
  {
   "cell_type": "markdown",
   "id": "62e4aec7-a420-4896-8ce4-af77f7616bb5",
   "metadata": {},
   "source": [
    "#### Using get_dummies() on Pandas Series\n",
    "In Pandas, to use `get_dummies()` on the **Series**, we pass the Series inside the function. For example,"
   ]
  },
  {
   "cell_type": "code",
   "execution_count": null,
   "id": "2c1cf209-5073-4b35-8301-3bee196b23f3",
   "metadata": {},
   "outputs": [],
   "source": [
    "# Create a Panda Series\n",
    "data = pd.Series(['A', 'B', 'A', 'C', 'B'])\n",
    "print(data)\n",
    "\n",
    "# using get_dummies on the Series\n",
    "dummies = pd.get_dummies(data, dtype=float)\n",
    "\n",
    "print(dummies)"
   ]
  },
  {
   "cell_type": "markdown",
   "id": "418cb7d8-358c-4bfc-a6e4-d31aece58057",
   "metadata": {},
   "source": [
    "#### Using get_dummies() on a DataFrame Column\n",
    "We can also apply multiple aggregation functions to one or more columns using the `aggregate()` function in Pandas. For example,"
   ]
  },
  {
   "cell_type": "code",
   "execution_count": null,
   "id": "413b7189-02f9-4674-b5c4-c6305c8d6beb",
   "metadata": {},
   "outputs": [],
   "source": [
    "data = {'Color' : [ 'Red', 'Green', 'Blue', 'Green', 'Red']}\n",
    "\n",
    "# Creating a DataFrame\n",
    "df= pd.DataFrame(data)\n",
    "\n",
    "# Using get_dummies to convert the categorical column\n",
    "dummies = pd.get_dummies(df['Color'])\n",
    "print(dummies)\n",
    "\n",
    "# Concatenating the dummies DataFrame with the original DataFrame\n",
    "pd.get_dummies(df,dtype=float)"
   ]
  },
  {
   "cell_type": "markdown",
   "id": "b9837636-99fb-438b-8ede-757c00f6c570",
   "metadata": {},
   "source": [
    "<br>"
   ]
  },
  {
   "cell_type": "markdown",
   "id": "89bf2dad-83d3-4bec-a182-e6c2d061878c",
   "metadata": {},
   "source": [
    "## 6. Pandas Categorical"
   ]
  },
  {
   "cell_type": "markdown",
   "id": "a3bba0ca-faf1-4c48-a2fc-d6c88af271bc",
   "metadata": {},
   "source": [
    "`Categorical data` is a type of data that represents categories or labels rather than numerical values.\n",
    "\n",
    "In simple words, it is a way of classifying into distinct categories, such as genders, country names, or education levels.\n",
    "\n",
    "`Categorical data` is handy when we have data that naturally fit into predefined options.\n",
    "\n",
    "There are two types of Catagorical Data: **nominal data and ordinal data**\n",
    "- `Nominal data` is a type of data that consits of categories that can't be ordered or ranked. Categories here are mutually execlusive. For example: Blood types of people, hair color, gender\n",
    "- `Ordinal data` is a category of data that has a natural order. It is often used in surveys, questionnaries, and the field of finance and economies. For e.g: Survey responses, an education level and movie rating. "
   ]
  },
  {
   "cell_type": "markdown",
   "id": "cc46688d-d60f-44e1-a46a-2e71dbfa54ce",
   "metadata": {},
   "source": [
    "#### Create Categorical Data Type in Pandas\n",
    "In Pandas, the `Categorical() , astype(), datatype=categorical` method can be used to create a categorical data type from a given sequence of values."
   ]
  },
  {
   "cell_type": "code",
   "execution_count": null,
   "id": "b35d60a6-0bdc-4e40-a127-cedf4fcb9918",
   "metadata": {},
   "outputs": [],
   "source": [
    "data = ['red', 'blue', 'green', 'red', 'blue']\n",
    "\n",
    "series_data = pd.Series(data)\n",
    "categorical_data = pd.Categorical(data)\n",
    "category_data =pd.Series(data, dtype='category')\n",
    "astype_category_data = series_data.astype('category')\n",
    "\n",
    "print(\"categorical_data using 'Categorical()'\\n\", categorical_data)\n",
    "print(\"\\ncategorical_data using 'dtype'\\n\", category_data)\n",
    "print(\"\\ncategorical_data using 'astype()'\\n\", astype_category_data)"
   ]
  },
  {
   "cell_type": "markdown",
   "id": "659f8ed7-748c-4be1-9e14-9e0e7783f650",
   "metadata": {},
   "source": [
    "#### Access Categories and Codes in Pandas\n",
    "In Pandas, the `.cat` accessor allows us to access **categories and codes**. Here's the attributes provided by the `.cat` accessor to access categories and codes:\n",
    "- `categories` : returns the unique categories present in the categrical variable\n",
    "- `codes` returns the integer codes representing the categories for each element in the categorical variable"
   ]
  },
  {
   "cell_type": "code",
   "execution_count": null,
   "id": "c88738ec-888d-4e66-ab84-e13b2102a4f0",
   "metadata": {},
   "outputs": [],
   "source": [
    "data = ['A', 'B', 'A', 'C', 'B']\n",
    "cat_series = pd.Series(data, dtype='category')\n",
    "\n",
    "#using .cat accessor\n",
    "print(cat_series.cat.categories)\n",
    "print(cat_series.cat.codes)"
   ]
  },
  {
   "cell_type": "markdown",
   "id": "a0250485-9ceb-4553-b239-57436ddfdd9b",
   "metadata": {},
   "source": [
    "#### Adding and removing Categories in Pandas\n",
    "- To add method: `.cat.add_categories()`\n",
    "- To remove method: `.cat_remove_categories()`"
   ]
  },
  {
   "cell_type": "code",
   "execution_count": null,
   "id": "7b1837fe-2679-4d66-a4b8-ad00570be057",
   "metadata": {},
   "outputs": [],
   "source": [
    "data = ['A', 'B', 'A', 'C', 'B']\n",
    "cat_series = pd.Series(data, dtype=\"category\")\n",
    "\n",
    "# add new categories and reassign the variable\n",
    "new_categories = ['E', 'D']\n",
    "cat_series = cat_series.cat.add_categories(new_categories)\n",
    "print(\"Cat Series after adding new categories\\n\", cat_series)\n",
    "print()\n",
    "\n",
    "#Remove specific Categories\n",
    "cat_series = cat_series.cat.remove_categories('E')\n",
    "print(\"Cat Series after removing\\n\", cat_series)"
   ]
  },
  {
   "cell_type": "markdown",
   "id": "30a320ab-1f74-465c-8d4b-8e4ea8a26cc6",
   "metadata": {},
   "source": [
    "<br><br>"
   ]
  },
  {
   "cell_type": "markdown",
   "id": "cc9e4e06-a181-482b-82aa-97834ba87058",
   "metadata": {},
   "source": [
    "# Data Analysis and Aggregation"
   ]
  },
  {
   "cell_type": "markdown",
   "id": "9cf1f678-875e-488b-ada4-7d7bb3c80f6f",
   "metadata": {},
   "source": [
    "## 1. Pandas DateTime"
   ]
  },
  {
   "cell_type": "markdown",
   "id": "c6e65d19-646a-4883-98cb-4f4d2f7b4f64",
   "metadata": {},
   "source": [
    "In Pandas, DateTime is a data type that represents a single point in time. It is especially useful when dealing with time-series data like stock prices, weather records, economic indicators etc.\n",
    "\n",
    "We use the `pd.to_datetime()` function to convert strings to the DateTime object. Let's look at an example."
   ]
  },
  {
   "cell_type": "code",
   "execution_count": null,
   "id": "d559b83d-b30b-4ae5-90b0-3b76ee0a1a9a",
   "metadata": {},
   "outputs": [],
   "source": [
    "# create a datetime string\n",
    "date_string = '2001-12-24 12:38'\n",
    "\n",
    "# convert string to datetime\n",
    "date = pd.to_datetime(date_string)\n",
    "print(date)\n",
    "print(type(date))"
   ]
  },
  {
   "cell_type": "markdown",
   "id": "5bc1e09b-f1e7-416b-9522-0e8d6b2f12aa",
   "metadata": {},
   "source": [
    "#### Convert str into datetime"
   ]
  },
  {
   "cell_type": "code",
   "execution_count": null,
   "id": "458dde6f-7479-4e4e-9711-e08f151369ae",
   "metadata": {},
   "outputs": [],
   "source": [
    "# create a dataframe with date strings\n",
    "df = pd.DataFrame({'date': ['2021-01-13', '2022-10-22', '2023-12-03']})\n",
    "\n",
    "# convert the 'date' column to datetime\n",
    "df['date'] = pd.to_datetime(df['date'])\n",
    "\n",
    "df"
   ]
  },
  {
   "cell_type": "markdown",
   "id": "bb21266f-9e56-4e36-89b5-cae93baf7657",
   "metadata": {},
   "source": [
    "By default, Pandas' `to_datetime()` function expects the date string to be in the `YYYY-MM-DD` format."
   ]
  },
  {
   "cell_type": "markdown",
   "id": "824a3e64-d77b-4b60-a3ab-c6e17c691400",
   "metadata": {},
   "source": [
    "##### Conversion with Day First Format"
   ]
  },
  {
   "cell_type": "code",
   "execution_count": null,
   "id": "daf1ef2c-7fd0-4fdf-b1ac-10b0c7f810fe",
   "metadata": {},
   "outputs": [],
   "source": [
    "# create a dataframe with date strings\n",
    "df = pd.DataFrame({'date': ['2021-01-13', '2022-10-22', '2023-12-03']})\n",
    "\n",
    "# convert the 'date' column to datetime\n",
    "df['date']= pd.to_datetime(df['date'], dayfirst=True)\n",
    "\n",
    "df"
   ]
  },
  {
   "cell_type": "markdown",
   "id": "76a1ed70-c4db-4d8a-8960-9e0c70cc6d83",
   "metadata": {},
   "source": [
    "We passed dayfirst=True to to_datetime() function to convert the string in day first format to DateTime.\n",
    "\n",
    "Notice that the DateTime data is always in the format `YYYY-MM-DD`."
   ]
  },
  {
   "cell_type": "markdown",
   "id": "f219e36c-a332-4c1b-a217-029f9511bc54",
   "metadata": {},
   "source": [
    "##### to_datetime() with custom format"
   ]
  },
  {
   "cell_type": "code",
   "execution_count": null,
   "id": "8a36a1f3-a506-4f7c-986d-b5e416d81df0",
   "metadata": {},
   "outputs": [],
   "source": [
    "# create a dataframe with date strings in custom format\n",
    "df = pd.DataFrame({'date': ['2021/22/01', '2022/13/01', '2023/30/03']})\n",
    "\n",
    "# covert the 'date' column to datetime with custom format\n",
    "df['date'] = pd.to_datetime(df['date'], format='%Y/%d/%m')\n",
    "\n",
    "print(df)"
   ]
  },
  {
   "cell_type": "markdown",
   "id": "6cad77c9-1afe-4d03-b956-6cf76281ffbc",
   "metadata": {},
   "source": [
    "#### Get Datetime From Multiple Columns\n",
    "We can also use the `to_datetime()` function to assemble the DateTime from multiple columns."
   ]
  },
  {
   "cell_type": "code",
   "execution_count": null,
   "id": "360d95fe-543b-475b-a97d-f6f3285c20b4",
   "metadata": {},
   "outputs": [],
   "source": [
    "df = pd.DataFrame({'year': [2021, 2022, 2023],\n",
    "                   'month': [1, 2, 3],\n",
    "                   'day': [1, 2, 3],\n",
    "                   'hour': [10, 11, 12],\n",
    "                   'minute': [30, 45, 0],\n",
    "                   'second': [30, 0, 0]})\n",
    "\n",
    "df['datetime'] = pd.to_datetime(df[['year', 'month', 'day', 'hour', 'minute', 'second']])\n",
    "df"
   ]
  },
  {
   "cell_type": "markdown",
   "id": "7f1fdfc6-e501-46c2-b793-518cab997fd9",
   "metadata": {},
   "source": [
    "#### Get Yera, Mpnth and Day from DataFrame\n",
    "We can use the inbuilt attributes `dt.year`, `dt.month` and `dt.day` to get year, month and day respectively from Pandas DateTime object."
   ]
  },
  {
   "cell_type": "code",
   "execution_count": null,
   "id": "e45c604a-c081-4fcb-b1d8-cd9d3e37d531",
   "metadata": {},
   "outputs": [],
   "source": [
    "df = pd.DataFrame({'datetime': ['2021-01-01', '2022-02-02', '2023-03-03']})\n",
    "\n",
    "# convert the 'datetime' column to datetime type\n",
    "df['datetime'] = pd.to_datetime(df['datetime'])\n",
    "\n",
    "df['year'] = df['datetime'].dt.year\n",
    "df['month'] = df['datetime'].dt.month\n",
    "df['day'] = df['datetime'].dt.day\n",
    "\n",
    "df"
   ]
  },
  {
   "cell_type": "markdown",
   "id": "9a892dbb-fa47-4ddd-b69e-a164c3e6f6f3",
   "metadata": {},
   "source": [
    "<br>"
   ]
  },
  {
   "cell_type": "markdown",
   "id": "2f5cb436-6f06-49f2-a398-3f13ce7bf8e0",
   "metadata": {},
   "source": [
    "## 2. Pandas Aggregate Functions"
   ]
  },
  {
   "cell_type": "markdown",
   "id": "b1370139-a289-444a-aa11-ed7c80a7e577",
   "metadata": {},
   "source": [
    "Aggregate function in Pandas performs summary computations on data, often on grouped data. But it can also be used on Series objects.\n",
    "\n",
    "This can be really useful for tasks such as calculating mean, sum, count, and other statistics for different groups within our data.\n",
    "\n",
    "Basic Syntax:\n",
    "```python\n",
    "df.aggregate(func, axis=0, *args, **kwargs)\n",
    "```\n",
    "here, \n",
    "- `func` : an aggregate function like sum, mean, etc.\n",
    "- `axis` : specifies whether to apply the aggregation operation along rows or columns.\n",
    "- `*args and **kwargs` : additional arguments that can be passed to the aggregation functions."
   ]
  },
  {
   "cell_type": "markdown",
   "id": "04a64ad7-a053-4964-afe5-7358f9b2a3b6",
   "metadata": {},
   "source": [
    "#### Apply single Aggregation Function"
   ]
  },
  {
   "cell_type": "code",
   "execution_count": null,
   "id": "90e7bb08-69af-49d6-9594-8d795f3df21f",
   "metadata": {},
   "outputs": [],
   "source": [
    "data = {\n",
    "    'Category': ['A', 'A', 'B', 'B', 'A', 'B'],\n",
    "    'Value': [10, 15, 20, 25, 30, 35]\n",
    "}\n",
    "\n",
    "df = pd.DataFrame(data)\n",
    "\n",
    "# Calculate total sum of the value column\n",
    "total_sum = df['Value'].aggregate('sum')\n",
    "print(\"Total Sum:\", total_sum)\n",
    "\n",
    "# calculate the mean of the value column\n",
    "mean = df['Value'].aggregate('mean')\n",
    "print(\"Mean:\", mean)"
   ]
  },
  {
   "cell_type": "markdown",
   "id": "0f4f4d24-225b-458a-aabc-317af1314ea8",
   "metadata": {},
   "source": [
    "- `df['Value'].aggregate('sum')` - calculates the total sum of the Value column in the data DataFrame\n",
    "\n",
    "- `df['Value'].aggregate('mean')` - calculates the mean (average) of the Value column in the data DataFrame"
   ]
  },
  {
   "cell_type": "markdown",
   "id": "46226826-2bbf-4dc0-a60f-01607ae4df09",
   "metadata": {},
   "source": [
    "#### Apply Multiple Aggregate Functions in Pandas\n",
    "We can also apply multiple aggregation functions to one or more columns using the `aggregate()` function in Pandas. For example,"
   ]
  },
  {
   "cell_type": "code",
   "execution_count": null,
   "id": "fd9ba8ca-fb0d-478f-bf52-5454e6fdd293",
   "metadata": {},
   "outputs": [],
   "source": [
    "data = {\n",
    "    'Category': ['A', 'A', 'B', 'B', 'A', 'B'],\n",
    "    'Value': [10, 15, 20, 25, 30, 35]\n",
    "}\n",
    "df = pd.DataFrame(data)\n",
    "\n",
    "# applying multiple aggregation functions to a single column\n",
    "result = df.groupby('Category')['Value'].agg(['sum', 'mean', 'max', 'min'])\n",
    "\n",
    "print(result)"
   ]
  },
  {
   "cell_type": "markdown",
   "id": "fdaf0931-d1cd-439e-8b53-75d8cbddf2eb",
   "metadata": {},
   "source": [
    "#### Apply Different Aggregation Functions"
   ]
  },
  {
   "cell_type": "code",
   "execution_count": null,
   "id": "32618af7-d588-4520-9192-cecaf00f6b62",
   "metadata": {},
   "outputs": [],
   "source": [
    "data = {\n",
    "    'Category': ['A', 'A', 'B', 'B', 'A', 'B'],\n",
    "    'Value1': [10, 15, 20, 25, 30, 35],\n",
    "    'Value2': [5, 8, 12, 15, 18, 21]\n",
    "}\n",
    "\n",
    "df = pd.DataFrame(data)\n",
    "\n",
    "agg_funcs = {\n",
    "\n",
    " # applying 'sum' to Value1 column\n",
    "    'Value1': 'sum',   \n",
    "       \n",
    "# applying 'mean' and 'max' to Value2 column \n",
    "    'Value2': ['mean', 'max']   \n",
    "}\n",
    "\n",
    "result = df.groupby('Category').aggregate(agg_funcs)\n",
    "print(result)"
   ]
  },
  {
   "cell_type": "markdown",
   "id": "1213b02e-7670-4688-9107-643c17294377",
   "metadata": {},
   "source": [
    "Here, we're using the `aggregate()` function to apply different aggregation functions to different columns after grouping by the `Category` column.\n",
    "\n",
    "The resulting DataFrame shows the calculated values for each category and each specified aggregation function."
   ]
  },
  {
   "cell_type": "markdown",
   "id": "e7188094-a4ed-41a9-ba52-3c7901804a2f",
   "metadata": {},
   "source": [
    "<br><br>"
   ]
  },
  {
   "cell_type": "markdown",
   "id": "b5d9f5df-fc70-4c18-bd15-cc09888c3738",
   "metadata": {},
   "source": [
    "## 3. Pandas groupby"
   ]
  },
  {
   "cell_type": "markdown",
   "id": "552e568d-038d-4be0-88f3-5326efc5c100",
   "metadata": {},
   "source": [
    "In Pandas, the `groupby` operation lets us group data based on specific columns. This means we can divide a DataFrame into smaller groups based on the values in these columns.\n",
    "\n",
    "Once grouped, we can then apply functions to each group separately. These functions help summarize or aggregate the data in each group.\r\n"
   ]
  },
  {
   "cell_type": "markdown",
   "id": "9d2f7aeb-c23e-4638-a8bd-56254422350f",
   "metadata": {},
   "source": [
    "#### Group by a Single Column in Padas\n",
    "In Pandas, we use the groupby() function to group data by a single column and then calculate the aggregates. For example,"
   ]
  },
  {
   "cell_type": "code",
   "execution_count": null,
   "id": "6476a693-7523-4e7a-a28a-fea0cea5ab32",
   "metadata": {},
   "outputs": [],
   "source": [
    "data = {'Category': ['Electronics', 'Clothing', 'Electronics', 'Clothing'],\n",
    "        'Sales': [1000, 500, 800, 300]}\n",
    "\n",
    "df = pd.DataFrame(data)\n",
    "\n",
    "# group the DataFrame by the Category Column and\n",
    "# calculate the sum for each category\n",
    "\n",
    "grouped = df.groupby('Category')['Sales'].aggregate('sum')\n",
    "#grouped = df.groupby('Category')['Sales'].sum()\n",
    "\n",
    "print(grouped)"
   ]
  },
  {
   "cell_type": "markdown",
   "id": "1454c27a-f7ce-4553-8629-35259d63364b",
   "metadata": {},
   "source": [
    "In the above example, `df.groupby('Category')['Sales'].sum()` is used to group by a single column and calculate sum.\n",
    "\n",
    "This line does the following:\n",
    "\n",
    "- `df.groupby('Category')` : groups the df DataFrame by the unique values in the Category column.\n",
    "- `['Sales']` - specifies that we are interested in the Sales column within each group.\n",
    "- `.sum()` - calculates the sum of the Sales values for each group.\n",
    "\n"
   ]
  },
  {
   "cell_type": "markdown",
   "id": "b932b448-97e0-40fb-93f6-d6e709d2c2d2",
   "metadata": {},
   "source": [
    "#### Group by a Multiple Column in Pandas\n",
    "We can also group multiple columns and calculate multiple aggregates in Pandas."
   ]
  },
  {
   "cell_type": "code",
   "execution_count": null,
   "id": "ed476d3f-d4fe-4331-96ed-5f3dda56f885",
   "metadata": {},
   "outputs": [],
   "source": [
    "data = {\n",
    "    'Gender': ['Male', 'Female', 'Male', 'Female', 'Male'],\n",
    "    'Grade': ['A', 'B', 'A', 'A', 'B'],\n",
    "    'Score': [90, 85, 92, 88, 78]\n",
    "}\n",
    "#group the DataFrame by Gender and Grade, then apply the aggregate Function to find mean and max\n",
    "grouped = df.groupby(['Gender', 'Grade']).aggregate({'Score': ['mean', 'max']})\n",
    "print(grouped)"
   ]
  },
  {
   "cell_type": "code",
   "execution_count": null,
   "id": "fdfc41c7-55f8-4a08-b1e1-82347187dac3",
   "metadata": {},
   "outputs": [],
   "source": [
    "\n",
    "\n",
    "# create a DataFrame with student data\n",
    "data = {\n",
    "    'Gender': ['Male', 'Female', 'Male', 'Female', 'Male'],\n",
    "    'Grade': ['A', 'B', 'A', 'A', 'B'],\n",
    "    'Score': [90, 85, 92, 88, 78]\n",
    "}\n",
    "\n",
    "df = pd.DataFrame(data)\n",
    "\n",
    "# define the aggregate functions to be applied to the Score column\n",
    "agg_functions = {\n",
    "    # calculate both mean and maximum of the Score column\n",
    "    'Score': ['mean', 'max'] \n",
    "}\n",
    "\n",
    "# group the DataFrame by Gender and Grade, then apply the aggregate functions\n",
    "grouped = df.groupby(['Gender', 'Grade']).aggregate(agg_functions)\n",
    "\n",
    "# print the resulting grouped DataFrame\n",
    "print(grouped)"
   ]
  },
  {
   "cell_type": "markdown",
   "id": "5fc40509-7fba-4966-9baf-fd02cb494401",
   "metadata": {},
   "source": [
    "#### Group with Categorical Data"
   ]
  },
  {
   "cell_type": "code",
   "execution_count": null,
   "id": "aa87862b-2bc9-47cb-9206-844d141cc837",
   "metadata": {},
   "outputs": [],
   "source": [
    "\n",
    "data = {'Category': ['A', 'B', 'A', 'B', 'A', 'B'],\n",
    "        'Sales': [100, 150, 200, 50, 300, 120]}\n",
    "\n",
    "df = pd.DataFrame(data)\n",
    "\n",
    "# convert Category column to categorical type\n",
    "df['Category'] = pd.Categorical(df['Category'])\n",
    "\n",
    "# group by Category  and calculate the total sales\n",
    "grouped = df.groupby('Category')['Sales'].sum()\n",
    "\n",
    "print(grouped)"
   ]
  },
  {
   "cell_type": "markdown",
   "id": "ba748026-93b3-47e6-ba9f-6eda8794c455",
   "metadata": {},
   "source": [
    "<br><br>"
   ]
  },
  {
   "cell_type": "markdown",
   "id": "e9c41071-de36-4c70-8a32-62a93ce9a4db",
   "metadata": {},
   "source": [
    "## Python Pandas Filtering\n",
    "Filtering data is a common operation in data analysis. Pandas allows us to filter data based on different conditions.\n",
    "\n",
    "We can filter the data in Pandas in two main ways:\n",
    "- By column names(Labels)\n",
    "- By the actual data inside (Values)es)"
   ]
  },
  {
   "cell_type": "markdown",
   "id": "5efec234-07a2-4d6c-afce-b0e352f23678",
   "metadata": {},
   "source": [
    "#### filter Data by Labels\n",
    "We can use the `filter()` function to select columns by their names or labels. Let's look at an example."
   ]
  },
  {
   "cell_type": "code",
   "execution_count": null,
   "id": "5ed34fa2-9aa0-4d59-a7bf-bc20c9a693b0",
   "metadata": {},
   "outputs": [],
   "source": [
    "# create a DataFrame\n",
    "data = {'Name': ['Alice', 'Bob', 'Charlie', 'David'],\n",
    "        'Department': ['HR', 'Marketing', 'Marketing', 'IT'],\n",
    "        'Salary': [50000, 60000, 55000, 70000]}\n",
    "df = pd.DataFrame(data)\n",
    "\n",
    "print(\"Original DataFrame\\n\", df)\n",
    "\n",
    "# Use the filter() method to select columns based on a condition\n",
    "filter1 = df.filter(items=['Name', 'Department'])\n",
    "\n",
    "print('\\nFiltered DataFrame\\n', filter1)"
   ]
  },
  {
   "cell_type": "code",
   "execution_count": null,
   "id": "57b25ada-80e6-416e-82e0-e69a1b22ce1c",
   "metadata": {},
   "outputs": [],
   "source": [
    "grouped = df.groupby(by= ['Name'])\n",
    "grouped['Salary'].aggregate(['mean', 'sum'])"
   ]
  },
  {
   "cell_type": "markdown",
   "id": "1efe73a3-03e1-4b47-b741-c74810037845",
   "metadata": {},
   "source": [
    "<br>"
   ]
  },
  {
   "cell_type": "markdown",
   "id": "c821bac0-10f3-48f0-b814-30f8b0b18135",
   "metadata": {},
   "source": [
    "#### Filter Data by Values\n",
    "We can also filter data by values. Some of the common ways to filter data by values are:\n",
    "- Using logical operator\n",
    "- The `isin()` method\n",
    "- The `str` Acessor\n",
    "- The `query()` method"
   ]
  },
  {
   "cell_type": "code",
   "execution_count": null,
   "id": "ee03aac3-b317-4889-9140-4651515b0882",
   "metadata": {},
   "outputs": [],
   "source": [
    "# create a DataFrame\n",
    "data = {'Name': ['Alice', 'Bob', 'Charlie', 'David'],\n",
    "        'Department': ['HR', 'Marketing', 'Marketing', 'IT'],\n",
    "        'Salary': [50000, 60000, 55000, 70000]}\n",
    "df = pd.DataFrame(data)\n",
    "\n",
    "print(\"Original DataFrame\\n\", df)\n",
    "\n",
    "# 1. Filter Using logical Operator\n",
    "filter1 = df[df['Salary']>=55000]\n",
    "print(\"\\nFiltered DataFrame\\n\",filter1)\n",
    "\n",
    "# 2. Filter Using logical operator with two conditions and using isin() method\n",
    "filter2 = df[(df['Salary']>=55000) & (df['Name'].isin(['Charlie', 'David']))]\n",
    "print(\"\\nFiltered DataFrame\\n\",filter2)\n",
    "\n",
    "# 3. Filter Using str accessor\n",
    "filter3 = df[df['Department'].str.contains('Market')]\n",
    "print(\"\\nFiltered DataFrame\\n\",filter3)\n",
    "\n",
    "# 4. Filter Using the query() method\n",
    "filter4 = df.query(\"Salary > 55000 and Department=='Marketing'\")\n",
    "print(\"\\nFiltered DataFrame\\n\",filter4)"
   ]
  },
  {
   "cell_type": "markdown",
   "id": "cfec4b37-2a1c-4c3d-9084-afedde7e9b7c",
   "metadata": {},
   "source": [
    "<br><br>"
   ]
  },
  {
   "cell_type": "markdown",
   "id": "711dfdb3-a799-4509-b698-25180639c824",
   "metadata": {},
   "source": [
    "## Pandas Sort\n",
    "Sorting is a fundamental operation in data manipulation and analysis that involves arranging data in a specific order.\n",
    "\n",
    "Sorting is crucial for tasks such as organizing data for better readability, identifying patterns, making comparisons, and facilitating further analysis."
   ]
  },
  {
   "cell_type": "markdown",
   "id": "db1c5e15-f2d1-46ee-85b3-26f8dfd8c34d",
   "metadata": {},
   "source": [
    "### Sort DataFrame in Pandas\n",
    "In Pandas, we can use the `sort_values()` function to sort a DataFrame. "
   ]
  },
  {
   "cell_type": "code",
   "execution_count": null,
   "id": "bfb86fc7-a777-4abc-a6d3-65c0ccc2c718",
   "metadata": {},
   "outputs": [],
   "source": [
    "data = {'Name': ['Alice', 'Bob', 'Charlie'],\n",
    "        'Age': [28, 22, 25]}\n",
    "df = pd.DataFrame(data)\n",
    "\n",
    "# sort DataFrame by Age in ascending order\n",
    "sorted_df = df.sort_values(by='Age')\n",
    "print(sorted_df.to_string(index=False))"
   ]
  },
  {
   "cell_type": "markdown",
   "id": "623224a9-158e-44bf-ade4-22b6a207ed59",
   "metadata": {},
   "source": [
    "In the above example, `df.sort_values(by='Age')` sorts the df DataFrame based on the values in the Age column in `ascending order`. And the result is stored in the `sorted_df` variable.\n",
    "\n",
    "Note: The `.to_string(index=False)` is used to display values without the index."
   ]
  },
  {
   "cell_type": "markdown",
   "id": "faf0b390-d289-464a-95fe-89238acc1228",
   "metadata": {},
   "source": [
    "### Sort Pandas DataFrame by Multiple Columns\n",
    "We can also sort DataFrame by multiple columns in Pandas. When we sort a Pandas DataFrame by multiple columns, the sorting is done with a priority given to the order of the columns listed.\n",
    "\n",
    "To sort by multiple columns in Pandas, you can pass the desired columns as a list to the `by` parameter in the `sort_values()` method. Here's how we do it."
   ]
  },
  {
   "cell_type": "code",
   "execution_count": null,
   "id": "bfcba9f5-c2fa-433e-a61a-f2f8ad11fb21",
   "metadata": {},
   "outputs": [],
   "source": [
    "data = {'Name': ['Alice', 'Bob', 'Charlie', 'David'],\n",
    "        'Age': [25, 22, 30, 22],\n",
    "        'Score': [85, 90, 75, 80]}\n",
    "\n",
    "df = pd.DataFrame(data)\n",
    "\n",
    "# 1. Sort DataFrame by 'Age' and then by 'Score' (Both in ascending order)\n",
    "sort1 = df.sort_values(by=['Age', 'Score'], ascending=True)\n",
    "print(\"Sorted DataFrame by Age and Score\\n\", sort1.to_string(index=False))\n",
    "\n",
    "# 2. Sort DataFrame by 'Age in ascending order, and then by 'Score' in descending order.\n",
    "sort2 = df. sort_values(by=['Age', 'Score'], ascending=[True, False])\n",
    "print(\"Sorted DataFrame by Age in ascending and Score in descending\\n\", sort2.to_string(index=False))"
   ]
  },
  {
   "cell_type": "markdown",
   "id": "91eaa933-5565-4f39-9b6b-5cbceeff5ec5",
   "metadata": {},
   "source": [
    "<br>"
   ]
  },
  {
   "cell_type": "markdown",
   "id": "97f33505-5562-4584-89db-b9cda8bfd497",
   "metadata": {},
   "source": [
    "### Sort Pandas Series\n",
    "In Pandas, we can use the `sort_values()` function to sort a Series. For example,"
   ]
  },
  {
   "cell_type": "code",
   "execution_count": null,
   "id": "73103821-1683-4b3f-b5f1-7f94f2cdff3a",
   "metadata": {},
   "outputs": [],
   "source": [
    "ages = pd.Series([28, 22, 25], name='Age')\n",
    "\n",
    "# sort Series in ascending order\n",
    "sorted_ages = ages.sort_values()\n",
    "print(sorted_ages.to_string(index=False))"
   ]
  },
  {
   "cell_type": "markdown",
   "id": "aefe8401-0bca-48a2-891e-5d26c517989d",
   "metadata": {},
   "source": [
    "<br>"
   ]
  },
  {
   "cell_type": "markdown",
   "id": "a46302c8-28d5-43f8-95c9-c5ba5c9b98a1",
   "metadata": {},
   "source": [
    "### Index Sort Pandas DataFrame Using sort_index()\n",
    "We can also sort by the index of a DataFrame in Pandas using the sort_index() function.\n",
    "\n",
    "The `sort_index()` function is used to sort a DataFrame or Series by its index. This is useful for organizing data in a logical order, improving query performance, and ensuring consistent data representation."
   ]
  },
  {
   "cell_type": "code",
   "execution_count": null,
   "id": "ee0d8bfe-6965-46aa-beb6-64a6a0fe9ebc",
   "metadata": {},
   "outputs": [],
   "source": [
    "ages = pd.Series([28, 22, 25], name='Age', index=[0, 2, 1])\n",
    "print(\"Original DataFrame:\\n\",ages)\n",
    "sorted_df = ages.sort_index()\n",
    "print(\"\\nSorted DataFrame by Index:\\n\", sorted_df.to_string(index=True))"
   ]
  },
  {
   "cell_type": "markdown",
   "id": "1184cc15-f5d4-4753-b09c-a8ee8a48ea4c",
   "metadata": {},
   "source": [
    "<br><br>"
   ]
  },
  {
   "cell_type": "code",
   "execution_count": null,
   "id": "4bd07375-2309-49d3-8188-d15880bf84d8",
   "metadata": {},
   "outputs": [],
   "source": []
  }
 ],
 "metadata": {
  "kernelspec": {
   "display_name": "Python 3 (ipykernel)",
   "language": "python",
   "name": "python3"
  },
  "language_info": {
   "codemirror_mode": {
    "name": "ipython",
    "version": 3
   },
   "file_extension": ".py",
   "mimetype": "text/x-python",
   "name": "python",
   "nbconvert_exporter": "python",
   "pygments_lexer": "ipython3",
   "version": "3.12.2"
  }
 },
 "nbformat": 4,
 "nbformat_minor": 5
}
