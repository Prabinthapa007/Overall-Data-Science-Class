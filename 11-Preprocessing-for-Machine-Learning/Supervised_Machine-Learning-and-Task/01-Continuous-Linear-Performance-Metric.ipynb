{
 "cells": [
  {
   "cell_type": "code",
   "execution_count": 3,
   "id": "b5d6d9f4-d650-401d-8a67-dc7727087b65",
   "metadata": {},
   "outputs": [],
   "source": [
    "import numpy as np\n",
    "import pandas as pd\n",
    "from sklearn.linear_model import LinearRegression\n",
    "from sklearn.model_selection import train_test_split"
   ]
  },
  {
   "cell_type": "markdown",
   "id": "746f041e-552d-4e0d-a98c-61d70cf8c925",
   "metadata": {},
   "source": [
    "# Machine Learning"
   ]
  },
  {
   "cell_type": "markdown",
   "id": "1c922c48-19c1-4e7b-9952-16d7de7368db",
   "metadata": {},
   "source": [
    "Machine learning is a branch of artificial intelligence (AI) that involves developing algorithms and statistical models that enable computers to automatically learn from data without being explicitly programmed. In machine learning, algorithms use data to identify patterns and make decisions with minimal human intervention. Machine learning is used in a wide range of applications, from self-driving cars and facial recognition technology to medical diagnosis and natural language processing."
   ]
  },
  {
   "cell_type": "markdown",
   "id": "b6531bb3-bc89-4e8b-9bd8-5fc25b942e2a",
   "metadata": {},
   "source": [
    "## Major Approaches of ML"
   ]
  },
  {
   "cell_type": "markdown",
   "id": "87450672-1f88-4eaf-b780-20b9886d899c",
   "metadata": {},
   "source": [
    "1. **Supervised learning:** This approach involves using a labeled dataset to train a model that can predict output values for new input data. It is called \"supervised\" because the training data includes the correct answers, and the goal is for the model to learn how to produce the correct output for new, unseen data."
   ]
  },
  {
   "cell_type": "markdown",
   "id": "9b4be8a3-723e-4570-9386-d069ae317b2c",
   "metadata": {},
   "source": [
    "2. **Unsupervised learning:** This approach involves using an unlabeled dataset to train a model that can identify patterns or structure in the data. There is no \"correct answer\" to learn from, so the model is typically used for tasks like clustering, where similar data points are grouped together."
   ]
  },
  {
   "cell_type": "markdown",
   "id": "d4719f83-e54e-4d2a-8daa-15d4a49cd5a3",
   "metadata": {},
   "source": [
    "3. **Reinforcement learning:** This approach involves training a model to make decisions based on rewards or penalties received in response to its actions. The goal is for the model to learn to take actions that maximize its cumulative reward over time. This approach is often used in areas like game-playing and robotics, where an agent must learn to navigate an environment and make decisions based on feedback."
   ]
  },
  {
   "cell_type": "markdown",
   "id": "939f1cc5-d220-495a-aaa6-b9ae832711da",
   "metadata": {},
   "source": [
    "## Terminology"
   ]
  },
  {
   "cell_type": "markdown",
   "id": "21a31769-ad69-4b8f-80a0-0c0f64413dd5",
   "metadata": {},
   "source": [
    "![image.png](attachment:f9d3cbd8-e467-4423-97e3-f20891aaa385.png)"
   ]
  },
  {
   "cell_type": "markdown",
   "id": "b90ced0d-5f46-4827-8452-a5742c30d5c8",
   "metadata": {},
   "source": [
    "## Supervised Learning"
   ]
  },
  {
   "cell_type": "markdown",
   "id": "a0abdf32-0740-4f67-84c3-844a66fd939e",
   "metadata": {},
   "source": [
    "### Classification: "
   ]
  },
  {
   "cell_type": "markdown",
   "id": "56b4bbc9-75b0-406c-a576-8418a1abc499",
   "metadata": {},
   "source": [
    "In supervised learning, classification is a type of task where the goal is to predict the categorical label of new observations based on past observations with known labels. The algorithm learns from a labeled dataset, where each data point is associated with a class label, and then predicts the class labels for unseen data.\n",
    "\n",
    "Classification can be binary, where there are only two classes, or multiclass, where there are more than two classes. Some common algorithms for classification include logistic regression, decision trees, random forests, support vector machines (SVM), and neural networks. These algorithms use different approaches to learn the patterns in the data and make predictions about the classes of new observations.\n",
    "\n",
    "1. Logistic Regression\n",
    "2. Naive Bayes\n",
    "3. Decision Trees\n",
    "4. Support Vector Machines\n",
    "5. Random Forest\n",
    "6. Neural Networks\n",
    "7. K-Nearest Neighbors (KNN)"
   ]
  },
  {
   "cell_type": "markdown",
   "id": "618efbd2-8d6c-44eb-a6a7-dfc2917534a2",
   "metadata": {},
   "source": [
    "**Assumptions:**\n",
    "1. Target data should be discret/categorical.\n",
    "2. Features should be independent"
   ]
  },
  {
   "cell_type": "markdown",
   "id": "ee12fb51-3a73-46a6-81ab-47184194a56b",
   "metadata": {},
   "source": [
    "### Regression:"
   ]
  },
  {
   "cell_type": "markdown",
   "id": "8ffe0144-5744-4111-9887-36df705f4a03",
   "metadata": {},
   "source": [
    "In supervised learning, regression is a type of task where the goal is to predict a continuous value for new observations based on past observations with known values. The algorithm learns from a labeled dataset, where each data point is associated with a real-valued label, and then predicts the continuous value for unseen data.\n",
    "\n",
    "Regression tasks can involve predicting a single value (univariate regression) or multiple values (multivariate regression). Some common algorithms for regression include linear regression, polynomial regression, decision tree regression, random forest regression, support vector regression (SVR), and neural network regression.\n",
    "\n",
    "These algorithms use different mathematical techniques to learn the relationships between the input features and the target variable and make predictions about the continuous values of new observations."
   ]
  },
  {
   "cell_type": "markdown",
   "id": "d84e2829-eb31-4880-98c3-e173d478e191",
   "metadata": {},
   "source": [
    "#### Types of Continuous Data Model.\n",
    "1. Linear Regression\n",
    "2. Support Vector Regression\n",
    "3. Ridge Regression and Lasso Regression\n",
    "4. Decision Trees\n",
    "5. Random Forest Regression\n",
    "6. Gradient Boosting Regression"
   ]
  },
  {
   "cell_type": "markdown",
   "id": "8f0308e8-2983-473a-a6d8-dbf6822f5aba",
   "metadata": {},
   "source": [
    "#### Assumptions\n",
    "1. Target data should be continuous\n",
    "2. Features should be independent"
   ]
  },
  {
   "cell_type": "markdown",
   "id": "944c1c83-0e9c-4830-9f81-610648d1c7a5",
   "metadata": {},
   "source": [
    "<br>"
   ]
  },
  {
   "cell_type": "markdown",
   "id": "80c24722-0333-4742-9c77-f04066255364",
   "metadata": {},
   "source": [
    "## Linear Regression"
   ]
  },
  {
   "cell_type": "markdown",
   "id": "654dd8e7-1c8f-4bb7-ba9b-2180e85a66ea",
   "metadata": {},
   "source": [
    "Linear regression is a widely used statistical technique for modeling the relationship between a dependent variable and one or more independent variables. It assumes a linear relationship between the variables and aims to find the best-fit line that minimizes the difference between the predicted and actual values. The goal of linear regression is to make predictions or understand the impact of independent variables on the dependent variable."
   ]
  },
  {
   "cell_type": "markdown",
   "id": "24c8353e-777f-433e-873a-92770988b753",
   "metadata": {},
   "source": [
    "In simple linear regression, we consider a single independent variable and a single dependent variable. The relationship between the variables can be represented by the equation:\n",
    "\n",
    "$y = mx + c$\n",
    "\n",
    "Where:\n",
    "\n",
    "- `y` is the dependent variable\n",
    "- `x` is the independent variable\n",
    "- `c` is the y-intercept (the value of `y` when `x` is 0)\n",
    "- `m` is the slope (the change in `y` for a unit change in `x`)\n",
    "\n",
    "In higher dimension this equation becomes:\n",
    "\n",
    "$y = wx + b$\n",
    "\n",
    "The goal is to estimate the values of $w$ and $b$ that best fit the data."
   ]
  },
  {
   "cell_type": "markdown",
   "id": "0dac055b-72e9-4b3d-83b8-72e37c4c91b2",
   "metadata": {},
   "source": [
    "## Ordinary Least Squares (OLS) Estimation\n",
    "\n",
    "The most common method to estimate the coefficients (`b` and `w`) in linear regression is the Ordinary Least Squares (OLS) estimation. It aims to minimize the sum of squared residuals by finding the values of `b` and `w` that minimize the following equation:\n",
    "\n",
    "$\\frac{∂RSS}{∂b0} = -2Σ(y - b0 - b1 * x) = 0$\n",
    "\n",
    "$\\frac{∂RSS}{∂b1} = -2Σx(y - b0 - b1 * x) = 0$\n",
    "\n",
    "Solving these equations simultaneously will yield the estimated coefficients b0 and b1:\n",
    "\n",
    "$w = \\frac{Σ(x - x̄)(y - ȳ)}{Σ(x - x̄)^2}$\n",
    "\n",
    "$b = ȳ - w * x̄$\n",
    "\n",
    "Where:\n",
    "\n",
    "- `x̄` is the mean of the independent variable `x`\n",
    "- `ȳ` is the mean of the dependent variable `y`\n",
    "\n",
    "These formulas can be computed efficiently, providing the best-fit line."
   ]
  },
  {
   "cell_type": "code",
   "execution_count": 6,
   "id": "cf4be6eb-9d2a-430f-a4e9-1072d40944b2",
   "metadata": {},
   "outputs": [],
   "source": [
    "data = pd.read_csv(\"clean_stat_data.csv\")"
   ]
  },
  {
   "cell_type": "code",
   "execution_count": 7,
   "id": "1ad0f3f2-42d6-4161-b6ed-767a4c1cdc34",
   "metadata": {},
   "outputs": [
    {
     "data": {
      "text/html": [
       "<div>\n",
       "<style scoped>\n",
       "    .dataframe tbody tr th:only-of-type {\n",
       "        vertical-align: middle;\n",
       "    }\n",
       "\n",
       "    .dataframe tbody tr th {\n",
       "        vertical-align: top;\n",
       "    }\n",
       "\n",
       "    .dataframe thead th {\n",
       "        text-align: right;\n",
       "    }\n",
       "</style>\n",
       "<table border=\"1\" class=\"dataframe\">\n",
       "  <thead>\n",
       "    <tr style=\"text-align: right;\">\n",
       "      <th></th>\n",
       "      <th>matric_gpa_%</th>\n",
       "      <th>accommodation_status</th>\n",
       "      <th>monthly_allowance</th>\n",
       "      <th>scholarship_bursary_2023</th>\n",
       "      <th>study_hours_week</th>\n",
       "      <th>socialising_week</th>\n",
       "      <th>drinks_night</th>\n",
       "      <th>classes_missed_alcohol</th>\n",
       "      <th>modules_failed</th>\n",
       "      <th>in_relationship</th>\n",
       "      <th>...</th>\n",
       "      <th>faculty_Law</th>\n",
       "      <th>faculty_Medicine and Health Services</th>\n",
       "      <th>faculty_Science</th>\n",
       "      <th>year_in_2023_0th Year</th>\n",
       "      <th>year_in_2023_1st Year</th>\n",
       "      <th>year_in_2023_2nd Year</th>\n",
       "      <th>year_in_2023_3rd Year</th>\n",
       "      <th>year_in_2023_4th Year</th>\n",
       "      <th>year_in_2023_Postgraduate</th>\n",
       "      <th>target</th>\n",
       "    </tr>\n",
       "  </thead>\n",
       "  <tbody>\n",
       "    <tr>\n",
       "      <th>0</th>\n",
       "      <td>-0.365008</td>\n",
       "      <td>-0.395407</td>\n",
       "      <td>-1.095457</td>\n",
       "      <td>-0.360505</td>\n",
       "      <td>-1.155375</td>\n",
       "      <td>-1.205451</td>\n",
       "      <td>-1.407833</td>\n",
       "      <td>-2.507187</td>\n",
       "      <td>-0.753244</td>\n",
       "      <td>-1.148268</td>\n",
       "      <td>...</td>\n",
       "      <td>-0.172062</td>\n",
       "      <td>-0.172062</td>\n",
       "      <td>-0.399073</td>\n",
       "      <td>-0.056614</td>\n",
       "      <td>-0.762108</td>\n",
       "      <td>1.076392</td>\n",
       "      <td>-0.38278</td>\n",
       "      <td>-0.151248</td>\n",
       "      <td>-0.127412</td>\n",
       "      <td>72.0</td>\n",
       "    </tr>\n",
       "    <tr>\n",
       "      <th>1</th>\n",
       "      <td>1.794677</td>\n",
       "      <td>-0.395407</td>\n",
       "      <td>-0.464006</td>\n",
       "      <td>2.773886</td>\n",
       "      <td>-1.155375</td>\n",
       "      <td>-1.205451</td>\n",
       "      <td>-0.571682</td>\n",
       "      <td>-1.676764</td>\n",
       "      <td>-0.753244</td>\n",
       "      <td>0.870877</td>\n",
       "      <td>...</td>\n",
       "      <td>-0.172062</td>\n",
       "      <td>-0.172062</td>\n",
       "      <td>-0.399073</td>\n",
       "      <td>-0.056614</td>\n",
       "      <td>-0.762108</td>\n",
       "      <td>1.076392</td>\n",
       "      <td>-0.38278</td>\n",
       "      <td>-0.151248</td>\n",
       "      <td>-0.127412</td>\n",
       "      <td>75.0</td>\n",
       "    </tr>\n",
       "    <tr>\n",
       "      <th>2</th>\n",
       "      <td>-0.365008</td>\n",
       "      <td>-0.395407</td>\n",
       "      <td>-1.095457</td>\n",
       "      <td>-0.360505</td>\n",
       "      <td>-0.362322</td>\n",
       "      <td>-0.498885</td>\n",
       "      <td>-1.407833</td>\n",
       "      <td>-2.507187</td>\n",
       "      <td>-0.753244</td>\n",
       "      <td>0.870877</td>\n",
       "      <td>...</td>\n",
       "      <td>-0.172062</td>\n",
       "      <td>-0.172062</td>\n",
       "      <td>-0.399073</td>\n",
       "      <td>-0.056614</td>\n",
       "      <td>1.312151</td>\n",
       "      <td>-0.929029</td>\n",
       "      <td>-0.38278</td>\n",
       "      <td>-0.151248</td>\n",
       "      <td>-0.127412</td>\n",
       "      <td>55.0</td>\n",
       "    </tr>\n",
       "    <tr>\n",
       "      <th>3</th>\n",
       "      <td>1.794677</td>\n",
       "      <td>-0.395407</td>\n",
       "      <td>0.167446</td>\n",
       "      <td>-0.360505</td>\n",
       "      <td>-0.362322</td>\n",
       "      <td>0.207681</td>\n",
       "      <td>-1.407833</td>\n",
       "      <td>-0.846341</td>\n",
       "      <td>-0.753244</td>\n",
       "      <td>-1.148268</td>\n",
       "      <td>...</td>\n",
       "      <td>-0.172062</td>\n",
       "      <td>-0.172062</td>\n",
       "      <td>-0.399073</td>\n",
       "      <td>-0.056614</td>\n",
       "      <td>-0.762108</td>\n",
       "      <td>1.076392</td>\n",
       "      <td>-0.38278</td>\n",
       "      <td>-0.151248</td>\n",
       "      <td>-0.127412</td>\n",
       "      <td>84.0</td>\n",
       "    </tr>\n",
       "    <tr>\n",
       "      <th>4</th>\n",
       "      <td>-0.697268</td>\n",
       "      <td>-0.395407</td>\n",
       "      <td>-1.095457</td>\n",
       "      <td>-0.360505</td>\n",
       "      <td>-0.362322</td>\n",
       "      <td>-1.205451</td>\n",
       "      <td>0.264470</td>\n",
       "      <td>-0.015919</td>\n",
       "      <td>-0.077699</td>\n",
       "      <td>0.870877</td>\n",
       "      <td>...</td>\n",
       "      <td>-0.172062</td>\n",
       "      <td>-0.172062</td>\n",
       "      <td>-0.399073</td>\n",
       "      <td>-0.056614</td>\n",
       "      <td>-0.762108</td>\n",
       "      <td>1.076392</td>\n",
       "      <td>-0.38278</td>\n",
       "      <td>-0.151248</td>\n",
       "      <td>-0.127412</td>\n",
       "      <td>52.0</td>\n",
       "    </tr>\n",
       "  </tbody>\n",
       "</table>\n",
       "<p>5 rows × 29 columns</p>\n",
       "</div>"
      ],
      "text/plain": [
       "   matric_gpa_%  accommodation_status  monthly_allowance  \\\n",
       "0     -0.365008             -0.395407          -1.095457   \n",
       "1      1.794677             -0.395407          -0.464006   \n",
       "2     -0.365008             -0.395407          -1.095457   \n",
       "3      1.794677             -0.395407           0.167446   \n",
       "4     -0.697268             -0.395407          -1.095457   \n",
       "\n",
       "   scholarship_bursary_2023  study_hours_week  socialising_week  drinks_night  \\\n",
       "0                 -0.360505         -1.155375         -1.205451     -1.407833   \n",
       "1                  2.773886         -1.155375         -1.205451     -0.571682   \n",
       "2                 -0.360505         -0.362322         -0.498885     -1.407833   \n",
       "3                 -0.360505         -0.362322          0.207681     -1.407833   \n",
       "4                 -0.360505         -0.362322         -1.205451      0.264470   \n",
       "\n",
       "   classes_missed_alcohol  modules_failed  in_relationship  ...  faculty_Law  \\\n",
       "0               -2.507187       -0.753244        -1.148268  ...    -0.172062   \n",
       "1               -1.676764       -0.753244         0.870877  ...    -0.172062   \n",
       "2               -2.507187       -0.753244         0.870877  ...    -0.172062   \n",
       "3               -0.846341       -0.753244        -1.148268  ...    -0.172062   \n",
       "4               -0.015919       -0.077699         0.870877  ...    -0.172062   \n",
       "\n",
       "   faculty_Medicine and Health Services  faculty_Science  \\\n",
       "0                             -0.172062        -0.399073   \n",
       "1                             -0.172062        -0.399073   \n",
       "2                             -0.172062        -0.399073   \n",
       "3                             -0.172062        -0.399073   \n",
       "4                             -0.172062        -0.399073   \n",
       "\n",
       "   year_in_2023_0th Year  year_in_2023_1st Year  year_in_2023_2nd Year  \\\n",
       "0              -0.056614              -0.762108               1.076392   \n",
       "1              -0.056614              -0.762108               1.076392   \n",
       "2              -0.056614               1.312151              -0.929029   \n",
       "3              -0.056614              -0.762108               1.076392   \n",
       "4              -0.056614              -0.762108               1.076392   \n",
       "\n",
       "   year_in_2023_3rd Year  year_in_2023_4th Year  year_in_2023_Postgraduate  \\\n",
       "0               -0.38278              -0.151248                  -0.127412   \n",
       "1               -0.38278              -0.151248                  -0.127412   \n",
       "2               -0.38278              -0.151248                  -0.127412   \n",
       "3               -0.38278              -0.151248                  -0.127412   \n",
       "4               -0.38278              -0.151248                  -0.127412   \n",
       "\n",
       "   target  \n",
       "0    72.0  \n",
       "1    75.0  \n",
       "2    55.0  \n",
       "3    84.0  \n",
       "4    52.0  \n",
       "\n",
       "[5 rows x 29 columns]"
      ]
     },
     "execution_count": 7,
     "metadata": {},
     "output_type": "execute_result"
    }
   ],
   "source": [
    "data.head()"
   ]
  },
  {
   "cell_type": "code",
   "execution_count": 8,
   "id": "adabd50b-9143-4689-9407-c73b5173c0dd",
   "metadata": {},
   "outputs": [],
   "source": [
    "X = data.drop('target', axis=1).to_numpy()\n",
    "y = data['target'].to_numpy()"
   ]
  },
  {
   "cell_type": "code",
   "execution_count": 9,
   "id": "8363308f-ad9b-4e66-86c6-729546e8c5ea",
   "metadata": {},
   "outputs": [
    {
     "data": {
      "text/plain": [
       "array([72.  , 75.  , 55.  , 84.  , 52.  , 54.  , 75.  , 75.  , 64.  ,\n",
       "       76.  , 75.  , 65.  , 55.  , 54.  , 62.  , 55.  , 76.  , 65.  ,\n",
       "       69.  , 60.  , 55.  , 74.  , 70.  , 60.  , 54.  , 75.  , 63.  ,\n",
       "       73.  , 57.  , 75.  , 78.  , 55.  , 70.  , 60.  , 61.  , 63.  ,\n",
       "       60.  , 57.  , 74.  , 76.  , 80.  , 66.  , 80.  , 70.  , 65.  ,\n",
       "       75.  , 63.  , 80.  , 65.  , 75.  , 65.  , 61.  , 76.  , 65.  ,\n",
       "       58.  , 60.  , 65.  , 60.  , 58.  , 55.  , 71.  , 60.  , 70.  ,\n",
       "       60.  , 64.  , 84.  , 60.  , 61.  , 66.  , 65.  , 53.  , 62.  ,\n",
       "       65.  , 62.  , 61.  , 73.  , 60.  , 60.  , 64.  , 62.  , 69.  ,\n",
       "       57.  , 60.  , 60.  , 66.  , 50.  , 70.  , 65.  , 72.  , 62.  ,\n",
       "       76.  , 75.  , 88.  , 61.  , 52.  , 79.  , 56.  , 70.  , 60.  ,\n",
       "       57.  , 64.  , 60.  , 74.  , 73.  , 51.  , 60.  , 60.  , 65.  ,\n",
       "       54.  , 65.  , 64.  , 61.  , 68.  , 53.  , 73.  , 50.  , 64.  ,\n",
       "       73.  , 73.  , 50.  , 68.  , 65.  , 71.  , 65.  , 60.  , 72.  ,\n",
       "       70.  , 77.  , 60.  , 75.  , 68.  , 65.89, 63.  , 55.  , 73.  ,\n",
       "       80.  , 69.  , 70.  , 73.5 , 70.  , 68.  , 63.  , 77.  , 70.  ,\n",
       "       60.  , 50.  , 60.  , 73.  , 65.  , 75.  , 62.  , 63.  , 62.  ,\n",
       "       60.  , 55.  , 65.  , 57.  , 72.  , 50.  , 51.  , 88.  , 54.  ,\n",
       "       68.  , 59.  , 65.  , 77.  , 62.  , 60.  , 84.  , 70.  , 60.  ,\n",
       "       63.  , 80.  , 78.  , 76.  , 63.  , 65.  , 58.  , 67.  , 59.  ,\n",
       "       65.  , 74.  , 60.  , 64.  , 65.  , 80.  , 64.  , 75.  , 72.  ,\n",
       "       63.  , 74.  , 60.  , 60.  , 55.  , 55.  , 58.  , 92.  , 53.  ,\n",
       "       77.  , 63.  , 70.  , 57.  , 87.6 , 60.  , 55.  , 73.  , 76.  ,\n",
       "       68.  , 57.  , 63.  , 64.  , 55.  , 76.  , 65.  , 71.  , 73.  ,\n",
       "       57.  , 62.  , 69.  , 65.  , 64.  , 76.  , 65.  , 60.  , 72.  ,\n",
       "       69.  , 68.  , 64.  , 67.  , 77.  , 83.  , 61.  , 65.  , 65.  ,\n",
       "       67.  , 58.  , 61.  , 77.  , 57.  , 80.  , 65.  , 70.  , 83.  ,\n",
       "       73.  , 89.  , 81.  , 71.  , 76.  , 80.  , 62.  , 58.  , 76.  ,\n",
       "       72.  , 55.  , 70.  , 61.  , 55.  , 73.  , 74.  , 63.  , 61.  ,\n",
       "       58.  , 61.  , 63.  , 59.  , 56.  , 54.  , 60.  , 80.  , 80.  ,\n",
       "       70.  , 77.  , 60.  , 76.  , 69.7 , 85.  , 70.  , 63.  , 63.  ,\n",
       "       66.  , 60.  , 85.  , 59.  , 74.  , 64.  , 78.  , 50.  , 75.  ,\n",
       "       63.  , 56.  , 61.  , 74.  , 60.  , 69.  , 60.  , 83.  , 56.  ,\n",
       "       65.  , 79.  , 64.  , 57.  , 58.  , 71.  , 66.  , 70.  , 51.  ,\n",
       "       58.  , 80.  , 74.  , 70.  , 60.  , 58.  , 63.  ])"
      ]
     },
     "execution_count": 9,
     "metadata": {},
     "output_type": "execute_result"
    }
   ],
   "source": [
    "y"
   ]
  },
  {
   "cell_type": "code",
   "execution_count": 10,
   "id": "4c094bdc-cc11-4708-80b6-eaf1da98b187",
   "metadata": {},
   "outputs": [],
   "source": [
    "X_train, X_test, y_train, y_test = train_test_split(X, y, test_size= 0.2, random_state=42)"
   ]
  },
  {
   "cell_type": "code",
   "execution_count": 11,
   "id": "e09315ef-a1c4-44c1-b557-6412f6cc31e6",
   "metadata": {},
   "outputs": [
    {
     "data": {
      "text/html": [
       "<style>#sk-container-id-1 {\n",
       "  /* Definition of color scheme common for light and dark mode */\n",
       "  --sklearn-color-text: black;\n",
       "  --sklearn-color-line: gray;\n",
       "  /* Definition of color scheme for unfitted estimators */\n",
       "  --sklearn-color-unfitted-level-0: #fff5e6;\n",
       "  --sklearn-color-unfitted-level-1: #f6e4d2;\n",
       "  --sklearn-color-unfitted-level-2: #ffe0b3;\n",
       "  --sklearn-color-unfitted-level-3: chocolate;\n",
       "  /* Definition of color scheme for fitted estimators */\n",
       "  --sklearn-color-fitted-level-0: #f0f8ff;\n",
       "  --sklearn-color-fitted-level-1: #d4ebff;\n",
       "  --sklearn-color-fitted-level-2: #b3dbfd;\n",
       "  --sklearn-color-fitted-level-3: cornflowerblue;\n",
       "\n",
       "  /* Specific color for light theme */\n",
       "  --sklearn-color-text-on-default-background: var(--sg-text-color, var(--theme-code-foreground, var(--jp-content-font-color1, black)));\n",
       "  --sklearn-color-background: var(--sg-background-color, var(--theme-background, var(--jp-layout-color0, white)));\n",
       "  --sklearn-color-border-box: var(--sg-text-color, var(--theme-code-foreground, var(--jp-content-font-color1, black)));\n",
       "  --sklearn-color-icon: #696969;\n",
       "\n",
       "  @media (prefers-color-scheme: dark) {\n",
       "    /* Redefinition of color scheme for dark theme */\n",
       "    --sklearn-color-text-on-default-background: var(--sg-text-color, var(--theme-code-foreground, var(--jp-content-font-color1, white)));\n",
       "    --sklearn-color-background: var(--sg-background-color, var(--theme-background, var(--jp-layout-color0, #111)));\n",
       "    --sklearn-color-border-box: var(--sg-text-color, var(--theme-code-foreground, var(--jp-content-font-color1, white)));\n",
       "    --sklearn-color-icon: #878787;\n",
       "  }\n",
       "}\n",
       "\n",
       "#sk-container-id-1 {\n",
       "  color: var(--sklearn-color-text);\n",
       "}\n",
       "\n",
       "#sk-container-id-1 pre {\n",
       "  padding: 0;\n",
       "}\n",
       "\n",
       "#sk-container-id-1 input.sk-hidden--visually {\n",
       "  border: 0;\n",
       "  clip: rect(1px 1px 1px 1px);\n",
       "  clip: rect(1px, 1px, 1px, 1px);\n",
       "  height: 1px;\n",
       "  margin: -1px;\n",
       "  overflow: hidden;\n",
       "  padding: 0;\n",
       "  position: absolute;\n",
       "  width: 1px;\n",
       "}\n",
       "\n",
       "#sk-container-id-1 div.sk-dashed-wrapped {\n",
       "  border: 1px dashed var(--sklearn-color-line);\n",
       "  margin: 0 0.4em 0.5em 0.4em;\n",
       "  box-sizing: border-box;\n",
       "  padding-bottom: 0.4em;\n",
       "  background-color: var(--sklearn-color-background);\n",
       "}\n",
       "\n",
       "#sk-container-id-1 div.sk-container {\n",
       "  /* jupyter's `normalize.less` sets `[hidden] { display: none; }`\n",
       "     but bootstrap.min.css set `[hidden] { display: none !important; }`\n",
       "     so we also need the `!important` here to be able to override the\n",
       "     default hidden behavior on the sphinx rendered scikit-learn.org.\n",
       "     See: https://github.com/scikit-learn/scikit-learn/issues/21755 */\n",
       "  display: inline-block !important;\n",
       "  position: relative;\n",
       "}\n",
       "\n",
       "#sk-container-id-1 div.sk-text-repr-fallback {\n",
       "  display: none;\n",
       "}\n",
       "\n",
       "div.sk-parallel-item,\n",
       "div.sk-serial,\n",
       "div.sk-item {\n",
       "  /* draw centered vertical line to link estimators */\n",
       "  background-image: linear-gradient(var(--sklearn-color-text-on-default-background), var(--sklearn-color-text-on-default-background));\n",
       "  background-size: 2px 100%;\n",
       "  background-repeat: no-repeat;\n",
       "  background-position: center center;\n",
       "}\n",
       "\n",
       "/* Parallel-specific style estimator block */\n",
       "\n",
       "#sk-container-id-1 div.sk-parallel-item::after {\n",
       "  content: \"\";\n",
       "  width: 100%;\n",
       "  border-bottom: 2px solid var(--sklearn-color-text-on-default-background);\n",
       "  flex-grow: 1;\n",
       "}\n",
       "\n",
       "#sk-container-id-1 div.sk-parallel {\n",
       "  display: flex;\n",
       "  align-items: stretch;\n",
       "  justify-content: center;\n",
       "  background-color: var(--sklearn-color-background);\n",
       "  position: relative;\n",
       "}\n",
       "\n",
       "#sk-container-id-1 div.sk-parallel-item {\n",
       "  display: flex;\n",
       "  flex-direction: column;\n",
       "}\n",
       "\n",
       "#sk-container-id-1 div.sk-parallel-item:first-child::after {\n",
       "  align-self: flex-end;\n",
       "  width: 50%;\n",
       "}\n",
       "\n",
       "#sk-container-id-1 div.sk-parallel-item:last-child::after {\n",
       "  align-self: flex-start;\n",
       "  width: 50%;\n",
       "}\n",
       "\n",
       "#sk-container-id-1 div.sk-parallel-item:only-child::after {\n",
       "  width: 0;\n",
       "}\n",
       "\n",
       "/* Serial-specific style estimator block */\n",
       "\n",
       "#sk-container-id-1 div.sk-serial {\n",
       "  display: flex;\n",
       "  flex-direction: column;\n",
       "  align-items: center;\n",
       "  background-color: var(--sklearn-color-background);\n",
       "  padding-right: 1em;\n",
       "  padding-left: 1em;\n",
       "}\n",
       "\n",
       "\n",
       "/* Toggleable style: style used for estimator/Pipeline/ColumnTransformer box that is\n",
       "clickable and can be expanded/collapsed.\n",
       "- Pipeline and ColumnTransformer use this feature and define the default style\n",
       "- Estimators will overwrite some part of the style using the `sk-estimator` class\n",
       "*/\n",
       "\n",
       "/* Pipeline and ColumnTransformer style (default) */\n",
       "\n",
       "#sk-container-id-1 div.sk-toggleable {\n",
       "  /* Default theme specific background. It is overwritten whether we have a\n",
       "  specific estimator or a Pipeline/ColumnTransformer */\n",
       "  background-color: var(--sklearn-color-background);\n",
       "}\n",
       "\n",
       "/* Toggleable label */\n",
       "#sk-container-id-1 label.sk-toggleable__label {\n",
       "  cursor: pointer;\n",
       "  display: block;\n",
       "  width: 100%;\n",
       "  margin-bottom: 0;\n",
       "  padding: 0.5em;\n",
       "  box-sizing: border-box;\n",
       "  text-align: center;\n",
       "}\n",
       "\n",
       "#sk-container-id-1 label.sk-toggleable__label-arrow:before {\n",
       "  /* Arrow on the left of the label */\n",
       "  content: \"▸\";\n",
       "  float: left;\n",
       "  margin-right: 0.25em;\n",
       "  color: var(--sklearn-color-icon);\n",
       "}\n",
       "\n",
       "#sk-container-id-1 label.sk-toggleable__label-arrow:hover:before {\n",
       "  color: var(--sklearn-color-text);\n",
       "}\n",
       "\n",
       "/* Toggleable content - dropdown */\n",
       "\n",
       "#sk-container-id-1 div.sk-toggleable__content {\n",
       "  max-height: 0;\n",
       "  max-width: 0;\n",
       "  overflow: hidden;\n",
       "  text-align: left;\n",
       "  /* unfitted */\n",
       "  background-color: var(--sklearn-color-unfitted-level-0);\n",
       "}\n",
       "\n",
       "#sk-container-id-1 div.sk-toggleable__content.fitted {\n",
       "  /* fitted */\n",
       "  background-color: var(--sklearn-color-fitted-level-0);\n",
       "}\n",
       "\n",
       "#sk-container-id-1 div.sk-toggleable__content pre {\n",
       "  margin: 0.2em;\n",
       "  border-radius: 0.25em;\n",
       "  color: var(--sklearn-color-text);\n",
       "  /* unfitted */\n",
       "  background-color: var(--sklearn-color-unfitted-level-0);\n",
       "}\n",
       "\n",
       "#sk-container-id-1 div.sk-toggleable__content.fitted pre {\n",
       "  /* unfitted */\n",
       "  background-color: var(--sklearn-color-fitted-level-0);\n",
       "}\n",
       "\n",
       "#sk-container-id-1 input.sk-toggleable__control:checked~div.sk-toggleable__content {\n",
       "  /* Expand drop-down */\n",
       "  max-height: 200px;\n",
       "  max-width: 100%;\n",
       "  overflow: auto;\n",
       "}\n",
       "\n",
       "#sk-container-id-1 input.sk-toggleable__control:checked~label.sk-toggleable__label-arrow:before {\n",
       "  content: \"▾\";\n",
       "}\n",
       "\n",
       "/* Pipeline/ColumnTransformer-specific style */\n",
       "\n",
       "#sk-container-id-1 div.sk-label input.sk-toggleable__control:checked~label.sk-toggleable__label {\n",
       "  color: var(--sklearn-color-text);\n",
       "  background-color: var(--sklearn-color-unfitted-level-2);\n",
       "}\n",
       "\n",
       "#sk-container-id-1 div.sk-label.fitted input.sk-toggleable__control:checked~label.sk-toggleable__label {\n",
       "  background-color: var(--sklearn-color-fitted-level-2);\n",
       "}\n",
       "\n",
       "/* Estimator-specific style */\n",
       "\n",
       "/* Colorize estimator box */\n",
       "#sk-container-id-1 div.sk-estimator input.sk-toggleable__control:checked~label.sk-toggleable__label {\n",
       "  /* unfitted */\n",
       "  background-color: var(--sklearn-color-unfitted-level-2);\n",
       "}\n",
       "\n",
       "#sk-container-id-1 div.sk-estimator.fitted input.sk-toggleable__control:checked~label.sk-toggleable__label {\n",
       "  /* fitted */\n",
       "  background-color: var(--sklearn-color-fitted-level-2);\n",
       "}\n",
       "\n",
       "#sk-container-id-1 div.sk-label label.sk-toggleable__label,\n",
       "#sk-container-id-1 div.sk-label label {\n",
       "  /* The background is the default theme color */\n",
       "  color: var(--sklearn-color-text-on-default-background);\n",
       "}\n",
       "\n",
       "/* On hover, darken the color of the background */\n",
       "#sk-container-id-1 div.sk-label:hover label.sk-toggleable__label {\n",
       "  color: var(--sklearn-color-text);\n",
       "  background-color: var(--sklearn-color-unfitted-level-2);\n",
       "}\n",
       "\n",
       "/* Label box, darken color on hover, fitted */\n",
       "#sk-container-id-1 div.sk-label.fitted:hover label.sk-toggleable__label.fitted {\n",
       "  color: var(--sklearn-color-text);\n",
       "  background-color: var(--sklearn-color-fitted-level-2);\n",
       "}\n",
       "\n",
       "/* Estimator label */\n",
       "\n",
       "#sk-container-id-1 div.sk-label label {\n",
       "  font-family: monospace;\n",
       "  font-weight: bold;\n",
       "  display: inline-block;\n",
       "  line-height: 1.2em;\n",
       "}\n",
       "\n",
       "#sk-container-id-1 div.sk-label-container {\n",
       "  text-align: center;\n",
       "}\n",
       "\n",
       "/* Estimator-specific */\n",
       "#sk-container-id-1 div.sk-estimator {\n",
       "  font-family: monospace;\n",
       "  border: 1px dotted var(--sklearn-color-border-box);\n",
       "  border-radius: 0.25em;\n",
       "  box-sizing: border-box;\n",
       "  margin-bottom: 0.5em;\n",
       "  /* unfitted */\n",
       "  background-color: var(--sklearn-color-unfitted-level-0);\n",
       "}\n",
       "\n",
       "#sk-container-id-1 div.sk-estimator.fitted {\n",
       "  /* fitted */\n",
       "  background-color: var(--sklearn-color-fitted-level-0);\n",
       "}\n",
       "\n",
       "/* on hover */\n",
       "#sk-container-id-1 div.sk-estimator:hover {\n",
       "  /* unfitted */\n",
       "  background-color: var(--sklearn-color-unfitted-level-2);\n",
       "}\n",
       "\n",
       "#sk-container-id-1 div.sk-estimator.fitted:hover {\n",
       "  /* fitted */\n",
       "  background-color: var(--sklearn-color-fitted-level-2);\n",
       "}\n",
       "\n",
       "/* Specification for estimator info (e.g. \"i\" and \"?\") */\n",
       "\n",
       "/* Common style for \"i\" and \"?\" */\n",
       "\n",
       ".sk-estimator-doc-link,\n",
       "a:link.sk-estimator-doc-link,\n",
       "a:visited.sk-estimator-doc-link {\n",
       "  float: right;\n",
       "  font-size: smaller;\n",
       "  line-height: 1em;\n",
       "  font-family: monospace;\n",
       "  background-color: var(--sklearn-color-background);\n",
       "  border-radius: 1em;\n",
       "  height: 1em;\n",
       "  width: 1em;\n",
       "  text-decoration: none !important;\n",
       "  margin-left: 1ex;\n",
       "  /* unfitted */\n",
       "  border: var(--sklearn-color-unfitted-level-1) 1pt solid;\n",
       "  color: var(--sklearn-color-unfitted-level-1);\n",
       "}\n",
       "\n",
       ".sk-estimator-doc-link.fitted,\n",
       "a:link.sk-estimator-doc-link.fitted,\n",
       "a:visited.sk-estimator-doc-link.fitted {\n",
       "  /* fitted */\n",
       "  border: var(--sklearn-color-fitted-level-1) 1pt solid;\n",
       "  color: var(--sklearn-color-fitted-level-1);\n",
       "}\n",
       "\n",
       "/* On hover */\n",
       "div.sk-estimator:hover .sk-estimator-doc-link:hover,\n",
       ".sk-estimator-doc-link:hover,\n",
       "div.sk-label-container:hover .sk-estimator-doc-link:hover,\n",
       ".sk-estimator-doc-link:hover {\n",
       "  /* unfitted */\n",
       "  background-color: var(--sklearn-color-unfitted-level-3);\n",
       "  color: var(--sklearn-color-background);\n",
       "  text-decoration: none;\n",
       "}\n",
       "\n",
       "div.sk-estimator.fitted:hover .sk-estimator-doc-link.fitted:hover,\n",
       ".sk-estimator-doc-link.fitted:hover,\n",
       "div.sk-label-container:hover .sk-estimator-doc-link.fitted:hover,\n",
       ".sk-estimator-doc-link.fitted:hover {\n",
       "  /* fitted */\n",
       "  background-color: var(--sklearn-color-fitted-level-3);\n",
       "  color: var(--sklearn-color-background);\n",
       "  text-decoration: none;\n",
       "}\n",
       "\n",
       "/* Span, style for the box shown on hovering the info icon */\n",
       ".sk-estimator-doc-link span {\n",
       "  display: none;\n",
       "  z-index: 9999;\n",
       "  position: relative;\n",
       "  font-weight: normal;\n",
       "  right: .2ex;\n",
       "  padding: .5ex;\n",
       "  margin: .5ex;\n",
       "  width: min-content;\n",
       "  min-width: 20ex;\n",
       "  max-width: 50ex;\n",
       "  color: var(--sklearn-color-text);\n",
       "  box-shadow: 2pt 2pt 4pt #999;\n",
       "  /* unfitted */\n",
       "  background: var(--sklearn-color-unfitted-level-0);\n",
       "  border: .5pt solid var(--sklearn-color-unfitted-level-3);\n",
       "}\n",
       "\n",
       ".sk-estimator-doc-link.fitted span {\n",
       "  /* fitted */\n",
       "  background: var(--sklearn-color-fitted-level-0);\n",
       "  border: var(--sklearn-color-fitted-level-3);\n",
       "}\n",
       "\n",
       ".sk-estimator-doc-link:hover span {\n",
       "  display: block;\n",
       "}\n",
       "\n",
       "/* \"?\"-specific style due to the `<a>` HTML tag */\n",
       "\n",
       "#sk-container-id-1 a.estimator_doc_link {\n",
       "  float: right;\n",
       "  font-size: 1rem;\n",
       "  line-height: 1em;\n",
       "  font-family: monospace;\n",
       "  background-color: var(--sklearn-color-background);\n",
       "  border-radius: 1rem;\n",
       "  height: 1rem;\n",
       "  width: 1rem;\n",
       "  text-decoration: none;\n",
       "  /* unfitted */\n",
       "  color: var(--sklearn-color-unfitted-level-1);\n",
       "  border: var(--sklearn-color-unfitted-level-1) 1pt solid;\n",
       "}\n",
       "\n",
       "#sk-container-id-1 a.estimator_doc_link.fitted {\n",
       "  /* fitted */\n",
       "  border: var(--sklearn-color-fitted-level-1) 1pt solid;\n",
       "  color: var(--sklearn-color-fitted-level-1);\n",
       "}\n",
       "\n",
       "/* On hover */\n",
       "#sk-container-id-1 a.estimator_doc_link:hover {\n",
       "  /* unfitted */\n",
       "  background-color: var(--sklearn-color-unfitted-level-3);\n",
       "  color: var(--sklearn-color-background);\n",
       "  text-decoration: none;\n",
       "}\n",
       "\n",
       "#sk-container-id-1 a.estimator_doc_link.fitted:hover {\n",
       "  /* fitted */\n",
       "  background-color: var(--sklearn-color-fitted-level-3);\n",
       "}\n",
       "</style><div id=\"sk-container-id-1\" class=\"sk-top-container\"><div class=\"sk-text-repr-fallback\"><pre>LinearRegression()</pre><b>In a Jupyter environment, please rerun this cell to show the HTML representation or trust the notebook. <br />On GitHub, the HTML representation is unable to render, please try loading this page with nbviewer.org.</b></div><div class=\"sk-container\" hidden><div class=\"sk-item\"><div class=\"sk-estimator fitted sk-toggleable\"><input class=\"sk-toggleable__control sk-hidden--visually\" id=\"sk-estimator-id-1\" type=\"checkbox\" checked><label for=\"sk-estimator-id-1\" class=\"sk-toggleable__label fitted sk-toggleable__label-arrow fitted\">&nbsp;&nbsp;LinearRegression<a class=\"sk-estimator-doc-link fitted\" rel=\"noreferrer\" target=\"_blank\" href=\"https://scikit-learn.org/1.4/modules/generated/sklearn.linear_model.LinearRegression.html\">?<span>Documentation for LinearRegression</span></a><span class=\"sk-estimator-doc-link fitted\">i<span>Fitted</span></span></label><div class=\"sk-toggleable__content fitted\"><pre>LinearRegression()</pre></div> </div></div></div></div>"
      ],
      "text/plain": [
       "LinearRegression()"
      ]
     },
     "execution_count": 11,
     "metadata": {},
     "output_type": "execute_result"
    }
   ],
   "source": [
    "linear_model = LinearRegression()\n",
    "linear_model.fit(X_train, y_train)"
   ]
  },
  {
   "cell_type": "code",
   "execution_count": 12,
   "id": "8db519b6-2305-4f74-99f5-f8174a2d03c8",
   "metadata": {},
   "outputs": [
    {
     "data": {
      "text/plain": [
       "array([ 1.96534281e+00, -5.22989387e-01,  2.39514883e-01, -3.51243860e-01,\n",
       "        6.52832364e-02, -1.38268481e-01, -2.48539243e-01,  8.03119691e-01,\n",
       "       -2.90799578e+00,  5.77401861e-02, -2.38650570e-01,  2.80275015e-01,\n",
       "        3.21393407e+11,  3.21393407e+11, -4.41203015e+11, -5.74949322e+11,\n",
       "       -9.20408213e+11, -2.31658567e+11, -4.91634723e+11, -3.08777789e+11,\n",
       "       -3.08777789e+11, -6.36068833e+11,  1.69824101e+12,  1.45078662e+13,\n",
       "        1.50058523e+13,  1.00469293e+13,  4.44971053e+12,  3.77296162e+12])"
      ]
     },
     "execution_count": 12,
     "metadata": {},
     "output_type": "execute_result"
    }
   ],
   "source": [
    "linear_model.coef_"
   ]
  },
  {
   "cell_type": "code",
   "execution_count": 13,
   "id": "51f6a79d-25b5-4e66-9fef-e88907bf746a",
   "metadata": {},
   "outputs": [
    {
     "data": {
      "text/plain": [
       "66.40056456542969"
      ]
     },
     "execution_count": 13,
     "metadata": {},
     "output_type": "execute_result"
    }
   ],
   "source": [
    "linear_model.intercept_"
   ]
  },
  {
   "cell_type": "code",
   "execution_count": 14,
   "id": "7b156153-c781-4ee2-bcd0-f2150d5bc7b8",
   "metadata": {},
   "outputs": [
    {
     "data": {
      "text/plain": [
       "(313, 28)"
      ]
     },
     "execution_count": 14,
     "metadata": {},
     "output_type": "execute_result"
    }
   ],
   "source": [
    "X.shape"
   ]
  },
  {
   "cell_type": "markdown",
   "id": "ca960e1e-9258-4666-be68-fbe0c483df21",
   "metadata": {},
   "source": [
    "### Performance Metrics\r\n",
    "\r\n",
    "* Mean Absolute Error (MAE): $\\frac{\\sum_{i=1}^{N}|y_{actual} - y_{predicted}|}{N}$\r\n",
    "* Mean Squared Error (MSE): $\\frac{\\sum_{i=1}^{N}(y_{actual} - y_{predicted})^2}{N}$\r\n",
    "* R2: $1 - \\frac{\\sum(y_{actual} - y_{predicted})^2}{\\sum(y_{actual} - mean)^2}$^2}$"
   ]
  },
  {
   "cell_type": "markdown",
   "id": "d8fdbfe7-fe5b-49af-9c11-9ca5edb05e30",
   "metadata": {},
   "source": [
    "#### Mean Absolute Error (MAE)\r\n",
    "\r\n",
    "Mean Absolute Error is a commonly used metric for regression problems. It measures the average absolute difference between the predicted and actual values. MAE provides an easily interpretable measure of how close the predictions are to the actual values.\r\n",
    "\r\n",
    "$MAE = \\frac{1}{n} * Σ|y - ŷ|$\r\n",
    "\r\n",
    "where:\r\n",
    "\r\n",
    "- `n` is the number of instances\r\n",
    "- `y` represents the actual values\r\n",
    "- `ŷ` represents the predicted values\r\n",
    "\r\n",
    "MAE is relatively simple to understand and compute but does not consider the squared errors, potentially making it less sensitive to large errors.\r\n",
    "\r\n",
    "`Example:` For the problem above, we calculate the MAE as follows:\r\n",
    "\r\n",
    "$MAE = \\frac{|250,000 - 260,000| + |300,000 - 295,000| + |350,000 - 360,000| + ...}{100}$\r\n",
    "\r\n",
    "The MAE provides an average of the absolute differences between the actual and predicted values. In this example, it measures the average difference between the predicted and actual housing prices.\r\n",
    "\r\n",
    "- **When to use:** MAE is a common metric for evaluating regression models and is suitable when you want to understand the average magnitude of the errors without considering their direction."
   ]
  },
  {
   "cell_type": "markdown",
   "id": "fa8204d4-aab2-4937-84c6-0540320e964b",
   "metadata": {},
   "source": [
    "#### Mean Squared Error (MSE)\n",
    "\n",
    "Mean Squared Error is another popular metric for regression evaluation. It measures the average of the squared differences between the predicted and actual values. MSE gives more weight to larger errors compared to MAE.\n",
    "\n",
    "$MSE = \\frac{1}{n} * Σ(y - ŷ)^2$\n",
    "\n",
    "MSE provides a more comprehensive measure of the model's performance by considering both small and large errors. However, it is not directly interpretable in the original scale of the target variable.\n",
    "\n",
    "`Example:` Using the same housing price regression example, we calculate the MSE:\n",
    "\n",
    "$MSE = \\frac{(250,000 - 260,000)^2 + (300,000 - 295,000)^2 + (350,000 - 360,000)^2 + ...}{100}$\n",
    "\n",
    "MSE calculates the average of the squared differences between the predicted and actual values. It penalizes larger errors more heavily than MAE.\n",
    "\n",
    "- **When to use:** MSE is widely used in regression tasks and is beneficial when you want to emphasize larger errors and penalize them more compared to smaller errors."
   ]
  },
  {
   "cell_type": "markdown",
   "id": "db0b4fd9-b28d-4580-8629-b53a4f764948",
   "metadata": {},
   "source": [
    "#### Root Mean Squared Error (RMSE)\n",
    "\n",
    "RMSE is derived from MSE and is widely used due to its interpretability in the original scale of the target variable. It represents the square root of the average of the squared differences between the predicted and actual values.\n",
    "\n",
    "$RMSE = \\sqrt{\\frac{1}{n} * Σ(y - ŷ)^2}$\n",
    "\n",
    "RMSE shares the same properties as MSE but provides a more easily understandable and interpretable metric.\n",
    "\n",
    "`Example:` Based on the previous example, we calculate the RMSE as follows:\n",
    "\n",
    "$RMSE = sqrt(MSE)$\n",
    "\n",
    "RMSE provides the square root of the MSE, giving a measure of the average magnitude of the errors in the original unit of the target variable (e.g., dollars in the housing price example).\n",
    "\n",
    "- **When to use:** RMSE is a commonly used metric for regression problems and is especially useful when you want to interpret the errors in the original unit of the target variable."
   ]
  },
  {
   "cell_type": "markdown",
   "id": "157716d3-ecc5-44f1-9a93-3032a67421c2",
   "metadata": {},
   "source": [
    "#### R-squared Error (Coefficient of Determination)\n",
    "\n",
    "R-squared (R²) is a statistical metric that represents the proportion of variance in the target variable explained by the regression model. It indicates how well the model fits the data and ranges from 0 to 1. A higher R² value indicates a better fit.\n",
    "\n",
    "$R² = 1 - \\frac{SSE}{SST}$\n",
    "\n",
    "where:\n",
    "\n",
    "- `SSE` is the sum of squared residuals $(predicted values - actual values)^2$\n",
    "- `SST` is the total sum of squares $(actual values - mean of actual values)^2$\n",
    "\n",
    "R-squared measures the goodness of fit but does not consider the complexity of the model or the number of predictors.\n",
    "\n",
    "`Example:` In the housing price regression example, we can calculate the R-squared error as follows:\n",
    "\n",
    "$SST = \\sum{((Actual Prices - mean(Actual prices))^2}$\n",
    "\n",
    "Calculate the residual sum of squares (SSE):\n",
    "\n",
    "$SSE = \\sum{((Actual Prices - Predicted Prices))^2}$\n",
    "\n",
    "Calculate the R-squared error:\n",
    "\n",
    "$R² = 1 - \\frac{SSE}{SST}$\n",
    "\n",
    "The R-squared error measures the proportion of the variance in the target variable that can be explained by the regression model. It ranges from 0 to 1, with 1 indicating that the model explains all the variability in the target variable.\n",
    "\n",
    "- **When to use:** R-squared error is commonly used to assess the goodness of fit of a regression model. It provides an indication of how well the model fits the data."
   ]
  },
  {
   "cell_type": "code",
   "execution_count": 15,
   "id": "f4b93720-d6c9-47a0-9041-f16db72a7aeb",
   "metadata": {},
   "outputs": [],
   "source": [
    "from sklearn.metrics import mean_absolute_error, mean_squared_error, r2_score"
   ]
  },
  {
   "cell_type": "code",
   "execution_count": 16,
   "id": "de025c01-9958-46b4-b15b-6f49ec3ac331",
   "metadata": {},
   "outputs": [],
   "source": [
    "y_actual = y_test"
   ]
  },
  {
   "cell_type": "code",
   "execution_count": 17,
   "id": "883cdd4f-6f34-49a3-86cc-e07abae6be65",
   "metadata": {},
   "outputs": [],
   "source": [
    "y_predicted = linear_model.predict(X_test)"
   ]
  },
  {
   "cell_type": "code",
   "execution_count": 18,
   "id": "f3ee5c59-0afd-4ddc-a917-162e560f27e7",
   "metadata": {},
   "outputs": [
    {
     "data": {
      "text/plain": [
       "6.705649965510293"
      ]
     },
     "execution_count": 18,
     "metadata": {},
     "output_type": "execute_result"
    }
   ],
   "source": [
    "mean_absolute_error(y_actual, y_predicted)"
   ]
  },
  {
   "cell_type": "code",
   "execution_count": 23,
   "id": "cb936c6d-c3a9-42d8-9095-496c546fbe2d",
   "metadata": {},
   "outputs": [
    {
     "data": {
      "text/plain": [
       "69.59770639694536"
      ]
     },
     "execution_count": 23,
     "metadata": {},
     "output_type": "execute_result"
    }
   ],
   "source": [
    "mean_squared_error(y_actual, y_predicted)"
   ]
  },
  {
   "cell_type": "markdown",
   "id": "ee81402b-f062-4692-8e74-39fc5a69e2c2",
   "metadata": {},
   "source": [
    "### R2 Cofficient"
   ]
  },
  {
   "cell_type": "markdown",
   "id": "76063e24-079f-4984-9ba3-896b657fae70",
   "metadata": {},
   "source": [
    "R-squared is a goodness-of-fit measure for linear regression models. This statistic indicates the percentage of the variance in the dependent variable that the independent variables explain collectively. R-squared measures the strength of the relationship between your model and the dependent variable on a convenient 0 – 100% scale.\n",
    "\n",
    "R-squared represents the proportion of the variance in the dependent variable that is predictable from the independent variables. It ranges from 0 to 1, where 1 indicates a perfect fit. It is calculated as:\r\n",
    "\r\n",
    "$R^2 = 1 - \\frac{RSS}{TSS}$\r\n",
    "\r\n",
    "Where RSS is the residual sum of squares and TSS is the total sum of squares.\r\n",
    "\r\n",
    "The RSS (Residual Sum of Squares) represents the sum of squared differences between the observed dependent variable values (y) and the predicted values (ŷ) obtained from the linear regression model. Mathematically, it is calculated as follows:\r\n",
    "\r\n",
    "$RSS = Σ(y - ŷ)^2$\r\n",
    "\r\n",
    "On the other hand, the TSS (Total Sum of Squares) represents the total variation in the dependent variable (y) from its mean (ȳ). It measures the sum of squared differences between each observed dependent variable value (y) and the mean of the dependent variable (ȳ). Mathematically, it is calculated as follows:\r\n",
    "\r\n",
    "$TSS = Σ(y - ȳ)^2$"
   ]
  },
  {
   "cell_type": "markdown",
   "id": "cf4ecbc3-c789-48f3-b445-e51d037a9acd",
   "metadata": {},
   "source": [
    "R-squared is always between 0 and 100%:\r\n",
    "\r\n",
    "* 0% represents a model that does not explain any of the variation in the response variable around its mean. The mean of the dependent variable predicts the dependent variable as well as the regression model.\r\n",
    "* 100% represents a model that explains all the variation in the response variable around its mean.\r\n"
   ]
  },
  {
   "cell_type": "code",
   "execution_count": 24,
   "id": "491954a0-3ee2-4694-8608-589ea68953a7",
   "metadata": {},
   "outputs": [
    {
     "data": {
      "text/plain": [
       "0.057995850874791754"
      ]
     },
     "execution_count": 24,
     "metadata": {},
     "output_type": "execute_result"
    }
   ],
   "source": [
    "r2_score(y_actual, y_predicted)"
   ]
  },
  {
   "cell_type": "code",
   "execution_count": 25,
   "id": "7d7f7a05-4341-42cf-8c03-98e5b737e073",
   "metadata": {},
   "outputs": [],
   "source": [
    "r2_adj = 1 - (1-linear_model.score(X_test, y_test))*(len(y_test)-1)/(len(y_test)-X.shape[1]-1)"
   ]
  },
  {
   "cell_type": "code",
   "execution_count": 26,
   "id": "25a896c6-2c39-4257-b98b-88a646e1146f",
   "metadata": {},
   "outputs": [
    {
     "data": {
      "text/plain": [
       "-0.7177722719342032"
      ]
     },
     "execution_count": 26,
     "metadata": {},
     "output_type": "execute_result"
    }
   ],
   "source": [
    "r2_adj"
   ]
  }
 ],
 "metadata": {
  "kernelspec": {
   "display_name": "Python 3 (ipykernel)",
   "language": "python",
   "name": "python3"
  },
  "language_info": {
   "codemirror_mode": {
    "name": "ipython",
    "version": 3
   },
   "file_extension": ".py",
   "mimetype": "text/x-python",
   "name": "python",
   "nbconvert_exporter": "python",
   "pygments_lexer": "ipython3",
   "version": "3.12.2"
  }
 },
 "nbformat": 4,
 "nbformat_minor": 5
}
