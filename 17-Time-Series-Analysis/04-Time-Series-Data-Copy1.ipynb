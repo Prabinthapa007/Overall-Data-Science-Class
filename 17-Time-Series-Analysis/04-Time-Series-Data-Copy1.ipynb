{
 "cells": [
  {
   "cell_type": "markdown",
   "id": "6de0d41c-277a-447f-94c5-8da12521b632",
   "metadata": {},
   "source": [
    "## Why organizations use time series data analysis?"
   ]
  },
  {
   "cell_type": "markdown",
   "id": "292c9d4c-535a-49e4-ad02-302026c9d61c",
   "metadata": {},
   "source": [
    "Time series analysis helps organizations understand the underlying causes of trends or systemic patterns over time. Using data visualizations, business users can see seasonal trends and dig deeper into why these trends occur. With modern analytics platforms, these visualizations can go far beyond line graphs. \n",
    "\n",
    "When organizations analyze data over consistent intervals, they can also use time series forecasting to predict the likelihood of future events. Time series forecasting is part of predictive analytics. It can show likely changes in the data, like seasonality or cyclic behavior, which provides a better understanding of data variables and helps forecast better. \n",
    "\n",
    "For example, Des Moines Public Schools analyzed five years of student achievement data to identify at-risk students and track progress over time. Today’s technology allows us to collect massive amounts of data every day and it’s easier than ever to gather enough consistent data for comprehensive analysis."
   ]
  },
  {
   "cell_type": "markdown",
   "id": "8f85c475-936b-4009-9cbc-5a474187e796",
   "metadata": {},
   "source": [
    "## Data Classification for time series\n",
    "Further, time series data can be classified into two main categories:\n",
    "- **Stock time series data** means measuring attributes at a certain point in time, like a static snapshot of the information as it was.\n",
    "- **Flow time series data** means measuring the activity of the attributes over a certain period, which is generally part of the total whole and makes up a portion of the results."
   ]
  },
  {
   "cell_type": "markdown",
   "id": "be583812-2f0a-40db-9e82-69b1e62892fe",
   "metadata": {},
   "source": [
    "## Important Considerations for Time Series Analysis\n",
    "While time series data is collected over time, there are different types of data that describe how and when that time data was recorded. For example:\n",
    "- **Time series data** is the data that is recorded over consistent intervals of time.\n",
    "- **Cross-sectional data** consists of several variables recorded at the same time.\n",
    "- **Pooled data** is a combination of both time series data and cross-sectional data."
   ]
  },
  {
   "cell_type": "markdown",
   "id": "d1033639-981b-4407-9af4-707124c45818",
   "metadata": {},
   "source": [
    "## Types of Time Series Data (same as above with extended types)\n",
    "\n",
    "Time series data can be categorized into several types based on the characteristics and behavior of the data. Understanding these types is crucial for selecting appropriate modeling and forecasting techniques. Here are the primary types of time series data:\n",
    "\n",
    "### 1. Univariate Time Series\n",
    "This type consists of observations of a single variable recorded sequentially over equal time intervals.\n",
    "- **Example**: The daily closing prices of a stock.\n",
    "\n",
    "### 2. Multivariate Time Series\n",
    "This type involves multiple variables observed simultaneously at each time point.\n",
    "- **Example**: The daily closing prices of multiple stocks.\n",
    "\n",
    "### 3. Stationary Time Series\n",
    "A time series is stationary if its statistical properties such as mean, variance, and autocorrelation are constant over time. Stationarity is crucial for many time series forecasting methods.\n",
    "- **Example**: Daily temperature readings over a short period in a controlled environment.\n",
    "\n",
    "### 4. Non-Stationary Time Series\n",
    "This type of time series has properties that change over time. Non-stationarity can manifest as trends, seasonal patterns, or other structural changes in the data. Methods such as differencing or transformation can be used to make a series stationary.\n",
    "- **Example**: Monthly sales data that shows an increasing trend over several years.\n",
    "\n",
    "### 5. Seasonal Time Series\n",
    "This type exhibits regular and predictable patterns that repeat over a specific period, such as daily, monthly, or yearly.\n",
    "- **Example**: Retail sales often increase during the holiday season every year.\n",
    "\n",
    "### 6. Non-Seasonal Time Series\n",
    "A time series without regular seasonal patterns. Any periodicity or trend in the data is not driven by a fixed period.\n",
    "- **Example**: Random stock market fluctuations.\n",
    "\n",
    "### 7. Cyclical Time Series\n",
    "This type shows long-term fluctuations not of a fixed period, typically influenced by economic or business cycles. Unlike seasonal variations, cyclical patterns have durations that are not fixed and can span multiple years.\n",
    "- **Example**: Economic growth and recession cycles.\n",
    "\n",
    "### 8. Irregular Time Series\n",
    "Data points are not collected at regular intervals. This can happen due to various reasons, such as missing data points or varying frequency of observation.\n",
    "- **Example**: Recorded times of customer arrivals at a service center.\n",
    "\n",
    "Understanding the type of time series data is crucial for selecting appropriate modeling and forecasting techniques. For example, ARIMA models require stationary data, while other models like Exponential Smoothing can handle non-stationary data\n"
   ]
  },
  {
   "cell_type": "markdown",
   "id": "234fb27f-9b43-419a-b957-26b0fc71d372",
   "metadata": {},
   "source": [
    "### Talking more about Stationary and non-stationary data types.\n",
    "Let's discuss the time series' data types and their influence. While discussing TS data types, there are two major types - stationary and non-stationary.\n",
    "- **Stationary:** A dataset should follow the below thumb rules without having Trend, Seasonality, Cyclical and Irregularity components of the time sereis.\n",
    "    - The **mean** value of them should be completely constant in the data during the analysis.\n",
    "    - The **variance** should be constant with respect to the time-frame.\n",
    "    - **Covariance** measures the relationship between two variables.\n",
    "\n",
    "- **Non-Stationary:** If either the mean-variance or covariance is changing with respect to time, the dataset is called non=stationary.\n",
    "![image.png](attachment:48286b7b-00ec-486c-b575-54ee34e8e99a.png)"
   ]
  },
  {
   "attachments": {},
   "cell_type": "markdown",
   "id": "b1bff4b8-ca4d-4237-ab9a-34b5d1466ad4",
   "metadata": {},
   "source": [
    "## Methods to Check Stationarity\n",
    "\n",
    "During the Time Series Analysis (TSA) model preparation workflow, it is essential to assess whether the dataset is stationary. This is done using Statistical Tests. Two tests are commonly used to determine if the dataset is stationary:\n",
    "\n",
    "1. **Augmented Dickey-Fuller (ADF) Test**\n",
    "2. **Kwiatkowski-Phillips-Schmidt-Shin (KPSS) Test**\n",
    "\n",
    "### Augmented Dickey-Fuller (ADF) Test or Unit Root Test\n",
    "The ADF test is the most popular statistical test for stationarity. It is conducted with the following assumptions:\n",
    "\n",
    "- **Null Hypothesis (H0)**: Series is non-stationary\n",
    "- **Alternate Hypothesis (HA)**: Series is stationary\n",
    "\n",
    "Interpretation:\n",
    "- **p-value > 0.05**: Fail to reject (H0)\n",
    "- **p-value ≤ 0.05**: Accept (H1)\n",
    "\n",
    "### Kwiatkowski-Phillips-Schmidt-Shin (KPSS) Test\n",
    "The KPSS test is used to test a NULL Hypothesis (H0) that perceives the time series as stationary around a deterministic trend against the alternative of a unit root. Since TSA requires stationary data for further analysis, it is crucial to ensure that the dataset is stationary.\n",
    "\n",
    "### Converting Non-Stationary Into Stationary\n",
    "To perform effective time series modeling, it may be necessary to convert non-stationary data into stationary data. There are three methods available for this conversion:\n",
    "\n",
    "#### 1. Detrending\n",
    "- Detrending involves removing the trend effects from the dataset and showing only the differences in values from the trend. It allows cyclical patterns to be identified. Detrending can be done using regression analysis and other statistical techniques. Detrending shows a different aspect of time series data removing deterministic and stochastic trends.\n",
    "- There are typically two classes/types of trends: deterministic and stochastic. Deterministic trends show consistent and sustained increases and decreases, while stochastic trends increase and decrease without any consistency.\n",
    "- Before detrending can occur, the type of trend needs to be identified. \n",
    "- A detrended price oscillator is a common method of detrending price action that is used by traders.\n",
    "\n",
    "\n",
    "#### 2. Differencing\n",
    "Differencing is a simple transformation of the series into a new time series. This method removes the series dependence on time and stabilizes the mean of the time series, reducing trend and seasonality during this transformation.\n",
    "\n",
    "The differenced value $( Y_t )$ is calculated as:\n",
    "\n",
    "$ Y_t = Y_t - Y_{t-1}$\n",
    "\n",
    "Where $( Y_t )$ is the value at time $( t )$.\n",
    "\n",
    "\n",
    "#### 3. Transformation\n",
    "This method includes three different techniques: Power Transform, Square Root, and Log Transform. The most commonly used technique is Log Transform.\n",
    "\n",
    "- **Power Transform**: Applies a power function to stabilize variance.\n",
    "- **Square Root**: Applies a square root function to stabilize variance.\n",
    "- **Log Transform**: Applies a logarithmic function to stabilize variance.\n",
    "\n",
    "Each of these transformations can help achieve stationarity in time series data.\n",
    "\n",
    "By using these methods and tests, we can ensure the dataset is stationary and suitable for time series analysis and modeling.\n"
   ]
  },
  {
   "cell_type": "code",
   "execution_count": null,
   "id": "a6689e62-df1b-4c82-b977-1f158a02c95b",
   "metadata": {},
   "outputs": [],
   "source": []
  },
  {
   "cell_type": "code",
   "execution_count": null,
   "id": "9e5e4c2b-45ff-4674-a26a-5196b659a405",
   "metadata": {},
   "outputs": [],
   "source": []
  }
 ],
 "metadata": {
  "kernelspec": {
   "display_name": "Python 3 (ipykernel)",
   "language": "python",
   "name": "python3"
  },
  "language_info": {
   "codemirror_mode": {
    "name": "ipython",
    "version": 3
   },
   "file_extension": ".py",
   "mimetype": "text/x-python",
   "name": "python",
   "nbconvert_exporter": "python",
   "pygments_lexer": "ipython3",
   "version": "3.12.2"
  }
 },
 "nbformat": 4,
 "nbformat_minor": 5
}
