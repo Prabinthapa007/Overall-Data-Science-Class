{
 "cells": [
  {
   "cell_type": "markdown",
   "id": "583b6d67-8a6c-4685-bcd1-570a6adfdf9a",
   "metadata": {},
   "source": [
    "**You are developing an HR system that manages various types of employees. Each employee can have different roles and responsibilities, such as managerial duties, technical skills, and administrative tasks. Your task is to create a set of classes representing these employee and their roles using multiple inheritance.**"
   ]
  },
  {
   "cell_type": "markdown",
   "id": "9c907935-d9d7-476f-9c87-b604db9d9fcb",
   "metadata": {},
   "source": [
    "### Questions"
   ]
  },
  {
   "cell_type": "markdown",
   "id": "b0e54d67-b013-4877-9c9d-973467b8a08e",
   "metadata": {},
   "source": [
    "#### 1. Create an Employee class:\n",
    "-  Implement an Employee class that includes the following:\n",
    "    - An `__init__` method to initialize the employee with a name and employee ID.\n",
    "    - Methods start_work() and end_work() to stimulate the employee starting and ending thier workday."
   ]
  },
  {
   "cell_type": "code",
   "execution_count": 49,
   "id": "2669581e-8d49-4a78-a305-15a70664c791",
   "metadata": {},
   "outputs": [],
   "source": [
    "class Employee:\n",
    "    def __init__(self, name, employee_ID):\n",
    "        self.name = name\n",
    "        self.employee_ID = employee_ID\n",
    "\n",
    "    def start_work(self):\n",
    "        print(f\"{self.name} with ID number: {self.employee_ID} has started working for today.\")\n",
    "\n",
    "    def end_work(self):\n",
    "        print(f\"{self.name} with ID number: {self.employee_ID} has ended his work for this day.\")\n"
   ]
  },
  {
   "cell_type": "markdown",
   "id": "d1e5fb0d-de6d-43de-812a-16567b80a160",
   "metadata": {},
   "source": [
    "#### 2. Create a ManagerialDuties class:\n",
    "- Implement a ManagerialDuties class with the following methods:\n",
    "    - conduct_meeting(): Prints a message indicating the employee is conducting a meeting.\n",
    "    - evluate_performace(): Prints a message indicating the employee is evaluating performance."
   ]
  },
  {
   "cell_type": "code",
   "execution_count": 50,
   "id": "5b928c8f-1b33-40f5-857d-1ee74258731a",
   "metadata": {},
   "outputs": [],
   "source": [
    "class ManagerialDuties:\n",
    "    def conduct_meeting(self):\n",
    "        print(f\"{self.name} with ID number: {self.employee_ID} is conducting meeting.\")\n",
    "\n",
    "    def evaluate_performance(self):\n",
    "        print(f\"{self.name} with ID number: {self.employee_ID} is evaluating performance.\")"
   ]
  },
  {
   "cell_type": "markdown",
   "id": "7e6d4eae-6f6f-412f-ab3a-1e76bd48eb5b",
   "metadata": {},
   "source": [
    "#### 3. Create a TechnicalSkills class:\n",
    "- Implement a TechnicalSkills class with the following methods:\n",
    "    - write_code(): Prints a message indicating the employee is conducting a meeting.\n",
    "    - debug_code(): Prints a message indicating the employee is debugging code."
   ]
  },
  {
   "cell_type": "code",
   "execution_count": 51,
   "id": "ca81fca5-e8e2-4345-ae3d-8f1a01b01599",
   "metadata": {},
   "outputs": [],
   "source": [
    "class TechnicalSkills:\n",
    "    def write_code(self):\n",
    "        print(f\"{self.name} with ID number: {self.employee_ID} is writing python code.\")\n",
    "\n",
    "    def debug_code(self):\n",
    "        print(f\"{self.name} with ID number: {self.employee_ID} is debugging code with the of python.\")"
   ]
  },
  {
   "cell_type": "markdown",
   "id": "83d7aacc-2d0c-459c-aa46-0cfb2d0503e5",
   "metadata": {},
   "source": [
    "#### 4. Create an AdministrativeTasks class:\n",
    "- Implement an AdministrativeTasks class with the following methods:\n",
    "    - file_documents(): Prints a message indicating the employee is filing documents.\n",
    "    - schedule_appointment(): Prints a message indicating the employee is scheduling appointments."
   ]
  },
  {
   "cell_type": "code",
   "execution_count": 52,
   "id": "2eb625d4-6744-493a-a311-203954aa4dad",
   "metadata": {},
   "outputs": [],
   "source": [
    "class AdministrativeTasks:\n",
    "    def file_documents(self):\n",
    "        print(f\"{self.name} with ID number: {self.employee_ID} is filing documents.\")\n",
    "\n",
    "    def schedule_appointment(self):\n",
    "        print(f\"{self.name} with ID number: {self.employee_ID} is scheduling appointments for his executive manager.\")"
   ]
  },
  {
   "cell_type": "markdown",
   "id": "caeb3483-51aa-4954-abed-dfbcf93e6441",
   "metadata": {},
   "source": [
    "#### 5. Create a Manager class:\n",
    "- Implement a Manager class that inherits from both Employee and ManagerialDuties.\n",
    "- Add an `__init__` method to initialize the Manager with a name and employee ID.\n"
   ]
  },
  {
   "cell_type": "code",
   "execution_count": 53,
   "id": "91f74284-ad09-41c0-898d-1f101aa5c121",
   "metadata": {},
   "outputs": [],
   "source": [
    "class Manager(Employee, ManagerialDuties):\n",
    "    def __init__(self, name, employee_ID):\n",
    "        super().__init__(name, employee_ID)"
   ]
  },
  {
   "cell_type": "markdown",
   "id": "8668a588-3fa7-4208-9ef0-a50d3b92c7de",
   "metadata": {},
   "source": [
    "#### 6. Create a Developer class:\n",
    "- Implement a Developer class that inherits from both Employee and TechnicalSkills.\n",
    "- Add an `__init__` method to initialize the Developer with a name and employee ID."
   ]
  },
  {
   "cell_type": "code",
   "execution_count": 54,
   "id": "069912e7-bf7b-4e43-8142-e2043081347b",
   "metadata": {},
   "outputs": [],
   "source": [
    "class Developer(Employee, TechnicalSkills):\n",
    "    def __init__(self, name, employee_ID):\n",
    "        super().__init__(name, employee_ID)"
   ]
  },
  {
   "cell_type": "markdown",
   "id": "58808fdc-6be4-4714-96b8-ba2d6ff0af2e",
   "metadata": {},
   "source": [
    "#### 7. Create an Admin class:\n",
    "- Implement an Admin class that inherits from both Employee and AdministrativeTasks.\n",
    "- Add an `__init__` method to initialize the Admin with a name and employee ID.\n"
   ]
  },
  {
   "cell_type": "code",
   "execution_count": 55,
   "id": "6cc386fe-64d4-4e33-b81f-6582539602d9",
   "metadata": {},
   "outputs": [],
   "source": [
    "class Admin(Employee, AdministrativeTasks):\n",
    "    def __init__(self, name, employee_ID):\n",
    "        super().__init__(name, employee_ID)"
   ]
  },
  {
   "cell_type": "markdown",
   "id": "ca9e3ccd-e6f0-47fb-883f-e8ac2920db5f",
   "metadata": {},
   "source": [
    "#### 8. Create a TechLead Class:\n",
    "- Implement a TechLead class that inherits from Employee, ManagerialDuties.\n",
    "- Add an `__init__` method to initialize the TechLead with a name and employee ID."
   ]
  },
  {
   "cell_type": "code",
   "execution_count": 56,
   "id": "1f5bae0f-94bc-48b6-821c-fcc76c463f85",
   "metadata": {},
   "outputs": [],
   "source": [
    "class TechLead(Employee, ManagerialDuties):\n",
    "    def __init__(self, name, employee_ID):\n",
    "        super().__init__(name, employee_ID)"
   ]
  },
  {
   "cell_type": "markdown",
   "id": "1c5753b0-cd9d-40ae-a1aa-a0d3444ec40e",
   "metadata": {},
   "source": [
    "<br>"
   ]
  },
  {
   "cell_type": "markdown",
   "id": "8d1bb78a-7477-4ec6-9a83-f45fdd223dbd",
   "metadata": {},
   "source": [
    "**After implementing the classes, create instances of Manager, Developer, Admin and TechLead and test thier functionalities:**"
   ]
  },
  {
   "cell_type": "code",
   "execution_count": 57,
   "id": "71755fe7-4555-4ea5-8105-7015c7703dac",
   "metadata": {},
   "outputs": [],
   "source": [
    "# Creating instances/objects of Manager, Developer, Admin and TechLead:\n",
    "manager = Manager(\"Sanjay\", 1)\n",
    "developer = Developer(\"Sagar\", 2)\n",
    "admin = Admin(\"Sushil\", 3)\n",
    "techlead = TechLead(\"Prabin\", 4)"
   ]
  },
  {
   "cell_type": "code",
   "execution_count": 58,
   "id": "3da6799e-0882-461c-97ce-a04415a75702",
   "metadata": {},
   "outputs": [
    {
     "name": "stdout",
     "output_type": "stream",
     "text": [
      "Sanjay with ID number: 1 has started working for today.\n",
      "Sanjay with ID number: 1 has ended his work for this day.\n",
      "Sanjay with ID number: 1 is conducting meeting.\n",
      "Sanjay with ID number: 1 is evaluating performance.\n"
     ]
    }
   ],
   "source": [
    "# Testing the functionalities of Manager Class:\n",
    "manager.start_work()\n",
    "manager.end_work()\n",
    "manager.conduct_meeting()\n",
    "manager.evaluate_performance()"
   ]
  },
  {
   "cell_type": "code",
   "execution_count": 59,
   "id": "4d1c119d-83e4-4a5d-9ac8-a978c217af30",
   "metadata": {},
   "outputs": [
    {
     "name": "stdout",
     "output_type": "stream",
     "text": [
      "Sagar with ID number: 2 has started working for today.\n",
      "Sagar with ID number: 2 has ended his work for this day.\n",
      "Sagar with ID number: 2 is writing python code.\n",
      "Sagar with ID number: 2 is debugging code with the of python.\n"
     ]
    }
   ],
   "source": [
    "# Testing the functionalities of Developer Class:\n",
    "developer.start_work()\n",
    "developer.end_work()\n",
    "developer.write_code()\n",
    "developer.debug_code()"
   ]
  },
  {
   "cell_type": "code",
   "execution_count": 60,
   "id": "f3a4e6a0-3aa7-4e00-9c59-da68c002e265",
   "metadata": {},
   "outputs": [
    {
     "name": "stdout",
     "output_type": "stream",
     "text": [
      "Sushil with ID number: 3 has started working for today.\n",
      "Sushil with ID number: 3 has ended his work for this day.\n",
      "Sushil with ID number: 3 is filing documents.\n",
      "Sushil with ID number: 3 is scheduling appointments for his executive manager.\n"
     ]
    }
   ],
   "source": [
    "# Testing the functionalities of Admin class:\n",
    "admin.start_work()\n",
    "admin.end_work()\n",
    "admin.file_documents()\n",
    "admin.schedule_appointment()"
   ]
  },
  {
   "cell_type": "code",
   "execution_count": 61,
   "id": "62b66631-b011-4d0b-92c9-8c7a92bf80a0",
   "metadata": {},
   "outputs": [
    {
     "name": "stdout",
     "output_type": "stream",
     "text": [
      "Prabin with ID number: 4 has started working for today.\n",
      "Prabin with ID number: 4 has ended his work for this day.\n",
      "Prabin with ID number: 4 is conducting meeting.\n",
      "Prabin with ID number: 4 is evaluating performance.\n"
     ]
    }
   ],
   "source": [
    "# Testing the functionalities of TechLead Class:\n",
    "techlead.start_work()\n",
    "techlead.end_work()\n",
    "techlead.conduct_meeting()\n",
    "techlead.evaluate_performance()"
   ]
  },
  {
   "cell_type": "code",
   "execution_count": null,
   "id": "3957c475-c3d8-4321-87f1-9322826f99f3",
   "metadata": {},
   "outputs": [],
   "source": []
  }
 ],
 "metadata": {
  "kernelspec": {
   "display_name": "Python 3 (ipykernel)",
   "language": "python",
   "name": "python3"
  },
  "language_info": {
   "codemirror_mode": {
    "name": "ipython",
    "version": 3
   },
   "file_extension": ".py",
   "mimetype": "text/x-python",
   "name": "python",
   "nbconvert_exporter": "python",
   "pygments_lexer": "ipython3",
   "version": "3.12.2"
  }
 },
 "nbformat": 4,
 "nbformat_minor": 5
}
