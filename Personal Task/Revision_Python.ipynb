{
 "cells": [
  {
   "cell_type": "markdown",
   "id": "6b345eab-0d2a-4c80-ae08-3a0fcc08c41b",
   "metadata": {},
   "source": [
    "# Types of Python"
   ]
  },
  {
   "cell_type": "code",
   "execution_count": 1,
   "id": "512e6662-ace6-40d8-9a12-4ef1395f3fd3",
   "metadata": {},
   "outputs": [
    {
     "name": "stdout",
     "output_type": "stream",
     "text": [
      "46\n"
     ]
    }
   ],
   "source": [
    "# Numeric\n",
    "a = 24\n",
    "b = 22\n",
    "print(a+b)"
   ]
  },
  {
   "cell_type": "code",
   "execution_count": 2,
   "id": "2bad552d-b3f3-49e8-bd8c-3a64915e6a94",
   "metadata": {},
   "outputs": [
    {
     "data": {
      "text/plain": [
       "int"
      ]
     },
     "execution_count": 2,
     "metadata": {},
     "output_type": "execute_result"
    }
   ],
   "source": [
    "type(a)"
   ]
  },
  {
   "cell_type": "code",
   "execution_count": 3,
   "id": "eebdde6f-663a-4385-bee4-8eeefac5df6f",
   "metadata": {},
   "outputs": [
    {
     "data": {
      "text/plain": [
       "float"
      ]
     },
     "execution_count": 3,
     "metadata": {},
     "output_type": "execute_result"
    }
   ],
   "source": [
    "# Floating point Numbers:\n",
    "a = 22.22\n",
    "b = -22.012\n",
    "type(a)"
   ]
  },
  {
   "cell_type": "code",
   "execution_count": 4,
   "id": "2cf86b08-6ab1-4ae6-828d-cfdc086eabac",
   "metadata": {},
   "outputs": [
    {
     "data": {
      "text/plain": [
       "complex"
      ]
     },
     "execution_count": 4,
     "metadata": {},
     "output_type": "execute_result"
    }
   ],
   "source": [
    "# Complex Numbers \n",
    "a = 22 + 3j\n",
    "type(a)"
   ]
  },
  {
   "cell_type": "code",
   "execution_count": 6,
   "id": "f144d9c8-f9f5-4c2f-bd89-cf959cb9cf2a",
   "metadata": {},
   "outputs": [
    {
     "name": "stdout",
     "output_type": "stream",
     "text": [
      "50\n",
      "-10\n",
      "600\n",
      "20\n",
      "0.6666666666666666\n",
      "1073741824000000000000000000000000000000\n",
      "1\n"
     ]
    }
   ],
   "source": [
    "# Arithmetic Operations\n",
    "a = 20\n",
    "b = 30\n",
    "# add\n",
    "print(a+b)\n",
    "# Subtract\n",
    "print(a-b)\n",
    "# Multiply\n",
    "print(a*b)\n",
    "# Divide with remainder\n",
    "print(a%b)\n",
    "# Divide\n",
    "print(a/b)\n",
    "# Exponential\n",
    "print(a**b)\n",
    "# Floor Division\n",
    "print(b//a)"
   ]
  },
  {
   "cell_type": "code",
   "execution_count": 9,
   "id": "4faa33bc-32ca-4a00-925c-330d4422a8e2",
   "metadata": {},
   "outputs": [
    {
     "name": "stdout",
     "output_type": "stream",
     "text": [
      "<class 'int'>\n",
      "<class 'float'>\n",
      "<class 'complex'>\n"
     ]
    }
   ],
   "source": [
    "# Type conversion\n",
    "a = 20 \n",
    "print(type(a))\n",
    "y = float(a)\n",
    "print(type(y))\n",
    "z = complex(a)\n",
    "print(type(z))"
   ]
  },
  {
   "cell_type": "code",
   "execution_count": 10,
   "id": "93bfb568-14d5-4ecd-bd9d-70680e4a4339",
   "metadata": {},
   "outputs": [
    {
     "name": "stdout",
     "output_type": "stream",
     "text": [
      "True\n",
      "False\n"
     ]
    }
   ],
   "source": [
    "# Comparision Operators \n",
    "a = 22\n",
    "b = 12\n",
    "# Greater than \n",
    "print(a>b)\n",
    "#less than \n",
    "print(a<b)\n"
   ]
  },
  {
   "cell_type": "code",
   "execution_count": 11,
   "id": "f3e33f0e-6a4d-42ae-8e52-2baf2fa97770",
   "metadata": {},
   "outputs": [
    {
     "name": "stdout",
     "output_type": "stream",
     "text": [
      "5.5\n"
     ]
    }
   ],
   "source": [
    "# Math functions\n",
    "import math \n",
    "from math import sqrt, cbrt\n",
    "x = -5.5\n",
    "print(abs(x))"
   ]
  },
  {
   "cell_type": "code",
   "execution_count": 13,
   "id": "f4b6fab1-180c-4de6-acb2-10798060852a",
   "metadata": {},
   "outputs": [
    {
     "name": "stdout",
     "output_type": "stream",
     "text": [
      "2.0\n",
      "1.5874010519681994\n"
     ]
    }
   ],
   "source": [
    "x = 4\n",
    "print(sqrt(x))\n",
    "print(cbrt(x))"
   ]
  },
  {
   "cell_type": "markdown",
   "id": "39179e13-ab26-49b8-9478-ba09417e542d",
   "metadata": {},
   "source": [
    "### Python Text Types"
   ]
  },
  {
   "cell_type": "code",
   "execution_count": 14,
   "id": "88502587-b7f7-4d3d-b5e1-9ce2c77406fd",
   "metadata": {},
   "outputs": [
    {
     "name": "stdout",
     "output_type": "stream",
     "text": [
      "Hello, World!\n"
     ]
    }
   ],
   "source": [
    "greeting = \"Hello, World!\"\n",
    "print(greeting)"
   ]
  },
  {
   "cell_type": "code",
   "execution_count": 15,
   "id": "9dc72ae5-f378-4562-9b61-f4710a8584c3",
   "metadata": {},
   "outputs": [
    {
     "name": "stdout",
     "output_type": "stream",
     "text": [
      "Hello, World!. My name is Prabin Thapa.\n"
     ]
    }
   ],
   "source": [
    "name = \"Prabin Thapa\"\n",
    "print(f\"{greeting}. My name is {name}.\")"
   ]
  },
  {
   "cell_type": "code",
   "execution_count": 18,
   "id": "75c245a4-0f01-4136-9956-f5a5dcdbd824",
   "metadata": {},
   "outputs": [
    {
     "name": "stdout",
     "output_type": "stream",
     "text": [
      "mr. prabin thapa\n",
      "MR. PRABIN THAPA\n",
      "Mr. Prabin Thapa\n"
     ]
    }
   ],
   "source": [
    "# Methods in string\n",
    "x = \"Mr. Prabin Thapa\"\n",
    "print(x.lower())\n",
    "print(x.upper())\n",
    "print(x.strip())"
   ]
  },
  {
   "cell_type": "code",
   "execution_count": 23,
   "id": "bbebeedd-02d7-4011-a61d-bd9837391e40",
   "metadata": {},
   "outputs": [
    {
     "name": "stdout",
     "output_type": "stream",
     "text": [
      " Prabin Thapa\n",
      "Prabin Thapa\n"
     ]
    }
   ],
   "source": [
    "y = x.split('.')[1]\n",
    "print(y)\n",
    "print(y.strip())"
   ]
  },
  {
   "cell_type": "code",
   "execution_count": 24,
   "id": "045b66b1-87ba-4b73-a37d-7e8ffd4e678c",
   "metadata": {},
   "outputs": [
    {
     "name": "stdout",
     "output_type": "stream",
     "text": [
      " Srabin Thapa\n"
     ]
    }
   ],
   "source": [
    "print(y.replace('P', 'S'))"
   ]
  },
  {
   "cell_type": "code",
   "execution_count": 25,
   "id": "4fc8eeb1-2b5c-4bc8-92b7-3b80eac31a2a",
   "metadata": {},
   "outputs": [
    {
     "data": {
      "text/plain": [
       "33"
      ]
     },
     "execution_count": 25,
     "metadata": {},
     "output_type": "execute_result"
    }
   ],
   "source": [
    "# String Indexing\n",
    "x = \"Hello, People. What are you doing\"\n",
    "len(x)"
   ]
  },
  {
   "cell_type": "code",
   "execution_count": 26,
   "id": "2d37a70a-7cc0-4441-9aab-804c224307c8",
   "metadata": {},
   "outputs": [
    {
     "name": "stdout",
     "output_type": "stream",
     "text": [
      "e\n"
     ]
    }
   ],
   "source": [
    "print(x[22])"
   ]
  },
  {
   "cell_type": "code",
   "execution_count": 27,
   "id": "a3507b0f-ef6e-4b35-9dcd-b74baf740ac2",
   "metadata": {},
   "outputs": [
    {
     "name": "stdout",
     "output_type": "stream",
     "text": [
      "Hlo epe htaeyudig\n"
     ]
    }
   ],
   "source": [
    "# String Slicing\n",
    "print(x[0:33:2])"
   ]
  },
  {
   "cell_type": "code",
   "execution_count": 28,
   "id": "a1c083b0-f004-4687-81b4-1d40ef3d296a",
   "metadata": {},
   "outputs": [
    {
     "name": "stdout",
     "output_type": "stream",
     "text": [
      "gniod uoy era tahW .elpoeP ,olleH\n"
     ]
    }
   ],
   "source": [
    "print(x[::-1])"
   ]
  },
  {
   "cell_type": "code",
   "execution_count": 29,
   "id": "ca093f7b-3e4e-4bd4-a965-b0444193c957",
   "metadata": {},
   "outputs": [
    {
     "name": "stdout",
     "output_type": "stream",
     "text": [
      "hello!, Good Morning\n"
     ]
    }
   ],
   "source": [
    "# String concatenation \n",
    "var1 = \"hello\"\n",
    "var2 = \"Good Morning\"\n",
    "var3 = \"!, \".join([var1, var2])\n",
    "print(var3)"
   ]
  },
  {
   "cell_type": "code",
   "execution_count": 32,
   "id": "007a4620-5ab6-4643-a4b2-dc632bc0a2da",
   "metadata": {},
   "outputs": [
    {
     "name": "stdout",
     "output_type": "stream",
     "text": [
      "Prabin Thapa\n"
     ]
    }
   ],
   "source": [
    "# Write a function to return the full name by concatenating first name and last name.\n",
    "def full_name(first_name, last_name):\n",
    "    result = ' '.join([first_name, last_name])\n",
    "    return result\n",
    "\n",
    "obj = full_name('Prabin', 'Thapa')\n",
    "print(obj)"
   ]
  },
  {
   "cell_type": "code",
   "execution_count": 38,
   "id": "5c8e977e-e971-4c05-a8de-3f94782a10a0",
   "metadata": {},
   "outputs": [
    {
     "name": "stdout",
     "output_type": "stream",
     "text": [
      "        Hello world!\n",
      "Hello world!        \n",
      "    Hello world!    \n"
     ]
    }
   ],
   "source": [
    "# Advanced String Formatting\n",
    "# Alignment\n",
    "x = \"Hello world!\"\n",
    "print(\"{:>20}\".format(x))\n",
    "print(\"{:<20}\".format(x))\n",
    "print(\"{:^20}\".format(x))"
   ]
  },
  {
   "cell_type": "code",
   "execution_count": 40,
   "id": "d042c34f-fb26-49d2-a877-afe5bebdef16",
   "metadata": {},
   "outputs": [
    {
     "name": "stdout",
     "output_type": "stream",
     "text": [
      "________Hello world!\n",
      "Hello world!........\n"
     ]
    }
   ],
   "source": [
    "# Padding\n",
    "print(\"{:_>20}\".format(x))\n",
    "print(\"{:.<20}\".format(x))\n"
   ]
  },
  {
   "cell_type": "code",
   "execution_count": 42,
   "id": "071ad029-c284-483e-b5b4-39d6bd03f54a",
   "metadata": {},
   "outputs": [
    {
     "name": "stdout",
     "output_type": "stream",
     "text": [
      "Hello, World!\n",
      "[11, 12, 13, 14]\n",
      "[1, 2, 3, 4, 5]\n",
      "(11, 12, 'hello')\n"
     ]
    }
   ],
   "source": [
    "# Sequences in python\n",
    "# string -> Immutable\n",
    "greeting = \"Hello, World!\"\n",
    "print(greeting)\n",
    "\n",
    "# list -> Mutable\n",
    "x = list((11, 12, 13, 14))\n",
    "print(x)\n",
    "y = [1, 2, 3, 4, 5]\n",
    "print(y)\n",
    "\n",
    "# tuple -> Immutable\n",
    "a = tuple((11, 12, 'hello'))\n",
    "print(a)"
   ]
  },
  {
   "cell_type": "code",
   "execution_count": 49,
   "id": "2bcb5da6-b338-4118-add6-608598a7cc02",
   "metadata": {},
   "outputs": [
    {
     "name": "stdout",
     "output_type": "stream",
     "text": [
      "2\n",
      "2\n",
      "[1, 2, 3, 4, 5, 6, 7, 8, 9]\n",
      "[1, 3, 5, 7, 9]\n",
      "[1, 2, 11, 4, 5, 6, 7, 8, 9, 10]\n"
     ]
    }
   ],
   "source": [
    "# Accessing list items -> Indexing and Slicing\n",
    "a = [1, 2, 3, 4, 5, 6, 7, 8, 9, 10]\n",
    "print(a[1]) #Indexing\n",
    "print(a[-9])\n",
    "\n",
    "#slicing\n",
    "print(a[0:9])\n",
    "print(a[0:9:2])\n",
    "\n",
    "# Modifying list \n",
    "a[2] = 11\n",
    "print(a)"
   ]
  },
  {
   "cell_type": "code",
   "execution_count": 3,
   "id": "cfe66f88-8d31-41ef-bad5-2be390c8e9e0",
   "metadata": {},
   "outputs": [
    {
     "data": {
      "text/plain": [
       "6"
      ]
     },
     "execution_count": 3,
     "metadata": {},
     "output_type": "execute_result"
    }
   ],
   "source": [
    "a = [ 1, 2, 3, 4, \"Prabin\", \"Sushma\"]\n",
    "len(a)"
   ]
  },
  {
   "cell_type": "code",
   "execution_count": 50,
   "id": "262817ac-7709-4791-b110-ac3fced9709e",
   "metadata": {},
   "outputs": [
    {
     "name": "stdout",
     "output_type": "stream",
     "text": [
      "{'Ram', 'Hari', 'Shyam'}\n"
     ]
    }
   ],
   "source": [
    "# Set\n",
    "var1 = set((\"Hari\", \"Ram\", \"Shyam\"))\n",
    "print(var1)"
   ]
  },
  {
   "cell_type": "code",
   "execution_count": 4,
   "id": "0b3eefff-39d4-4753-9d77-eec89b9c36cb",
   "metadata": {},
   "outputs": [
    {
     "data": {
      "text/plain": [
       "['h', 'e', 'l', 'l', 'o']"
      ]
     },
     "execution_count": 4,
     "metadata": {},
     "output_type": "execute_result"
    }
   ],
   "source": [
    "list(\"hello\")"
   ]
  },
  {
   "cell_type": "code",
   "execution_count": 6,
   "id": "462823ba-3cc6-429a-b701-fa82c75b7161",
   "metadata": {},
   "outputs": [
    {
     "data": {
      "text/plain": [
       "[1, 2, 3, 4, 5, 6]"
      ]
     },
     "execution_count": 6,
     "metadata": {},
     "output_type": "execute_result"
    }
   ],
   "source": [
    "[1, 2, 3] + [4, 5, 6]"
   ]
  },
  {
   "cell_type": "code",
   "execution_count": 51,
   "id": "10b4c48c-a3bd-4c2b-a746-3e69277e73d1",
   "metadata": {},
   "outputs": [
    {
     "name": "stdin",
     "output_type": "stream",
     "text": [
      "Enter a number -1\n"
     ]
    },
    {
     "name": "stdout",
     "output_type": "stream",
     "text": [
      "The given number -1 is a negative number.\n"
     ]
    }
   ],
   "source": [
    "# Python conditional Statement\n",
    "## Check the given number is positive or negative or zero.\n",
    "num = int(input(\"Enter a number\"))\n",
    "if num > 0:\n",
    "    print(f\"The given number {num} is a positive number.\")\n",
    "elif num == 0:\n",
    "    print(f\"The given number {num} is zero.\")\n",
    "else:\n",
    "    print(f\"The given number {num} is a negative number.\")"
   ]
  },
  {
   "cell_type": "code",
   "execution_count": 54,
   "id": "a85abff8-0711-49f5-bc41-d6e78df45940",
   "metadata": {},
   "outputs": [
    {
     "name": "stdin",
     "output_type": "stream",
     "text": [
      "Enter your marks. 55\n"
     ]
    },
    {
     "name": "stdout",
     "output_type": "stream",
     "text": [
      "Grade C\n"
     ]
    }
   ],
   "source": [
    "marks = int(input(\"Enter your marks.\"))\n",
    "\n",
    "if marks <= 100 and marks > 80:    \n",
    "    print(\"Grade A\")\n",
    "    \n",
    "elif marks <= 80 and marks > 60:    \n",
    "    print(\"Grade B\")\n",
    "    \n",
    "elif marks <= 60 and marks> 40:    \n",
    "    print(\"Grade C\") \n",
    "\n",
    "else:\n",
    "    print(\"Grade D\")"
   ]
  },
  {
   "cell_type": "code",
   "execution_count": 55,
   "id": "014c588a-30cc-405b-a215-5ba6da425298",
   "metadata": {},
   "outputs": [
    {
     "name": "stdout",
     "output_type": "stream",
     "text": [
      "apple\n",
      "banana\n",
      "mango\n"
     ]
    }
   ],
   "source": [
    "## Python for loop\n",
    "fruits = ['apple', 'banana', 'mango']\n",
    "for fruit in fruits:\n",
    "    print(fruit)"
   ]
  },
  {
   "cell_type": "code",
   "execution_count": 62,
   "id": "0662335b-c5f8-4cdd-8992-e57d094917a2",
   "metadata": {},
   "outputs": [
    {
     "name": "stdout",
     "output_type": "stream",
     "text": [
      "apple milk\n",
      "apple lassi\n",
      "banana milk\n",
      "banana lassi\n",
      "mango milk\n",
      "mango lassi\n"
     ]
    }
   ],
   "source": [
    "fruits = ['apple', 'banana', 'mango']\n",
    "juice = ['milk', 'lassi']\n",
    "for fruit in fruits:\n",
    "    for j in juice:\n",
    "        print(fruit, j)"
   ]
  },
  {
   "cell_type": "code",
   "execution_count": 63,
   "id": "cd9165b1-435a-4aad-9d82-dd32d53159e4",
   "metadata": {},
   "outputs": [
    {
     "name": "stdout",
     "output_type": "stream",
     "text": [
      "0\n",
      "1\n",
      "2\n",
      "3\n",
      "4\n"
     ]
    }
   ],
   "source": [
    "for i in range(5):\n",
    "    print(i)"
   ]
  },
  {
   "cell_type": "markdown",
   "id": "889607ea-cb9e-4077-ad9b-90a8099b0e07",
   "metadata": {},
   "source": [
    "#### Write a program that takes a list of numbers as input and uses a for loop to calculate the following -Sum of all number, -Average, -Largest and smallest.\n"
   ]
  },
  {
   "cell_type": "code",
   "execution_count": 69,
   "id": "7fd5fbe8-8001-45b2-8b94-e38d6bca46ff",
   "metadata": {},
   "outputs": [
    {
     "name": "stdin",
     "output_type": "stream",
     "text": [
      "Enter a list of numbers separated by spaces:  11 12 13 14\n"
     ]
    },
    {
     "name": "stdout",
     "output_type": "stream",
     "text": [
      "List statistics\n",
      "Sum : 50\n",
      "Average : 12.5\n",
      "Largest : 14\n",
      "Smallest : 11\n"
     ]
    }
   ],
   "source": [
    "def calculation_statistics(numbers):\n",
    "    '''\n",
    "    This function takes a list of numbers and do calculation.\n",
    "    Args:\n",
    "        numbers: A list of numbers\n",
    "    Returns:\n",
    "        A dict containing the sum, avg, largest and smallest element.\n",
    "    '''\n",
    "    total_sum = 0\n",
    "    largest_number = numbers[0]\n",
    "    smalles_number = numbers[0]\n",
    "\n",
    "    for number in numbers:\n",
    "        total_sum += number\n",
    "        largest_number = max(largest_number, number)\n",
    "        smalles_number = min(smalles_number, number)\n",
    "\n",
    "    average = total_sum / len(numbers)\n",
    "    return {\n",
    "        \"Sum\" : total_sum,\n",
    "        \"Average\" : average,\n",
    "        \"Largest\" : largest_number,\n",
    "        \"Smallest\" : smalles_number\n",
    "    }\n",
    "\n",
    "numbers = input(\"Enter a list of numbers separated by spaces: \")\n",
    "numbers_int = [int(num) for num in numbers.split()]\n",
    "stats= calculation_statistics(numbers_int)\n",
    "print(\"List statistics\")\n",
    "for key, value in stats.items():\n",
    "    print(f\"{key} : {value}\")\n"
   ]
  },
  {
   "cell_type": "markdown",
   "id": "5648604c-9056-4a22-8b04-bb8174ce9b79",
   "metadata": {},
   "source": [
    "#### Password Checker: Write a program that uses for loops to check if a password meets certain criteria. The criteria could include:\n",
    "- Minimum length (e.g., 8 characters)\n",
    "- Contains at least one uppercase letter\n",
    "- Contains at least one lowercase letter\n",
    "- Contains at leas one number\n",
    "\n",
    "The program should print a message indicating if the password is valid or not based on these criteria.\n"
   ]
  },
  {
   "cell_type": "code",
   "execution_count": 70,
   "id": "7df1a1d4-7378-46d8-b6c5-16f098841ac3",
   "metadata": {},
   "outputs": [
    {
     "name": "stdout",
     "output_type": "stream",
     "text": [
      "Password is valid.\n"
     ]
    }
   ],
   "source": [
    "def check_password(password):\n",
    "    has_upper = False\n",
    "    has_lower = False\n",
    "    has_digit = False\n",
    "    min_length = 8\n",
    "\n",
    "    if len(password)< min_length:\n",
    "        return False, \"Password must be at least 8 characters long.\"\n",
    "\n",
    "    for char in password:\n",
    "        if char.isupper():\n",
    "            has_upper = True\n",
    "        elif char.islower():\n",
    "            has_lower = True\n",
    "        elif char.isdigit():\n",
    "            has_digit = True\n",
    "\n",
    "    if not has_upper:\n",
    "        return False, \"Password must contain at least one uppercase letter.\"\n",
    "    if not has_lower:\n",
    "        return False, \"Password must contain at least one lowercase letter.\"\n",
    "    if not has_digit:\n",
    "        return False, \"Password must contain at least one number.\"\n",
    "\n",
    "    return True, \"Password is valid.\"\n",
    "\n",
    "password = \"ExamplePassword123\"\n",
    "is_valid, message = check_password(password)\n",
    "print(message)"
   ]
  },
  {
   "cell_type": "code",
   "execution_count": 3,
   "id": "6f1da9ef-caca-4120-85ef-aeea73ef0fb6",
   "metadata": {},
   "outputs": [
    {
     "name": "stdout",
     "output_type": "stream",
     "text": [
      "even\n",
      "None\n"
     ]
    }
   ],
   "source": [
    "#Function in Python\n",
    "# A simple Python function to check whether x is even or odd.\n",
    "def oddeven(x):\n",
    "    if x%2==0:\n",
    "        print(\"even\")\n",
    "    else:\n",
    "        print(\"odd\")\n",
    "    return \n",
    "\n",
    "print(oddeven(2))"
   ]
  },
  {
   "cell_type": "code",
   "execution_count": 5,
   "id": "ded3a16a-8ff4-456a-b31d-a35963793ca6",
   "metadata": {},
   "outputs": [
    {
     "name": "stdout",
     "output_type": "stream",
     "text": [
      "21\n",
      "22\n"
     ]
    }
   ],
   "source": [
    "# Write a code that includes default parameter inside it:\n",
    "def myfun(x, y=22):\n",
    "    print(x)\n",
    "    print(y)\n",
    "    return\n",
    "\n",
    "myfun(x=21)"
   ]
  },
  {
   "cell_type": "code",
   "execution_count": 6,
   "id": "61320029-21fc-4cc7-948c-66802b17a2fa",
   "metadata": {},
   "outputs": [
    {
     "name": "stdout",
     "output_type": "stream",
     "text": [
      "This person name is Prabin and he/she is 22 years old.\n",
      "None\n"
     ]
    }
   ],
   "source": [
    "# Write a program to create a function that takes two arguments, name and age and print thier value.\n",
    "def value(name, age):\n",
    "    print(f\"This person name is {name} and he/she is {age} years old.\")\n",
    "    return \n",
    "\n",
    "value1 = value(\"Prabin\", 22)\n",
    "print(value1)\n"
   ]
  },
  {
   "cell_type": "code",
   "execution_count": 15,
   "id": "177c7547-a8d1-4888-9d86-5fe4d44e8b90",
   "metadata": {},
   "outputs": [
    {
     "data": {
      "text/plain": [
       "12.25"
      ]
     },
     "execution_count": 15,
     "metadata": {},
     "output_type": "execute_result"
    }
   ],
   "source": [
    "# Create a function to accept a variable length of arguments and print average value.\n",
    "def func1(*args, **kwargs):\n",
    "    sum = 0\n",
    "    for arg in args:\n",
    "        sum += arg\n",
    "    avg = sum/len(args)\n",
    "    return avg\n",
    "\n",
    "func1(11, 12, 13, 13)"
   ]
  },
  {
   "cell_type": "code",
   "execution_count": 16,
   "id": "c7bbdce4-6fe0-49c8-867d-cda61d4fb23d",
   "metadata": {},
   "outputs": [
    {
     "name": "stdout",
     "output_type": "stream",
     "text": [
      "11\n",
      "12\n",
      "13\n",
      "13\n"
     ]
    }
   ],
   "source": [
    "# Create a function to accept a variable length of arguments and print thier value.\n",
    "def func1(*args, **kwargs):\n",
    "    for arg in args:\n",
    "        print(arg)\n",
    "    return \n",
    "\n",
    "func1(11, 12, 13, 13)"
   ]
  },
  {
   "cell_type": "code",
   "execution_count": 19,
   "id": "675a73f5-ee6e-4ab5-ab16-29d3ee4c66fe",
   "metadata": {},
   "outputs": [
    {
     "name": "stdout",
     "output_type": "stream",
     "text": [
      "(3, 2, -1)\n"
     ]
    }
   ],
   "source": [
    "# Return multiplication value also it must return addition and subtraction:\n",
    "\n",
    "def calculator(a, b):\n",
    "    summation = a + b\n",
    "    multiply = a * b\n",
    "    subtraction = a - b\n",
    "    return (summation, multiply, subtraction)\n",
    "\n",
    "print(calculator(1, 2))"
   ]
  },
  {
   "cell_type": "code",
   "execution_count": 20,
   "id": "1e73b702-84cd-4859-a80b-773daa89c54d",
   "metadata": {},
   "outputs": [
    {
     "name": "stdout",
     "output_type": "stream",
     "text": [
      "55\n"
     ]
    }
   ],
   "source": [
    "# Create a recursive funtion\n",
    "def recurs(num):\n",
    "    if num:\n",
    "        return num + recurs(num-1)\n",
    "    else:\n",
    "        return 0\n",
    "\n",
    "res = recurs(10)\n",
    "print(res)"
   ]
  },
  {
   "cell_type": "code",
   "execution_count": 30,
   "id": "d079b9a0-1f67-440d-8d9b-1933e9f38894",
   "metadata": {},
   "outputs": [
    {
     "name": "stdout",
     "output_type": "stream",
     "text": [
      "My name is Punl. I am 21 years old.\n",
      "None\n"
     ]
    }
   ],
   "source": [
    "# Assign different name to function and call it through the new name:\n",
    "def difname(name, age):\n",
    "    print(f\"My name is {name}. I am {age} years old.\")\n",
    "name1 = difname\n",
    "print(name1(\"Punl\", 21))"
   ]
  },
  {
   "cell_type": "code",
   "execution_count": 33,
   "id": "ae99244a-e91d-4fbb-9ac9-d54594bd5981",
   "metadata": {},
   "outputs": [
    {
     "name": "stdout",
     "output_type": "stream",
     "text": [
      "[4, 6, 8, 10, 12, 14, 16, 18, 20, 22, 24, 26, 28, 30]\n"
     ]
    }
   ],
   "source": [
    "#Generate a Pyton list of all the even numbers between 4 to 30?\n",
    "def evenlst(starts, ends):\n",
    "    return [num for num in range(starts, ends+1) if num%2==0]\n",
    "\n",
    "print(evenlst(4, 30))"
   ]
  },
  {
   "cell_type": "code",
   "execution_count": 41,
   "id": "db9b3dd0-38d7-4c38-8645-06f942244eec",
   "metadata": {},
   "outputs": [
    {
     "name": "stdout",
     "output_type": "stream",
     "text": [
      "False\n",
      "True\n"
     ]
    }
   ],
   "source": [
    "# Write a function that checks if the number is prime number.\n",
    "def primenum(num):\n",
    "    if num<=1:\n",
    "        return False\n",
    "    for i in range(2, int(num**0.5)+1):\n",
    "        if num%i==0:\n",
    "            return False\n",
    "    return True\n",
    "\n",
    "print(primenum(22))\n",
    "print(primenum(7))"
   ]
  },
  {
   "cell_type": "code",
   "execution_count": 43,
   "id": "f39eb877-1839-4d0e-aceb-68366559d3b1",
   "metadata": {},
   "outputs": [
    {
     "name": "stdout",
     "output_type": "stream",
     "text": [
      "20\n"
     ]
    }
   ],
   "source": [
    "# Write a function that takes a list of numbers and return the sum of all even numbers in the list\n",
    "def evensum(num):\n",
    "    return sum(n for n in num if n%2==0)\n",
    "\n",
    "print(evensum([1, 2, 3, 4, 5, 6,7, 8, 9]))"
   ]
  },
  {
   "cell_type": "markdown",
   "id": "b43415a9-88fd-49ff-861f-38d3f0e46562",
   "metadata": {},
   "source": [
    "## Class and Objects "
   ]
  },
  {
   "cell_type": "markdown",
   "id": "3d1f817c-ab16-4a58-a0fc-2a99da426403",
   "metadata": {},
   "source": [
    "- Create class Library\n",
    "- constructor , student name and dept\n",
    "- Class attribute , total student count\n",
    "- book lend, input book name , if he/she can lend it or not"
   ]
  },
  {
   "cell_type": "code",
   "execution_count": 8,
   "id": "36507231-1168-4b09-b9a6-c0b6a716d445",
   "metadata": {},
   "outputs": [],
   "source": [
    "book = [ \n",
    "    (\"The Alchemist\", 25),\n",
    "    (\"The Da Vinci Code\", 30),\n",
    "    (\"A Brief History of Time\", 15),\n",
    "    (\"Angels & Demons\", 0),\n",
    "    (\"The Grand Design\", 0),\n",
    "    (\"1984\", 19)\n",
    "]"
   ]
  },
  {
   "cell_type": "code",
   "execution_count": 9,
   "id": "358a42ec-eecb-4807-9e03-916b8b047efb",
   "metadata": {},
   "outputs": [],
   "source": [
    "\n",
    "class Library:\n",
    "    st_count = 0\n",
    "    def __init__(self, name, dept=\"Management\"):\n",
    "        self.books = [ \n",
    "        (\"The Alchemist\", 25),\n",
    "        (\"The Da Vinci Code\", 30),\n",
    "        (\"A Brief History of Time\", 15),\n",
    "        (\"Angels & Demons\", 0),\n",
    "        (\"The Grand Design\", 0),\n",
    "        (\"1984\", 19)\n",
    "        ]\n",
    "        self.name = name\n",
    "        self.dept = dept\n",
    "        Library.st_count += 1\n",
    "\n",
    "    def burrow_book(self, book_name):\n",
    "        status = [book for name, quantity in self.books if (name == book_name) & (quantity > 0)]\n",
    "        if status:\n",
    "            print(\"Yes\")\n",
    "        else:\n",
    "            print(\"No\")\n",
    "\n",
    "    @classmethod\n",
    "    def stu_count(self):\n",
    "        return self.st_count\n"
   ]
  },
  {
   "cell_type": "code",
   "execution_count": 10,
   "id": "08814a9d-5371-4799-87de-ec25b4cb58e9",
   "metadata": {},
   "outputs": [
    {
     "data": {
      "text/plain": [
       "1"
      ]
     },
     "execution_count": 10,
     "metadata": {},
     "output_type": "execute_result"
    }
   ],
   "source": [
    "std1 = Library(\"Punk\", \"Science\")\n",
    "std1.stu_count()\n"
   ]
  },
  {
   "cell_type": "code",
   "execution_count": 11,
   "id": "5cdc06c1-83c0-4dfc-912d-4c1935c22ee1",
   "metadata": {},
   "outputs": [
    {
     "name": "stdout",
     "output_type": "stream",
     "text": [
      "Yes\n"
     ]
    }
   ],
   "source": [
    "std1.burrow_book(\"The Alchemist\")"
   ]
  },
  {
   "cell_type": "code",
   "execution_count": 12,
   "id": "cb63c1dc-f497-4977-92bb-45dbf3412c10",
   "metadata": {},
   "outputs": [
    {
     "name": "stdout",
     "output_type": "stream",
     "text": [
      "No\n"
     ]
    }
   ],
   "source": [
    "std1.burrow_book(\"Angels & Demons\")"
   ]
  },
  {
   "cell_type": "code",
   "execution_count": 13,
   "id": "da7aa5b3-eb1a-456c-bc80-221d9719b9b0",
   "metadata": {},
   "outputs": [
    {
     "data": {
      "text/plain": [
       "200"
      ]
     },
     "execution_count": 13,
     "metadata": {},
     "output_type": "execute_result"
    }
   ],
   "source": [
    "# Write a Python Program to create a Vehicle class with max_speed and mileage instance attributes.\n",
    "class Vehicle:\n",
    "    def __init__(self, max_speed, mileage):\n",
    "        self.max_speed = max_speed\n",
    "        self.mileage = mileage\n",
    "\n",
    "model1 = Vehicle(200, \"Volvo\")\n",
    "model1.max_speed"
   ]
  },
  {
   "cell_type": "code",
   "execution_count": 14,
   "id": "205fba13-680e-4ddc-8de8-908954279238",
   "metadata": {},
   "outputs": [],
   "source": [
    "# Create a vehicle class without any variables and methods.\n",
    "class Vehicle:\n",
    "    pass"
   ]
  },
  {
   "cell_type": "code",
   "execution_count": 16,
   "id": "dea1cb18-88a4-4818-8a78-e0c85f09527a",
   "metadata": {},
   "outputs": [
    {
     "name": "stdout",
     "output_type": "stream",
     "text": [
      "Volvo\n",
      "120\n"
     ]
    }
   ],
   "source": [
    "# Create a child class Bus that will inherit all of the variables and methods of vehicle class.\n",
    "class Vehicle:\n",
    "    def __init__(self, name, speed):\n",
    "        self.name = name\n",
    "        self.speed = speed\n",
    "\n",
    "class Bus(Vehicle):\n",
    "    def __init__(self, name, speed, mileage):\n",
    "        super().__init__(name, speed)\n",
    "        self.mileage = mileage\n",
    "\n",
    "bus= Bus(\"Volvo\", 120, 44)\n",
    "print(bus.name)\n",
    "print(bus.speed)"
   ]
  },
  {
   "cell_type": "code",
   "execution_count": 18,
   "id": "7de45889-8867-459b-b2f3-dc8f60e6f6f3",
   "metadata": {},
   "outputs": [
    {
     "name": "stdout",
     "output_type": "stream",
     "text": [
      "The seating capacity of a Toyota is 50 passengers.\n"
     ]
    }
   ],
   "source": [
    "# Create a Bus class that inherits from the Vehicle class. Given the capacity argument of Bus.seating_capacity() a default value of 50.\n",
    "class Vehicle:\n",
    "    def __init__(self, name, mileage, speed):\n",
    "        self.name = name\n",
    "        self.mileage = mileage\n",
    "        self.speed = speed\n",
    "\n",
    "    def seating_capacity(self, capacity):\n",
    "        return f\"The seating capacity of a {self.name} is {capacity} passengers.\"\n",
    "\n",
    "class Bus(Vehicle):\n",
    "    def __init__(self, name, mileage, speed):\n",
    "        super().__init__(name, mileage, speed)\n",
    "\n",
    "    def seating_capacity(self, capacity=50):\n",
    "        return super().seating_capacity(capacity)\n",
    "\n",
    "bus = Bus(\"Toyota\", 45, 120)\n",
    "print(bus.seating_capacity())"
   ]
  },
  {
   "cell_type": "code",
   "execution_count": 19,
   "id": "ccb81ce1-8595-42ba-9d29-7985c5a25567",
   "metadata": {},
   "outputs": [
    {
     "name": "stdout",
     "output_type": "stream",
     "text": [
      "White Toyota, gives mileage of 22kms in the speed of 150km/hr\n",
      "White Creta, gives mileage of 18kms in the speed of 180km/hr\n"
     ]
    }
   ],
   "source": [
    "# Define a property that must have the same vlaue for every class instance(obj)\n",
    "# Define a class attribute color with a default value white. I.E. Every vehicle should be white.\n",
    "\n",
    "class Vehicle:\n",
    "    color = \"White\"  # Class Attribute\n",
    "\n",
    "    def __init__(self, name, mileage, speed):\n",
    "        self.name = name\n",
    "        self.mileage = mileage\n",
    "        self.speed = speed\n",
    "\n",
    "class Bus(Vehicle):\n",
    "    pass\n",
    "\n",
    "class Car(Vehicle):\n",
    "    pass\n",
    "\n",
    "bus = Bus(\"Toyota\", 22, 150)\n",
    "print(f\"{bus.color} {bus.name}, gives mileage of {bus.mileage}kms in the speed of {bus.speed}km/hr\")\n",
    "\n",
    "car = Car(\"Creta\", 18, 180)\n",
    "print(f\"{car.color} {car.name}, gives mileage of {car.mileage}kms in the speed of {car.speed}km/hr\")"
   ]
  },
  {
   "cell_type": "code",
   "execution_count": 21,
   "id": "767d7e7d-297d-4550-9ae1-73d9dd9455ec",
   "metadata": {},
   "outputs": [
    {
     "name": "stdout",
     "output_type": "stream",
     "text": [
      "Volvo\n",
      "130\n",
      "50\n",
      "Total Bus fare is: 5500.0\n"
     ]
    }
   ],
   "source": [
    "''' Create a Bus child class that inherits from the Vehicle class. The default fare charge of any vehicle is seating capacity * 100.\n",
    "    If Vehicle is Bus instance, we need to add an extra 10% on full fare as a maintenance charge. \n",
    "    So total fare for bus instance will become the final amount = total fare + 10% of the total fare.\n",
    "\n",
    "Note: The bus seating capacity is 50. so the final fare amount should be 5500. \n",
    "You need to override the fare() method of a Vehicle class in Bus class.\n",
    "'''\n",
    "class Vehicle:\n",
    "    color = \"White\" #Class Attribute\n",
    "    def __init__(self, name, mileage, speed, capacity = 50):\n",
    "        self.name = name\n",
    "        self.mileage = mileage\n",
    "        self.speed= speed\n",
    "        self.capacity = capacity\n",
    "\n",
    "    def fare(self):\n",
    "        return self.capacity * 100\n",
    "\n",
    "class Bus(Vehicle):\n",
    "    def fare(self):\n",
    "        amount = super().fare()\n",
    "        amount += amount * 0.1\n",
    "        return amount\n",
    "\n",
    "bus = Bus(\"Volvo\", 22, 130)\n",
    "print(bus.name)\n",
    "print(bus.speed)\n",
    "print(bus.capacity)\n",
    "print(\"Total Bus fare is:\", bus.fare())"
   ]
  },
  {
   "cell_type": "code",
   "execution_count": 22,
   "id": "ad1ad868-3e84-4276-baaa-898dad9e5b38",
   "metadata": {},
   "outputs": [
    {
     "name": "stdout",
     "output_type": "stream",
     "text": [
      "True\n"
     ]
    }
   ],
   "source": [
    "# Determine if school_bus is also an instance of the Vehicle class.\n",
    "class Vehicle:\n",
    "    def __init__(self, name, mileage, capacity):\n",
    "        self.name = name\n",
    "        self.mileage = mileage\n",
    "        self.capacity = capacity\n",
    "\n",
    "class Bus(Vehicle):\n",
    "    pass\n",
    "\n",
    "school_bus = Bus(\"Volvo\", 50, 34)\n",
    "print(isinstance(school_bus, Vehicle))"
   ]
  },
  {
   "cell_type": "code",
   "execution_count": 7,
   "id": "1eeb018d-8576-4437-866a-dfefb2663cdb",
   "metadata": {},
   "outputs": [],
   "source": [
    "import numpy as np"
   ]
  },
  {
   "cell_type": "code",
   "execution_count": 11,
   "id": "7b2c8280-3152-478d-a492-ce800a48514e",
   "metadata": {},
   "outputs": [
    {
     "name": "stdout",
     "output_type": "stream",
     "text": [
      "[[[19 34 47 44 18]\n",
      "  [27 43 26 40 37]\n",
      "  [10 17 28 22 23]]\n",
      "\n",
      " [[41 34 35 29 10]\n",
      "  [27 42 28 44 37]\n",
      "  [47 24 14 37 26]]]\n",
      "\n",
      "dimension\n",
      "3\n",
      "(2, 3, 5)\n"
     ]
    }
   ],
   "source": [
    "array1 = np.random.randint(10, 50, (2, 3, 5))\n",
    "print(array1)\n",
    "print(\"\\ndimension\")\n",
    "print(array1.ndim)\n",
    "print(array1.shape)"
   ]
  },
  {
   "cell_type": "code",
   "execution_count": 12,
   "id": "85e0e9ba-9427-4cb5-9048-350af88a856c",
   "metadata": {},
   "outputs": [
    {
     "data": {
      "text/plain": [
       "28"
      ]
     },
     "execution_count": 12,
     "metadata": {},
     "output_type": "execute_result"
    }
   ],
   "source": [
    "array1[0, 2, 2]"
   ]
  },
  {
   "cell_type": "code",
   "execution_count": 13,
   "id": "6f169b55-da8f-4955-90a0-020ca5fb945e",
   "metadata": {},
   "outputs": [],
   "source": [
    "import pandas as pd"
   ]
  },
  {
   "cell_type": "code",
   "execution_count": 15,
   "id": "362069da-b157-4ffb-826c-a8baa4757d4b",
   "metadata": {},
   "outputs": [
    {
     "data": {
      "text/html": [
       "<div>\n",
       "<style scoped>\n",
       "    .dataframe tbody tr th:only-of-type {\n",
       "        vertical-align: middle;\n",
       "    }\n",
       "\n",
       "    .dataframe tbody tr th {\n",
       "        vertical-align: top;\n",
       "    }\n",
       "\n",
       "    .dataframe thead th {\n",
       "        text-align: right;\n",
       "    }\n",
       "</style>\n",
       "<table border=\"1\" class=\"dataframe\">\n",
       "  <thead>\n",
       "    <tr style=\"text-align: right;\">\n",
       "      <th></th>\n",
       "      <th>name</th>\n",
       "      <th>age</th>\n",
       "      <th>place</th>\n",
       "    </tr>\n",
       "  </thead>\n",
       "  <tbody>\n",
       "    <tr>\n",
       "      <th>1</th>\n",
       "      <td>Bob</td>\n",
       "      <td>40</td>\n",
       "      <td>Kathmandu</td>\n",
       "    </tr>\n",
       "  </tbody>\n",
       "</table>\n",
       "</div>"
      ],
      "text/plain": [
       "  name  age      place\n",
       "1  Bob   40  Kathmandu"
      ]
     },
     "execution_count": 15,
     "metadata": {},
     "output_type": "execute_result"
    }
   ],
   "source": [
    "data= {\n",
    "    \"name\": \"Bob\",\n",
    "    \"age\": 40,\n",
    "    \"place\": \"Kathmandu\"\n",
    "}\n",
    "\n",
    "df1 = pd.DataFrame(data, index=[1])\n",
    "df1"
   ]
  },
  {
   "cell_type": "code",
   "execution_count": 16,
   "id": "f556e61e-fc34-404d-ad41-bd09f7be34ce",
   "metadata": {},
   "outputs": [
    {
     "data": {
      "text/html": [
       "<div>\n",
       "<style scoped>\n",
       "    .dataframe tbody tr th:only-of-type {\n",
       "        vertical-align: middle;\n",
       "    }\n",
       "\n",
       "    .dataframe tbody tr th {\n",
       "        vertical-align: top;\n",
       "    }\n",
       "\n",
       "    .dataframe thead th {\n",
       "        text-align: right;\n",
       "    }\n",
       "</style>\n",
       "<table border=\"1\" class=\"dataframe\">\n",
       "  <thead>\n",
       "    <tr style=\"text-align: right;\">\n",
       "      <th></th>\n",
       "      <th>name</th>\n",
       "      <th>age</th>\n",
       "    </tr>\n",
       "  </thead>\n",
       "  <tbody>\n",
       "    <tr>\n",
       "      <th>0</th>\n",
       "      <td>Bob</td>\n",
       "      <td>12</td>\n",
       "    </tr>\n",
       "    <tr>\n",
       "      <th>1</th>\n",
       "      <td>Shyam</td>\n",
       "      <td>13</td>\n",
       "    </tr>\n",
       "    <tr>\n",
       "      <th>2</th>\n",
       "      <td>Hari</td>\n",
       "      <td>14</td>\n",
       "    </tr>\n",
       "  </tbody>\n",
       "</table>\n",
       "</div>"
      ],
      "text/plain": [
       "    name  age\n",
       "0    Bob   12\n",
       "1  Shyam   13\n",
       "2   Hari   14"
      ]
     },
     "execution_count": 16,
     "metadata": {},
     "output_type": "execute_result"
    }
   ],
   "source": [
    "data= {\n",
    "    \"name\": [\"Bob\", \"Shyam\", \"Hari\"],\n",
    "    \"age\": [12, 13, 14]\n",
    "}\n",
    "df2 = pd.DataFrame(data)\n",
    "df2"
   ]
  },
  {
   "cell_type": "code",
   "execution_count": 17,
   "id": "78316b41-82b3-4d7f-bca8-b57e31750db9",
   "metadata": {},
   "outputs": [
    {
     "data": {
      "text/html": [
       "<div>\n",
       "<style scoped>\n",
       "    .dataframe tbody tr th:only-of-type {\n",
       "        vertical-align: middle;\n",
       "    }\n",
       "\n",
       "    .dataframe tbody tr th {\n",
       "        vertical-align: top;\n",
       "    }\n",
       "\n",
       "    .dataframe thead th {\n",
       "        text-align: right;\n",
       "    }\n",
       "</style>\n",
       "<table border=\"1\" class=\"dataframe\">\n",
       "  <thead>\n",
       "    <tr style=\"text-align: right;\">\n",
       "      <th></th>\n",
       "      <th>PassengerId</th>\n",
       "      <th>Survived</th>\n",
       "      <th>Pclass</th>\n",
       "      <th>Name</th>\n",
       "      <th>Sex</th>\n",
       "      <th>Age</th>\n",
       "      <th>SibSp</th>\n",
       "      <th>Parch</th>\n",
       "      <th>Ticket</th>\n",
       "      <th>Fare</th>\n",
       "      <th>Cabin</th>\n",
       "      <th>Embarked</th>\n",
       "    </tr>\n",
       "  </thead>\n",
       "  <tbody>\n",
       "    <tr>\n",
       "      <th>0</th>\n",
       "      <td>1</td>\n",
       "      <td>0</td>\n",
       "      <td>3</td>\n",
       "      <td>Braund, Mr. Owen Harris</td>\n",
       "      <td>male</td>\n",
       "      <td>22.0</td>\n",
       "      <td>1</td>\n",
       "      <td>0</td>\n",
       "      <td>A/5 21171</td>\n",
       "      <td>7.2500</td>\n",
       "      <td>NaN</td>\n",
       "      <td>S</td>\n",
       "    </tr>\n",
       "    <tr>\n",
       "      <th>1</th>\n",
       "      <td>2</td>\n",
       "      <td>1</td>\n",
       "      <td>1</td>\n",
       "      <td>Cumings, Mrs. John Bradley (Florence Briggs Th...</td>\n",
       "      <td>female</td>\n",
       "      <td>38.0</td>\n",
       "      <td>1</td>\n",
       "      <td>0</td>\n",
       "      <td>PC 17599</td>\n",
       "      <td>71.2833</td>\n",
       "      <td>C85</td>\n",
       "      <td>C</td>\n",
       "    </tr>\n",
       "    <tr>\n",
       "      <th>2</th>\n",
       "      <td>3</td>\n",
       "      <td>1</td>\n",
       "      <td>3</td>\n",
       "      <td>Heikkinen, Miss. Laina</td>\n",
       "      <td>female</td>\n",
       "      <td>26.0</td>\n",
       "      <td>0</td>\n",
       "      <td>0</td>\n",
       "      <td>STON/O2. 3101282</td>\n",
       "      <td>7.9250</td>\n",
       "      <td>NaN</td>\n",
       "      <td>S</td>\n",
       "    </tr>\n",
       "    <tr>\n",
       "      <th>3</th>\n",
       "      <td>4</td>\n",
       "      <td>1</td>\n",
       "      <td>1</td>\n",
       "      <td>Futrelle, Mrs. Jacques Heath (Lily May Peel)</td>\n",
       "      <td>female</td>\n",
       "      <td>35.0</td>\n",
       "      <td>1</td>\n",
       "      <td>0</td>\n",
       "      <td>113803</td>\n",
       "      <td>53.1000</td>\n",
       "      <td>C123</td>\n",
       "      <td>S</td>\n",
       "    </tr>\n",
       "    <tr>\n",
       "      <th>4</th>\n",
       "      <td>5</td>\n",
       "      <td>0</td>\n",
       "      <td>3</td>\n",
       "      <td>Allen, Mr. William Henry</td>\n",
       "      <td>male</td>\n",
       "      <td>35.0</td>\n",
       "      <td>0</td>\n",
       "      <td>0</td>\n",
       "      <td>373450</td>\n",
       "      <td>8.0500</td>\n",
       "      <td>NaN</td>\n",
       "      <td>S</td>\n",
       "    </tr>\n",
       "    <tr>\n",
       "      <th>...</th>\n",
       "      <td>...</td>\n",
       "      <td>...</td>\n",
       "      <td>...</td>\n",
       "      <td>...</td>\n",
       "      <td>...</td>\n",
       "      <td>...</td>\n",
       "      <td>...</td>\n",
       "      <td>...</td>\n",
       "      <td>...</td>\n",
       "      <td>...</td>\n",
       "      <td>...</td>\n",
       "      <td>...</td>\n",
       "    </tr>\n",
       "    <tr>\n",
       "      <th>886</th>\n",
       "      <td>887</td>\n",
       "      <td>0</td>\n",
       "      <td>2</td>\n",
       "      <td>Montvila, Rev. Juozas</td>\n",
       "      <td>male</td>\n",
       "      <td>27.0</td>\n",
       "      <td>0</td>\n",
       "      <td>0</td>\n",
       "      <td>211536</td>\n",
       "      <td>13.0000</td>\n",
       "      <td>NaN</td>\n",
       "      <td>S</td>\n",
       "    </tr>\n",
       "    <tr>\n",
       "      <th>887</th>\n",
       "      <td>888</td>\n",
       "      <td>1</td>\n",
       "      <td>1</td>\n",
       "      <td>Graham, Miss. Margaret Edith</td>\n",
       "      <td>female</td>\n",
       "      <td>19.0</td>\n",
       "      <td>0</td>\n",
       "      <td>0</td>\n",
       "      <td>112053</td>\n",
       "      <td>30.0000</td>\n",
       "      <td>B42</td>\n",
       "      <td>S</td>\n",
       "    </tr>\n",
       "    <tr>\n",
       "      <th>888</th>\n",
       "      <td>889</td>\n",
       "      <td>0</td>\n",
       "      <td>3</td>\n",
       "      <td>Johnston, Miss. Catherine Helen \"Carrie\"</td>\n",
       "      <td>female</td>\n",
       "      <td>NaN</td>\n",
       "      <td>1</td>\n",
       "      <td>2</td>\n",
       "      <td>W./C. 6607</td>\n",
       "      <td>23.4500</td>\n",
       "      <td>NaN</td>\n",
       "      <td>S</td>\n",
       "    </tr>\n",
       "    <tr>\n",
       "      <th>889</th>\n",
       "      <td>890</td>\n",
       "      <td>1</td>\n",
       "      <td>1</td>\n",
       "      <td>Behr, Mr. Karl Howell</td>\n",
       "      <td>male</td>\n",
       "      <td>26.0</td>\n",
       "      <td>0</td>\n",
       "      <td>0</td>\n",
       "      <td>111369</td>\n",
       "      <td>30.0000</td>\n",
       "      <td>C148</td>\n",
       "      <td>C</td>\n",
       "    </tr>\n",
       "    <tr>\n",
       "      <th>890</th>\n",
       "      <td>891</td>\n",
       "      <td>0</td>\n",
       "      <td>3</td>\n",
       "      <td>Dooley, Mr. Patrick</td>\n",
       "      <td>male</td>\n",
       "      <td>32.0</td>\n",
       "      <td>0</td>\n",
       "      <td>0</td>\n",
       "      <td>370376</td>\n",
       "      <td>7.7500</td>\n",
       "      <td>NaN</td>\n",
       "      <td>Q</td>\n",
       "    </tr>\n",
       "  </tbody>\n",
       "</table>\n",
       "<p>891 rows × 12 columns</p>\n",
       "</div>"
      ],
      "text/plain": [
       "     PassengerId  Survived  Pclass  \\\n",
       "0              1         0       3   \n",
       "1              2         1       1   \n",
       "2              3         1       3   \n",
       "3              4         1       1   \n",
       "4              5         0       3   \n",
       "..           ...       ...     ...   \n",
       "886          887         0       2   \n",
       "887          888         1       1   \n",
       "888          889         0       3   \n",
       "889          890         1       1   \n",
       "890          891         0       3   \n",
       "\n",
       "                                                  Name     Sex   Age  SibSp  \\\n",
       "0                              Braund, Mr. Owen Harris    male  22.0      1   \n",
       "1    Cumings, Mrs. John Bradley (Florence Briggs Th...  female  38.0      1   \n",
       "2                               Heikkinen, Miss. Laina  female  26.0      0   \n",
       "3         Futrelle, Mrs. Jacques Heath (Lily May Peel)  female  35.0      1   \n",
       "4                             Allen, Mr. William Henry    male  35.0      0   \n",
       "..                                                 ...     ...   ...    ...   \n",
       "886                              Montvila, Rev. Juozas    male  27.0      0   \n",
       "887                       Graham, Miss. Margaret Edith  female  19.0      0   \n",
       "888           Johnston, Miss. Catherine Helen \"Carrie\"  female   NaN      1   \n",
       "889                              Behr, Mr. Karl Howell    male  26.0      0   \n",
       "890                                Dooley, Mr. Patrick    male  32.0      0   \n",
       "\n",
       "     Parch            Ticket     Fare Cabin Embarked  \n",
       "0        0         A/5 21171   7.2500   NaN        S  \n",
       "1        0          PC 17599  71.2833   C85        C  \n",
       "2        0  STON/O2. 3101282   7.9250   NaN        S  \n",
       "3        0            113803  53.1000  C123        S  \n",
       "4        0            373450   8.0500   NaN        S  \n",
       "..     ...               ...      ...   ...      ...  \n",
       "886      0            211536  13.0000   NaN        S  \n",
       "887      0            112053  30.0000   B42        S  \n",
       "888      2        W./C. 6607  23.4500   NaN        S  \n",
       "889      0            111369  30.0000  C148        C  \n",
       "890      0            370376   7.7500   NaN        Q  \n",
       "\n",
       "[891 rows x 12 columns]"
      ]
     },
     "execution_count": 17,
     "metadata": {},
     "output_type": "execute_result"
    }
   ],
   "source": [
    "df = pd.read_csv(\"C:\\\\Users\\\\hp\\\\Downloads\\\\archive\\\\train.csv\")\n",
    "df"
   ]
  },
  {
   "cell_type": "code",
   "execution_count": 18,
   "id": "f133ed3d-1653-4a40-9e10-30120de7e4fb",
   "metadata": {},
   "outputs": [
    {
     "data": {
      "text/plain": [
       "Index(['PassengerId', 'Survived', 'Pclass', 'Name', 'Sex', 'Age', 'SibSp',\n",
       "       'Parch', 'Ticket', 'Fare', 'Cabin', 'Embarked'],\n",
       "      dtype='object')"
      ]
     },
     "execution_count": 18,
     "metadata": {},
     "output_type": "execute_result"
    }
   ],
   "source": [
    "df.columns"
   ]
  },
  {
   "cell_type": "code",
   "execution_count": 19,
   "id": "a3bfb01e-8230-43b6-a359-d328e8385da6",
   "metadata": {},
   "outputs": [
    {
     "data": {
      "text/plain": [
       "10692"
      ]
     },
     "execution_count": 19,
     "metadata": {},
     "output_type": "execute_result"
    }
   ],
   "source": [
    "df.size"
   ]
  },
  {
   "cell_type": "code",
   "execution_count": 20,
   "id": "b69b2798-47f4-4d05-8e32-d3014add54a6",
   "metadata": {},
   "outputs": [
    {
     "data": {
      "text/plain": [
       "(891, 12)"
      ]
     },
     "execution_count": 20,
     "metadata": {},
     "output_type": "execute_result"
    }
   ],
   "source": [
    "df.shape"
   ]
  },
  {
   "cell_type": "code",
   "execution_count": 22,
   "id": "25cd77e4-45e9-45ff-9d8b-8e7c6ff26939",
   "metadata": {},
   "outputs": [
    {
     "data": {
      "text/html": [
       "<div>\n",
       "<style scoped>\n",
       "    .dataframe tbody tr th:only-of-type {\n",
       "        vertical-align: middle;\n",
       "    }\n",
       "\n",
       "    .dataframe tbody tr th {\n",
       "        vertical-align: top;\n",
       "    }\n",
       "\n",
       "    .dataframe thead th {\n",
       "        text-align: right;\n",
       "    }\n",
       "</style>\n",
       "<table border=\"1\" class=\"dataframe\">\n",
       "  <thead>\n",
       "    <tr style=\"text-align: right;\">\n",
       "      <th></th>\n",
       "      <th>PassengerId</th>\n",
       "      <th>Survived</th>\n",
       "      <th>Pclass</th>\n",
       "      <th>Name</th>\n",
       "      <th>Sex</th>\n",
       "      <th>Age</th>\n",
       "      <th>SibSp</th>\n",
       "      <th>Parch</th>\n",
       "      <th>Ticket</th>\n",
       "      <th>Fare</th>\n",
       "      <th>Cabin</th>\n",
       "      <th>Embarked</th>\n",
       "    </tr>\n",
       "  </thead>\n",
       "  <tbody>\n",
       "    <tr>\n",
       "      <th>0</th>\n",
       "      <td>1</td>\n",
       "      <td>0</td>\n",
       "      <td>3</td>\n",
       "      <td>Braund, Mr. Owen Harris</td>\n",
       "      <td>male</td>\n",
       "      <td>22.0</td>\n",
       "      <td>1</td>\n",
       "      <td>0</td>\n",
       "      <td>A/5 21171</td>\n",
       "      <td>7.2500</td>\n",
       "      <td>NaN</td>\n",
       "      <td>S</td>\n",
       "    </tr>\n",
       "    <tr>\n",
       "      <th>1</th>\n",
       "      <td>2</td>\n",
       "      <td>1</td>\n",
       "      <td>1</td>\n",
       "      <td>Cumings, Mrs. John Bradley (Florence Briggs Th...</td>\n",
       "      <td>female</td>\n",
       "      <td>38.0</td>\n",
       "      <td>1</td>\n",
       "      <td>0</td>\n",
       "      <td>PC 17599</td>\n",
       "      <td>71.2833</td>\n",
       "      <td>C85</td>\n",
       "      <td>C</td>\n",
       "    </tr>\n",
       "    <tr>\n",
       "      <th>2</th>\n",
       "      <td>3</td>\n",
       "      <td>1</td>\n",
       "      <td>3</td>\n",
       "      <td>Heikkinen, Miss. Laina</td>\n",
       "      <td>female</td>\n",
       "      <td>26.0</td>\n",
       "      <td>0</td>\n",
       "      <td>0</td>\n",
       "      <td>STON/O2. 3101282</td>\n",
       "      <td>7.9250</td>\n",
       "      <td>NaN</td>\n",
       "      <td>S</td>\n",
       "    </tr>\n",
       "    <tr>\n",
       "      <th>3</th>\n",
       "      <td>4</td>\n",
       "      <td>1</td>\n",
       "      <td>1</td>\n",
       "      <td>Futrelle, Mrs. Jacques Heath (Lily May Peel)</td>\n",
       "      <td>female</td>\n",
       "      <td>35.0</td>\n",
       "      <td>1</td>\n",
       "      <td>0</td>\n",
       "      <td>113803</td>\n",
       "      <td>53.1000</td>\n",
       "      <td>C123</td>\n",
       "      <td>S</td>\n",
       "    </tr>\n",
       "    <tr>\n",
       "      <th>4</th>\n",
       "      <td>5</td>\n",
       "      <td>0</td>\n",
       "      <td>3</td>\n",
       "      <td>Allen, Mr. William Henry</td>\n",
       "      <td>male</td>\n",
       "      <td>35.0</td>\n",
       "      <td>0</td>\n",
       "      <td>0</td>\n",
       "      <td>373450</td>\n",
       "      <td>8.0500</td>\n",
       "      <td>NaN</td>\n",
       "      <td>S</td>\n",
       "    </tr>\n",
       "  </tbody>\n",
       "</table>\n",
       "</div>"
      ],
      "text/plain": [
       "   PassengerId  Survived  Pclass  \\\n",
       "0            1         0       3   \n",
       "1            2         1       1   \n",
       "2            3         1       3   \n",
       "3            4         1       1   \n",
       "4            5         0       3   \n",
       "\n",
       "                                                Name     Sex   Age  SibSp  \\\n",
       "0                            Braund, Mr. Owen Harris    male  22.0      1   \n",
       "1  Cumings, Mrs. John Bradley (Florence Briggs Th...  female  38.0      1   \n",
       "2                             Heikkinen, Miss. Laina  female  26.0      0   \n",
       "3       Futrelle, Mrs. Jacques Heath (Lily May Peel)  female  35.0      1   \n",
       "4                           Allen, Mr. William Henry    male  35.0      0   \n",
       "\n",
       "   Parch            Ticket     Fare Cabin Embarked  \n",
       "0      0         A/5 21171   7.2500   NaN        S  \n",
       "1      0          PC 17599  71.2833   C85        C  \n",
       "2      0  STON/O2. 3101282   7.9250   NaN        S  \n",
       "3      0            113803  53.1000  C123        S  \n",
       "4      0            373450   8.0500   NaN        S  "
      ]
     },
     "execution_count": 22,
     "metadata": {},
     "output_type": "execute_result"
    }
   ],
   "source": [
    "df.head()"
   ]
  },
  {
   "cell_type": "code",
   "execution_count": 24,
   "id": "96f648b4-fbeb-4312-888f-6376796db110",
   "metadata": {},
   "outputs": [
    {
     "data": {
      "text/html": [
       "<div>\n",
       "<style scoped>\n",
       "    .dataframe tbody tr th:only-of-type {\n",
       "        vertical-align: middle;\n",
       "    }\n",
       "\n",
       "    .dataframe tbody tr th {\n",
       "        vertical-align: top;\n",
       "    }\n",
       "\n",
       "    .dataframe thead th {\n",
       "        text-align: right;\n",
       "    }\n",
       "</style>\n",
       "<table border=\"1\" class=\"dataframe\">\n",
       "  <thead>\n",
       "    <tr style=\"text-align: right;\">\n",
       "      <th></th>\n",
       "      <th>PassengerId</th>\n",
       "      <th>Survived</th>\n",
       "      <th>Pclass</th>\n",
       "      <th>Age</th>\n",
       "      <th>SibSp</th>\n",
       "      <th>Parch</th>\n",
       "      <th>Fare</th>\n",
       "    </tr>\n",
       "  </thead>\n",
       "  <tbody>\n",
       "    <tr>\n",
       "      <th>count</th>\n",
       "      <td>891.000000</td>\n",
       "      <td>891.000000</td>\n",
       "      <td>891.000000</td>\n",
       "      <td>714.000000</td>\n",
       "      <td>891.000000</td>\n",
       "      <td>891.000000</td>\n",
       "      <td>891.000000</td>\n",
       "    </tr>\n",
       "    <tr>\n",
       "      <th>mean</th>\n",
       "      <td>446.000000</td>\n",
       "      <td>0.383838</td>\n",
       "      <td>2.308642</td>\n",
       "      <td>29.699118</td>\n",
       "      <td>0.523008</td>\n",
       "      <td>0.381594</td>\n",
       "      <td>32.204208</td>\n",
       "    </tr>\n",
       "    <tr>\n",
       "      <th>std</th>\n",
       "      <td>257.353842</td>\n",
       "      <td>0.486592</td>\n",
       "      <td>0.836071</td>\n",
       "      <td>14.526497</td>\n",
       "      <td>1.102743</td>\n",
       "      <td>0.806057</td>\n",
       "      <td>49.693429</td>\n",
       "    </tr>\n",
       "    <tr>\n",
       "      <th>min</th>\n",
       "      <td>1.000000</td>\n",
       "      <td>0.000000</td>\n",
       "      <td>1.000000</td>\n",
       "      <td>0.420000</td>\n",
       "      <td>0.000000</td>\n",
       "      <td>0.000000</td>\n",
       "      <td>0.000000</td>\n",
       "    </tr>\n",
       "    <tr>\n",
       "      <th>25%</th>\n",
       "      <td>223.500000</td>\n",
       "      <td>0.000000</td>\n",
       "      <td>2.000000</td>\n",
       "      <td>20.125000</td>\n",
       "      <td>0.000000</td>\n",
       "      <td>0.000000</td>\n",
       "      <td>7.910400</td>\n",
       "    </tr>\n",
       "    <tr>\n",
       "      <th>50%</th>\n",
       "      <td>446.000000</td>\n",
       "      <td>0.000000</td>\n",
       "      <td>3.000000</td>\n",
       "      <td>28.000000</td>\n",
       "      <td>0.000000</td>\n",
       "      <td>0.000000</td>\n",
       "      <td>14.454200</td>\n",
       "    </tr>\n",
       "    <tr>\n",
       "      <th>75%</th>\n",
       "      <td>668.500000</td>\n",
       "      <td>1.000000</td>\n",
       "      <td>3.000000</td>\n",
       "      <td>38.000000</td>\n",
       "      <td>1.000000</td>\n",
       "      <td>0.000000</td>\n",
       "      <td>31.000000</td>\n",
       "    </tr>\n",
       "    <tr>\n",
       "      <th>max</th>\n",
       "      <td>891.000000</td>\n",
       "      <td>1.000000</td>\n",
       "      <td>3.000000</td>\n",
       "      <td>80.000000</td>\n",
       "      <td>8.000000</td>\n",
       "      <td>6.000000</td>\n",
       "      <td>512.329200</td>\n",
       "    </tr>\n",
       "  </tbody>\n",
       "</table>\n",
       "</div>"
      ],
      "text/plain": [
       "       PassengerId    Survived      Pclass         Age       SibSp  \\\n",
       "count   891.000000  891.000000  891.000000  714.000000  891.000000   \n",
       "mean    446.000000    0.383838    2.308642   29.699118    0.523008   \n",
       "std     257.353842    0.486592    0.836071   14.526497    1.102743   \n",
       "min       1.000000    0.000000    1.000000    0.420000    0.000000   \n",
       "25%     223.500000    0.000000    2.000000   20.125000    0.000000   \n",
       "50%     446.000000    0.000000    3.000000   28.000000    0.000000   \n",
       "75%     668.500000    1.000000    3.000000   38.000000    1.000000   \n",
       "max     891.000000    1.000000    3.000000   80.000000    8.000000   \n",
       "\n",
       "            Parch        Fare  \n",
       "count  891.000000  891.000000  \n",
       "mean     0.381594   32.204208  \n",
       "std      0.806057   49.693429  \n",
       "min      0.000000    0.000000  \n",
       "25%      0.000000    7.910400  \n",
       "50%      0.000000   14.454200  \n",
       "75%      0.000000   31.000000  \n",
       "max      6.000000  512.329200  "
      ]
     },
     "execution_count": 24,
     "metadata": {},
     "output_type": "execute_result"
    }
   ],
   "source": [
    "df.describe()"
   ]
  },
  {
   "cell_type": "code",
   "execution_count": 25,
   "id": "2a3cd2cc-96a2-4969-9098-f3532d9a79f6",
   "metadata": {},
   "outputs": [
    {
     "name": "stdout",
     "output_type": "stream",
     "text": [
      "<class 'pandas.core.frame.DataFrame'>\n",
      "RangeIndex: 891 entries, 0 to 890\n",
      "Data columns (total 12 columns):\n",
      " #   Column       Non-Null Count  Dtype  \n",
      "---  ------       --------------  -----  \n",
      " 0   PassengerId  891 non-null    int64  \n",
      " 1   Survived     891 non-null    int64  \n",
      " 2   Pclass       891 non-null    int64  \n",
      " 3   Name         891 non-null    object \n",
      " 4   Sex          891 non-null    object \n",
      " 5   Age          714 non-null    float64\n",
      " 6   SibSp        891 non-null    int64  \n",
      " 7   Parch        891 non-null    int64  \n",
      " 8   Ticket       891 non-null    object \n",
      " 9   Fare         891 non-null    float64\n",
      " 10  Cabin        204 non-null    object \n",
      " 11  Embarked     889 non-null    object \n",
      "dtypes: float64(2), int64(5), object(5)\n",
      "memory usage: 83.7+ KB\n"
     ]
    }
   ],
   "source": [
    "df.info()"
   ]
  },
  {
   "cell_type": "code",
   "execution_count": 26,
   "id": "c55e3fd8-b622-480a-a00c-57a1b6099376",
   "metadata": {},
   "outputs": [
    {
     "data": {
      "text/plain": [
       "PassengerId      0\n",
       "Survived         0\n",
       "Pclass           0\n",
       "Name             0\n",
       "Sex              0\n",
       "Age            177\n",
       "SibSp            0\n",
       "Parch            0\n",
       "Ticket           0\n",
       "Fare             0\n",
       "Cabin          687\n",
       "Embarked         2\n",
       "dtype: int64"
      ]
     },
     "execution_count": 26,
     "metadata": {},
     "output_type": "execute_result"
    }
   ],
   "source": [
    "df.isna().sum()"
   ]
  },
  {
   "cell_type": "code",
   "execution_count": 27,
   "id": "df1e16a1-3c72-4655-bd55-42834fc54e59",
   "metadata": {},
   "outputs": [
    {
     "data": {
      "text/plain": [
       "PassengerId    891\n",
       "Survived         2\n",
       "Pclass           3\n",
       "Name           891\n",
       "Sex              2\n",
       "Age             88\n",
       "SibSp            7\n",
       "Parch            7\n",
       "Ticket         681\n",
       "Fare           248\n",
       "Cabin          147\n",
       "Embarked         3\n",
       "dtype: int64"
      ]
     },
     "execution_count": 27,
     "metadata": {},
     "output_type": "execute_result"
    }
   ],
   "source": [
    "df.nunique()"
   ]
  },
  {
   "cell_type": "code",
   "execution_count": 28,
   "id": "c0a151ea-0645-4cb2-9440-01934f10e74f",
   "metadata": {},
   "outputs": [],
   "source": [
    "# Accessing Data( Subsetting Dataframes in Pandas)"
   ]
  },
  {
   "cell_type": "code",
   "execution_count": 30,
   "id": "b0443399-1759-48f9-a11a-c3842a66e1b8",
   "metadata": {},
   "outputs": [
    {
     "name": "stdout",
     "output_type": "stream",
     "text": [
      "0    1\n",
      "1    2\n",
      "2    3\n",
      "3    4\n",
      "4    5\n",
      "Name: PassengerId, dtype: int64\n"
     ]
    }
   ],
   "source": [
    "subset1 = df.PassengerId.head()\n",
    "print(subset1)"
   ]
  },
  {
   "cell_type": "code",
   "execution_count": 32,
   "id": "ffa738b2-d5f7-4353-8796-0714086693d9",
   "metadata": {},
   "outputs": [
    {
     "data": {
      "text/html": [
       "<div>\n",
       "<style scoped>\n",
       "    .dataframe tbody tr th:only-of-type {\n",
       "        vertical-align: middle;\n",
       "    }\n",
       "\n",
       "    .dataframe tbody tr th {\n",
       "        vertical-align: top;\n",
       "    }\n",
       "\n",
       "    .dataframe thead th {\n",
       "        text-align: right;\n",
       "    }\n",
       "</style>\n",
       "<table border=\"1\" class=\"dataframe\">\n",
       "  <thead>\n",
       "    <tr style=\"text-align: right;\">\n",
       "      <th></th>\n",
       "      <th>Survived</th>\n",
       "      <th>Pclass</th>\n",
       "    </tr>\n",
       "  </thead>\n",
       "  <tbody>\n",
       "    <tr>\n",
       "      <th>0</th>\n",
       "      <td>0</td>\n",
       "      <td>3</td>\n",
       "    </tr>\n",
       "    <tr>\n",
       "      <th>1</th>\n",
       "      <td>1</td>\n",
       "      <td>1</td>\n",
       "    </tr>\n",
       "    <tr>\n",
       "      <th>2</th>\n",
       "      <td>1</td>\n",
       "      <td>3</td>\n",
       "    </tr>\n",
       "    <tr>\n",
       "      <th>3</th>\n",
       "      <td>1</td>\n",
       "      <td>1</td>\n",
       "    </tr>\n",
       "    <tr>\n",
       "      <th>4</th>\n",
       "      <td>0</td>\n",
       "      <td>3</td>\n",
       "    </tr>\n",
       "  </tbody>\n",
       "</table>\n",
       "</div>"
      ],
      "text/plain": [
       "   Survived  Pclass\n",
       "0         0       3\n",
       "1         1       1\n",
       "2         1       3\n",
       "3         1       1\n",
       "4         0       3"
      ]
     },
     "execution_count": 32,
     "metadata": {},
     "output_type": "execute_result"
    }
   ],
   "source": [
    "subset2 = df[['Survived', 'Pclass']]\n",
    "subset2.head()"
   ]
  },
  {
   "cell_type": "code",
   "execution_count": 34,
   "id": "c3625163-5143-4066-a2dc-88c4a143fd5e",
   "metadata": {},
   "outputs": [
    {
     "data": {
      "text/html": [
       "<div>\n",
       "<style scoped>\n",
       "    .dataframe tbody tr th:only-of-type {\n",
       "        vertical-align: middle;\n",
       "    }\n",
       "\n",
       "    .dataframe tbody tr th {\n",
       "        vertical-align: top;\n",
       "    }\n",
       "\n",
       "    .dataframe thead th {\n",
       "        text-align: right;\n",
       "    }\n",
       "</style>\n",
       "<table border=\"1\" class=\"dataframe\">\n",
       "  <thead>\n",
       "    <tr style=\"text-align: right;\">\n",
       "      <th></th>\n",
       "      <th>Name</th>\n",
       "      <th>Embarked</th>\n",
       "    </tr>\n",
       "  </thead>\n",
       "  <tbody>\n",
       "    <tr>\n",
       "      <th>0</th>\n",
       "      <td>Braund, Mr. Owen Harris</td>\n",
       "      <td>S</td>\n",
       "    </tr>\n",
       "    <tr>\n",
       "      <th>3</th>\n",
       "      <td>Futrelle, Mrs. Jacques Heath (Lily May Peel)</td>\n",
       "      <td>S</td>\n",
       "    </tr>\n",
       "    <tr>\n",
       "      <th>4</th>\n",
       "      <td>Allen, Mr. William Henry</td>\n",
       "      <td>S</td>\n",
       "    </tr>\n",
       "  </tbody>\n",
       "</table>\n",
       "</div>"
      ],
      "text/plain": [
       "                                           Name Embarked\n",
       "0                       Braund, Mr. Owen Harris        S\n",
       "3  Futrelle, Mrs. Jacques Heath (Lily May Peel)        S\n",
       "4                      Allen, Mr. William Henry        S"
      ]
     },
     "execution_count": 34,
     "metadata": {},
     "output_type": "execute_result"
    }
   ],
   "source": [
    "# Indexing and Slicing in Pandas\n",
    "## indexing with loc\n",
    "df.loc[[0, 3, 4], ['Name', 'Embarked']]\n"
   ]
  },
  {
   "cell_type": "code",
   "execution_count": 35,
   "id": "7a14b12c-bbe4-4cee-829c-d9e2535e60b0",
   "metadata": {},
   "outputs": [
    {
     "data": {
      "text/html": [
       "<div>\n",
       "<style scoped>\n",
       "    .dataframe tbody tr th:only-of-type {\n",
       "        vertical-align: middle;\n",
       "    }\n",
       "\n",
       "    .dataframe tbody tr th {\n",
       "        vertical-align: top;\n",
       "    }\n",
       "\n",
       "    .dataframe thead th {\n",
       "        text-align: right;\n",
       "    }\n",
       "</style>\n",
       "<table border=\"1\" class=\"dataframe\">\n",
       "  <thead>\n",
       "    <tr style=\"text-align: right;\">\n",
       "      <th></th>\n",
       "      <th>Name</th>\n",
       "      <th>Sex</th>\n",
       "      <th>Age</th>\n",
       "      <th>SibSp</th>\n",
       "      <th>Parch</th>\n",
       "      <th>Ticket</th>\n",
       "      <th>Fare</th>\n",
       "      <th>Cabin</th>\n",
       "      <th>Embarked</th>\n",
       "    </tr>\n",
       "  </thead>\n",
       "  <tbody>\n",
       "    <tr>\n",
       "      <th>1</th>\n",
       "      <td>Cumings, Mrs. John Bradley (Florence Briggs Th...</td>\n",
       "      <td>female</td>\n",
       "      <td>38.0</td>\n",
       "      <td>1</td>\n",
       "      <td>0</td>\n",
       "      <td>PC 17599</td>\n",
       "      <td>71.2833</td>\n",
       "      <td>C85</td>\n",
       "      <td>C</td>\n",
       "    </tr>\n",
       "    <tr>\n",
       "      <th>2</th>\n",
       "      <td>Heikkinen, Miss. Laina</td>\n",
       "      <td>female</td>\n",
       "      <td>26.0</td>\n",
       "      <td>0</td>\n",
       "      <td>0</td>\n",
       "      <td>STON/O2. 3101282</td>\n",
       "      <td>7.9250</td>\n",
       "      <td>NaN</td>\n",
       "      <td>S</td>\n",
       "    </tr>\n",
       "    <tr>\n",
       "      <th>3</th>\n",
       "      <td>Futrelle, Mrs. Jacques Heath (Lily May Peel)</td>\n",
       "      <td>female</td>\n",
       "      <td>35.0</td>\n",
       "      <td>1</td>\n",
       "      <td>0</td>\n",
       "      <td>113803</td>\n",
       "      <td>53.1000</td>\n",
       "      <td>C123</td>\n",
       "      <td>S</td>\n",
       "    </tr>\n",
       "    <tr>\n",
       "      <th>4</th>\n",
       "      <td>Allen, Mr. William Henry</td>\n",
       "      <td>male</td>\n",
       "      <td>35.0</td>\n",
       "      <td>0</td>\n",
       "      <td>0</td>\n",
       "      <td>373450</td>\n",
       "      <td>8.0500</td>\n",
       "      <td>NaN</td>\n",
       "      <td>S</td>\n",
       "    </tr>\n",
       "    <tr>\n",
       "      <th>5</th>\n",
       "      <td>Moran, Mr. James</td>\n",
       "      <td>male</td>\n",
       "      <td>NaN</td>\n",
       "      <td>0</td>\n",
       "      <td>0</td>\n",
       "      <td>330877</td>\n",
       "      <td>8.4583</td>\n",
       "      <td>NaN</td>\n",
       "      <td>Q</td>\n",
       "    </tr>\n",
       "  </tbody>\n",
       "</table>\n",
       "</div>"
      ],
      "text/plain": [
       "                                                Name     Sex   Age  SibSp  \\\n",
       "1  Cumings, Mrs. John Bradley (Florence Briggs Th...  female  38.0      1   \n",
       "2                             Heikkinen, Miss. Laina  female  26.0      0   \n",
       "3       Futrelle, Mrs. Jacques Heath (Lily May Peel)  female  35.0      1   \n",
       "4                           Allen, Mr. William Henry    male  35.0      0   \n",
       "5                                   Moran, Mr. James    male   NaN      0   \n",
       "\n",
       "   Parch            Ticket     Fare Cabin Embarked  \n",
       "1      0          PC 17599  71.2833   C85        C  \n",
       "2      0  STON/O2. 3101282   7.9250   NaN        S  \n",
       "3      0            113803  53.1000  C123        S  \n",
       "4      0            373450   8.0500   NaN        S  \n",
       "5      0            330877   8.4583   NaN        Q  "
      ]
     },
     "execution_count": 35,
     "metadata": {},
     "output_type": "execute_result"
    }
   ],
   "source": [
    "#Slicing\n",
    "df.loc[1:5, \"Name\":\"Embarked\"]"
   ]
  },
  {
   "cell_type": "code",
   "execution_count": 37,
   "id": "90c31e5d-6527-42ed-8eb8-9103214bb6d7",
   "metadata": {},
   "outputs": [
    {
     "data": {
      "text/plain": [
       "Sex\n",
       "male      0.647587\n",
       "female    0.352413\n",
       "Name: proportion, dtype: float64"
      ]
     },
     "execution_count": 37,
     "metadata": {},
     "output_type": "execute_result"
    }
   ],
   "source": [
    "# Exploration\n",
    "# value counts()\n",
    "\n",
    "df.value_counts(\"Sex\", normalize=True)"
   ]
  },
  {
   "cell_type": "code",
   "execution_count": 38,
   "id": "f3167edb-4807-4cc4-88ae-3a340ceac366",
   "metadata": {},
   "outputs": [
    {
     "data": {
      "text/plain": [
       "Embarked\n",
       "S    644\n",
       "C    168\n",
       "Q     77\n",
       "Name: count, dtype: int64"
      ]
     },
     "execution_count": 38,
     "metadata": {},
     "output_type": "execute_result"
    }
   ],
   "source": [
    "df.value_counts(\"Embarked\", normalize=False)"
   ]
  },
  {
   "cell_type": "code",
   "execution_count": 39,
   "id": "3b567535-9f87-4b1a-88af-f45ec6167786",
   "metadata": {},
   "outputs": [
    {
     "data": {
      "text/plain": [
       "Survived\n",
       "0    549\n",
       "1    342\n",
       "Name: count, dtype: int64"
      ]
     },
     "execution_count": 39,
     "metadata": {},
     "output_type": "execute_result"
    }
   ],
   "source": [
    "df.value_counts(\"Survived\", normalize=False)"
   ]
  },
  {
   "cell_type": "code",
   "execution_count": 42,
   "id": "07d7db83-767a-4ef1-ae1b-9c8030566dec",
   "metadata": {},
   "outputs": [
    {
     "name": "stderr",
     "output_type": "stream",
     "text": [
      "C:\\Users\\hp\\AppData\\Local\\Temp\\ipykernel_16900\\2585940025.py:2: FutureWarning: Operation between non boolean Series with different indexes will no longer return a boolean result in a future version. Cast both Series to object type to maintain the prior behavior.\n",
      "  filter1 = df[(df['Sex'] == 'male') & (df.value_counts(\"Survived\"))]\n"
     ]
    },
    {
     "data": {
      "text/html": [
       "<div>\n",
       "<style scoped>\n",
       "    .dataframe tbody tr th:only-of-type {\n",
       "        vertical-align: middle;\n",
       "    }\n",
       "\n",
       "    .dataframe tbody tr th {\n",
       "        vertical-align: top;\n",
       "    }\n",
       "\n",
       "    .dataframe thead th {\n",
       "        text-align: right;\n",
       "    }\n",
       "</style>\n",
       "<table border=\"1\" class=\"dataframe\">\n",
       "  <thead>\n",
       "    <tr style=\"text-align: right;\">\n",
       "      <th></th>\n",
       "      <th>PassengerId</th>\n",
       "      <th>Survived</th>\n",
       "      <th>Pclass</th>\n",
       "      <th>Name</th>\n",
       "      <th>Sex</th>\n",
       "      <th>Age</th>\n",
       "      <th>SibSp</th>\n",
       "      <th>Parch</th>\n",
       "      <th>Ticket</th>\n",
       "      <th>Fare</th>\n",
       "      <th>Cabin</th>\n",
       "      <th>Embarked</th>\n",
       "    </tr>\n",
       "  </thead>\n",
       "  <tbody>\n",
       "    <tr>\n",
       "      <th>0</th>\n",
       "      <td>1</td>\n",
       "      <td>0</td>\n",
       "      <td>3</td>\n",
       "      <td>Braund, Mr. Owen Harris</td>\n",
       "      <td>male</td>\n",
       "      <td>22.0</td>\n",
       "      <td>1</td>\n",
       "      <td>0</td>\n",
       "      <td>A/5 21171</td>\n",
       "      <td>7.25</td>\n",
       "      <td>NaN</td>\n",
       "      <td>S</td>\n",
       "    </tr>\n",
       "  </tbody>\n",
       "</table>\n",
       "</div>"
      ],
      "text/plain": [
       "   PassengerId  Survived  Pclass                     Name   Sex   Age  SibSp  \\\n",
       "0            1         0       3  Braund, Mr. Owen Harris  male  22.0      1   \n",
       "\n",
       "   Parch     Ticket  Fare Cabin Embarked  \n",
       "0      0  A/5 21171  7.25   NaN        S  "
      ]
     },
     "execution_count": 42,
     "metadata": {},
     "output_type": "execute_result"
    }
   ],
   "source": [
    "# Want to know how many male survived\n",
    "filter1 = df[(df['Sex'] == 'male') & (df.value_counts(\"Survived\"))]\n",
    "filter1"
   ]
  },
  {
   "cell_type": "code",
   "execution_count": 43,
   "id": "1fb47f98-b21d-4570-a047-7243f928c00c",
   "metadata": {},
   "outputs": [
    {
     "data": {
      "text/plain": [
       "Survived\n",
       "0    468\n",
       "1    109\n",
       "Name: count, dtype: int64"
      ]
     },
     "execution_count": 43,
     "metadata": {},
     "output_type": "execute_result"
    }
   ],
   "source": [
    "df[df['Sex']=='male'].value_counts(\"Survived\")"
   ]
  },
  {
   "cell_type": "markdown",
   "id": "44ff8af3-d559-4466-87ac-b0230143a594",
   "metadata": {},
   "source": [
    "#### groupby"
   ]
  },
  {
   "cell_type": "code",
   "execution_count": 46,
   "id": "727a8ed4-8a88-4fcb-ac00-82d849580d39",
   "metadata": {},
   "outputs": [
    {
     "data": {
      "text/html": [
       "<div>\n",
       "<style scoped>\n",
       "    .dataframe tbody tr th:only-of-type {\n",
       "        vertical-align: middle;\n",
       "    }\n",
       "\n",
       "    .dataframe tbody tr th {\n",
       "        vertical-align: top;\n",
       "    }\n",
       "\n",
       "    .dataframe thead th {\n",
       "        text-align: right;\n",
       "    }\n",
       "</style>\n",
       "<table border=\"1\" class=\"dataframe\">\n",
       "  <thead>\n",
       "    <tr style=\"text-align: right;\">\n",
       "      <th></th>\n",
       "      <th>PassengerId</th>\n",
       "      <th>Survived</th>\n",
       "      <th>Pclass</th>\n",
       "      <th>Name</th>\n",
       "      <th>Age</th>\n",
       "      <th>SibSp</th>\n",
       "      <th>Parch</th>\n",
       "      <th>Ticket</th>\n",
       "      <th>Fare</th>\n",
       "      <th>Cabin</th>\n",
       "      <th>Embarked</th>\n",
       "    </tr>\n",
       "    <tr>\n",
       "      <th>Sex</th>\n",
       "      <th></th>\n",
       "      <th></th>\n",
       "      <th></th>\n",
       "      <th></th>\n",
       "      <th></th>\n",
       "      <th></th>\n",
       "      <th></th>\n",
       "      <th></th>\n",
       "      <th></th>\n",
       "      <th></th>\n",
       "      <th></th>\n",
       "    </tr>\n",
       "  </thead>\n",
       "  <tbody>\n",
       "    <tr>\n",
       "      <th>female</th>\n",
       "      <td>135343</td>\n",
       "      <td>233</td>\n",
       "      <td>678</td>\n",
       "      <td>Cumings, Mrs. John Bradley (Florence Briggs Th...</td>\n",
       "      <td>7286.00</td>\n",
       "      <td>218</td>\n",
       "      <td>204</td>\n",
       "      <td>PC 17599STON/O2. 3101282113803347742237736PP 9...</td>\n",
       "      <td>13966.6628</td>\n",
       "      <td>C85C123G6C103B78D33B28F33C23 C25 C27E101F E69D...</td>\n",
       "      <td>CSSSCSSSSSCQSSQCQSCSSCQQSCSSSSSSSQSSSSSSQCSCSS...</td>\n",
       "    </tr>\n",
       "    <tr>\n",
       "      <th>male</th>\n",
       "      <td>262043</td>\n",
       "      <td>109</td>\n",
       "      <td>1379</td>\n",
       "      <td>Braund, Mr. Owen HarrisAllen, Mr. William Henr...</td>\n",
       "      <td>13919.17</td>\n",
       "      <td>248</td>\n",
       "      <td>136</td>\n",
       "      <td>A/5 2117137345033087717463349909A/5. 215134708...</td>\n",
       "      <td>14727.2865</td>\n",
       "      <td>E46D56A6C23 C25 C27B30C52C83F G73E31A5D10 D12D...</td>\n",
       "      <td>SSQSSSSQSSSSCSSCSCSCSCSQCSSCSCSCSSCCSSSSCSSSSS...</td>\n",
       "    </tr>\n",
       "  </tbody>\n",
       "</table>\n",
       "</div>"
      ],
      "text/plain": [
       "        PassengerId  Survived  Pclass  \\\n",
       "Sex                                     \n",
       "female       135343       233     678   \n",
       "male         262043       109    1379   \n",
       "\n",
       "                                                     Name       Age  SibSp  \\\n",
       "Sex                                                                          \n",
       "female  Cumings, Mrs. John Bradley (Florence Briggs Th...   7286.00    218   \n",
       "male    Braund, Mr. Owen HarrisAllen, Mr. William Henr...  13919.17    248   \n",
       "\n",
       "        Parch                                             Ticket        Fare  \\\n",
       "Sex                                                                            \n",
       "female    204  PC 17599STON/O2. 3101282113803347742237736PP 9...  13966.6628   \n",
       "male      136  A/5 2117137345033087717463349909A/5. 215134708...  14727.2865   \n",
       "\n",
       "                                                    Cabin  \\\n",
       "Sex                                                         \n",
       "female  C85C123G6C103B78D33B28F33C23 C25 C27E101F E69D...   \n",
       "male    E46D56A6C23 C25 C27B30C52C83F G73E31A5D10 D12D...   \n",
       "\n",
       "                                                 Embarked  \n",
       "Sex                                                        \n",
       "female  CSSSCSSSSSCQSSQCQSCSSCQQSCSSSSSSSQSSSSSSQCSCSS...  \n",
       "male    SSQSSSSQSSSSCSSCSCSCSCSQCSSCSCSCSSCCSSSSCSSSSS...  "
      ]
     },
     "execution_count": 46,
     "metadata": {},
     "output_type": "execute_result"
    }
   ],
   "source": [
    "#groupby sex\n",
    "grouped = df.groupby(by='Sex')\n",
    "grouped.sum()"
   ]
  },
  {
   "cell_type": "code",
   "execution_count": 48,
   "id": "c0911882-a002-4537-a62d-b7cd4e53cd27",
   "metadata": {},
   "outputs": [
    {
     "data": {
      "text/html": [
       "<div>\n",
       "<style scoped>\n",
       "    .dataframe tbody tr th:only-of-type {\n",
       "        vertical-align: middle;\n",
       "    }\n",
       "\n",
       "    .dataframe tbody tr th {\n",
       "        vertical-align: top;\n",
       "    }\n",
       "\n",
       "    .dataframe thead th {\n",
       "        text-align: right;\n",
       "    }\n",
       "</style>\n",
       "<table border=\"1\" class=\"dataframe\">\n",
       "  <thead>\n",
       "    <tr style=\"text-align: right;\">\n",
       "      <th></th>\n",
       "      <th>Fare</th>\n",
       "    </tr>\n",
       "    <tr>\n",
       "      <th>Sex</th>\n",
       "      <th></th>\n",
       "    </tr>\n",
       "  </thead>\n",
       "  <tbody>\n",
       "    <tr>\n",
       "      <th>female</th>\n",
       "      <td>13966.6628</td>\n",
       "    </tr>\n",
       "    <tr>\n",
       "      <th>male</th>\n",
       "      <td>14727.2865</td>\n",
       "    </tr>\n",
       "  </tbody>\n",
       "</table>\n",
       "</div>"
      ],
      "text/plain": [
       "              Fare\n",
       "Sex               \n",
       "female  13966.6628\n",
       "male    14727.2865"
      ]
     },
     "execution_count": 48,
     "metadata": {},
     "output_type": "execute_result"
    }
   ],
   "source": [
    "groupe = df[['Sex', 'Fare']].groupby('Sex')\n",
    "groupe.sum()"
   ]
  },
  {
   "cell_type": "code",
   "execution_count": 49,
   "id": "75def959-de8f-4509-8f95-0f43ef0bdf0e",
   "metadata": {},
   "outputs": [
    {
     "data": {
      "text/html": [
       "<div>\n",
       "<style scoped>\n",
       "    .dataframe tbody tr th:only-of-type {\n",
       "        vertical-align: middle;\n",
       "    }\n",
       "\n",
       "    .dataframe tbody tr th {\n",
       "        vertical-align: top;\n",
       "    }\n",
       "\n",
       "    .dataframe thead th {\n",
       "        text-align: right;\n",
       "    }\n",
       "</style>\n",
       "<table border=\"1\" class=\"dataframe\">\n",
       "  <thead>\n",
       "    <tr style=\"text-align: right;\">\n",
       "      <th></th>\n",
       "      <th>Fare</th>\n",
       "      <th>Age</th>\n",
       "    </tr>\n",
       "    <tr>\n",
       "      <th>Embarked</th>\n",
       "      <th></th>\n",
       "      <th></th>\n",
       "    </tr>\n",
       "  </thead>\n",
       "  <tbody>\n",
       "    <tr>\n",
       "      <th>C</th>\n",
       "      <td>59.954144</td>\n",
       "      <td>30.814769</td>\n",
       "    </tr>\n",
       "    <tr>\n",
       "      <th>Q</th>\n",
       "      <td>13.276030</td>\n",
       "      <td>28.089286</td>\n",
       "    </tr>\n",
       "    <tr>\n",
       "      <th>S</th>\n",
       "      <td>27.079812</td>\n",
       "      <td>29.445397</td>\n",
       "    </tr>\n",
       "  </tbody>\n",
       "</table>\n",
       "</div>"
      ],
      "text/plain": [
       "               Fare        Age\n",
       "Embarked                      \n",
       "C         59.954144  30.814769\n",
       "Q         13.276030  28.089286\n",
       "S         27.079812  29.445397"
      ]
     },
     "execution_count": 49,
     "metadata": {},
     "output_type": "execute_result"
    }
   ],
   "source": [
    "group_by_embarked = df[['Embarked', 'Fare', 'Age']].groupby(by='Embarked')\n",
    "group_by_embarked.mean()"
   ]
  },
  {
   "cell_type": "code",
   "execution_count": 51,
   "id": "ac3cf557-8733-4bb8-a478-938e606bdb06",
   "metadata": {},
   "outputs": [
    {
     "data": {
      "text/plain": [
       "0"
      ]
     },
     "execution_count": 51,
     "metadata": {},
     "output_type": "execute_result"
    }
   ],
   "source": [
    "# Handiling duplicates \n",
    "df.duplicated().sum()"
   ]
  },
  {
   "cell_type": "code",
   "execution_count": 52,
   "id": "480e6b03-cbbc-4367-9da7-43c5c095a97e",
   "metadata": {},
   "outputs": [],
   "source": [
    "df1 = pd.DataFrame({\n",
    "    'brand': ['Yum Yum', 'Yum Yum', 'Indomie', 'Indomie', 'Indomie'],\n",
    "    'style': ['cup', 'cup', 'cup', 'pack', 'pack'],\n",
    "    'rating': [4, 4, 3.5, 15, 5]\n",
    "})"
   ]
  },
  {
   "cell_type": "code",
   "execution_count": 53,
   "id": "73931e1a-7731-41ea-a3de-fa173f47fe45",
   "metadata": {},
   "outputs": [
    {
     "data": {
      "text/plain": [
       "1"
      ]
     },
     "execution_count": 53,
     "metadata": {},
     "output_type": "execute_result"
    }
   ],
   "source": [
    "df1.duplicated().sum()"
   ]
  },
  {
   "cell_type": "code",
   "execution_count": 54,
   "id": "b2ef2a06-b8cd-4872-a39f-05f8096ee238",
   "metadata": {},
   "outputs": [],
   "source": [
    "df1.drop_duplicates(inplace=True)"
   ]
  },
  {
   "cell_type": "code",
   "execution_count": 55,
   "id": "5165ba84-2ebd-46e8-b159-9710062d124e",
   "metadata": {},
   "outputs": [
    {
     "data": {
      "text/html": [
       "<div>\n",
       "<style scoped>\n",
       "    .dataframe tbody tr th:only-of-type {\n",
       "        vertical-align: middle;\n",
       "    }\n",
       "\n",
       "    .dataframe tbody tr th {\n",
       "        vertical-align: top;\n",
       "    }\n",
       "\n",
       "    .dataframe thead th {\n",
       "        text-align: right;\n",
       "    }\n",
       "</style>\n",
       "<table border=\"1\" class=\"dataframe\">\n",
       "  <thead>\n",
       "    <tr style=\"text-align: right;\">\n",
       "      <th></th>\n",
       "      <th>brand</th>\n",
       "      <th>style</th>\n",
       "      <th>rating</th>\n",
       "    </tr>\n",
       "  </thead>\n",
       "  <tbody>\n",
       "    <tr>\n",
       "      <th>0</th>\n",
       "      <td>Yum Yum</td>\n",
       "      <td>cup</td>\n",
       "      <td>4.0</td>\n",
       "    </tr>\n",
       "    <tr>\n",
       "      <th>2</th>\n",
       "      <td>Indomie</td>\n",
       "      <td>cup</td>\n",
       "      <td>3.5</td>\n",
       "    </tr>\n",
       "    <tr>\n",
       "      <th>3</th>\n",
       "      <td>Indomie</td>\n",
       "      <td>pack</td>\n",
       "      <td>15.0</td>\n",
       "    </tr>\n",
       "    <tr>\n",
       "      <th>4</th>\n",
       "      <td>Indomie</td>\n",
       "      <td>pack</td>\n",
       "      <td>5.0</td>\n",
       "    </tr>\n",
       "  </tbody>\n",
       "</table>\n",
       "</div>"
      ],
      "text/plain": [
       "     brand style  rating\n",
       "0  Yum Yum   cup     4.0\n",
       "2  Indomie   cup     3.5\n",
       "3  Indomie  pack    15.0\n",
       "4  Indomie  pack     5.0"
      ]
     },
     "execution_count": 55,
     "metadata": {},
     "output_type": "execute_result"
    }
   ],
   "source": [
    "df1"
   ]
  },
  {
   "cell_type": "code",
   "execution_count": 56,
   "id": "3289e050-7c44-4dea-8c13-8dc95f46d8fa",
   "metadata": {},
   "outputs": [
    {
     "name": "stderr",
     "output_type": "stream",
     "text": [
      "C:\\Users\\hp\\AppData\\Local\\Temp\\ipykernel_16900\\2895209214.py:2: FutureWarning: A value is trying to be set on a copy of a DataFrame or Series through chained assignment using an inplace method.\n",
      "The behavior will change in pandas 3.0. This inplace method will never work because the intermediate object on which we are setting values always behaves as a copy.\n",
      "\n",
      "For example, when doing 'df[col].method(value, inplace=True)', try using 'df.method({col: value}, inplace=True)' or df[col] = df[col].method(value) instead, to perform the operation inplace on the original object.\n",
      "\n",
      "\n",
      "  df['Age'].fillna(value=mean_age, inplace=True)\n"
     ]
    }
   ],
   "source": [
    "mean_age = df['Age'].mean()\n",
    "df['Age'].fillna(value=mean_age, inplace=True)"
   ]
  },
  {
   "cell_type": "code",
   "execution_count": 58,
   "id": "ea9a72a1-c4ac-43b7-930a-7fadc4c5e0e1",
   "metadata": {},
   "outputs": [
    {
     "data": {
      "text/plain": [
       "PassengerId      int64\n",
       "Survived         int64\n",
       "Pclass           int64\n",
       "Name            object\n",
       "Sex             object\n",
       "Age            float64\n",
       "SibSp            int64\n",
       "Parch            int64\n",
       "Ticket          object\n",
       "Fare           float64\n",
       "Cabin           object\n",
       "Embarked        object\n",
       "dtype: object"
      ]
     },
     "execution_count": 58,
     "metadata": {},
     "output_type": "execute_result"
    }
   ],
   "source": [
    "df.dtypes"
   ]
  },
  {
   "cell_type": "code",
   "execution_count": 59,
   "id": "c95a96ca-2eaf-48c5-95c2-5e954c0520fd",
   "metadata": {},
   "outputs": [],
   "source": [
    "df['Age'] = df['Age'].astype(np.int32)"
   ]
  },
  {
   "cell_type": "code",
   "execution_count": 60,
   "id": "b415dcff-7a91-47ad-ba37-12dfd3f4eac7",
   "metadata": {},
   "outputs": [
    {
     "data": {
      "text/plain": [
       "PassengerId      int64\n",
       "Survived         int64\n",
       "Pclass           int64\n",
       "Name            object\n",
       "Sex             object\n",
       "Age              int32\n",
       "SibSp            int64\n",
       "Parch            int64\n",
       "Ticket          object\n",
       "Fare           float64\n",
       "Cabin           object\n",
       "Embarked        object\n",
       "dtype: object"
      ]
     },
     "execution_count": 60,
     "metadata": {},
     "output_type": "execute_result"
    }
   ],
   "source": [
    "df.dtypes"
   ]
  },
  {
   "cell_type": "markdown",
   "id": "8f1b26c5-e33b-4589-919a-6f5e5c84de08",
   "metadata": {},
   "source": [
    "#### Pandas DateTime"
   ]
  },
  {
   "cell_type": "code",
   "execution_count": 61,
   "id": "73a9b256-81fa-49bb-b720-412a950ef412",
   "metadata": {},
   "outputs": [
    {
     "name": "stdout",
     "output_type": "stream",
     "text": [
      "2021-12-24 12:30:00\n"
     ]
    }
   ],
   "source": [
    "date_string = '2021-12-24 12:30:00'\n",
    "date = pd.to_datetime(date_string)\n",
    "print(date)\n"
   ]
  },
  {
   "cell_type": "code",
   "execution_count": 62,
   "id": "3a23a8d1-7038-4919-bc60-5989bbf5b552",
   "metadata": {},
   "outputs": [
    {
     "data": {
      "text/html": [
       "<div>\n",
       "<style scoped>\n",
       "    .dataframe tbody tr th:only-of-type {\n",
       "        vertical-align: middle;\n",
       "    }\n",
       "\n",
       "    .dataframe tbody tr th {\n",
       "        vertical-align: top;\n",
       "    }\n",
       "\n",
       "    .dataframe thead th {\n",
       "        text-align: right;\n",
       "    }\n",
       "</style>\n",
       "<table border=\"1\" class=\"dataframe\">\n",
       "  <thead>\n",
       "    <tr style=\"text-align: right;\">\n",
       "      <th></th>\n",
       "      <th>date</th>\n",
       "    </tr>\n",
       "  </thead>\n",
       "  <tbody>\n",
       "    <tr>\n",
       "      <th>0</th>\n",
       "      <td>2021-01-13</td>\n",
       "    </tr>\n",
       "    <tr>\n",
       "      <th>1</th>\n",
       "      <td>2022-10-22</td>\n",
       "    </tr>\n",
       "    <tr>\n",
       "      <th>2</th>\n",
       "      <td>2023-12-03</td>\n",
       "    </tr>\n",
       "  </tbody>\n",
       "</table>\n",
       "</div>"
      ],
      "text/plain": [
       "        date\n",
       "0 2021-01-13\n",
       "1 2022-10-22\n",
       "2 2023-12-03"
      ]
     },
     "execution_count": 62,
     "metadata": {},
     "output_type": "execute_result"
    }
   ],
   "source": [
    "df = pd.DataFrame({'date': ['2021-01-13', '2022-10-22', '2023-12-03']})\n",
    "df['date'] = pd.to_datetime(df['date'])\n",
    "df"
   ]
  },
  {
   "cell_type": "code",
   "execution_count": 64,
   "id": "707b1c65-234d-43db-98ba-a6a843296e96",
   "metadata": {},
   "outputs": [
    {
     "data": {
      "text/html": [
       "<div>\n",
       "<style scoped>\n",
       "    .dataframe tbody tr th:only-of-type {\n",
       "        vertical-align: middle;\n",
       "    }\n",
       "\n",
       "    .dataframe tbody tr th {\n",
       "        vertical-align: top;\n",
       "    }\n",
       "\n",
       "    .dataframe thead th {\n",
       "        text-align: right;\n",
       "    }\n",
       "</style>\n",
       "<table border=\"1\" class=\"dataframe\">\n",
       "  <thead>\n",
       "    <tr style=\"text-align: right;\">\n",
       "      <th></th>\n",
       "      <th>date</th>\n",
       "      <th>year</th>\n",
       "      <th>month</th>\n",
       "      <th>day</th>\n",
       "    </tr>\n",
       "  </thead>\n",
       "  <tbody>\n",
       "    <tr>\n",
       "      <th>0</th>\n",
       "      <td>2021-01-13</td>\n",
       "      <td>2021</td>\n",
       "      <td>1</td>\n",
       "      <td>13</td>\n",
       "    </tr>\n",
       "    <tr>\n",
       "      <th>1</th>\n",
       "      <td>2022-10-22</td>\n",
       "      <td>2022</td>\n",
       "      <td>10</td>\n",
       "      <td>22</td>\n",
       "    </tr>\n",
       "    <tr>\n",
       "      <th>2</th>\n",
       "      <td>2023-12-03</td>\n",
       "      <td>2023</td>\n",
       "      <td>12</td>\n",
       "      <td>3</td>\n",
       "    </tr>\n",
       "  </tbody>\n",
       "</table>\n",
       "</div>"
      ],
      "text/plain": [
       "        date  year  month  day\n",
       "0 2021-01-13  2021      1   13\n",
       "1 2022-10-22  2022     10   22\n",
       "2 2023-12-03  2023     12    3"
      ]
     },
     "execution_count": 64,
     "metadata": {},
     "output_type": "execute_result"
    }
   ],
   "source": [
    "df['year'] = df['date'].dt.year\n",
    "df['month'] = df['date'].dt.month\n",
    "df['day'] = df['date'].dt.day\n",
    "df"
   ]
  },
  {
   "cell_type": "code",
   "execution_count": 65,
   "id": "2be32500-17bc-46a2-a9f3-ea42d9830183",
   "metadata": {},
   "outputs": [
    {
     "name": "stdout",
     "output_type": "stream",
     "text": [
      "          sum       mean  max  min\n",
      "Category                          \n",
      "A          55  18.333333   30   10\n",
      "B          80  26.666667   35   20\n"
     ]
    }
   ],
   "source": [
    "data = {\n",
    "    'Category': ['A', 'A', 'B', 'B', 'A', 'B'],\n",
    "    'Value': [10, 15, 20, 25, 30, 35]\n",
    "}\n",
    "df = pd.DataFrame(data)\n",
    "\n",
    "# applying multiple aggregation functions to a single column\n",
    "result = df.groupby('Category')['Value'].agg(['sum', 'mean', 'max', 'min'])\n",
    "\n",
    "print(result)"
   ]
  },
  {
   "cell_type": "markdown",
   "id": "58c8d58b-1141-4491-9350-ef38b7623095",
   "metadata": {},
   "source": [
    "<br>"
   ]
  },
  {
   "cell_type": "markdown",
   "id": "fdfb5f9b-5168-48ab-9288-eba3e6c333d9",
   "metadata": {},
   "source": [
    "#### Supervised Machine Learning"
   ]
  },
  {
   "cell_type": "code",
   "execution_count": 66,
   "id": "d6df9635-b559-44c8-b317-4f6869b0ea41",
   "metadata": {},
   "outputs": [
    {
     "data": {
      "text/html": [
       "<div>\n",
       "<style scoped>\n",
       "    .dataframe tbody tr th:only-of-type {\n",
       "        vertical-align: middle;\n",
       "    }\n",
       "\n",
       "    .dataframe tbody tr th {\n",
       "        vertical-align: top;\n",
       "    }\n",
       "\n",
       "    .dataframe thead th {\n",
       "        text-align: right;\n",
       "    }\n",
       "</style>\n",
       "<table border=\"1\" class=\"dataframe\">\n",
       "  <thead>\n",
       "    <tr style=\"text-align: right;\">\n",
       "      <th></th>\n",
       "      <th>matric_gpa_%</th>\n",
       "      <th>accommodation_status</th>\n",
       "      <th>monthly_allowance</th>\n",
       "      <th>scholarship_bursary_2023</th>\n",
       "      <th>study_hours_week</th>\n",
       "      <th>socialising_week</th>\n",
       "      <th>drinks_night</th>\n",
       "      <th>classes_missed_alcohol</th>\n",
       "      <th>modules_failed</th>\n",
       "      <th>in_relationship</th>\n",
       "      <th>...</th>\n",
       "      <th>faculty_Law</th>\n",
       "      <th>faculty_Medicine and Health Services</th>\n",
       "      <th>faculty_Science</th>\n",
       "      <th>year_in_2023_0th Year</th>\n",
       "      <th>year_in_2023_1st Year</th>\n",
       "      <th>year_in_2023_2nd Year</th>\n",
       "      <th>year_in_2023_3rd Year</th>\n",
       "      <th>year_in_2023_4th Year</th>\n",
       "      <th>year_in_2023_Postgraduate</th>\n",
       "      <th>target</th>\n",
       "    </tr>\n",
       "  </thead>\n",
       "  <tbody>\n",
       "    <tr>\n",
       "      <th>0</th>\n",
       "      <td>-0.365008</td>\n",
       "      <td>-0.395407</td>\n",
       "      <td>-1.095457</td>\n",
       "      <td>-0.360505</td>\n",
       "      <td>-1.155375</td>\n",
       "      <td>-1.205451</td>\n",
       "      <td>-1.407833</td>\n",
       "      <td>-2.507187</td>\n",
       "      <td>-0.753244</td>\n",
       "      <td>-1.148268</td>\n",
       "      <td>...</td>\n",
       "      <td>-0.172062</td>\n",
       "      <td>-0.172062</td>\n",
       "      <td>-0.399073</td>\n",
       "      <td>-0.056614</td>\n",
       "      <td>-0.762108</td>\n",
       "      <td>1.076392</td>\n",
       "      <td>-0.38278</td>\n",
       "      <td>-0.151248</td>\n",
       "      <td>-0.127412</td>\n",
       "      <td>72.0</td>\n",
       "    </tr>\n",
       "    <tr>\n",
       "      <th>1</th>\n",
       "      <td>1.794677</td>\n",
       "      <td>-0.395407</td>\n",
       "      <td>-0.464006</td>\n",
       "      <td>2.773886</td>\n",
       "      <td>-1.155375</td>\n",
       "      <td>-1.205451</td>\n",
       "      <td>-0.571682</td>\n",
       "      <td>-1.676764</td>\n",
       "      <td>-0.753244</td>\n",
       "      <td>0.870877</td>\n",
       "      <td>...</td>\n",
       "      <td>-0.172062</td>\n",
       "      <td>-0.172062</td>\n",
       "      <td>-0.399073</td>\n",
       "      <td>-0.056614</td>\n",
       "      <td>-0.762108</td>\n",
       "      <td>1.076392</td>\n",
       "      <td>-0.38278</td>\n",
       "      <td>-0.151248</td>\n",
       "      <td>-0.127412</td>\n",
       "      <td>75.0</td>\n",
       "    </tr>\n",
       "    <tr>\n",
       "      <th>2</th>\n",
       "      <td>-0.365008</td>\n",
       "      <td>-0.395407</td>\n",
       "      <td>-1.095457</td>\n",
       "      <td>-0.360505</td>\n",
       "      <td>-0.362322</td>\n",
       "      <td>-0.498885</td>\n",
       "      <td>-1.407833</td>\n",
       "      <td>-2.507187</td>\n",
       "      <td>-0.753244</td>\n",
       "      <td>0.870877</td>\n",
       "      <td>...</td>\n",
       "      <td>-0.172062</td>\n",
       "      <td>-0.172062</td>\n",
       "      <td>-0.399073</td>\n",
       "      <td>-0.056614</td>\n",
       "      <td>1.312151</td>\n",
       "      <td>-0.929029</td>\n",
       "      <td>-0.38278</td>\n",
       "      <td>-0.151248</td>\n",
       "      <td>-0.127412</td>\n",
       "      <td>55.0</td>\n",
       "    </tr>\n",
       "    <tr>\n",
       "      <th>3</th>\n",
       "      <td>1.794677</td>\n",
       "      <td>-0.395407</td>\n",
       "      <td>0.167446</td>\n",
       "      <td>-0.360505</td>\n",
       "      <td>-0.362322</td>\n",
       "      <td>0.207681</td>\n",
       "      <td>-1.407833</td>\n",
       "      <td>-0.846341</td>\n",
       "      <td>-0.753244</td>\n",
       "      <td>-1.148268</td>\n",
       "      <td>...</td>\n",
       "      <td>-0.172062</td>\n",
       "      <td>-0.172062</td>\n",
       "      <td>-0.399073</td>\n",
       "      <td>-0.056614</td>\n",
       "      <td>-0.762108</td>\n",
       "      <td>1.076392</td>\n",
       "      <td>-0.38278</td>\n",
       "      <td>-0.151248</td>\n",
       "      <td>-0.127412</td>\n",
       "      <td>84.0</td>\n",
       "    </tr>\n",
       "    <tr>\n",
       "      <th>4</th>\n",
       "      <td>-0.697268</td>\n",
       "      <td>-0.395407</td>\n",
       "      <td>-1.095457</td>\n",
       "      <td>-0.360505</td>\n",
       "      <td>-0.362322</td>\n",
       "      <td>-1.205451</td>\n",
       "      <td>0.264470</td>\n",
       "      <td>-0.015919</td>\n",
       "      <td>-0.077699</td>\n",
       "      <td>0.870877</td>\n",
       "      <td>...</td>\n",
       "      <td>-0.172062</td>\n",
       "      <td>-0.172062</td>\n",
       "      <td>-0.399073</td>\n",
       "      <td>-0.056614</td>\n",
       "      <td>-0.762108</td>\n",
       "      <td>1.076392</td>\n",
       "      <td>-0.38278</td>\n",
       "      <td>-0.151248</td>\n",
       "      <td>-0.127412</td>\n",
       "      <td>52.0</td>\n",
       "    </tr>\n",
       "  </tbody>\n",
       "</table>\n",
       "<p>5 rows × 29 columns</p>\n",
       "</div>"
      ],
      "text/plain": [
       "   matric_gpa_%  accommodation_status  monthly_allowance  \\\n",
       "0     -0.365008             -0.395407          -1.095457   \n",
       "1      1.794677             -0.395407          -0.464006   \n",
       "2     -0.365008             -0.395407          -1.095457   \n",
       "3      1.794677             -0.395407           0.167446   \n",
       "4     -0.697268             -0.395407          -1.095457   \n",
       "\n",
       "   scholarship_bursary_2023  study_hours_week  socialising_week  drinks_night  \\\n",
       "0                 -0.360505         -1.155375         -1.205451     -1.407833   \n",
       "1                  2.773886         -1.155375         -1.205451     -0.571682   \n",
       "2                 -0.360505         -0.362322         -0.498885     -1.407833   \n",
       "3                 -0.360505         -0.362322          0.207681     -1.407833   \n",
       "4                 -0.360505         -0.362322         -1.205451      0.264470   \n",
       "\n",
       "   classes_missed_alcohol  modules_failed  in_relationship  ...  faculty_Law  \\\n",
       "0               -2.507187       -0.753244        -1.148268  ...    -0.172062   \n",
       "1               -1.676764       -0.753244         0.870877  ...    -0.172062   \n",
       "2               -2.507187       -0.753244         0.870877  ...    -0.172062   \n",
       "3               -0.846341       -0.753244        -1.148268  ...    -0.172062   \n",
       "4               -0.015919       -0.077699         0.870877  ...    -0.172062   \n",
       "\n",
       "   faculty_Medicine and Health Services  faculty_Science  \\\n",
       "0                             -0.172062        -0.399073   \n",
       "1                             -0.172062        -0.399073   \n",
       "2                             -0.172062        -0.399073   \n",
       "3                             -0.172062        -0.399073   \n",
       "4                             -0.172062        -0.399073   \n",
       "\n",
       "   year_in_2023_0th Year  year_in_2023_1st Year  year_in_2023_2nd Year  \\\n",
       "0              -0.056614              -0.762108               1.076392   \n",
       "1              -0.056614              -0.762108               1.076392   \n",
       "2              -0.056614               1.312151              -0.929029   \n",
       "3              -0.056614              -0.762108               1.076392   \n",
       "4              -0.056614              -0.762108               1.076392   \n",
       "\n",
       "   year_in_2023_3rd Year  year_in_2023_4th Year  year_in_2023_Postgraduate  \\\n",
       "0               -0.38278              -0.151248                  -0.127412   \n",
       "1               -0.38278              -0.151248                  -0.127412   \n",
       "2               -0.38278              -0.151248                  -0.127412   \n",
       "3               -0.38278              -0.151248                  -0.127412   \n",
       "4               -0.38278              -0.151248                  -0.127412   \n",
       "\n",
       "   target  \n",
       "0    72.0  \n",
       "1    75.0  \n",
       "2    55.0  \n",
       "3    84.0  \n",
       "4    52.0  \n",
       "\n",
       "[5 rows x 29 columns]"
      ]
     },
     "execution_count": 66,
     "metadata": {},
     "output_type": "execute_result"
    }
   ],
   "source": [
    "data = pd.read_csv(\"clean_stat_data.csv\")\n",
    "data.head()"
   ]
  },
  {
   "cell_type": "code",
   "execution_count": 67,
   "id": "46f65484-e462-4afc-a425-7d3e13fa726c",
   "metadata": {},
   "outputs": [],
   "source": [
    "X = data.drop('target', axis=1).to_numpy()\n",
    "y = data['target'].to_numpy()"
   ]
  },
  {
   "cell_type": "code",
   "execution_count": 68,
   "id": "98ee4680-de0a-45e2-87b4-5025460e10f4",
   "metadata": {},
   "outputs": [
    {
     "data": {
      "text/plain": [
       "array([72.  , 75.  , 55.  , 84.  , 52.  , 54.  , 75.  , 75.  , 64.  ,\n",
       "       76.  , 75.  , 65.  , 55.  , 54.  , 62.  , 55.  , 76.  , 65.  ,\n",
       "       69.  , 60.  , 55.  , 74.  , 70.  , 60.  , 54.  , 75.  , 63.  ,\n",
       "       73.  , 57.  , 75.  , 78.  , 55.  , 70.  , 60.  , 61.  , 63.  ,\n",
       "       60.  , 57.  , 74.  , 76.  , 80.  , 66.  , 80.  , 70.  , 65.  ,\n",
       "       75.  , 63.  , 80.  , 65.  , 75.  , 65.  , 61.  , 76.  , 65.  ,\n",
       "       58.  , 60.  , 65.  , 60.  , 58.  , 55.  , 71.  , 60.  , 70.  ,\n",
       "       60.  , 64.  , 84.  , 60.  , 61.  , 66.  , 65.  , 53.  , 62.  ,\n",
       "       65.  , 62.  , 61.  , 73.  , 60.  , 60.  , 64.  , 62.  , 69.  ,\n",
       "       57.  , 60.  , 60.  , 66.  , 50.  , 70.  , 65.  , 72.  , 62.  ,\n",
       "       76.  , 75.  , 88.  , 61.  , 52.  , 79.  , 56.  , 70.  , 60.  ,\n",
       "       57.  , 64.  , 60.  , 74.  , 73.  , 51.  , 60.  , 60.  , 65.  ,\n",
       "       54.  , 65.  , 64.  , 61.  , 68.  , 53.  , 73.  , 50.  , 64.  ,\n",
       "       73.  , 73.  , 50.  , 68.  , 65.  , 71.  , 65.  , 60.  , 72.  ,\n",
       "       70.  , 77.  , 60.  , 75.  , 68.  , 65.89, 63.  , 55.  , 73.  ,\n",
       "       80.  , 69.  , 70.  , 73.5 , 70.  , 68.  , 63.  , 77.  , 70.  ,\n",
       "       60.  , 50.  , 60.  , 73.  , 65.  , 75.  , 62.  , 63.  , 62.  ,\n",
       "       60.  , 55.  , 65.  , 57.  , 72.  , 50.  , 51.  , 88.  , 54.  ,\n",
       "       68.  , 59.  , 65.  , 77.  , 62.  , 60.  , 84.  , 70.  , 60.  ,\n",
       "       63.  , 80.  , 78.  , 76.  , 63.  , 65.  , 58.  , 67.  , 59.  ,\n",
       "       65.  , 74.  , 60.  , 64.  , 65.  , 80.  , 64.  , 75.  , 72.  ,\n",
       "       63.  , 74.  , 60.  , 60.  , 55.  , 55.  , 58.  , 92.  , 53.  ,\n",
       "       77.  , 63.  , 70.  , 57.  , 87.6 , 60.  , 55.  , 73.  , 76.  ,\n",
       "       68.  , 57.  , 63.  , 64.  , 55.  , 76.  , 65.  , 71.  , 73.  ,\n",
       "       57.  , 62.  , 69.  , 65.  , 64.  , 76.  , 65.  , 60.  , 72.  ,\n",
       "       69.  , 68.  , 64.  , 67.  , 77.  , 83.  , 61.  , 65.  , 65.  ,\n",
       "       67.  , 58.  , 61.  , 77.  , 57.  , 80.  , 65.  , 70.  , 83.  ,\n",
       "       73.  , 89.  , 81.  , 71.  , 76.  , 80.  , 62.  , 58.  , 76.  ,\n",
       "       72.  , 55.  , 70.  , 61.  , 55.  , 73.  , 74.  , 63.  , 61.  ,\n",
       "       58.  , 61.  , 63.  , 59.  , 56.  , 54.  , 60.  , 80.  , 80.  ,\n",
       "       70.  , 77.  , 60.  , 76.  , 69.7 , 85.  , 70.  , 63.  , 63.  ,\n",
       "       66.  , 60.  , 85.  , 59.  , 74.  , 64.  , 78.  , 50.  , 75.  ,\n",
       "       63.  , 56.  , 61.  , 74.  , 60.  , 69.  , 60.  , 83.  , 56.  ,\n",
       "       65.  , 79.  , 64.  , 57.  , 58.  , 71.  , 66.  , 70.  , 51.  ,\n",
       "       58.  , 80.  , 74.  , 70.  , 60.  , 58.  , 63.  ])"
      ]
     },
     "execution_count": 68,
     "metadata": {},
     "output_type": "execute_result"
    }
   ],
   "source": [
    "y"
   ]
  },
  {
   "cell_type": "code",
   "execution_count": 69,
   "id": "64291c01-43d4-4fc0-8ea9-1504043c6493",
   "metadata": {},
   "outputs": [],
   "source": [
    "from sklearn.model_selection import train_test_split\n",
    "from sklearn.linear_model import LinearRegression"
   ]
  },
  {
   "cell_type": "code",
   "execution_count": 70,
   "id": "dcbb4e0c-99ad-4be2-afef-582e083b0ea0",
   "metadata": {},
   "outputs": [],
   "source": [
    "x_train, x_test, y_train, y_test = train_test_split(X, y, test_size=0.2, random_state=42)"
   ]
  },
  {
   "cell_type": "code",
   "execution_count": 71,
   "id": "91104785-c1b3-475d-8f0b-91d5bfdf8a5b",
   "metadata": {},
   "outputs": [
    {
     "data": {
      "text/html": [
       "<style>#sk-container-id-1 {\n",
       "  /* Definition of color scheme common for light and dark mode */\n",
       "  --sklearn-color-text: black;\n",
       "  --sklearn-color-line: gray;\n",
       "  /* Definition of color scheme for unfitted estimators */\n",
       "  --sklearn-color-unfitted-level-0: #fff5e6;\n",
       "  --sklearn-color-unfitted-level-1: #f6e4d2;\n",
       "  --sklearn-color-unfitted-level-2: #ffe0b3;\n",
       "  --sklearn-color-unfitted-level-3: chocolate;\n",
       "  /* Definition of color scheme for fitted estimators */\n",
       "  --sklearn-color-fitted-level-0: #f0f8ff;\n",
       "  --sklearn-color-fitted-level-1: #d4ebff;\n",
       "  --sklearn-color-fitted-level-2: #b3dbfd;\n",
       "  --sklearn-color-fitted-level-3: cornflowerblue;\n",
       "\n",
       "  /* Specific color for light theme */\n",
       "  --sklearn-color-text-on-default-background: var(--sg-text-color, var(--theme-code-foreground, var(--jp-content-font-color1, black)));\n",
       "  --sklearn-color-background: var(--sg-background-color, var(--theme-background, var(--jp-layout-color0, white)));\n",
       "  --sklearn-color-border-box: var(--sg-text-color, var(--theme-code-foreground, var(--jp-content-font-color1, black)));\n",
       "  --sklearn-color-icon: #696969;\n",
       "\n",
       "  @media (prefers-color-scheme: dark) {\n",
       "    /* Redefinition of color scheme for dark theme */\n",
       "    --sklearn-color-text-on-default-background: var(--sg-text-color, var(--theme-code-foreground, var(--jp-content-font-color1, white)));\n",
       "    --sklearn-color-background: var(--sg-background-color, var(--theme-background, var(--jp-layout-color0, #111)));\n",
       "    --sklearn-color-border-box: var(--sg-text-color, var(--theme-code-foreground, var(--jp-content-font-color1, white)));\n",
       "    --sklearn-color-icon: #878787;\n",
       "  }\n",
       "}\n",
       "\n",
       "#sk-container-id-1 {\n",
       "  color: var(--sklearn-color-text);\n",
       "}\n",
       "\n",
       "#sk-container-id-1 pre {\n",
       "  padding: 0;\n",
       "}\n",
       "\n",
       "#sk-container-id-1 input.sk-hidden--visually {\n",
       "  border: 0;\n",
       "  clip: rect(1px 1px 1px 1px);\n",
       "  clip: rect(1px, 1px, 1px, 1px);\n",
       "  height: 1px;\n",
       "  margin: -1px;\n",
       "  overflow: hidden;\n",
       "  padding: 0;\n",
       "  position: absolute;\n",
       "  width: 1px;\n",
       "}\n",
       "\n",
       "#sk-container-id-1 div.sk-dashed-wrapped {\n",
       "  border: 1px dashed var(--sklearn-color-line);\n",
       "  margin: 0 0.4em 0.5em 0.4em;\n",
       "  box-sizing: border-box;\n",
       "  padding-bottom: 0.4em;\n",
       "  background-color: var(--sklearn-color-background);\n",
       "}\n",
       "\n",
       "#sk-container-id-1 div.sk-container {\n",
       "  /* jupyter's `normalize.less` sets `[hidden] { display: none; }`\n",
       "     but bootstrap.min.css set `[hidden] { display: none !important; }`\n",
       "     so we also need the `!important` here to be able to override the\n",
       "     default hidden behavior on the sphinx rendered scikit-learn.org.\n",
       "     See: https://github.com/scikit-learn/scikit-learn/issues/21755 */\n",
       "  display: inline-block !important;\n",
       "  position: relative;\n",
       "}\n",
       "\n",
       "#sk-container-id-1 div.sk-text-repr-fallback {\n",
       "  display: none;\n",
       "}\n",
       "\n",
       "div.sk-parallel-item,\n",
       "div.sk-serial,\n",
       "div.sk-item {\n",
       "  /* draw centered vertical line to link estimators */\n",
       "  background-image: linear-gradient(var(--sklearn-color-text-on-default-background), var(--sklearn-color-text-on-default-background));\n",
       "  background-size: 2px 100%;\n",
       "  background-repeat: no-repeat;\n",
       "  background-position: center center;\n",
       "}\n",
       "\n",
       "/* Parallel-specific style estimator block */\n",
       "\n",
       "#sk-container-id-1 div.sk-parallel-item::after {\n",
       "  content: \"\";\n",
       "  width: 100%;\n",
       "  border-bottom: 2px solid var(--sklearn-color-text-on-default-background);\n",
       "  flex-grow: 1;\n",
       "}\n",
       "\n",
       "#sk-container-id-1 div.sk-parallel {\n",
       "  display: flex;\n",
       "  align-items: stretch;\n",
       "  justify-content: center;\n",
       "  background-color: var(--sklearn-color-background);\n",
       "  position: relative;\n",
       "}\n",
       "\n",
       "#sk-container-id-1 div.sk-parallel-item {\n",
       "  display: flex;\n",
       "  flex-direction: column;\n",
       "}\n",
       "\n",
       "#sk-container-id-1 div.sk-parallel-item:first-child::after {\n",
       "  align-self: flex-end;\n",
       "  width: 50%;\n",
       "}\n",
       "\n",
       "#sk-container-id-1 div.sk-parallel-item:last-child::after {\n",
       "  align-self: flex-start;\n",
       "  width: 50%;\n",
       "}\n",
       "\n",
       "#sk-container-id-1 div.sk-parallel-item:only-child::after {\n",
       "  width: 0;\n",
       "}\n",
       "\n",
       "/* Serial-specific style estimator block */\n",
       "\n",
       "#sk-container-id-1 div.sk-serial {\n",
       "  display: flex;\n",
       "  flex-direction: column;\n",
       "  align-items: center;\n",
       "  background-color: var(--sklearn-color-background);\n",
       "  padding-right: 1em;\n",
       "  padding-left: 1em;\n",
       "}\n",
       "\n",
       "\n",
       "/* Toggleable style: style used for estimator/Pipeline/ColumnTransformer box that is\n",
       "clickable and can be expanded/collapsed.\n",
       "- Pipeline and ColumnTransformer use this feature and define the default style\n",
       "- Estimators will overwrite some part of the style using the `sk-estimator` class\n",
       "*/\n",
       "\n",
       "/* Pipeline and ColumnTransformer style (default) */\n",
       "\n",
       "#sk-container-id-1 div.sk-toggleable {\n",
       "  /* Default theme specific background. It is overwritten whether we have a\n",
       "  specific estimator or a Pipeline/ColumnTransformer */\n",
       "  background-color: var(--sklearn-color-background);\n",
       "}\n",
       "\n",
       "/* Toggleable label */\n",
       "#sk-container-id-1 label.sk-toggleable__label {\n",
       "  cursor: pointer;\n",
       "  display: block;\n",
       "  width: 100%;\n",
       "  margin-bottom: 0;\n",
       "  padding: 0.5em;\n",
       "  box-sizing: border-box;\n",
       "  text-align: center;\n",
       "}\n",
       "\n",
       "#sk-container-id-1 label.sk-toggleable__label-arrow:before {\n",
       "  /* Arrow on the left of the label */\n",
       "  content: \"▸\";\n",
       "  float: left;\n",
       "  margin-right: 0.25em;\n",
       "  color: var(--sklearn-color-icon);\n",
       "}\n",
       "\n",
       "#sk-container-id-1 label.sk-toggleable__label-arrow:hover:before {\n",
       "  color: var(--sklearn-color-text);\n",
       "}\n",
       "\n",
       "/* Toggleable content - dropdown */\n",
       "\n",
       "#sk-container-id-1 div.sk-toggleable__content {\n",
       "  max-height: 0;\n",
       "  max-width: 0;\n",
       "  overflow: hidden;\n",
       "  text-align: left;\n",
       "  /* unfitted */\n",
       "  background-color: var(--sklearn-color-unfitted-level-0);\n",
       "}\n",
       "\n",
       "#sk-container-id-1 div.sk-toggleable__content.fitted {\n",
       "  /* fitted */\n",
       "  background-color: var(--sklearn-color-fitted-level-0);\n",
       "}\n",
       "\n",
       "#sk-container-id-1 div.sk-toggleable__content pre {\n",
       "  margin: 0.2em;\n",
       "  border-radius: 0.25em;\n",
       "  color: var(--sklearn-color-text);\n",
       "  /* unfitted */\n",
       "  background-color: var(--sklearn-color-unfitted-level-0);\n",
       "}\n",
       "\n",
       "#sk-container-id-1 div.sk-toggleable__content.fitted pre {\n",
       "  /* unfitted */\n",
       "  background-color: var(--sklearn-color-fitted-level-0);\n",
       "}\n",
       "\n",
       "#sk-container-id-1 input.sk-toggleable__control:checked~div.sk-toggleable__content {\n",
       "  /* Expand drop-down */\n",
       "  max-height: 200px;\n",
       "  max-width: 100%;\n",
       "  overflow: auto;\n",
       "}\n",
       "\n",
       "#sk-container-id-1 input.sk-toggleable__control:checked~label.sk-toggleable__label-arrow:before {\n",
       "  content: \"▾\";\n",
       "}\n",
       "\n",
       "/* Pipeline/ColumnTransformer-specific style */\n",
       "\n",
       "#sk-container-id-1 div.sk-label input.sk-toggleable__control:checked~label.sk-toggleable__label {\n",
       "  color: var(--sklearn-color-text);\n",
       "  background-color: var(--sklearn-color-unfitted-level-2);\n",
       "}\n",
       "\n",
       "#sk-container-id-1 div.sk-label.fitted input.sk-toggleable__control:checked~label.sk-toggleable__label {\n",
       "  background-color: var(--sklearn-color-fitted-level-2);\n",
       "}\n",
       "\n",
       "/* Estimator-specific style */\n",
       "\n",
       "/* Colorize estimator box */\n",
       "#sk-container-id-1 div.sk-estimator input.sk-toggleable__control:checked~label.sk-toggleable__label {\n",
       "  /* unfitted */\n",
       "  background-color: var(--sklearn-color-unfitted-level-2);\n",
       "}\n",
       "\n",
       "#sk-container-id-1 div.sk-estimator.fitted input.sk-toggleable__control:checked~label.sk-toggleable__label {\n",
       "  /* fitted */\n",
       "  background-color: var(--sklearn-color-fitted-level-2);\n",
       "}\n",
       "\n",
       "#sk-container-id-1 div.sk-label label.sk-toggleable__label,\n",
       "#sk-container-id-1 div.sk-label label {\n",
       "  /* The background is the default theme color */\n",
       "  color: var(--sklearn-color-text-on-default-background);\n",
       "}\n",
       "\n",
       "/* On hover, darken the color of the background */\n",
       "#sk-container-id-1 div.sk-label:hover label.sk-toggleable__label {\n",
       "  color: var(--sklearn-color-text);\n",
       "  background-color: var(--sklearn-color-unfitted-level-2);\n",
       "}\n",
       "\n",
       "/* Label box, darken color on hover, fitted */\n",
       "#sk-container-id-1 div.sk-label.fitted:hover label.sk-toggleable__label.fitted {\n",
       "  color: var(--sklearn-color-text);\n",
       "  background-color: var(--sklearn-color-fitted-level-2);\n",
       "}\n",
       "\n",
       "/* Estimator label */\n",
       "\n",
       "#sk-container-id-1 div.sk-label label {\n",
       "  font-family: monospace;\n",
       "  font-weight: bold;\n",
       "  display: inline-block;\n",
       "  line-height: 1.2em;\n",
       "}\n",
       "\n",
       "#sk-container-id-1 div.sk-label-container {\n",
       "  text-align: center;\n",
       "}\n",
       "\n",
       "/* Estimator-specific */\n",
       "#sk-container-id-1 div.sk-estimator {\n",
       "  font-family: monospace;\n",
       "  border: 1px dotted var(--sklearn-color-border-box);\n",
       "  border-radius: 0.25em;\n",
       "  box-sizing: border-box;\n",
       "  margin-bottom: 0.5em;\n",
       "  /* unfitted */\n",
       "  background-color: var(--sklearn-color-unfitted-level-0);\n",
       "}\n",
       "\n",
       "#sk-container-id-1 div.sk-estimator.fitted {\n",
       "  /* fitted */\n",
       "  background-color: var(--sklearn-color-fitted-level-0);\n",
       "}\n",
       "\n",
       "/* on hover */\n",
       "#sk-container-id-1 div.sk-estimator:hover {\n",
       "  /* unfitted */\n",
       "  background-color: var(--sklearn-color-unfitted-level-2);\n",
       "}\n",
       "\n",
       "#sk-container-id-1 div.sk-estimator.fitted:hover {\n",
       "  /* fitted */\n",
       "  background-color: var(--sklearn-color-fitted-level-2);\n",
       "}\n",
       "\n",
       "/* Specification for estimator info (e.g. \"i\" and \"?\") */\n",
       "\n",
       "/* Common style for \"i\" and \"?\" */\n",
       "\n",
       ".sk-estimator-doc-link,\n",
       "a:link.sk-estimator-doc-link,\n",
       "a:visited.sk-estimator-doc-link {\n",
       "  float: right;\n",
       "  font-size: smaller;\n",
       "  line-height: 1em;\n",
       "  font-family: monospace;\n",
       "  background-color: var(--sklearn-color-background);\n",
       "  border-radius: 1em;\n",
       "  height: 1em;\n",
       "  width: 1em;\n",
       "  text-decoration: none !important;\n",
       "  margin-left: 1ex;\n",
       "  /* unfitted */\n",
       "  border: var(--sklearn-color-unfitted-level-1) 1pt solid;\n",
       "  color: var(--sklearn-color-unfitted-level-1);\n",
       "}\n",
       "\n",
       ".sk-estimator-doc-link.fitted,\n",
       "a:link.sk-estimator-doc-link.fitted,\n",
       "a:visited.sk-estimator-doc-link.fitted {\n",
       "  /* fitted */\n",
       "  border: var(--sklearn-color-fitted-level-1) 1pt solid;\n",
       "  color: var(--sklearn-color-fitted-level-1);\n",
       "}\n",
       "\n",
       "/* On hover */\n",
       "div.sk-estimator:hover .sk-estimator-doc-link:hover,\n",
       ".sk-estimator-doc-link:hover,\n",
       "div.sk-label-container:hover .sk-estimator-doc-link:hover,\n",
       ".sk-estimator-doc-link:hover {\n",
       "  /* unfitted */\n",
       "  background-color: var(--sklearn-color-unfitted-level-3);\n",
       "  color: var(--sklearn-color-background);\n",
       "  text-decoration: none;\n",
       "}\n",
       "\n",
       "div.sk-estimator.fitted:hover .sk-estimator-doc-link.fitted:hover,\n",
       ".sk-estimator-doc-link.fitted:hover,\n",
       "div.sk-label-container:hover .sk-estimator-doc-link.fitted:hover,\n",
       ".sk-estimator-doc-link.fitted:hover {\n",
       "  /* fitted */\n",
       "  background-color: var(--sklearn-color-fitted-level-3);\n",
       "  color: var(--sklearn-color-background);\n",
       "  text-decoration: none;\n",
       "}\n",
       "\n",
       "/* Span, style for the box shown on hovering the info icon */\n",
       ".sk-estimator-doc-link span {\n",
       "  display: none;\n",
       "  z-index: 9999;\n",
       "  position: relative;\n",
       "  font-weight: normal;\n",
       "  right: .2ex;\n",
       "  padding: .5ex;\n",
       "  margin: .5ex;\n",
       "  width: min-content;\n",
       "  min-width: 20ex;\n",
       "  max-width: 50ex;\n",
       "  color: var(--sklearn-color-text);\n",
       "  box-shadow: 2pt 2pt 4pt #999;\n",
       "  /* unfitted */\n",
       "  background: var(--sklearn-color-unfitted-level-0);\n",
       "  border: .5pt solid var(--sklearn-color-unfitted-level-3);\n",
       "}\n",
       "\n",
       ".sk-estimator-doc-link.fitted span {\n",
       "  /* fitted */\n",
       "  background: var(--sklearn-color-fitted-level-0);\n",
       "  border: var(--sklearn-color-fitted-level-3);\n",
       "}\n",
       "\n",
       ".sk-estimator-doc-link:hover span {\n",
       "  display: block;\n",
       "}\n",
       "\n",
       "/* \"?\"-specific style due to the `<a>` HTML tag */\n",
       "\n",
       "#sk-container-id-1 a.estimator_doc_link {\n",
       "  float: right;\n",
       "  font-size: 1rem;\n",
       "  line-height: 1em;\n",
       "  font-family: monospace;\n",
       "  background-color: var(--sklearn-color-background);\n",
       "  border-radius: 1rem;\n",
       "  height: 1rem;\n",
       "  width: 1rem;\n",
       "  text-decoration: none;\n",
       "  /* unfitted */\n",
       "  color: var(--sklearn-color-unfitted-level-1);\n",
       "  border: var(--sklearn-color-unfitted-level-1) 1pt solid;\n",
       "}\n",
       "\n",
       "#sk-container-id-1 a.estimator_doc_link.fitted {\n",
       "  /* fitted */\n",
       "  border: var(--sklearn-color-fitted-level-1) 1pt solid;\n",
       "  color: var(--sklearn-color-fitted-level-1);\n",
       "}\n",
       "\n",
       "/* On hover */\n",
       "#sk-container-id-1 a.estimator_doc_link:hover {\n",
       "  /* unfitted */\n",
       "  background-color: var(--sklearn-color-unfitted-level-3);\n",
       "  color: var(--sklearn-color-background);\n",
       "  text-decoration: none;\n",
       "}\n",
       "\n",
       "#sk-container-id-1 a.estimator_doc_link.fitted:hover {\n",
       "  /* fitted */\n",
       "  background-color: var(--sklearn-color-fitted-level-3);\n",
       "}\n",
       "</style><div id=\"sk-container-id-1\" class=\"sk-top-container\"><div class=\"sk-text-repr-fallback\"><pre>LinearRegression()</pre><b>In a Jupyter environment, please rerun this cell to show the HTML representation or trust the notebook. <br />On GitHub, the HTML representation is unable to render, please try loading this page with nbviewer.org.</b></div><div class=\"sk-container\" hidden><div class=\"sk-item\"><div class=\"sk-estimator fitted sk-toggleable\"><input class=\"sk-toggleable__control sk-hidden--visually\" id=\"sk-estimator-id-1\" type=\"checkbox\" checked><label for=\"sk-estimator-id-1\" class=\"sk-toggleable__label fitted sk-toggleable__label-arrow fitted\">&nbsp;&nbsp;LinearRegression<a class=\"sk-estimator-doc-link fitted\" rel=\"noreferrer\" target=\"_blank\" href=\"https://scikit-learn.org/1.4/modules/generated/sklearn.linear_model.LinearRegression.html\">?<span>Documentation for LinearRegression</span></a><span class=\"sk-estimator-doc-link fitted\">i<span>Fitted</span></span></label><div class=\"sk-toggleable__content fitted\"><pre>LinearRegression()</pre></div> </div></div></div></div>"
      ],
      "text/plain": [
       "LinearRegression()"
      ]
     },
     "execution_count": 71,
     "metadata": {},
     "output_type": "execute_result"
    }
   ],
   "source": [
    "linear_model = LinearRegression()\n",
    "linear_model.fit(x_train, y_train)"
   ]
  },
  {
   "cell_type": "code",
   "execution_count": 72,
   "id": "18cd1e1e-5776-454c-8b80-084e58f8405c",
   "metadata": {},
   "outputs": [],
   "source": [
    "y_actual = y_test"
   ]
  },
  {
   "cell_type": "code",
   "execution_count": 74,
   "id": "b474636a-9810-4b1a-a6da-258c70a23461",
   "metadata": {},
   "outputs": [],
   "source": [
    "y_predicted = linear_model.predict(x_test)"
   ]
  },
  {
   "cell_type": "code",
   "execution_count": 75,
   "id": "76147c6c-2888-4c77-8817-f03b17e685e0",
   "metadata": {},
   "outputs": [],
   "source": [
    "from sklearn.metrics import mean_absolute_error, mean_squared_error, r2_score"
   ]
  },
  {
   "cell_type": "code",
   "execution_count": 76,
   "id": "8a9b3f17-1a2a-4888-9887-9e5b3db8552e",
   "metadata": {},
   "outputs": [
    {
     "data": {
      "text/plain": [
       "6.705649965510293"
      ]
     },
     "execution_count": 76,
     "metadata": {},
     "output_type": "execute_result"
    }
   ],
   "source": [
    "mean_absolute_error(y_actual, y_predicted)"
   ]
  },
  {
   "cell_type": "code",
   "execution_count": 77,
   "id": "86421da6-dc59-4031-8df8-cd5b5476ccc8",
   "metadata": {},
   "outputs": [
    {
     "data": {
      "text/plain": [
       "69.59770639694536"
      ]
     },
     "execution_count": 77,
     "metadata": {},
     "output_type": "execute_result"
    }
   ],
   "source": [
    "mean_squared_error(y_actual, y_predicted)"
   ]
  },
  {
   "cell_type": "code",
   "execution_count": null,
   "id": "2c6ae613-cd6e-4780-9799-a22cae3e34d6",
   "metadata": {},
   "outputs": [],
   "source": []
  }
 ],
 "metadata": {
  "kernelspec": {
   "display_name": "Python 3 (ipykernel)",
   "language": "python",
   "name": "python3"
  },
  "language_info": {
   "codemirror_mode": {
    "name": "ipython",
    "version": 3
   },
   "file_extension": ".py",
   "mimetype": "text/x-python",
   "name": "python",
   "nbconvert_exporter": "python",
   "pygments_lexer": "ipython3",
   "version": "3.12.2"
  }
 },
 "nbformat": 4,
 "nbformat_minor": 5
}
