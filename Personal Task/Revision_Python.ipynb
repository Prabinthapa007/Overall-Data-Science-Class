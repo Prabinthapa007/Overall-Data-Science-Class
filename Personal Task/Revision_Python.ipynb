{
 "cells": [
  {
   "cell_type": "markdown",
   "id": "6b345eab-0d2a-4c80-ae08-3a0fcc08c41b",
   "metadata": {},
   "source": [
    "# Types of Python"
   ]
  },
  {
   "cell_type": "code",
   "execution_count": 1,
   "id": "512e6662-ace6-40d8-9a12-4ef1395f3fd3",
   "metadata": {},
   "outputs": [
    {
     "name": "stdout",
     "output_type": "stream",
     "text": [
      "46\n"
     ]
    }
   ],
   "source": [
    "# Numeric\n",
    "a = 24\n",
    "b = 22\n",
    "print(a+b)"
   ]
  },
  {
   "cell_type": "code",
   "execution_count": 2,
   "id": "2bad552d-b3f3-49e8-bd8c-3a64915e6a94",
   "metadata": {},
   "outputs": [
    {
     "data": {
      "text/plain": [
       "int"
      ]
     },
     "execution_count": 2,
     "metadata": {},
     "output_type": "execute_result"
    }
   ],
   "source": [
    "type(a)"
   ]
  },
  {
   "cell_type": "code",
   "execution_count": 3,
   "id": "eebdde6f-663a-4385-bee4-8eeefac5df6f",
   "metadata": {},
   "outputs": [
    {
     "data": {
      "text/plain": [
       "float"
      ]
     },
     "execution_count": 3,
     "metadata": {},
     "output_type": "execute_result"
    }
   ],
   "source": [
    "# Floating point Numbers:\n",
    "a = 22.22\n",
    "b = -22.012\n",
    "type(a)"
   ]
  },
  {
   "cell_type": "code",
   "execution_count": 4,
   "id": "2cf86b08-6ab1-4ae6-828d-cfdc086eabac",
   "metadata": {},
   "outputs": [
    {
     "data": {
      "text/plain": [
       "complex"
      ]
     },
     "execution_count": 4,
     "metadata": {},
     "output_type": "execute_result"
    }
   ],
   "source": [
    "# Complex Numbers \n",
    "a = 22 + 3j\n",
    "type(a)"
   ]
  },
  {
   "cell_type": "code",
   "execution_count": 6,
   "id": "f144d9c8-f9f5-4c2f-bd89-cf959cb9cf2a",
   "metadata": {},
   "outputs": [
    {
     "name": "stdout",
     "output_type": "stream",
     "text": [
      "50\n",
      "-10\n",
      "600\n",
      "20\n",
      "0.6666666666666666\n",
      "1073741824000000000000000000000000000000\n",
      "1\n"
     ]
    }
   ],
   "source": [
    "# Arithmetic Operations\n",
    "a = 20\n",
    "b = 30\n",
    "# add\n",
    "print(a+b)\n",
    "# Subtract\n",
    "print(a-b)\n",
    "# Multiply\n",
    "print(a*b)\n",
    "# Divide with remainder\n",
    "print(a%b)\n",
    "# Divide\n",
    "print(a/b)\n",
    "# Exponential\n",
    "print(a**b)\n",
    "# Floor Division\n",
    "print(b//a)"
   ]
  },
  {
   "cell_type": "code",
   "execution_count": 9,
   "id": "4faa33bc-32ca-4a00-925c-330d4422a8e2",
   "metadata": {},
   "outputs": [
    {
     "name": "stdout",
     "output_type": "stream",
     "text": [
      "<class 'int'>\n",
      "<class 'float'>\n",
      "<class 'complex'>\n"
     ]
    }
   ],
   "source": [
    "# Type conversion\n",
    "a = 20 \n",
    "print(type(a))\n",
    "y = float(a)\n",
    "print(type(y))\n",
    "z = complex(a)\n",
    "print(type(z))"
   ]
  },
  {
   "cell_type": "code",
   "execution_count": 10,
   "id": "93bfb568-14d5-4ecd-bd9d-70680e4a4339",
   "metadata": {},
   "outputs": [
    {
     "name": "stdout",
     "output_type": "stream",
     "text": [
      "True\n",
      "False\n"
     ]
    }
   ],
   "source": [
    "# Comparision Operators \n",
    "a = 22\n",
    "b = 12\n",
    "# Greater than \n",
    "print(a>b)\n",
    "#less than \n",
    "print(a<b)\n"
   ]
  },
  {
   "cell_type": "code",
   "execution_count": 11,
   "id": "f3e33f0e-6a4d-42ae-8e52-2baf2fa97770",
   "metadata": {},
   "outputs": [
    {
     "name": "stdout",
     "output_type": "stream",
     "text": [
      "5.5\n"
     ]
    }
   ],
   "source": [
    "# Math functions\n",
    "import math \n",
    "from math import sqrt, cbrt\n",
    "x = -5.5\n",
    "print(abs(x))"
   ]
  },
  {
   "cell_type": "code",
   "execution_count": 13,
   "id": "f4b6fab1-180c-4de6-acb2-10798060852a",
   "metadata": {},
   "outputs": [
    {
     "name": "stdout",
     "output_type": "stream",
     "text": [
      "2.0\n",
      "1.5874010519681994\n"
     ]
    }
   ],
   "source": [
    "x = 4\n",
    "print(sqrt(x))\n",
    "print(cbrt(x))"
   ]
  },
  {
   "cell_type": "markdown",
   "id": "39179e13-ab26-49b8-9478-ba09417e542d",
   "metadata": {},
   "source": [
    "### Python Text Types"
   ]
  },
  {
   "cell_type": "code",
   "execution_count": 14,
   "id": "88502587-b7f7-4d3d-b5e1-9ce2c77406fd",
   "metadata": {},
   "outputs": [
    {
     "name": "stdout",
     "output_type": "stream",
     "text": [
      "Hello, World!\n"
     ]
    }
   ],
   "source": [
    "greeting = \"Hello, World!\"\n",
    "print(greeting)"
   ]
  },
  {
   "cell_type": "code",
   "execution_count": 15,
   "id": "9dc72ae5-f378-4562-9b61-f4710a8584c3",
   "metadata": {},
   "outputs": [
    {
     "name": "stdout",
     "output_type": "stream",
     "text": [
      "Hello, World!. My name is Prabin Thapa.\n"
     ]
    }
   ],
   "source": [
    "name = \"Prabin Thapa\"\n",
    "print(f\"{greeting}. My name is {name}.\")"
   ]
  },
  {
   "cell_type": "code",
   "execution_count": 18,
   "id": "75c245a4-0f01-4136-9956-f5a5dcdbd824",
   "metadata": {},
   "outputs": [
    {
     "name": "stdout",
     "output_type": "stream",
     "text": [
      "mr. prabin thapa\n",
      "MR. PRABIN THAPA\n",
      "Mr. Prabin Thapa\n"
     ]
    }
   ],
   "source": [
    "# Methods in string\n",
    "x = \"Mr. Prabin Thapa\"\n",
    "print(x.lower())\n",
    "print(x.upper())\n",
    "print(x.strip())"
   ]
  },
  {
   "cell_type": "code",
   "execution_count": 23,
   "id": "bbebeedd-02d7-4011-a61d-bd9837391e40",
   "metadata": {},
   "outputs": [
    {
     "name": "stdout",
     "output_type": "stream",
     "text": [
      " Prabin Thapa\n",
      "Prabin Thapa\n"
     ]
    }
   ],
   "source": [
    "y = x.split('.')[1]\n",
    "print(y)\n",
    "print(y.strip())"
   ]
  },
  {
   "cell_type": "code",
   "execution_count": 24,
   "id": "045b66b1-87ba-4b73-a37d-7e8ffd4e678c",
   "metadata": {},
   "outputs": [
    {
     "name": "stdout",
     "output_type": "stream",
     "text": [
      " Srabin Thapa\n"
     ]
    }
   ],
   "source": [
    "print(y.replace('P', 'S'))"
   ]
  },
  {
   "cell_type": "code",
   "execution_count": 25,
   "id": "4fc8eeb1-2b5c-4bc8-92b7-3b80eac31a2a",
   "metadata": {},
   "outputs": [
    {
     "data": {
      "text/plain": [
       "33"
      ]
     },
     "execution_count": 25,
     "metadata": {},
     "output_type": "execute_result"
    }
   ],
   "source": [
    "# String Indexing\n",
    "x = \"Hello, People. What are you doing\"\n",
    "len(x)"
   ]
  },
  {
   "cell_type": "code",
   "execution_count": 26,
   "id": "2d37a70a-7cc0-4441-9aab-804c224307c8",
   "metadata": {},
   "outputs": [
    {
     "name": "stdout",
     "output_type": "stream",
     "text": [
      "e\n"
     ]
    }
   ],
   "source": [
    "print(x[22])"
   ]
  },
  {
   "cell_type": "code",
   "execution_count": 27,
   "id": "a3507b0f-ef6e-4b35-9dcd-b74baf740ac2",
   "metadata": {},
   "outputs": [
    {
     "name": "stdout",
     "output_type": "stream",
     "text": [
      "Hlo epe htaeyudig\n"
     ]
    }
   ],
   "source": [
    "# String Slicing\n",
    "print(x[0:33:2])"
   ]
  },
  {
   "cell_type": "code",
   "execution_count": 28,
   "id": "a1c083b0-f004-4687-81b4-1d40ef3d296a",
   "metadata": {},
   "outputs": [
    {
     "name": "stdout",
     "output_type": "stream",
     "text": [
      "gniod uoy era tahW .elpoeP ,olleH\n"
     ]
    }
   ],
   "source": [
    "print(x[::-1])"
   ]
  },
  {
   "cell_type": "code",
   "execution_count": 29,
   "id": "ca093f7b-3e4e-4bd4-a965-b0444193c957",
   "metadata": {},
   "outputs": [
    {
     "name": "stdout",
     "output_type": "stream",
     "text": [
      "hello!, Good Morning\n"
     ]
    }
   ],
   "source": [
    "# String concatenation \n",
    "var1 = \"hello\"\n",
    "var2 = \"Good Morning\"\n",
    "var3 = \"!, \".join([var1, var2])\n",
    "print(var3)"
   ]
  },
  {
   "cell_type": "code",
   "execution_count": 32,
   "id": "007a4620-5ab6-4643-a4b2-dc632bc0a2da",
   "metadata": {},
   "outputs": [
    {
     "name": "stdout",
     "output_type": "stream",
     "text": [
      "Prabin Thapa\n"
     ]
    }
   ],
   "source": [
    "# Write a function to return the full name by concatenating first name and last name.\n",
    "def full_name(first_name, last_name):\n",
    "    result = ' '.join([first_name, last_name])\n",
    "    return result\n",
    "\n",
    "obj = full_name('Prabin', 'Thapa')\n",
    "print(obj)"
   ]
  },
  {
   "cell_type": "code",
   "execution_count": 38,
   "id": "5c8e977e-e971-4c05-a8de-3f94782a10a0",
   "metadata": {},
   "outputs": [
    {
     "name": "stdout",
     "output_type": "stream",
     "text": [
      "        Hello world!\n",
      "Hello world!        \n",
      "    Hello world!    \n"
     ]
    }
   ],
   "source": [
    "# Advanced String Formatting\n",
    "# Alignment\n",
    "x = \"Hello world!\"\n",
    "print(\"{:>20}\".format(x))\n",
    "print(\"{:<20}\".format(x))\n",
    "print(\"{:^20}\".format(x))"
   ]
  },
  {
   "cell_type": "code",
   "execution_count": 40,
   "id": "d042c34f-fb26-49d2-a877-afe5bebdef16",
   "metadata": {},
   "outputs": [
    {
     "name": "stdout",
     "output_type": "stream",
     "text": [
      "________Hello world!\n",
      "Hello world!........\n"
     ]
    }
   ],
   "source": [
    "# Padding\n",
    "print(\"{:_>20}\".format(x))\n",
    "print(\"{:.<20}\".format(x))\n"
   ]
  },
  {
   "cell_type": "code",
   "execution_count": 42,
   "id": "071ad029-c284-483e-b5b4-39d6bd03f54a",
   "metadata": {},
   "outputs": [
    {
     "name": "stdout",
     "output_type": "stream",
     "text": [
      "Hello, World!\n",
      "[11, 12, 13, 14]\n",
      "[1, 2, 3, 4, 5]\n",
      "(11, 12, 'hello')\n"
     ]
    }
   ],
   "source": [
    "# Sequences in python\n",
    "# string -> Immutable\n",
    "greeting = \"Hello, World!\"\n",
    "print(greeting)\n",
    "\n",
    "# list -> Mutable\n",
    "x = list((11, 12, 13, 14))\n",
    "print(x)\n",
    "y = [1, 2, 3, 4, 5]\n",
    "print(y)\n",
    "\n",
    "# tuple -> Immutable\n",
    "a = tuple((11, 12, 'hello'))\n",
    "print(a)"
   ]
  },
  {
   "cell_type": "code",
   "execution_count": 49,
   "id": "2bcb5da6-b338-4118-add6-608598a7cc02",
   "metadata": {},
   "outputs": [
    {
     "name": "stdout",
     "output_type": "stream",
     "text": [
      "2\n",
      "2\n",
      "[1, 2, 3, 4, 5, 6, 7, 8, 9]\n",
      "[1, 3, 5, 7, 9]\n",
      "[1, 2, 11, 4, 5, 6, 7, 8, 9, 10]\n"
     ]
    }
   ],
   "source": [
    "# Accessing list items -> Indexing and Slicing\n",
    "a = [1, 2, 3, 4, 5, 6, 7, 8, 9, 10]\n",
    "print(a[1]) #Indexing\n",
    "print(a[-9])\n",
    "\n",
    "#slicing\n",
    "print(a[0:9])\n",
    "print(a[0:9:2])\n",
    "\n",
    "# Modifying list \n",
    "a[2] = 11\n",
    "print(a)"
   ]
  },
  {
   "cell_type": "code",
   "execution_count": 50,
   "id": "262817ac-7709-4791-b110-ac3fced9709e",
   "metadata": {},
   "outputs": [
    {
     "name": "stdout",
     "output_type": "stream",
     "text": [
      "{'Ram', 'Hari', 'Shyam'}\n"
     ]
    }
   ],
   "source": [
    "# Set\n",
    "var1 = set((\"Hari\", \"Ram\", \"Shyam\"))\n",
    "print(var1)"
   ]
  },
  {
   "cell_type": "code",
   "execution_count": 51,
   "id": "10b4c48c-a3bd-4c2b-a746-3e69277e73d1",
   "metadata": {},
   "outputs": [
    {
     "name": "stdin",
     "output_type": "stream",
     "text": [
      "Enter a number -1\n"
     ]
    },
    {
     "name": "stdout",
     "output_type": "stream",
     "text": [
      "The given number -1 is a negative number.\n"
     ]
    }
   ],
   "source": [
    "# Python conditional Statement\n",
    "## Check the given number is positive or negative or zero.\n",
    "num = int(input(\"Enter a number\"))\n",
    "if num > 0:\n",
    "    print(f\"The given number {num} is a positive number.\")\n",
    "elif num == 0:\n",
    "    print(f\"The given number {num} is zero.\")\n",
    "else:\n",
    "    print(f\"The given number {num} is a negative number.\")"
   ]
  },
  {
   "cell_type": "code",
   "execution_count": 54,
   "id": "a85abff8-0711-49f5-bc41-d6e78df45940",
   "metadata": {},
   "outputs": [
    {
     "name": "stdin",
     "output_type": "stream",
     "text": [
      "Enter your marks. 55\n"
     ]
    },
    {
     "name": "stdout",
     "output_type": "stream",
     "text": [
      "Grade C\n"
     ]
    }
   ],
   "source": [
    "marks = int(input(\"Enter your marks.\"))\n",
    "\n",
    "if marks <= 100 and marks > 80:    \n",
    "    print(\"Grade A\")\n",
    "    \n",
    "elif marks <= 80 and marks > 60:    \n",
    "    print(\"Grade B\")\n",
    "    \n",
    "elif marks <= 60 and marks> 40:    \n",
    "    print(\"Grade C\") \n",
    "\n",
    "else:\n",
    "    print(\"Grade D\")"
   ]
  },
  {
   "cell_type": "code",
   "execution_count": 55,
   "id": "014c588a-30cc-405b-a215-5ba6da425298",
   "metadata": {},
   "outputs": [
    {
     "name": "stdout",
     "output_type": "stream",
     "text": [
      "apple\n",
      "banana\n",
      "mango\n"
     ]
    }
   ],
   "source": [
    "## Python for loop\n",
    "fruits = ['apple', 'banana', 'mango']\n",
    "for fruit in fruits:\n",
    "    print(fruit)"
   ]
  },
  {
   "cell_type": "code",
   "execution_count": 62,
   "id": "0662335b-c5f8-4cdd-8992-e57d094917a2",
   "metadata": {},
   "outputs": [
    {
     "name": "stdout",
     "output_type": "stream",
     "text": [
      "apple milk\n",
      "apple lassi\n",
      "banana milk\n",
      "banana lassi\n",
      "mango milk\n",
      "mango lassi\n"
     ]
    }
   ],
   "source": [
    "fruits = ['apple', 'banana', 'mango']\n",
    "juice = ['milk', 'lassi']\n",
    "for fruit in fruits:\n",
    "    for j in juice:\n",
    "        print(fruit, j)"
   ]
  },
  {
   "cell_type": "code",
   "execution_count": 63,
   "id": "cd9165b1-435a-4aad-9d82-dd32d53159e4",
   "metadata": {},
   "outputs": [
    {
     "name": "stdout",
     "output_type": "stream",
     "text": [
      "0\n",
      "1\n",
      "2\n",
      "3\n",
      "4\n"
     ]
    }
   ],
   "source": [
    "for i in range(5):\n",
    "    print(i)"
   ]
  },
  {
   "cell_type": "markdown",
   "id": "889607ea-cb9e-4077-ad9b-90a8099b0e07",
   "metadata": {},
   "source": [
    "#### Write a program that takes a list of numbers as input and uses a for loop to calculate the following -Sum of all number, -Average, -Largest and smallest.\n"
   ]
  },
  {
   "cell_type": "code",
   "execution_count": 69,
   "id": "7fd5fbe8-8001-45b2-8b94-e38d6bca46ff",
   "metadata": {},
   "outputs": [
    {
     "name": "stdin",
     "output_type": "stream",
     "text": [
      "Enter a list of numbers separated by spaces:  11 12 13 14\n"
     ]
    },
    {
     "name": "stdout",
     "output_type": "stream",
     "text": [
      "List statistics\n",
      "Sum : 50\n",
      "Average : 12.5\n",
      "Largest : 14\n",
      "Smallest : 11\n"
     ]
    }
   ],
   "source": [
    "def calculation_statistics(numbers):\n",
    "    '''\n",
    "    This function takes a list of numbers and do calculation.\n",
    "    Args:\n",
    "        numbers: A list of numbers\n",
    "    Returns:\n",
    "        A dict containing the sum, avg, largest and smallest element.\n",
    "    '''\n",
    "    total_sum = 0\n",
    "    largest_number = numbers[0]\n",
    "    smalles_number = numbers[0]\n",
    "\n",
    "    for number in numbers:\n",
    "        total_sum += number\n",
    "        largest_number = max(largest_number, number)\n",
    "        smalles_number = min(smalles_number, number)\n",
    "\n",
    "    average = total_sum / len(numbers)\n",
    "    return {\n",
    "        \"Sum\" : total_sum,\n",
    "        \"Average\" : average,\n",
    "        \"Largest\" : largest_number,\n",
    "        \"Smallest\" : smalles_number\n",
    "    }\n",
    "\n",
    "numbers = input(\"Enter a list of numbers separated by spaces: \")\n",
    "numbers_int = [int(num) for num in numbers.split()]\n",
    "stats= calculation_statistics(numbers_int)\n",
    "print(\"List statistics\")\n",
    "for key, value in stats.items():\n",
    "    print(f\"{key} : {value}\")\n"
   ]
  },
  {
   "cell_type": "markdown",
   "id": "5648604c-9056-4a22-8b04-bb8174ce9b79",
   "metadata": {},
   "source": [
    "#### Password Checker: Write a program that uses for loops to check if a password meets certain criteria. The criteria could include:\n",
    "- Minimum length (e.g., 8 characters)\n",
    "- Contains at least one uppercase letter\n",
    "- Contains at least one lowercase letter\n",
    "- Contains at leas one number\n",
    "\n",
    "The program should print a message indicating if the password is valid or not based on these criteria.\n"
   ]
  },
  {
   "cell_type": "code",
   "execution_count": 70,
   "id": "7df1a1d4-7378-46d8-b6c5-16f098841ac3",
   "metadata": {},
   "outputs": [
    {
     "name": "stdout",
     "output_type": "stream",
     "text": [
      "Password is valid.\n"
     ]
    }
   ],
   "source": [
    "def check_password(password):\n",
    "    has_upper = False\n",
    "    has_lower = False\n",
    "    has_digit = False\n",
    "    min_length = 8\n",
    "\n",
    "    if len(password)< min_length:\n",
    "        return False, \"Password must be at least 8 characters long.\"\n",
    "\n",
    "    for char in password:\n",
    "        if char.isupper():\n",
    "            has_upper = True\n",
    "        elif char.islower():\n",
    "            has_lower = True\n",
    "        elif char.isdigit():\n",
    "            has_digit = True\n",
    "\n",
    "    if not has_upper:\n",
    "        return False, \"Password must contain at least one uppercase letter.\"\n",
    "    if not has_lower:\n",
    "        return False, \"Password must contain at least one lowercase letter.\"\n",
    "    if not has_digit:\n",
    "        return False, \"Password must contain at least one number.\"\n",
    "\n",
    "    return True, \"Password is valid.\"\n",
    "\n",
    "password = \"ExamplePassword123\"\n",
    "is_valid, message = check_password(password)\n",
    "print(message)"
   ]
  },
  {
   "cell_type": "code",
   "execution_count": 3,
   "id": "6f1da9ef-caca-4120-85ef-aeea73ef0fb6",
   "metadata": {},
   "outputs": [
    {
     "name": "stdout",
     "output_type": "stream",
     "text": [
      "even\n",
      "None\n"
     ]
    }
   ],
   "source": [
    "#Function in Python\n",
    "# A simple Python function to check whether x is even or odd.\n",
    "def oddeven(x):\n",
    "    if x%2==0:\n",
    "        print(\"even\")\n",
    "    else:\n",
    "        print(\"odd\")\n",
    "    return \n",
    "\n",
    "print(oddeven(2))"
   ]
  },
  {
   "cell_type": "code",
   "execution_count": 5,
   "id": "ded3a16a-8ff4-456a-b31d-a35963793ca6",
   "metadata": {},
   "outputs": [
    {
     "name": "stdout",
     "output_type": "stream",
     "text": [
      "21\n",
      "22\n"
     ]
    }
   ],
   "source": [
    "# Write a code that includes default parameter inside it:\n",
    "def myfun(x, y=22):\n",
    "    print(x)\n",
    "    print(y)\n",
    "    return\n",
    "\n",
    "myfun(x=21)"
   ]
  },
  {
   "cell_type": "code",
   "execution_count": 6,
   "id": "61320029-21fc-4cc7-948c-66802b17a2fa",
   "metadata": {},
   "outputs": [
    {
     "name": "stdout",
     "output_type": "stream",
     "text": [
      "This person name is Prabin and he/she is 22 years old.\n",
      "None\n"
     ]
    }
   ],
   "source": [
    "# Write a program to create a function that takes two arguments, name and age and print thier value.\n",
    "def value(name, age):\n",
    "    print(f\"This person name is {name} and he/she is {age} years old.\")\n",
    "    return \n",
    "\n",
    "value1 = value(\"Prabin\", 22)\n",
    "print(value1)\n"
   ]
  },
  {
   "cell_type": "code",
   "execution_count": 15,
   "id": "177c7547-a8d1-4888-9d86-5fe4d44e8b90",
   "metadata": {},
   "outputs": [
    {
     "data": {
      "text/plain": [
       "12.25"
      ]
     },
     "execution_count": 15,
     "metadata": {},
     "output_type": "execute_result"
    }
   ],
   "source": [
    "# Create a function to accept a variable length of arguments and print average value.\n",
    "def func1(*args, **kwargs):\n",
    "    sum = 0\n",
    "    for arg in args:\n",
    "        sum += arg\n",
    "    avg = sum/len(args)\n",
    "    return avg\n",
    "\n",
    "func1(11, 12, 13, 13)"
   ]
  },
  {
   "cell_type": "code",
   "execution_count": 16,
   "id": "c7bbdce4-6fe0-49c8-867d-cda61d4fb23d",
   "metadata": {},
   "outputs": [
    {
     "name": "stdout",
     "output_type": "stream",
     "text": [
      "11\n",
      "12\n",
      "13\n",
      "13\n"
     ]
    }
   ],
   "source": [
    "# Create a function to accept a variable length of arguments and print thier value.\n",
    "def func1(*args, **kwargs):\n",
    "    for arg in args:\n",
    "        print(arg)\n",
    "    return \n",
    "\n",
    "func1(11, 12, 13, 13)"
   ]
  },
  {
   "cell_type": "code",
   "execution_count": 19,
   "id": "675a73f5-ee6e-4ab5-ab16-29d3ee4c66fe",
   "metadata": {},
   "outputs": [
    {
     "name": "stdout",
     "output_type": "stream",
     "text": [
      "(3, 2, -1)\n"
     ]
    }
   ],
   "source": [
    "# Return multiplication value also it must return addition and subtraction:\n",
    "\n",
    "def calculator(a, b):\n",
    "    summation = a + b\n",
    "    multiply = a * b\n",
    "    subtraction = a - b\n",
    "    return (summation, multiply, subtraction)\n",
    "\n",
    "print(calculator(1, 2))"
   ]
  },
  {
   "cell_type": "code",
   "execution_count": 20,
   "id": "1e73b702-84cd-4859-a80b-773daa89c54d",
   "metadata": {},
   "outputs": [
    {
     "name": "stdout",
     "output_type": "stream",
     "text": [
      "55\n"
     ]
    }
   ],
   "source": [
    "# Create a recursive funtion\n",
    "def recurs(num):\n",
    "    if num:\n",
    "        return num + recurs(num-1)\n",
    "    else:\n",
    "        return 0\n",
    "\n",
    "res = recurs(10)\n",
    "print(res)"
   ]
  },
  {
   "cell_type": "code",
   "execution_count": 30,
   "id": "d079b9a0-1f67-440d-8d9b-1933e9f38894",
   "metadata": {},
   "outputs": [
    {
     "name": "stdout",
     "output_type": "stream",
     "text": [
      "My name is Punl. I am 21 years old.\n",
      "None\n"
     ]
    }
   ],
   "source": [
    "# Assign different name to function and call it through the new name:\n",
    "def difname(name, age):\n",
    "    print(f\"My name is {name}. I am {age} years old.\")\n",
    "name1 = difname\n",
    "print(name1(\"Punl\", 21))"
   ]
  },
  {
   "cell_type": "code",
   "execution_count": 33,
   "id": "ae99244a-e91d-4fbb-9ac9-d54594bd5981",
   "metadata": {},
   "outputs": [
    {
     "name": "stdout",
     "output_type": "stream",
     "text": [
      "[4, 6, 8, 10, 12, 14, 16, 18, 20, 22, 24, 26, 28, 30]\n"
     ]
    }
   ],
   "source": [
    "#Generate a Pyton list of all the even numbers between 4 to 30?\n",
    "def evenlst(starts, ends):\n",
    "    return [num for num in range(starts, ends+1) if num%2==0]\n",
    "\n",
    "print(evenlst(4, 30))"
   ]
  },
  {
   "cell_type": "code",
   "execution_count": 41,
   "id": "db9b3dd0-38d7-4c38-8645-06f942244eec",
   "metadata": {},
   "outputs": [
    {
     "name": "stdout",
     "output_type": "stream",
     "text": [
      "False\n",
      "True\n"
     ]
    }
   ],
   "source": [
    "# Write a function that checks if the number is prime number.\n",
    "def primenum(num):\n",
    "    if num<=1:\n",
    "        return False\n",
    "    for i in range(2, int(num**0.5)+1):\n",
    "        if num%i==0:\n",
    "            return False\n",
    "    return True\n",
    "\n",
    "print(primenum(22))\n",
    "print(primenum(7))"
   ]
  },
  {
   "cell_type": "code",
   "execution_count": 43,
   "id": "f39eb877-1839-4d0e-aceb-68366559d3b1",
   "metadata": {},
   "outputs": [
    {
     "name": "stdout",
     "output_type": "stream",
     "text": [
      "20\n"
     ]
    }
   ],
   "source": [
    "# Write a function that takes a list of numbers and return the sum of all even numbers in the list\n",
    "def evensum(num):\n",
    "    return sum(n for n in num if n%2==0)\n",
    "\n",
    "print(evensum([1, 2, 3, 4, 5, 6,7, 8, 9]))"
   ]
  },
  {
   "cell_type": "markdown",
   "id": "b43415a9-88fd-49ff-861f-38d3f0e46562",
   "metadata": {},
   "source": [
    "## Class and Objects "
   ]
  },
  {
   "cell_type": "markdown",
   "id": "3d1f817c-ab16-4a58-a0fc-2a99da426403",
   "metadata": {},
   "source": [
    "- Create class Library\n",
    "- constructor , student name and dept\n",
    "- Class attribute , total student count\n",
    "- book lend, input book name , if he/she can lend it or not"
   ]
  },
  {
   "cell_type": "code",
   "execution_count": 8,
   "id": "36507231-1168-4b09-b9a6-c0b6a716d445",
   "metadata": {},
   "outputs": [],
   "source": [
    "book = [ \n",
    "    (\"The Alchemist\", 25),\n",
    "    (\"The Da Vinci Code\", 30),\n",
    "    (\"A Brief History of Time\", 15),\n",
    "    (\"Angels & Demons\", 0),\n",
    "    (\"The Grand Design\", 0),\n",
    "    (\"1984\", 19)\n",
    "]"
   ]
  },
  {
   "cell_type": "code",
   "execution_count": 9,
   "id": "358a42ec-eecb-4807-9e03-916b8b047efb",
   "metadata": {},
   "outputs": [],
   "source": [
    "\n",
    "class Library:\n",
    "    st_count = 0\n",
    "    def __init__(self, name, dept=\"Management\"):\n",
    "        self.books = [ \n",
    "        (\"The Alchemist\", 25),\n",
    "        (\"The Da Vinci Code\", 30),\n",
    "        (\"A Brief History of Time\", 15),\n",
    "        (\"Angels & Demons\", 0),\n",
    "        (\"The Grand Design\", 0),\n",
    "        (\"1984\", 19)\n",
    "        ]\n",
    "        self.name = name\n",
    "        self.dept = dept\n",
    "        Library.st_count += 1\n",
    "\n",
    "    def burrow_book(self, book_name):\n",
    "        status = [book for name, quantity in self.books if (name == book_name) & (quantity > 0)]\n",
    "        if status:\n",
    "            print(\"Yes\")\n",
    "        else:\n",
    "            print(\"No\")\n",
    "\n",
    "    @classmethod\n",
    "    def stu_count(self):\n",
    "        return self.st_count\n"
   ]
  },
  {
   "cell_type": "code",
   "execution_count": 10,
   "id": "08814a9d-5371-4799-87de-ec25b4cb58e9",
   "metadata": {},
   "outputs": [
    {
     "data": {
      "text/plain": [
       "1"
      ]
     },
     "execution_count": 10,
     "metadata": {},
     "output_type": "execute_result"
    }
   ],
   "source": [
    "std1 = Library(\"Punk\", \"Science\")\n",
    "std1.stu_count()\n"
   ]
  },
  {
   "cell_type": "code",
   "execution_count": 11,
   "id": "5cdc06c1-83c0-4dfc-912d-4c1935c22ee1",
   "metadata": {},
   "outputs": [
    {
     "name": "stdout",
     "output_type": "stream",
     "text": [
      "Yes\n"
     ]
    }
   ],
   "source": [
    "std1.burrow_book(\"The Alchemist\")"
   ]
  },
  {
   "cell_type": "code",
   "execution_count": 12,
   "id": "cb63c1dc-f497-4977-92bb-45dbf3412c10",
   "metadata": {},
   "outputs": [
    {
     "name": "stdout",
     "output_type": "stream",
     "text": [
      "No\n"
     ]
    }
   ],
   "source": [
    "std1.burrow_book(\"Angels & Demons\")"
   ]
  },
  {
   "cell_type": "code",
   "execution_count": 13,
   "id": "da7aa5b3-eb1a-456c-bc80-221d9719b9b0",
   "metadata": {},
   "outputs": [
    {
     "data": {
      "text/plain": [
       "200"
      ]
     },
     "execution_count": 13,
     "metadata": {},
     "output_type": "execute_result"
    }
   ],
   "source": [
    "# Write a Python Program to create a Vehicle class with max_speed and mileage instance attributes.\n",
    "class Vehicle:\n",
    "    def __init__(self, max_speed, mileage):\n",
    "        self.max_speed = max_speed\n",
    "        self.mileage = mileage\n",
    "\n",
    "model1 = Vehicle(200, \"Volvo\")\n",
    "model1.max_speed"
   ]
  },
  {
   "cell_type": "code",
   "execution_count": 14,
   "id": "205fba13-680e-4ddc-8de8-908954279238",
   "metadata": {},
   "outputs": [],
   "source": [
    "# Create a vehicle class without any variables and methods.\n",
    "class Vehicle:\n",
    "    pass"
   ]
  },
  {
   "cell_type": "code",
   "execution_count": 16,
   "id": "dea1cb18-88a4-4818-8a78-e0c85f09527a",
   "metadata": {},
   "outputs": [
    {
     "name": "stdout",
     "output_type": "stream",
     "text": [
      "Volvo\n",
      "120\n"
     ]
    }
   ],
   "source": [
    "# Create a child class Bus that will inherit all of the variables and methods of vehicle class.\n",
    "class Vehicle:\n",
    "    def __init__(self, name, speed):\n",
    "        self.name = name\n",
    "        self.speed = speed\n",
    "\n",
    "class Bus(Vehicle):\n",
    "    def __init__(self, name, speed, mileage):\n",
    "        super().__init__(name, speed)\n",
    "        self.mileage = mileage\n",
    "\n",
    "bus= Bus(\"Volvo\", 120, 44)\n",
    "print(bus.name)\n",
    "print(bus.speed)"
   ]
  },
  {
   "cell_type": "code",
   "execution_count": 18,
   "id": "7de45889-8867-459b-b2f3-dc8f60e6f6f3",
   "metadata": {},
   "outputs": [
    {
     "name": "stdout",
     "output_type": "stream",
     "text": [
      "The seating capacity of a Toyota is 50 passengers.\n"
     ]
    }
   ],
   "source": [
    "# Create a Bus class that inherits from the Vehicle class. Given the capacity argument of Bus.seating_capacity() a default value of 50.\n",
    "class Vehicle:\n",
    "    def __init__(self, name, mileage, speed):\n",
    "        self.name = name\n",
    "        self.mileage = mileage\n",
    "        self.speed = speed\n",
    "\n",
    "    def seating_capacity(self, capacity):\n",
    "        return f\"The seating capacity of a {self.name} is {capacity} passengers.\"\n",
    "\n",
    "class Bus(Vehicle):\n",
    "    def __init__(self, name, mileage, speed):\n",
    "        super().__init__(name, mileage, speed)\n",
    "\n",
    "    def seating_capacity(self, capacity=50):\n",
    "        return super().seating_capacity(capacity)\n",
    "\n",
    "bus = Bus(\"Toyota\", 45, 120)\n",
    "print(bus.seating_capacity())"
   ]
  },
  {
   "cell_type": "code",
   "execution_count": 19,
   "id": "ccb81ce1-8595-42ba-9d29-7985c5a25567",
   "metadata": {},
   "outputs": [
    {
     "name": "stdout",
     "output_type": "stream",
     "text": [
      "White Toyota, gives mileage of 22kms in the speed of 150km/hr\n",
      "White Creta, gives mileage of 18kms in the speed of 180km/hr\n"
     ]
    }
   ],
   "source": [
    "# Define a property that must have the same vlaue for every class instance(obj)\n",
    "# Define a class attribute color with a default value white. I.E. Every vehicle should be white.\n",
    "\n",
    "class Vehicle:\n",
    "    color = \"White\"  # Class Attribute\n",
    "\n",
    "    def __init__(self, name, mileage, speed):\n",
    "        self.name = name\n",
    "        self.mileage = mileage\n",
    "        self.speed = speed\n",
    "\n",
    "class Bus(Vehicle):\n",
    "    pass\n",
    "\n",
    "class Car(Vehicle):\n",
    "    pass\n",
    "\n",
    "bus = Bus(\"Toyota\", 22, 150)\n",
    "print(f\"{bus.color} {bus.name}, gives mileage of {bus.mileage}kms in the speed of {bus.speed}km/hr\")\n",
    "\n",
    "car = Car(\"Creta\", 18, 180)\n",
    "print(f\"{car.color} {car.name}, gives mileage of {car.mileage}kms in the speed of {car.speed}km/hr\")"
   ]
  },
  {
   "cell_type": "code",
   "execution_count": 21,
   "id": "767d7e7d-297d-4550-9ae1-73d9dd9455ec",
   "metadata": {},
   "outputs": [
    {
     "name": "stdout",
     "output_type": "stream",
     "text": [
      "Volvo\n",
      "130\n",
      "50\n",
      "Total Bus fare is: 5500.0\n"
     ]
    }
   ],
   "source": [
    "''' Create a Bus child class that inherits from the Vehicle class. The default fare charge of any vehicle is seating capacity * 100.\n",
    "    If Vehicle is Bus instance, we need to add an extra 10% on full fare as a maintenance charge. \n",
    "    So total fare for bus instance will become the final amount = total fare + 10% of the total fare.\n",
    "\n",
    "Note: The bus seating capacity is 50. so the final fare amount should be 5500. \n",
    "You need to override the fare() method of a Vehicle class in Bus class.\n",
    "'''\n",
    "class Vehicle:\n",
    "    color = \"White\" #Class Attribute\n",
    "    def __init__(self, name, mileage, speed, capacity = 50):\n",
    "        self.name = name\n",
    "        self.mileage = mileage\n",
    "        self.speed= speed\n",
    "        self.capacity = capacity\n",
    "\n",
    "    def fare(self):\n",
    "        return self.capacity * 100\n",
    "\n",
    "class Bus(Vehicle):\n",
    "    def fare(self):\n",
    "        amount = super().fare()\n",
    "        amount += amount * 0.1\n",
    "        return amount\n",
    "\n",
    "bus = Bus(\"Volvo\", 22, 130)\n",
    "print(bus.name)\n",
    "print(bus.speed)\n",
    "print(bus.capacity)\n",
    "print(\"Total Bus fare is:\", bus.fare())"
   ]
  },
  {
   "cell_type": "code",
   "execution_count": 22,
   "id": "ad1ad868-3e84-4276-baaa-898dad9e5b38",
   "metadata": {},
   "outputs": [
    {
     "name": "stdout",
     "output_type": "stream",
     "text": [
      "True\n"
     ]
    }
   ],
   "source": [
    "# Determine if school_bus is also an instance of the Vehicle class.\n",
    "class Vehicle:\n",
    "    def __init__(self, name, mileage, capacity):\n",
    "        self.name = name\n",
    "        self.mileage = mileage\n",
    "        self.capacity = capacity\n",
    "\n",
    "class Bus(Vehicle):\n",
    "    pass\n",
    "\n",
    "school_bus = Bus(\"Volvo\", 50, 34)\n",
    "print(isinstance(school_bus, Vehicle))"
   ]
  },
  {
   "cell_type": "code",
   "execution_count": null,
   "id": "1eeb018d-8576-4437-866a-dfefb2663cdb",
   "metadata": {},
   "outputs": [],
   "source": []
  }
 ],
 "metadata": {
  "kernelspec": {
   "display_name": "Python 3 (ipykernel)",
   "language": "python",
   "name": "python3"
  },
  "language_info": {
   "codemirror_mode": {
    "name": "ipython",
    "version": 3
   },
   "file_extension": ".py",
   "mimetype": "text/x-python",
   "name": "python",
   "nbconvert_exporter": "python",
   "pygments_lexer": "ipython3",
   "version": "3.12.2"
  }
 },
 "nbformat": 4,
 "nbformat_minor": 5
}
